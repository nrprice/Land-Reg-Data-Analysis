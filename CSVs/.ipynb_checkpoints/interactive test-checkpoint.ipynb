{
 "cells": [
  {
   "cell_type": "code",
   "execution_count": 86,
   "metadata": {},
   "outputs": [
    {
     "data": {
      "text/plain": [
       "(50000, 17)"
      ]
     },
     "execution_count": 86,
     "metadata": {},
     "output_type": "execute_result"
    }
   ],
   "source": [
    "import ipywidgets as widgets\n",
    "from ipywidgets import interact, interact_manual\n",
    "import pandas as pd\n",
    "import os\n",
    "import cufflinks as cf\n",
    "\n",
    "\n",
    "os.chdir('/Users/nathanprice/Dropbox/Python/Land-Reg-Data-Analysis/CSVs')\n",
    "df = pd.read_csv('filtered_df.csv')\n",
    "\n",
    "df = df.sample(50000)\n",
    "\n",
    "df.shape"
   ]
  },
  {
   "cell_type": "code",
   "execution_count": 87,
   "metadata": {},
   "outputs": [],
   "source": [
    "df.head(1)\n",
    "\n",
    "df1 = df.loc[df['year_sold']>= 2001]"
   ]
  },
  {
   "cell_type": "code",
   "execution_count": 93,
   "metadata": {},
   "outputs": [
    {
     "data": {
      "application/vnd.jupyter.widget-view+json": {
       "model_id": "1891e3abfe2e47a7abc110ca7dd353dc",
       "version_major": 2,
       "version_minor": 0
      },
      "text/plain": [
       "interactive(children=(Dropdown(description='ward', options=('(pseudo) England (UA/MD/LB)', '(pseudo) Wales', '…"
      ]
     },
     "metadata": {},
     "output_type": "display_data"
    }
   ],
   "source": [
    "ward_list = set(df['county_name'].fillna('NA'))\n",
    "\n",
    "\n",
    "@interact\n",
    "def scatter(ward=sorted(ward_list),\n",
    "            min_year=range(2015, 2021, 1),\n",
    "            target=['price']):\n",
    "    \n",
    "    data = df.loc[(df['year_sold'] >= min_year) & (df['county_name'] == ward)].sort_values('year_sold')\n",
    "\n",
    "    data.iplot(kind='scatter', x='year_sold', y='price', mode='markers')"
   ]
  },
  {
   "cell_type": "code",
   "execution_count": null,
   "metadata": {},
   "outputs": [],
   "source": []
  }
 ],
 "metadata": {
  "kernelspec": {
   "display_name": "Python 3",
   "language": "python",
   "name": "python3"
  },
  "language_info": {
   "codemirror_mode": {
    "name": "ipython",
    "version": 3
   },
   "file_extension": ".py",
   "mimetype": "text/x-python",
   "name": "python",
   "nbconvert_exporter": "python",
   "pygments_lexer": "ipython3",
   "version": "3.7.6"
  }
 },
 "nbformat": 4,
 "nbformat_minor": 4
}
