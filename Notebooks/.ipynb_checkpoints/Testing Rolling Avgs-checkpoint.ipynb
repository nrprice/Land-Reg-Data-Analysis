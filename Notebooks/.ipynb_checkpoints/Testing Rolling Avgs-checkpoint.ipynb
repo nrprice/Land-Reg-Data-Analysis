{
 "cells": [
  {
   "cell_type": "code",
   "execution_count": 1,
   "metadata": {},
   "outputs": [],
   "source": [
    "\n",
    "from sklearn.utils import resample\n",
    "from sklearn.neighbors import KNeighborsClassifier\n",
    "from sklearn.model_selection import train_test_split\n",
    "import pandas as pd\n",
    "import os\n",
    "import plotly as py\n",
    "from datetime import datetime as dt\n",
    "from plotly.subplots import make_subplots\n",
    "import plotly.graph_objs as go\n",
    "import random\n",
    "from numpy.random import seed\n",
    "from numpy.random import randint\n",
    "import plotly.express as px\n",
    "from dateutil.relativedelta import relativedelta\n",
    "from matplotlib import pyplot as plt\n",
    "import matplotlib.ticker as mtick\n",
    "%matplotlib inline\n",
    "plt.rcParams['figure.figsize'] = [20, 10]\n",
    "from IPython.core.interactiveshell import InteractiveShell\n",
    "InteractiveShell.ast_node_interactivity = \"all\"\n",
    "os.chdir(os.getcwd().replace('Notebooks', 'CSVs'))\n",
    "yearly = pd.read_csv('all_yearly_dataframe.csv')\n",
    "\n",
    "\n",
    "\n"
   ]
  },
  {
   "cell_type": "code",
   "execution_count": 2,
   "metadata": {},
   "outputs": [
    {
     "data": {
      "text/html": [
       "<div>\n",
       "<style scoped>\n",
       "    .dataframe tbody tr th:only-of-type {\n",
       "        vertical-align: middle;\n",
       "    }\n",
       "\n",
       "    .dataframe tbody tr th {\n",
       "        vertical-align: top;\n",
       "    }\n",
       "\n",
       "    .dataframe thead th {\n",
       "        text-align: right;\n",
       "    }\n",
       "</style>\n",
       "<table border=\"1\" class=\"dataframe\">\n",
       "  <thead>\n",
       "    <tr style=\"text-align: right;\">\n",
       "      <th></th>\n",
       "      <th>Unnamed: 0</th>\n",
       "      <th>address</th>\n",
       "      <th>property_type</th>\n",
       "      <th>town/city</th>\n",
       "      <th>postcode</th>\n",
       "      <th>county_name</th>\n",
       "      <th>ward_name</th>\n",
       "      <th>MSOA</th>\n",
       "      <th>LSOA</th>\n",
       "      <th>year_sold</th>\n",
       "      <th>...</th>\n",
       "      <th>new</th>\n",
       "      <th>freehold</th>\n",
       "      <th>Longitude</th>\n",
       "      <th>Latitude</th>\n",
       "      <th>year_month_sold</th>\n",
       "      <th>prev_price</th>\n",
       "      <th>price_diff</th>\n",
       "      <th>pct_change</th>\n",
       "      <th>prev_year</th>\n",
       "      <th>year_diff</th>\n",
       "    </tr>\n",
       "  </thead>\n",
       "  <tbody>\n",
       "    <tr>\n",
       "      <th>0</th>\n",
       "      <td>1</td>\n",
       "      <td>al100ablongmead025</td>\n",
       "      <td>T</td>\n",
       "      <td>HATFIELD</td>\n",
       "      <td>AL10 0AB</td>\n",
       "      <td>Hertfordshire</td>\n",
       "      <td>Hatfield Central</td>\n",
       "      <td>WelwynHatfield010</td>\n",
       "      <td>WelwynHatfield010F</td>\n",
       "      <td>2016</td>\n",
       "      <td>...</td>\n",
       "      <td>0.0</td>\n",
       "      <td>1.0</td>\n",
       "      <td>-0.223341</td>\n",
       "      <td>51.773122</td>\n",
       "      <td>2016-08-01</td>\n",
       "      <td>245000.0</td>\n",
       "      <td>90000.0</td>\n",
       "      <td>36.734694</td>\n",
       "      <td>2014.0</td>\n",
       "      <td>2.0</td>\n",
       "    </tr>\n",
       "    <tr>\n",
       "      <th>1</th>\n",
       "      <td>3</td>\n",
       "      <td>al100ablongmead039</td>\n",
       "      <td>T</td>\n",
       "      <td>HATFIELD</td>\n",
       "      <td>AL10 0AB</td>\n",
       "      <td>Hertfordshire</td>\n",
       "      <td>Hatfield Central</td>\n",
       "      <td>WelwynHatfield010</td>\n",
       "      <td>WelwynHatfield010F</td>\n",
       "      <td>2016</td>\n",
       "      <td>...</td>\n",
       "      <td>0.0</td>\n",
       "      <td>1.0</td>\n",
       "      <td>-0.223341</td>\n",
       "      <td>51.773122</td>\n",
       "      <td>2016-03-01</td>\n",
       "      <td>250000.0</td>\n",
       "      <td>98000.0</td>\n",
       "      <td>39.200000</td>\n",
       "      <td>2014.0</td>\n",
       "      <td>2.0</td>\n",
       "    </tr>\n",
       "  </tbody>\n",
       "</table>\n",
       "<p>2 rows × 24 columns</p>\n",
       "</div>"
      ],
      "text/plain": [
       "   Unnamed: 0             address property_type town/city  postcode  \\\n",
       "0           1  al100ablongmead025             T  HATFIELD  AL10 0AB   \n",
       "1           3  al100ablongmead039             T  HATFIELD  AL10 0AB   \n",
       "\n",
       "     county_name         ward_name               MSOA                LSOA  \\\n",
       "0  Hertfordshire  Hatfield Central  WelwynHatfield010  WelwynHatfield010F   \n",
       "1  Hertfordshire  Hatfield Central  WelwynHatfield010  WelwynHatfield010F   \n",
       "\n",
       "   year_sold  ...  new  freehold  Longitude   Latitude  year_month_sold  \\\n",
       "0       2016  ...  0.0       1.0  -0.223341  51.773122       2016-08-01   \n",
       "1       2016  ...  0.0       1.0  -0.223341  51.773122       2016-03-01   \n",
       "\n",
       "   prev_price  price_diff  pct_change prev_year  year_diff  \n",
       "0    245000.0     90000.0   36.734694    2014.0        2.0  \n",
       "1    250000.0     98000.0   39.200000    2014.0        2.0  \n",
       "\n",
       "[2 rows x 24 columns]"
      ]
     },
     "execution_count": 2,
     "metadata": {},
     "output_type": "execute_result"
    }
   ],
   "source": [
    "yearly.head(2)"
   ]
  },
  {
   "cell_type": "code",
   "execution_count": 3,
   "metadata": {},
   "outputs": [
    {
     "data": {
      "text/html": [
       "<div>\n",
       "<style scoped>\n",
       "    .dataframe tbody tr th:only-of-type {\n",
       "        vertical-align: middle;\n",
       "    }\n",
       "\n",
       "    .dataframe tbody tr th {\n",
       "        vertical-align: top;\n",
       "    }\n",
       "\n",
       "    .dataframe thead th {\n",
       "        text-align: right;\n",
       "    }\n",
       "</style>\n",
       "<table border=\"1\" class=\"dataframe\">\n",
       "  <thead>\n",
       "    <tr style=\"text-align: right;\">\n",
       "      <th></th>\n",
       "      <th>ward_name</th>\n",
       "      <th>Unnamed: 0</th>\n",
       "      <th>address</th>\n",
       "      <th>property_type</th>\n",
       "      <th>town/city</th>\n",
       "      <th>postcode</th>\n",
       "      <th>county_name</th>\n",
       "      <th>MSOA</th>\n",
       "      <th>LSOA</th>\n",
       "      <th>year_sold</th>\n",
       "      <th>...</th>\n",
       "      <th>new</th>\n",
       "      <th>freehold</th>\n",
       "      <th>Longitude</th>\n",
       "      <th>Latitude</th>\n",
       "      <th>year_month_sold</th>\n",
       "      <th>prev_price</th>\n",
       "      <th>price_diff</th>\n",
       "      <th>pct_change</th>\n",
       "      <th>prev_year</th>\n",
       "      <th>year_diff</th>\n",
       "    </tr>\n",
       "  </thead>\n",
       "  <tbody>\n",
       "    <tr>\n",
       "      <th>0</th>\n",
       "      <td>Castle</td>\n",
       "      <td>1682</td>\n",
       "      <td>1682</td>\n",
       "      <td>1682</td>\n",
       "      <td>1682</td>\n",
       "      <td>1682</td>\n",
       "      <td>1682</td>\n",
       "      <td>1682</td>\n",
       "      <td>1682</td>\n",
       "      <td>1682</td>\n",
       "      <td>...</td>\n",
       "      <td>1682</td>\n",
       "      <td>1682</td>\n",
       "      <td>1682</td>\n",
       "      <td>1682</td>\n",
       "      <td>1682</td>\n",
       "      <td>1682</td>\n",
       "      <td>1682</td>\n",
       "      <td>1682</td>\n",
       "      <td>1682</td>\n",
       "      <td>1682</td>\n",
       "    </tr>\n",
       "    <tr>\n",
       "      <th>1</th>\n",
       "      <td>Abbey</td>\n",
       "      <td>1158</td>\n",
       "      <td>1158</td>\n",
       "      <td>1158</td>\n",
       "      <td>1158</td>\n",
       "      <td>1158</td>\n",
       "      <td>1158</td>\n",
       "      <td>1158</td>\n",
       "      <td>1158</td>\n",
       "      <td>1158</td>\n",
       "      <td>...</td>\n",
       "      <td>1158</td>\n",
       "      <td>1158</td>\n",
       "      <td>1158</td>\n",
       "      <td>1158</td>\n",
       "      <td>1158</td>\n",
       "      <td>1158</td>\n",
       "      <td>1158</td>\n",
       "      <td>1158</td>\n",
       "      <td>1158</td>\n",
       "      <td>1158</td>\n",
       "    </tr>\n",
       "    <tr>\n",
       "      <th>2</th>\n",
       "      <td>Central</td>\n",
       "      <td>971</td>\n",
       "      <td>971</td>\n",
       "      <td>971</td>\n",
       "      <td>971</td>\n",
       "      <td>971</td>\n",
       "      <td>971</td>\n",
       "      <td>971</td>\n",
       "      <td>971</td>\n",
       "      <td>971</td>\n",
       "      <td>...</td>\n",
       "      <td>971</td>\n",
       "      <td>971</td>\n",
       "      <td>971</td>\n",
       "      <td>971</td>\n",
       "      <td>971</td>\n",
       "      <td>971</td>\n",
       "      <td>971</td>\n",
       "      <td>971</td>\n",
       "      <td>971</td>\n",
       "      <td>971</td>\n",
       "    </tr>\n",
       "    <tr>\n",
       "      <th>3</th>\n",
       "      <td>Park</td>\n",
       "      <td>962</td>\n",
       "      <td>962</td>\n",
       "      <td>962</td>\n",
       "      <td>962</td>\n",
       "      <td>962</td>\n",
       "      <td>962</td>\n",
       "      <td>962</td>\n",
       "      <td>962</td>\n",
       "      <td>962</td>\n",
       "      <td>...</td>\n",
       "      <td>962</td>\n",
       "      <td>962</td>\n",
       "      <td>962</td>\n",
       "      <td>962</td>\n",
       "      <td>962</td>\n",
       "      <td>962</td>\n",
       "      <td>962</td>\n",
       "      <td>962</td>\n",
       "      <td>962</td>\n",
       "      <td>962</td>\n",
       "    </tr>\n",
       "    <tr>\n",
       "      <th>4</th>\n",
       "      <td>St Mary's</td>\n",
       "      <td>852</td>\n",
       "      <td>852</td>\n",
       "      <td>852</td>\n",
       "      <td>852</td>\n",
       "      <td>852</td>\n",
       "      <td>852</td>\n",
       "      <td>852</td>\n",
       "      <td>852</td>\n",
       "      <td>852</td>\n",
       "      <td>...</td>\n",
       "      <td>852</td>\n",
       "      <td>852</td>\n",
       "      <td>852</td>\n",
       "      <td>852</td>\n",
       "      <td>852</td>\n",
       "      <td>852</td>\n",
       "      <td>852</td>\n",
       "      <td>852</td>\n",
       "      <td>852</td>\n",
       "      <td>852</td>\n",
       "    </tr>\n",
       "    <tr>\n",
       "      <th>5</th>\n",
       "      <td>St Andrews</td>\n",
       "      <td>747</td>\n",
       "      <td>747</td>\n",
       "      <td>747</td>\n",
       "      <td>747</td>\n",
       "      <td>747</td>\n",
       "      <td>747</td>\n",
       "      <td>747</td>\n",
       "      <td>747</td>\n",
       "      <td>747</td>\n",
       "      <td>...</td>\n",
       "      <td>747</td>\n",
       "      <td>747</td>\n",
       "      <td>747</td>\n",
       "      <td>747</td>\n",
       "      <td>747</td>\n",
       "      <td>747</td>\n",
       "      <td>747</td>\n",
       "      <td>747</td>\n",
       "      <td>747</td>\n",
       "      <td>747</td>\n",
       "    </tr>\n",
       "    <tr>\n",
       "      <th>6</th>\n",
       "      <td>St John's</td>\n",
       "      <td>725</td>\n",
       "      <td>725</td>\n",
       "      <td>725</td>\n",
       "      <td>725</td>\n",
       "      <td>725</td>\n",
       "      <td>725</td>\n",
       "      <td>725</td>\n",
       "      <td>725</td>\n",
       "      <td>725</td>\n",
       "      <td>...</td>\n",
       "      <td>725</td>\n",
       "      <td>725</td>\n",
       "      <td>725</td>\n",
       "      <td>725</td>\n",
       "      <td>725</td>\n",
       "      <td>725</td>\n",
       "      <td>725</td>\n",
       "      <td>725</td>\n",
       "      <td>725</td>\n",
       "      <td>725</td>\n",
       "    </tr>\n",
       "    <tr>\n",
       "      <th>7</th>\n",
       "      <td>Old Town</td>\n",
       "      <td>683</td>\n",
       "      <td>683</td>\n",
       "      <td>683</td>\n",
       "      <td>683</td>\n",
       "      <td>683</td>\n",
       "      <td>683</td>\n",
       "      <td>683</td>\n",
       "      <td>683</td>\n",
       "      <td>683</td>\n",
       "      <td>...</td>\n",
       "      <td>683</td>\n",
       "      <td>683</td>\n",
       "      <td>683</td>\n",
       "      <td>683</td>\n",
       "      <td>683</td>\n",
       "      <td>683</td>\n",
       "      <td>683</td>\n",
       "      <td>683</td>\n",
       "      <td>683</td>\n",
       "      <td>683</td>\n",
       "    </tr>\n",
       "    <tr>\n",
       "      <th>8</th>\n",
       "      <td>Sovereign</td>\n",
       "      <td>682</td>\n",
       "      <td>682</td>\n",
       "      <td>682</td>\n",
       "      <td>682</td>\n",
       "      <td>682</td>\n",
       "      <td>682</td>\n",
       "      <td>682</td>\n",
       "      <td>682</td>\n",
       "      <td>682</td>\n",
       "      <td>...</td>\n",
       "      <td>682</td>\n",
       "      <td>682</td>\n",
       "      <td>682</td>\n",
       "      <td>682</td>\n",
       "      <td>682</td>\n",
       "      <td>682</td>\n",
       "      <td>682</td>\n",
       "      <td>682</td>\n",
       "      <td>682</td>\n",
       "      <td>682</td>\n",
       "    </tr>\n",
       "    <tr>\n",
       "      <th>9</th>\n",
       "      <td>Heath</td>\n",
       "      <td>657</td>\n",
       "      <td>657</td>\n",
       "      <td>657</td>\n",
       "      <td>657</td>\n",
       "      <td>657</td>\n",
       "      <td>657</td>\n",
       "      <td>657</td>\n",
       "      <td>657</td>\n",
       "      <td>657</td>\n",
       "      <td>...</td>\n",
       "      <td>657</td>\n",
       "      <td>657</td>\n",
       "      <td>657</td>\n",
       "      <td>657</td>\n",
       "      <td>657</td>\n",
       "      <td>657</td>\n",
       "      <td>657</td>\n",
       "      <td>657</td>\n",
       "      <td>657</td>\n",
       "      <td>657</td>\n",
       "    </tr>\n",
       "    <tr>\n",
       "      <th>10</th>\n",
       "      <td>Priory Vale</td>\n",
       "      <td>651</td>\n",
       "      <td>651</td>\n",
       "      <td>651</td>\n",
       "      <td>651</td>\n",
       "      <td>651</td>\n",
       "      <td>651</td>\n",
       "      <td>651</td>\n",
       "      <td>651</td>\n",
       "      <td>651</td>\n",
       "      <td>...</td>\n",
       "      <td>651</td>\n",
       "      <td>651</td>\n",
       "      <td>651</td>\n",
       "      <td>651</td>\n",
       "      <td>651</td>\n",
       "      <td>651</td>\n",
       "      <td>651</td>\n",
       "      <td>651</td>\n",
       "      <td>651</td>\n",
       "      <td>651</td>\n",
       "    </tr>\n",
       "    <tr>\n",
       "      <th>11</th>\n",
       "      <td>Town</td>\n",
       "      <td>643</td>\n",
       "      <td>643</td>\n",
       "      <td>643</td>\n",
       "      <td>643</td>\n",
       "      <td>643</td>\n",
       "      <td>643</td>\n",
       "      <td>643</td>\n",
       "      <td>643</td>\n",
       "      <td>643</td>\n",
       "      <td>...</td>\n",
       "      <td>643</td>\n",
       "      <td>643</td>\n",
       "      <td>643</td>\n",
       "      <td>643</td>\n",
       "      <td>643</td>\n",
       "      <td>643</td>\n",
       "      <td>643</td>\n",
       "      <td>643</td>\n",
       "      <td>643</td>\n",
       "      <td>643</td>\n",
       "    </tr>\n",
       "    <tr>\n",
       "      <th>12</th>\n",
       "      <td>Upton</td>\n",
       "      <td>641</td>\n",
       "      <td>641</td>\n",
       "      <td>641</td>\n",
       "      <td>641</td>\n",
       "      <td>641</td>\n",
       "      <td>641</td>\n",
       "      <td>641</td>\n",
       "      <td>641</td>\n",
       "      <td>641</td>\n",
       "      <td>...</td>\n",
       "      <td>641</td>\n",
       "      <td>641</td>\n",
       "      <td>641</td>\n",
       "      <td>641</td>\n",
       "      <td>641</td>\n",
       "      <td>641</td>\n",
       "      <td>641</td>\n",
       "      <td>641</td>\n",
       "      <td>641</td>\n",
       "      <td>641</td>\n",
       "    </tr>\n",
       "    <tr>\n",
       "      <th>13</th>\n",
       "      <td>Newtown &amp; Heatherlands</td>\n",
       "      <td>557</td>\n",
       "      <td>557</td>\n",
       "      <td>557</td>\n",
       "      <td>557</td>\n",
       "      <td>557</td>\n",
       "      <td>557</td>\n",
       "      <td>557</td>\n",
       "      <td>557</td>\n",
       "      <td>557</td>\n",
       "      <td>...</td>\n",
       "      <td>557</td>\n",
       "      <td>557</td>\n",
       "      <td>557</td>\n",
       "      <td>557</td>\n",
       "      <td>557</td>\n",
       "      <td>557</td>\n",
       "      <td>557</td>\n",
       "      <td>557</td>\n",
       "      <td>557</td>\n",
       "      <td>557</td>\n",
       "    </tr>\n",
       "    <tr>\n",
       "      <th>14</th>\n",
       "      <td>Leighton Buzzard South</td>\n",
       "      <td>537</td>\n",
       "      <td>537</td>\n",
       "      <td>537</td>\n",
       "      <td>537</td>\n",
       "      <td>537</td>\n",
       "      <td>537</td>\n",
       "      <td>537</td>\n",
       "      <td>537</td>\n",
       "      <td>537</td>\n",
       "      <td>...</td>\n",
       "      <td>537</td>\n",
       "      <td>537</td>\n",
       "      <td>537</td>\n",
       "      <td>537</td>\n",
       "      <td>537</td>\n",
       "      <td>537</td>\n",
       "      <td>537</td>\n",
       "      <td>537</td>\n",
       "      <td>537</td>\n",
       "      <td>537</td>\n",
       "    </tr>\n",
       "    <tr>\n",
       "      <th>15</th>\n",
       "      <td>Deansgate</td>\n",
       "      <td>536</td>\n",
       "      <td>536</td>\n",
       "      <td>536</td>\n",
       "      <td>536</td>\n",
       "      <td>536</td>\n",
       "      <td>536</td>\n",
       "      <td>536</td>\n",
       "      <td>536</td>\n",
       "      <td>536</td>\n",
       "      <td>...</td>\n",
       "      <td>536</td>\n",
       "      <td>536</td>\n",
       "      <td>536</td>\n",
       "      <td>536</td>\n",
       "      <td>536</td>\n",
       "      <td>536</td>\n",
       "      <td>536</td>\n",
       "      <td>536</td>\n",
       "      <td>536</td>\n",
       "      <td>536</td>\n",
       "    </tr>\n",
       "    <tr>\n",
       "      <th>16</th>\n",
       "      <td>Milton</td>\n",
       "      <td>525</td>\n",
       "      <td>525</td>\n",
       "      <td>525</td>\n",
       "      <td>525</td>\n",
       "      <td>525</td>\n",
       "      <td>525</td>\n",
       "      <td>525</td>\n",
       "      <td>525</td>\n",
       "      <td>525</td>\n",
       "      <td>...</td>\n",
       "      <td>525</td>\n",
       "      <td>525</td>\n",
       "      <td>525</td>\n",
       "      <td>525</td>\n",
       "      <td>525</td>\n",
       "      <td>525</td>\n",
       "      <td>525</td>\n",
       "      <td>525</td>\n",
       "      <td>525</td>\n",
       "      <td>525</td>\n",
       "    </tr>\n",
       "    <tr>\n",
       "      <th>17</th>\n",
       "      <td>Brooklands</td>\n",
       "      <td>500</td>\n",
       "      <td>500</td>\n",
       "      <td>500</td>\n",
       "      <td>500</td>\n",
       "      <td>500</td>\n",
       "      <td>500</td>\n",
       "      <td>500</td>\n",
       "      <td>500</td>\n",
       "      <td>500</td>\n",
       "      <td>...</td>\n",
       "      <td>500</td>\n",
       "      <td>500</td>\n",
       "      <td>500</td>\n",
       "      <td>500</td>\n",
       "      <td>500</td>\n",
       "      <td>500</td>\n",
       "      <td>500</td>\n",
       "      <td>500</td>\n",
       "      <td>500</td>\n",
       "      <td>500</td>\n",
       "    </tr>\n",
       "    <tr>\n",
       "      <th>18</th>\n",
       "      <td>Manor</td>\n",
       "      <td>499</td>\n",
       "      <td>499</td>\n",
       "      <td>499</td>\n",
       "      <td>499</td>\n",
       "      <td>499</td>\n",
       "      <td>499</td>\n",
       "      <td>499</td>\n",
       "      <td>499</td>\n",
       "      <td>499</td>\n",
       "      <td>...</td>\n",
       "      <td>499</td>\n",
       "      <td>499</td>\n",
       "      <td>499</td>\n",
       "      <td>499</td>\n",
       "      <td>499</td>\n",
       "      <td>499</td>\n",
       "      <td>499</td>\n",
       "      <td>499</td>\n",
       "      <td>499</td>\n",
       "      <td>499</td>\n",
       "    </tr>\n",
       "    <tr>\n",
       "      <th>19</th>\n",
       "      <td>Guiseley &amp; Rawdon</td>\n",
       "      <td>474</td>\n",
       "      <td>474</td>\n",
       "      <td>474</td>\n",
       "      <td>474</td>\n",
       "      <td>474</td>\n",
       "      <td>474</td>\n",
       "      <td>474</td>\n",
       "      <td>474</td>\n",
       "      <td>474</td>\n",
       "      <td>...</td>\n",
       "      <td>474</td>\n",
       "      <td>474</td>\n",
       "      <td>474</td>\n",
       "      <td>474</td>\n",
       "      <td>474</td>\n",
       "      <td>474</td>\n",
       "      <td>474</td>\n",
       "      <td>474</td>\n",
       "      <td>474</td>\n",
       "      <td>474</td>\n",
       "    </tr>\n",
       "  </tbody>\n",
       "</table>\n",
       "<p>20 rows × 24 columns</p>\n",
       "</div>"
      ],
      "text/plain": [
       "                 ward_name  Unnamed: 0  address  property_type  town/city  \\\n",
       "0                   Castle        1682     1682           1682       1682   \n",
       "1                    Abbey        1158     1158           1158       1158   \n",
       "2                  Central         971      971            971        971   \n",
       "3                     Park         962      962            962        962   \n",
       "4                St Mary's         852      852            852        852   \n",
       "5               St Andrews         747      747            747        747   \n",
       "6                St John's         725      725            725        725   \n",
       "7                 Old Town         683      683            683        683   \n",
       "8                Sovereign         682      682            682        682   \n",
       "9                    Heath         657      657            657        657   \n",
       "10             Priory Vale         651      651            651        651   \n",
       "11                    Town         643      643            643        643   \n",
       "12                   Upton         641      641            641        641   \n",
       "13  Newtown & Heatherlands         557      557            557        557   \n",
       "14  Leighton Buzzard South         537      537            537        537   \n",
       "15               Deansgate         536      536            536        536   \n",
       "16                  Milton         525      525            525        525   \n",
       "17              Brooklands         500      500            500        500   \n",
       "18                   Manor         499      499            499        499   \n",
       "19       Guiseley & Rawdon         474      474            474        474   \n",
       "\n",
       "    postcode  county_name  MSOA  LSOA  year_sold  ...   new  freehold  \\\n",
       "0       1682         1682  1682  1682       1682  ...  1682      1682   \n",
       "1       1158         1158  1158  1158       1158  ...  1158      1158   \n",
       "2        971          971   971   971        971  ...   971       971   \n",
       "3        962          962   962   962        962  ...   962       962   \n",
       "4        852          852   852   852        852  ...   852       852   \n",
       "5        747          747   747   747        747  ...   747       747   \n",
       "6        725          725   725   725        725  ...   725       725   \n",
       "7        683          683   683   683        683  ...   683       683   \n",
       "8        682          682   682   682        682  ...   682       682   \n",
       "9        657          657   657   657        657  ...   657       657   \n",
       "10       651          651   651   651        651  ...   651       651   \n",
       "11       643          643   643   643        643  ...   643       643   \n",
       "12       641          641   641   641        641  ...   641       641   \n",
       "13       557          557   557   557        557  ...   557       557   \n",
       "14       537          537   537   537        537  ...   537       537   \n",
       "15       536          536   536   536        536  ...   536       536   \n",
       "16       525          525   525   525        525  ...   525       525   \n",
       "17       500          500   500   500        500  ...   500       500   \n",
       "18       499          499   499   499        499  ...   499       499   \n",
       "19       474          474   474   474        474  ...   474       474   \n",
       "\n",
       "    Longitude  Latitude  year_month_sold  prev_price  price_diff  pct_change  \\\n",
       "0        1682      1682             1682        1682        1682        1682   \n",
       "1        1158      1158             1158        1158        1158        1158   \n",
       "2         971       971              971         971         971         971   \n",
       "3         962       962              962         962         962         962   \n",
       "4         852       852              852         852         852         852   \n",
       "5         747       747              747         747         747         747   \n",
       "6         725       725              725         725         725         725   \n",
       "7         683       683              683         683         683         683   \n",
       "8         682       682              682         682         682         682   \n",
       "9         657       657              657         657         657         657   \n",
       "10        651       651              651         651         651         651   \n",
       "11        643       643              643         643         643         643   \n",
       "12        641       641              641         641         641         641   \n",
       "13        557       557              557         557         557         557   \n",
       "14        537       537              537         537         537         537   \n",
       "15        536       536              536         536         536         536   \n",
       "16        525       525              525         525         525         525   \n",
       "17        500       500              500         500         500         500   \n",
       "18        499       499              499         499         499         499   \n",
       "19        474       474              474         474         474         474   \n",
       "\n",
       "    prev_year  year_diff  \n",
       "0        1682       1682  \n",
       "1        1158       1158  \n",
       "2         971        971  \n",
       "3         962        962  \n",
       "4         852        852  \n",
       "5         747        747  \n",
       "6         725        725  \n",
       "7         683        683  \n",
       "8         682        682  \n",
       "9         657        657  \n",
       "10        651        651  \n",
       "11        643        643  \n",
       "12        641        641  \n",
       "13        557        557  \n",
       "14        537        537  \n",
       "15        536        536  \n",
       "16        525        525  \n",
       "17        500        500  \n",
       "18        499        499  \n",
       "19        474        474  \n",
       "\n",
       "[20 rows x 24 columns]"
      ]
     },
     "execution_count": 3,
     "metadata": {},
     "output_type": "execute_result"
    }
   ],
   "source": [
    "yearly.groupby(['ward_name']).count().sort_values('address', ascending=False).head(20).reset_index()\n",
    "\n",
    "data = yearly.loc[yearly['ward_name'] == 'Priory Vale']\n",
    "\n",
    "data = data.groupby('year_month_sold').median().reset_index()[['year_month_sold', 'price']]\n",
    "data['year_month_sold'] = pd.to_datetime(data['year_month_sold']) "
   ]
  },
  {
   "cell_type": "code",
   "execution_count": 4,
   "metadata": {},
   "outputs": [
    {
     "data": {
      "text/html": [
       "<div>\n",
       "<style scoped>\n",
       "    .dataframe tbody tr th:only-of-type {\n",
       "        vertical-align: middle;\n",
       "    }\n",
       "\n",
       "    .dataframe tbody tr th {\n",
       "        vertical-align: top;\n",
       "    }\n",
       "\n",
       "    .dataframe thead th {\n",
       "        text-align: right;\n",
       "    }\n",
       "</style>\n",
       "<table border=\"1\" class=\"dataframe\">\n",
       "  <thead>\n",
       "    <tr style=\"text-align: right;\">\n",
       "      <th></th>\n",
       "      <th>price</th>\n",
       "    </tr>\n",
       "  </thead>\n",
       "  <tbody>\n",
       "    <tr>\n",
       "      <th>2000-01-01</th>\n",
       "      <td>NaN</td>\n",
       "    </tr>\n",
       "    <tr>\n",
       "      <th>2000-01-02</th>\n",
       "      <td>NaN</td>\n",
       "    </tr>\n",
       "    <tr>\n",
       "      <th>2000-01-03</th>\n",
       "      <td>NaN</td>\n",
       "    </tr>\n",
       "    <tr>\n",
       "      <th>2000-01-04</th>\n",
       "      <td>NaN</td>\n",
       "    </tr>\n",
       "    <tr>\n",
       "      <th>2000-01-05</th>\n",
       "      <td>NaN</td>\n",
       "    </tr>\n",
       "    <tr>\n",
       "      <th>...</th>\n",
       "      <td>...</td>\n",
       "    </tr>\n",
       "    <tr>\n",
       "      <th>2019-12-28</th>\n",
       "      <td>NaN</td>\n",
       "    </tr>\n",
       "    <tr>\n",
       "      <th>2019-12-29</th>\n",
       "      <td>NaN</td>\n",
       "    </tr>\n",
       "    <tr>\n",
       "      <th>2019-12-30</th>\n",
       "      <td>NaN</td>\n",
       "    </tr>\n",
       "    <tr>\n",
       "      <th>2019-12-31</th>\n",
       "      <td>NaN</td>\n",
       "    </tr>\n",
       "    <tr>\n",
       "      <th>2020-01-01</th>\n",
       "      <td>NaN</td>\n",
       "    </tr>\n",
       "  </tbody>\n",
       "</table>\n",
       "<p>7306 rows × 1 columns</p>\n",
       "</div>"
      ],
      "text/plain": [
       "           price\n",
       "2000-01-01   NaN\n",
       "2000-01-02   NaN\n",
       "2000-01-03   NaN\n",
       "2000-01-04   NaN\n",
       "2000-01-05   NaN\n",
       "...          ...\n",
       "2019-12-28   NaN\n",
       "2019-12-29   NaN\n",
       "2019-12-30   NaN\n",
       "2019-12-31   NaN\n",
       "2020-01-01   NaN\n",
       "\n",
       "[7306 rows x 1 columns]"
      ]
     },
     "execution_count": 4,
     "metadata": {},
     "output_type": "execute_result"
    }
   ],
   "source": [
    "date_range = pd.date_range(\"2000-01-01\", \"2020-01-01\", freq='D')\n",
    "\n",
    "test = pd.DataFrame(index=date_range, columns=['price'])\n",
    "\n",
    "test"
   ]
  },
  {
   "cell_type": "code",
   "execution_count": 6,
   "metadata": {},
   "outputs": [
    {
     "data": {
      "text/html": [
       "<div>\n",
       "<style scoped>\n",
       "    .dataframe tbody tr th:only-of-type {\n",
       "        vertical-align: middle;\n",
       "    }\n",
       "\n",
       "    .dataframe tbody tr th {\n",
       "        vertical-align: top;\n",
       "    }\n",
       "\n",
       "    .dataframe thead th {\n",
       "        text-align: right;\n",
       "    }\n",
       "</style>\n",
       "<table border=\"1\" class=\"dataframe\">\n",
       "  <thead>\n",
       "    <tr style=\"text-align: right;\">\n",
       "      <th></th>\n",
       "      <th>Unnamed: 0</th>\n",
       "      <th>address</th>\n",
       "      <th>property_type</th>\n",
       "      <th>town/city</th>\n",
       "      <th>postcode</th>\n",
       "      <th>county_name</th>\n",
       "      <th>ward_name</th>\n",
       "      <th>MSOA</th>\n",
       "      <th>LSOA</th>\n",
       "      <th>year_sold</th>\n",
       "      <th>...</th>\n",
       "      <th>new</th>\n",
       "      <th>freehold</th>\n",
       "      <th>Longitude</th>\n",
       "      <th>Latitude</th>\n",
       "      <th>year_month_sold</th>\n",
       "      <th>prev_price</th>\n",
       "      <th>price_diff</th>\n",
       "      <th>pct_change</th>\n",
       "      <th>prev_year</th>\n",
       "      <th>year_diff</th>\n",
       "    </tr>\n",
       "  </thead>\n",
       "  <tbody>\n",
       "    <tr>\n",
       "      <th>0</th>\n",
       "      <td>1</td>\n",
       "      <td>al100ablongmead025</td>\n",
       "      <td>T</td>\n",
       "      <td>HATFIELD</td>\n",
       "      <td>AL10 0AB</td>\n",
       "      <td>Hertfordshire</td>\n",
       "      <td>Hatfield Central</td>\n",
       "      <td>WelwynHatfield010</td>\n",
       "      <td>WelwynHatfield010F</td>\n",
       "      <td>2016</td>\n",
       "      <td>...</td>\n",
       "      <td>0.0</td>\n",
       "      <td>1.0</td>\n",
       "      <td>-0.223341</td>\n",
       "      <td>51.773122</td>\n",
       "      <td>2016-08-01</td>\n",
       "      <td>245000.0</td>\n",
       "      <td>90000.0</td>\n",
       "      <td>36.734694</td>\n",
       "      <td>2014.0</td>\n",
       "      <td>2.0</td>\n",
       "    </tr>\n",
       "    <tr>\n",
       "      <th>1</th>\n",
       "      <td>3</td>\n",
       "      <td>al100ablongmead039</td>\n",
       "      <td>T</td>\n",
       "      <td>HATFIELD</td>\n",
       "      <td>AL10 0AB</td>\n",
       "      <td>Hertfordshire</td>\n",
       "      <td>Hatfield Central</td>\n",
       "      <td>WelwynHatfield010</td>\n",
       "      <td>WelwynHatfield010F</td>\n",
       "      <td>2016</td>\n",
       "      <td>...</td>\n",
       "      <td>0.0</td>\n",
       "      <td>1.0</td>\n",
       "      <td>-0.223341</td>\n",
       "      <td>51.773122</td>\n",
       "      <td>2016-03-01</td>\n",
       "      <td>250000.0</td>\n",
       "      <td>98000.0</td>\n",
       "      <td>39.200000</td>\n",
       "      <td>2014.0</td>\n",
       "      <td>2.0</td>\n",
       "    </tr>\n",
       "    <tr>\n",
       "      <th>2</th>\n",
       "      <td>10</td>\n",
       "      <td>al100atheyfordway031</td>\n",
       "      <td>T</td>\n",
       "      <td>HATFIELD</td>\n",
       "      <td>AL10 0AT</td>\n",
       "      <td>Hertfordshire</td>\n",
       "      <td>Hatfield Central</td>\n",
       "      <td>WelwynHatfield010</td>\n",
       "      <td>WelwynHatfield010B</td>\n",
       "      <td>2016</td>\n",
       "      <td>...</td>\n",
       "      <td>0.0</td>\n",
       "      <td>1.0</td>\n",
       "      <td>-0.217558</td>\n",
       "      <td>51.768341</td>\n",
       "      <td>2016-09-01</td>\n",
       "      <td>173000.0</td>\n",
       "      <td>107529.0</td>\n",
       "      <td>62.155491</td>\n",
       "      <td>2009.0</td>\n",
       "      <td>7.0</td>\n",
       "    </tr>\n",
       "    <tr>\n",
       "      <th>3</th>\n",
       "      <td>12</td>\n",
       "      <td>al100atheyfordway08</td>\n",
       "      <td>T</td>\n",
       "      <td>HATFIELD</td>\n",
       "      <td>AL10 0AT</td>\n",
       "      <td>Hertfordshire</td>\n",
       "      <td>Hatfield Central</td>\n",
       "      <td>WelwynHatfield010</td>\n",
       "      <td>WelwynHatfield010B</td>\n",
       "      <td>2012</td>\n",
       "      <td>...</td>\n",
       "      <td>0.0</td>\n",
       "      <td>1.0</td>\n",
       "      <td>-0.217558</td>\n",
       "      <td>51.768341</td>\n",
       "      <td>2012-12-01</td>\n",
       "      <td>212500.0</td>\n",
       "      <td>-11000.0</td>\n",
       "      <td>-5.176471</td>\n",
       "      <td>2008.0</td>\n",
       "      <td>4.0</td>\n",
       "    </tr>\n",
       "    <tr>\n",
       "      <th>4</th>\n",
       "      <td>13</td>\n",
       "      <td>al100atheyfordway08</td>\n",
       "      <td>T</td>\n",
       "      <td>HATFIELD</td>\n",
       "      <td>AL10 0AT</td>\n",
       "      <td>Hertfordshire</td>\n",
       "      <td>Hatfield Central</td>\n",
       "      <td>WelwynHatfield010</td>\n",
       "      <td>WelwynHatfield010B</td>\n",
       "      <td>2017</td>\n",
       "      <td>...</td>\n",
       "      <td>0.0</td>\n",
       "      <td>1.0</td>\n",
       "      <td>-0.217558</td>\n",
       "      <td>51.768341</td>\n",
       "      <td>2017-09-01</td>\n",
       "      <td>201500.0</td>\n",
       "      <td>113500.0</td>\n",
       "      <td>56.327543</td>\n",
       "      <td>2012.0</td>\n",
       "      <td>5.0</td>\n",
       "    </tr>\n",
       "    <tr>\n",
       "      <th>5</th>\n",
       "      <td>17</td>\n",
       "      <td>al100azstockbreachclose059</td>\n",
       "      <td>T</td>\n",
       "      <td>HATFIELD</td>\n",
       "      <td>AL10 0AZ</td>\n",
       "      <td>Hertfordshire</td>\n",
       "      <td>Hatfield Central</td>\n",
       "      <td>WelwynHatfield012</td>\n",
       "      <td>WelwynHatfield012A</td>\n",
       "      <td>2016</td>\n",
       "      <td>...</td>\n",
       "      <td>0.0</td>\n",
       "      <td>1.0</td>\n",
       "      <td>-0.230937</td>\n",
       "      <td>51.764209</td>\n",
       "      <td>2016-09-01</td>\n",
       "      <td>174000.0</td>\n",
       "      <td>101000.0</td>\n",
       "      <td>58.045977</td>\n",
       "      <td>2011.0</td>\n",
       "      <td>5.0</td>\n",
       "    </tr>\n",
       "    <tr>\n",
       "      <th>6</th>\n",
       "      <td>19</td>\n",
       "      <td>al100azstockbreachclose09</td>\n",
       "      <td>S</td>\n",
       "      <td>HATFIELD</td>\n",
       "      <td>AL10 0AZ</td>\n",
       "      <td>Hertfordshire</td>\n",
       "      <td>Hatfield Central</td>\n",
       "      <td>WelwynHatfield012</td>\n",
       "      <td>WelwynHatfield012A</td>\n",
       "      <td>2016</td>\n",
       "      <td>...</td>\n",
       "      <td>0.0</td>\n",
       "      <td>1.0</td>\n",
       "      <td>-0.230937</td>\n",
       "      <td>51.764209</td>\n",
       "      <td>2016-01-01</td>\n",
       "      <td>185000.0</td>\n",
       "      <td>66000.0</td>\n",
       "      <td>35.675676</td>\n",
       "      <td>2011.0</td>\n",
       "      <td>5.0</td>\n",
       "    </tr>\n",
       "    <tr>\n",
       "      <th>7</th>\n",
       "      <td>22</td>\n",
       "      <td>al100bhjasminegardens026</td>\n",
       "      <td>S</td>\n",
       "      <td>HATFIELD</td>\n",
       "      <td>AL10 0BH</td>\n",
       "      <td>Hertfordshire</td>\n",
       "      <td>Hatfield Central</td>\n",
       "      <td>WelwynHatfield012</td>\n",
       "      <td>WelwynHatfield012B</td>\n",
       "      <td>2005</td>\n",
       "      <td>...</td>\n",
       "      <td>0.0</td>\n",
       "      <td>1.0</td>\n",
       "      <td>-0.231752</td>\n",
       "      <td>51.767071</td>\n",
       "      <td>2005-02-01</td>\n",
       "      <td>175000.0</td>\n",
       "      <td>17000.0</td>\n",
       "      <td>9.714286</td>\n",
       "      <td>2004.0</td>\n",
       "      <td>1.0</td>\n",
       "    </tr>\n",
       "    <tr>\n",
       "      <th>8</th>\n",
       "      <td>23</td>\n",
       "      <td>al100bhjasminegardens026</td>\n",
       "      <td>S</td>\n",
       "      <td>HATFIELD</td>\n",
       "      <td>AL10 0BH</td>\n",
       "      <td>Hertfordshire</td>\n",
       "      <td>Hatfield Central</td>\n",
       "      <td>WelwynHatfield012</td>\n",
       "      <td>WelwynHatfield012B</td>\n",
       "      <td>2017</td>\n",
       "      <td>...</td>\n",
       "      <td>0.0</td>\n",
       "      <td>1.0</td>\n",
       "      <td>-0.231752</td>\n",
       "      <td>51.767071</td>\n",
       "      <td>2017-02-01</td>\n",
       "      <td>192000.0</td>\n",
       "      <td>103000.0</td>\n",
       "      <td>53.645833</td>\n",
       "      <td>2005.0</td>\n",
       "      <td>12.0</td>\n",
       "    </tr>\n",
       "    <tr>\n",
       "      <th>9</th>\n",
       "      <td>26</td>\n",
       "      <td>al100bqjasminegardens012</td>\n",
       "      <td>T</td>\n",
       "      <td>HATFIELD</td>\n",
       "      <td>AL10 0BQ</td>\n",
       "      <td>Hertfordshire</td>\n",
       "      <td>Hatfield Central</td>\n",
       "      <td>WelwynHatfield012</td>\n",
       "      <td>WelwynHatfield012B</td>\n",
       "      <td>2010</td>\n",
       "      <td>...</td>\n",
       "      <td>0.0</td>\n",
       "      <td>1.0</td>\n",
       "      <td>-0.232509</td>\n",
       "      <td>51.767371</td>\n",
       "      <td>2010-10-01</td>\n",
       "      <td>186000.0</td>\n",
       "      <td>-4000.0</td>\n",
       "      <td>-2.150538</td>\n",
       "      <td>2007.0</td>\n",
       "      <td>3.0</td>\n",
       "    </tr>\n",
       "  </tbody>\n",
       "</table>\n",
       "<p>10 rows × 24 columns</p>\n",
       "</div>"
      ],
      "text/plain": [
       "   Unnamed: 0                     address property_type town/city  postcode  \\\n",
       "0           1          al100ablongmead025             T  HATFIELD  AL10 0AB   \n",
       "1           3          al100ablongmead039             T  HATFIELD  AL10 0AB   \n",
       "2          10        al100atheyfordway031             T  HATFIELD  AL10 0AT   \n",
       "3          12         al100atheyfordway08             T  HATFIELD  AL10 0AT   \n",
       "4          13         al100atheyfordway08             T  HATFIELD  AL10 0AT   \n",
       "5          17  al100azstockbreachclose059             T  HATFIELD  AL10 0AZ   \n",
       "6          19   al100azstockbreachclose09             S  HATFIELD  AL10 0AZ   \n",
       "7          22    al100bhjasminegardens026             S  HATFIELD  AL10 0BH   \n",
       "8          23    al100bhjasminegardens026             S  HATFIELD  AL10 0BH   \n",
       "9          26    al100bqjasminegardens012             T  HATFIELD  AL10 0BQ   \n",
       "\n",
       "     county_name         ward_name               MSOA                LSOA  \\\n",
       "0  Hertfordshire  Hatfield Central  WelwynHatfield010  WelwynHatfield010F   \n",
       "1  Hertfordshire  Hatfield Central  WelwynHatfield010  WelwynHatfield010F   \n",
       "2  Hertfordshire  Hatfield Central  WelwynHatfield010  WelwynHatfield010B   \n",
       "3  Hertfordshire  Hatfield Central  WelwynHatfield010  WelwynHatfield010B   \n",
       "4  Hertfordshire  Hatfield Central  WelwynHatfield010  WelwynHatfield010B   \n",
       "5  Hertfordshire  Hatfield Central  WelwynHatfield012  WelwynHatfield012A   \n",
       "6  Hertfordshire  Hatfield Central  WelwynHatfield012  WelwynHatfield012A   \n",
       "7  Hertfordshire  Hatfield Central  WelwynHatfield012  WelwynHatfield012B   \n",
       "8  Hertfordshire  Hatfield Central  WelwynHatfield012  WelwynHatfield012B   \n",
       "9  Hertfordshire  Hatfield Central  WelwynHatfield012  WelwynHatfield012B   \n",
       "\n",
       "   year_sold  ...  new  freehold  Longitude   Latitude  year_month_sold  \\\n",
       "0       2016  ...  0.0       1.0  -0.223341  51.773122       2016-08-01   \n",
       "1       2016  ...  0.0       1.0  -0.223341  51.773122       2016-03-01   \n",
       "2       2016  ...  0.0       1.0  -0.217558  51.768341       2016-09-01   \n",
       "3       2012  ...  0.0       1.0  -0.217558  51.768341       2012-12-01   \n",
       "4       2017  ...  0.0       1.0  -0.217558  51.768341       2017-09-01   \n",
       "5       2016  ...  0.0       1.0  -0.230937  51.764209       2016-09-01   \n",
       "6       2016  ...  0.0       1.0  -0.230937  51.764209       2016-01-01   \n",
       "7       2005  ...  0.0       1.0  -0.231752  51.767071       2005-02-01   \n",
       "8       2017  ...  0.0       1.0  -0.231752  51.767071       2017-02-01   \n",
       "9       2010  ...  0.0       1.0  -0.232509  51.767371       2010-10-01   \n",
       "\n",
       "   prev_price  price_diff  pct_change prev_year  year_diff  \n",
       "0    245000.0     90000.0   36.734694    2014.0        2.0  \n",
       "1    250000.0     98000.0   39.200000    2014.0        2.0  \n",
       "2    173000.0    107529.0   62.155491    2009.0        7.0  \n",
       "3    212500.0    -11000.0   -5.176471    2008.0        4.0  \n",
       "4    201500.0    113500.0   56.327543    2012.0        5.0  \n",
       "5    174000.0    101000.0   58.045977    2011.0        5.0  \n",
       "6    185000.0     66000.0   35.675676    2011.0        5.0  \n",
       "7    175000.0     17000.0    9.714286    2004.0        1.0  \n",
       "8    192000.0    103000.0   53.645833    2005.0       12.0  \n",
       "9    186000.0     -4000.0   -2.150538    2007.0        3.0  \n",
       "\n",
       "[10 rows x 24 columns]"
      ]
     },
     "execution_count": 6,
     "metadata": {},
     "output_type": "execute_result"
    }
   ],
   "source": [
    "yearly.head(10)"
   ]
  },
  {
   "cell_type": "code",
   "execution_count": 9,
   "metadata": {},
   "outputs": [
    {
     "data": {
      "text/html": [
       "<div>\n",
       "<style scoped>\n",
       "    .dataframe tbody tr th:only-of-type {\n",
       "        vertical-align: middle;\n",
       "    }\n",
       "\n",
       "    .dataframe tbody tr th {\n",
       "        vertical-align: top;\n",
       "    }\n",
       "\n",
       "    .dataframe thead th {\n",
       "        text-align: right;\n",
       "    }\n",
       "</style>\n",
       "<table border=\"1\" class=\"dataframe\">\n",
       "  <thead>\n",
       "    <tr style=\"text-align: right;\">\n",
       "      <th></th>\n",
       "      <th>year_month_sold</th>\n",
       "      <th>price</th>\n",
       "      <th>rolling_avg</th>\n",
       "    </tr>\n",
       "  </thead>\n",
       "  <tbody>\n",
       "    <tr>\n",
       "      <th>0</th>\n",
       "      <td>2004-06-01</td>\n",
       "      <td>203000.0</td>\n",
       "      <td>NaN</td>\n",
       "    </tr>\n",
       "    <tr>\n",
       "      <th>1</th>\n",
       "      <td>2004-08-01</td>\n",
       "      <td>226000.0</td>\n",
       "      <td>NaN</td>\n",
       "    </tr>\n",
       "    <tr>\n",
       "      <th>2</th>\n",
       "      <td>2004-09-01</td>\n",
       "      <td>199000.0</td>\n",
       "      <td>209333.333333</td>\n",
       "    </tr>\n",
       "    <tr>\n",
       "      <th>3</th>\n",
       "      <td>2005-10-01</td>\n",
       "      <td>195000.0</td>\n",
       "      <td>206666.666667</td>\n",
       "    </tr>\n",
       "    <tr>\n",
       "      <th>4</th>\n",
       "      <td>2006-02-01</td>\n",
       "      <td>185000.0</td>\n",
       "      <td>193000.000000</td>\n",
       "    </tr>\n",
       "    <tr>\n",
       "      <th>...</th>\n",
       "      <td>...</td>\n",
       "      <td>...</td>\n",
       "      <td>...</td>\n",
       "    </tr>\n",
       "    <tr>\n",
       "      <th>127</th>\n",
       "      <td>2020-02-01</td>\n",
       "      <td>241250.0</td>\n",
       "      <td>249083.333333</td>\n",
       "    </tr>\n",
       "    <tr>\n",
       "      <th>128</th>\n",
       "      <td>2020-03-01</td>\n",
       "      <td>235000.0</td>\n",
       "      <td>241416.666667</td>\n",
       "    </tr>\n",
       "    <tr>\n",
       "      <th>129</th>\n",
       "      <td>2020-04-01</td>\n",
       "      <td>330000.0</td>\n",
       "      <td>268750.000000</td>\n",
       "    </tr>\n",
       "    <tr>\n",
       "      <th>130</th>\n",
       "      <td>2020-05-01</td>\n",
       "      <td>253000.0</td>\n",
       "      <td>272666.666667</td>\n",
       "    </tr>\n",
       "    <tr>\n",
       "      <th>131</th>\n",
       "      <td>2020-07-01</td>\n",
       "      <td>325000.0</td>\n",
       "      <td>302666.666667</td>\n",
       "    </tr>\n",
       "  </tbody>\n",
       "</table>\n",
       "<p>132 rows × 3 columns</p>\n",
       "</div>"
      ],
      "text/plain": [
       "    year_month_sold     price    rolling_avg\n",
       "0        2004-06-01  203000.0            NaN\n",
       "1        2004-08-01  226000.0            NaN\n",
       "2        2004-09-01  199000.0  209333.333333\n",
       "3        2005-10-01  195000.0  206666.666667\n",
       "4        2006-02-01  185000.0  193000.000000\n",
       "..              ...       ...            ...\n",
       "127      2020-02-01  241250.0  249083.333333\n",
       "128      2020-03-01  235000.0  241416.666667\n",
       "129      2020-04-01  330000.0  268750.000000\n",
       "130      2020-05-01  253000.0  272666.666667\n",
       "131      2020-07-01  325000.0  302666.666667\n",
       "\n",
       "[132 rows x 3 columns]"
      ]
     },
     "execution_count": 9,
     "metadata": {},
     "output_type": "execute_result"
    }
   ],
   "source": [
    "r_val_1 = 3\n",
    "\n",
    "data['rolling_avg'] = data['price'].rolling(r_val_1).mean()\n",
    "\n",
    "data\n",
    "\n",
    "data_slice = data.iloc[::r_val_1, :]"
   ]
  },
  {
   "cell_type": "code",
   "execution_count": 16,
   "metadata": {},
   "outputs": [
    {
     "data": {
      "application/vnd.plotly.v1+json": {
       "config": {
        "plotlyServerURL": "https://plot.ly"
       },
       "data": [
        {
         "mode": "markers",
         "name": "Median Price",
         "opacity": 0.4,
         "type": "scatter",
         "x": [
          "2004-06-01T00:00:00",
          "2004-08-01T00:00:00",
          "2004-09-01T00:00:00",
          "2005-10-01T00:00:00",
          "2006-02-01T00:00:00",
          "2006-07-01T00:00:00",
          "2006-09-01T00:00:00",
          "2006-12-01T00:00:00",
          "2007-01-01T00:00:00",
          "2007-02-01T00:00:00",
          "2007-03-01T00:00:00",
          "2007-04-01T00:00:00",
          "2007-07-01T00:00:00",
          "2007-08-01T00:00:00",
          "2007-10-01T00:00:00",
          "2007-11-01T00:00:00",
          "2007-12-01T00:00:00",
          "2008-02-01T00:00:00",
          "2008-03-01T00:00:00",
          "2008-04-01T00:00:00",
          "2008-05-01T00:00:00",
          "2008-07-01T00:00:00",
          "2008-09-01T00:00:00",
          "2009-05-01T00:00:00",
          "2009-06-01T00:00:00",
          "2009-08-01T00:00:00",
          "2009-11-01T00:00:00",
          "2009-12-01T00:00:00",
          "2010-03-01T00:00:00",
          "2010-04-01T00:00:00",
          "2010-06-01T00:00:00",
          "2010-07-01T00:00:00",
          "2010-10-01T00:00:00",
          "2010-12-01T00:00:00",
          "2011-01-01T00:00:00",
          "2011-02-01T00:00:00",
          "2011-04-01T00:00:00",
          "2011-06-01T00:00:00",
          "2011-07-01T00:00:00",
          "2011-08-01T00:00:00",
          "2011-09-01T00:00:00",
          "2011-10-01T00:00:00",
          "2011-11-01T00:00:00",
          "2011-12-01T00:00:00",
          "2012-07-01T00:00:00",
          "2012-10-01T00:00:00",
          "2012-11-01T00:00:00",
          "2012-12-01T00:00:00",
          "2013-04-01T00:00:00",
          "2013-05-01T00:00:00",
          "2013-06-01T00:00:00",
          "2013-07-01T00:00:00",
          "2013-09-01T00:00:00",
          "2013-10-01T00:00:00",
          "2013-11-01T00:00:00",
          "2013-12-01T00:00:00",
          "2014-01-01T00:00:00",
          "2014-03-01T00:00:00",
          "2014-04-01T00:00:00",
          "2014-05-01T00:00:00",
          "2014-06-01T00:00:00",
          "2014-07-01T00:00:00",
          "2014-08-01T00:00:00",
          "2014-09-01T00:00:00",
          "2014-10-01T00:00:00",
          "2014-11-01T00:00:00",
          "2014-12-01T00:00:00",
          "2015-01-01T00:00:00",
          "2015-02-01T00:00:00",
          "2015-03-01T00:00:00",
          "2015-04-01T00:00:00",
          "2015-05-01T00:00:00",
          "2015-06-01T00:00:00",
          "2015-07-01T00:00:00",
          "2015-08-01T00:00:00",
          "2015-09-01T00:00:00",
          "2015-10-01T00:00:00",
          "2015-11-01T00:00:00",
          "2016-01-01T00:00:00",
          "2016-02-01T00:00:00",
          "2016-03-01T00:00:00",
          "2016-04-01T00:00:00",
          "2016-05-01T00:00:00",
          "2016-06-01T00:00:00",
          "2016-07-01T00:00:00",
          "2016-08-01T00:00:00",
          "2016-09-01T00:00:00",
          "2016-10-01T00:00:00",
          "2016-11-01T00:00:00",
          "2016-12-01T00:00:00",
          "2017-01-01T00:00:00",
          "2017-02-01T00:00:00",
          "2017-03-01T00:00:00",
          "2017-04-01T00:00:00",
          "2017-05-01T00:00:00",
          "2017-06-01T00:00:00",
          "2017-07-01T00:00:00",
          "2017-08-01T00:00:00",
          "2017-09-01T00:00:00",
          "2017-10-01T00:00:00",
          "2017-11-01T00:00:00",
          "2017-12-01T00:00:00",
          "2018-01-01T00:00:00",
          "2018-02-01T00:00:00",
          "2018-03-01T00:00:00",
          "2018-04-01T00:00:00",
          "2018-05-01T00:00:00",
          "2018-06-01T00:00:00",
          "2018-07-01T00:00:00",
          "2018-08-01T00:00:00",
          "2018-09-01T00:00:00",
          "2018-10-01T00:00:00",
          "2018-11-01T00:00:00",
          "2018-12-01T00:00:00",
          "2019-01-01T00:00:00",
          "2019-02-01T00:00:00",
          "2019-03-01T00:00:00",
          "2019-04-01T00:00:00",
          "2019-05-01T00:00:00",
          "2019-06-01T00:00:00",
          "2019-07-01T00:00:00",
          "2019-08-01T00:00:00",
          "2019-09-01T00:00:00",
          "2019-10-01T00:00:00",
          "2019-11-01T00:00:00",
          "2019-12-01T00:00:00",
          "2020-01-01T00:00:00",
          "2020-02-01T00:00:00",
          "2020-03-01T00:00:00",
          "2020-04-01T00:00:00",
          "2020-05-01T00:00:00",
          "2020-07-01T00:00:00"
         ],
         "y": [
          203000,
          226000,
          199000,
          195000,
          185000,
          200500,
          193000,
          245000,
          200000,
          195750,
          221250,
          242500,
          191000,
          250000,
          183250,
          249995,
          195000,
          193000,
          186000,
          190000,
          189500,
          173000,
          184000,
          178200,
          192000,
          199000,
          224500,
          222000,
          185000,
          172000,
          188000,
          186500,
          199000,
          186000,
          195000,
          191000,
          205000,
          235500,
          203500,
          204000,
          185000,
          216000,
          209500,
          251500,
          174000,
          221000,
          250000,
          173000,
          285000,
          195000,
          180000,
          241500,
          214250,
          205500,
          195000,
          203000,
          232000,
          207475,
          229995,
          202000,
          208000,
          192500,
          202000,
          189997.5,
          229500,
          185000,
          202475,
          197475,
          215000,
          255000,
          199975,
          185000,
          205000,
          285000,
          327000,
          330000,
          233000,
          225750,
          233000,
          235000,
          233500,
          249250,
          284995,
          269000,
          245000,
          233000,
          240000,
          246500,
          246000,
          233997.5,
          247500,
          244000,
          247000,
          252500,
          245950,
          251000,
          243000,
          248725,
          245000,
          255000,
          255500,
          249500,
          235000,
          269000,
          240000,
          289000,
          252000,
          297000,
          257500,
          281000,
          256250,
          248750,
          250000,
          255000,
          296000,
          260000,
          270000,
          239975,
          270000,
          255000,
          255000,
          247500,
          249000,
          238500,
          247000,
          258000,
          248000,
          241250,
          235000,
          330000,
          253000,
          325000
         ]
        },
        {
         "mode": "lines",
         "name": "Rolling Average",
         "opacity": 0.4,
         "type": "scatter",
         "x": [
          "2004-06-01T00:00:00",
          "2004-08-01T00:00:00",
          "2004-09-01T00:00:00",
          "2005-10-01T00:00:00",
          "2006-02-01T00:00:00",
          "2006-07-01T00:00:00",
          "2006-09-01T00:00:00",
          "2006-12-01T00:00:00",
          "2007-01-01T00:00:00",
          "2007-02-01T00:00:00",
          "2007-03-01T00:00:00",
          "2007-04-01T00:00:00",
          "2007-07-01T00:00:00",
          "2007-08-01T00:00:00",
          "2007-10-01T00:00:00",
          "2007-11-01T00:00:00",
          "2007-12-01T00:00:00",
          "2008-02-01T00:00:00",
          "2008-03-01T00:00:00",
          "2008-04-01T00:00:00",
          "2008-05-01T00:00:00",
          "2008-07-01T00:00:00",
          "2008-09-01T00:00:00",
          "2009-05-01T00:00:00",
          "2009-06-01T00:00:00",
          "2009-08-01T00:00:00",
          "2009-11-01T00:00:00",
          "2009-12-01T00:00:00",
          "2010-03-01T00:00:00",
          "2010-04-01T00:00:00",
          "2010-06-01T00:00:00",
          "2010-07-01T00:00:00",
          "2010-10-01T00:00:00",
          "2010-12-01T00:00:00",
          "2011-01-01T00:00:00",
          "2011-02-01T00:00:00",
          "2011-04-01T00:00:00",
          "2011-06-01T00:00:00",
          "2011-07-01T00:00:00",
          "2011-08-01T00:00:00",
          "2011-09-01T00:00:00",
          "2011-10-01T00:00:00",
          "2011-11-01T00:00:00",
          "2011-12-01T00:00:00",
          "2012-07-01T00:00:00",
          "2012-10-01T00:00:00",
          "2012-11-01T00:00:00",
          "2012-12-01T00:00:00",
          "2013-04-01T00:00:00",
          "2013-05-01T00:00:00",
          "2013-06-01T00:00:00",
          "2013-07-01T00:00:00",
          "2013-09-01T00:00:00",
          "2013-10-01T00:00:00",
          "2013-11-01T00:00:00",
          "2013-12-01T00:00:00",
          "2014-01-01T00:00:00",
          "2014-03-01T00:00:00",
          "2014-04-01T00:00:00",
          "2014-05-01T00:00:00",
          "2014-06-01T00:00:00",
          "2014-07-01T00:00:00",
          "2014-08-01T00:00:00",
          "2014-09-01T00:00:00",
          "2014-10-01T00:00:00",
          "2014-11-01T00:00:00",
          "2014-12-01T00:00:00",
          "2015-01-01T00:00:00",
          "2015-02-01T00:00:00",
          "2015-03-01T00:00:00",
          "2015-04-01T00:00:00",
          "2015-05-01T00:00:00",
          "2015-06-01T00:00:00",
          "2015-07-01T00:00:00",
          "2015-08-01T00:00:00",
          "2015-09-01T00:00:00",
          "2015-10-01T00:00:00",
          "2015-11-01T00:00:00",
          "2016-01-01T00:00:00",
          "2016-02-01T00:00:00",
          "2016-03-01T00:00:00",
          "2016-04-01T00:00:00",
          "2016-05-01T00:00:00",
          "2016-06-01T00:00:00",
          "2016-07-01T00:00:00",
          "2016-08-01T00:00:00",
          "2016-09-01T00:00:00",
          "2016-10-01T00:00:00",
          "2016-11-01T00:00:00",
          "2016-12-01T00:00:00",
          "2017-01-01T00:00:00",
          "2017-02-01T00:00:00",
          "2017-03-01T00:00:00",
          "2017-04-01T00:00:00",
          "2017-05-01T00:00:00",
          "2017-06-01T00:00:00",
          "2017-07-01T00:00:00",
          "2017-08-01T00:00:00",
          "2017-09-01T00:00:00",
          "2017-10-01T00:00:00",
          "2017-11-01T00:00:00",
          "2017-12-01T00:00:00",
          "2018-01-01T00:00:00",
          "2018-02-01T00:00:00",
          "2018-03-01T00:00:00",
          "2018-04-01T00:00:00",
          "2018-05-01T00:00:00",
          "2018-06-01T00:00:00",
          "2018-07-01T00:00:00",
          "2018-08-01T00:00:00",
          "2018-09-01T00:00:00",
          "2018-10-01T00:00:00",
          "2018-11-01T00:00:00",
          "2018-12-01T00:00:00",
          "2019-01-01T00:00:00",
          "2019-02-01T00:00:00",
          "2019-03-01T00:00:00",
          "2019-04-01T00:00:00",
          "2019-05-01T00:00:00",
          "2019-06-01T00:00:00",
          "2019-07-01T00:00:00",
          "2019-08-01T00:00:00",
          "2019-09-01T00:00:00",
          "2019-10-01T00:00:00",
          "2019-11-01T00:00:00",
          "2019-12-01T00:00:00",
          "2020-01-01T00:00:00",
          "2020-02-01T00:00:00",
          "2020-03-01T00:00:00",
          "2020-04-01T00:00:00",
          "2020-05-01T00:00:00",
          "2020-07-01T00:00:00"
         ],
         "y": [
          null,
          null,
          209333.33333333334,
          206666.66666666666,
          193000,
          193500,
          192833.33333333334,
          212833.33333333334,
          212666.66666666666,
          213583.33333333334,
          205666.66666666666,
          219833.33333333334,
          218250,
          227833.33333333334,
          208083.33333333334,
          227748.33333333334,
          209415,
          212665,
          191333.33333333334,
          189666.66666666666,
          188500,
          184166.66666666666,
          182166.66666666666,
          178400,
          184733.33333333334,
          189733.33333333334,
          205166.66666666666,
          215166.66666666666,
          210500,
          193000,
          181666.66666666666,
          182166.66666666666,
          191166.66666666666,
          190500,
          193333.33333333334,
          190666.66666666666,
          197000,
          210500,
          214666.66666666666,
          214333.33333333334,
          197500,
          201666.66666666666,
          203500,
          225666.66666666666,
          211666.66666666666,
          215500,
          215000,
          214666.66666666666,
          236000,
          217666.66666666666,
          220000,
          205500,
          211916.66666666666,
          220416.66666666666,
          204916.66666666666,
          201166.66666666666,
          210000,
          214158.33333333334,
          223156.66666666666,
          213156.66666666666,
          213331.66666666666,
          200833.33333333334,
          200833.33333333334,
          194832.5,
          207165.83333333334,
          201499.16666666666,
          205658.33333333334,
          194983.33333333334,
          204983.33333333334,
          222491.66666666666,
          223325,
          213325,
          196658.33333333334,
          225000,
          272333.3333333333,
          314000,
          296666.6666666667,
          262916.6666666667,
          230583.33333333334,
          231250,
          233833.33333333334,
          239250,
          255915,
          267748.3333333333,
          266331.6666666667,
          249000,
          239333.33333333334,
          239833.33333333334,
          244166.66666666666,
          242165.83333333334,
          242499.16666666666,
          241832.5,
          246166.66666666666,
          247833.33333333334,
          248483.33333333334,
          249816.66666666666,
          246650,
          247575,
          245575,
          249575,
          251833.33333333334,
          253333.33333333334,
          246666.66666666666,
          251166.66666666666,
          248000,
          266000,
          260333.33333333334,
          279333.3333333333,
          268833.3333333333,
          278500,
          264916.6666666667,
          262000,
          251666.66666666666,
          251250,
          267000,
          270333.3333333333,
          275333.3333333333,
          256658.33333333334,
          259991.66666666666,
          254991.66666666666,
          260000,
          252500,
          250500,
          245000,
          244833.33333333334,
          247833.33333333334,
          251000,
          249083.33333333334,
          241416.66666666666,
          268750,
          272666.6666666667,
          302666.6666666667
         ]
        }
       ],
       "layout": {
        "shapes": [
         {
          "line": {
           "color": "purple",
           "dash": "dot",
           "width": 3
          },
          "type": "line",
          "x0": "2005-01-01T00:00:00",
          "x1": "2006-01-01T00:00:00",
          "y0": 195000,
          "y1": 195000
         },
         {
          "line": {
           "color": "purple",
           "dash": "dot",
           "width": 3
          },
          "type": "line",
          "x0": "2005-01-01T00:00:00",
          "x1": "2006-01-01T00:00:00",
          "y0": 195000,
          "y1": 195000
         },
         {
          "line": {
           "color": "green",
           "dash": "dot",
           "width": 3
          },
          "type": "line",
          "x0": "2005-01-01T00:00:00",
          "x1": "2006-01-01T00:00:00",
          "y0": 195000,
          "y1": 195000
         },
         {
          "line": {
           "color": "green",
           "dash": "dot",
           "width": 3
          },
          "type": "line",
          "x0": "2005-01-01T00:00:00",
          "x1": "2006-01-01T00:00:00",
          "y0": 195000,
          "y1": 195000
         },
         {
          "line": {
           "color": "yellow",
           "width": 3
          },
          "type": "line",
          "x0": "2005-01-01T00:00:00",
          "x1": "2006-01-01T00:00:00",
          "y0": 195000,
          "y1": 195000
         },
         {
          "line": {
           "color": "yellow",
           "width": 3
          },
          "type": "line",
          "x0": "2005-01-01T00:00:00",
          "x1": "2006-01-01T00:00:00",
          "y0": 195000,
          "y1": 195000
         },
         {
          "line": {
           "color": "blue",
           "dash": "dot",
           "width": 3
          },
          "type": "line",
          "x0": "2005-01-01T00:00:00",
          "x1": "2006-01-01T00:00:00",
          "y0": 195000,
          "y1": 195000
         },
         {
          "line": {
           "color": "purple",
           "dash": "dot",
           "width": 3
          },
          "type": "line",
          "x0": "2006-01-01T00:00:00",
          "x1": "2007-01-01T00:00:00",
          "y0": 243665,
          "y1": 243665
         },
         {
          "line": {
           "color": "purple",
           "dash": "dot",
           "width": 3
          },
          "type": "line",
          "x0": "2006-01-01T00:00:00",
          "x1": "2007-01-01T00:00:00",
          "y0": 185240,
          "y1": 185240
         },
         {
          "line": {
           "color": "green",
           "dash": "dot",
           "width": 3
          },
          "type": "line",
          "x0": "2006-01-01T00:00:00",
          "x1": "2007-01-01T00:00:00",
          "y0": 238325,
          "y1": 238325
         },
         {
          "line": {
           "color": "green",
           "dash": "dot",
           "width": 3
          },
          "type": "line",
          "x0": "2006-01-01T00:00:00",
          "x1": "2007-01-01T00:00:00",
          "y0": 186200,
          "y1": 186200
         },
         {
          "line": {
           "color": "yellow",
           "width": 3
          },
          "type": "line",
          "x0": "2006-01-01T00:00:00",
          "x1": "2007-01-01T00:00:00",
          "y0": 224975,
          "y1": 224975
         },
         {
          "line": {
           "color": "yellow",
           "width": 3
          },
          "type": "line",
          "x0": "2006-01-01T00:00:00",
          "x1": "2007-01-01T00:00:00",
          "y0": 188600,
          "y1": 188600
         },
         {
          "line": {
           "color": "blue",
           "dash": "dot",
           "width": 3
          },
          "type": "line",
          "x0": "2006-01-01T00:00:00",
          "x1": "2007-01-01T00:00:00",
          "y0": 196750,
          "y1": 196750
         },
         {
          "line": {
           "color": "purple",
           "dash": "dot",
           "width": 3
          },
          "type": "line",
          "x0": "2007-01-01T00:00:00",
          "x1": "2008-01-01T00:00:00",
          "y0": 249999.65000000002,
          "y1": 249999.65000000002
         },
         {
          "line": {
           "color": "purple",
           "dash": "dot",
           "width": 3
          },
          "type": "line",
          "x0": "2007-01-01T00:00:00",
          "x1": "2008-01-01T00:00:00",
          "y0": 183792.5,
          "y1": 183792.5
         },
         {
          "line": {
           "color": "green",
           "dash": "dot",
           "width": 3
          },
          "type": "line",
          "x0": "2007-01-01T00:00:00",
          "x1": "2008-01-01T00:00:00",
          "y0": 249998.25,
          "y1": 249998.25
         },
         {
          "line": {
           "color": "green",
           "dash": "dot",
           "width": 3
          },
          "type": "line",
          "x0": "2007-01-01T00:00:00",
          "x1": "2008-01-01T00:00:00",
          "y0": 185962.5,
          "y1": 185962.5
         },
         {
          "line": {
           "color": "yellow",
           "width": 3
          },
          "type": "line",
          "x0": "2007-01-01T00:00:00",
          "x1": "2008-01-01T00:00:00",
          "y0": 249620.25,
          "y1": 249620.25
         },
         {
          "line": {
           "color": "yellow",
           "width": 3
          },
          "type": "line",
          "x0": "2007-01-01T00:00:00",
          "x1": "2008-01-01T00:00:00",
          "y0": 191200,
          "y1": 191200
         },
         {
          "line": {
           "color": "blue",
           "dash": "dot",
           "width": 3
          },
          "type": "line",
          "x0": "2007-01-01T00:00:00",
          "x1": "2008-01-01T00:00:00",
          "y0": 208500,
          "y1": 208500
         },
         {
          "line": {
           "color": "purple",
           "dash": "dot",
           "width": 3
          },
          "type": "line",
          "x0": "2008-01-01T00:00:00",
          "x1": "2009-01-01T00:00:00",
          "y0": 192850,
          "y1": 192850
         },
         {
          "line": {
           "color": "purple",
           "dash": "dot",
           "width": 3
          },
          "type": "line",
          "x0": "2008-01-01T00:00:00",
          "x1": "2009-01-01T00:00:00",
          "y0": 173550,
          "y1": 173550
         },
         {
          "line": {
           "color": "green",
           "dash": "dot",
           "width": 3
          },
          "type": "line",
          "x0": "2008-01-01T00:00:00",
          "x1": "2009-01-01T00:00:00",
          "y0": 192250,
          "y1": 192250
         },
         {
          "line": {
           "color": "green",
           "dash": "dot",
           "width": 3
          },
          "type": "line",
          "x0": "2008-01-01T00:00:00",
          "x1": "2009-01-01T00:00:00",
          "y0": 175750,
          "y1": 175750
         },
         {
          "line": {
           "color": "yellow",
           "width": 3
          },
          "type": "line",
          "x0": "2008-01-01T00:00:00",
          "x1": "2009-01-01T00:00:00",
          "y0": 190750,
          "y1": 190750
         },
         {
          "line": {
           "color": "yellow",
           "width": 3
          },
          "type": "line",
          "x0": "2008-01-01T00:00:00",
          "x1": "2009-01-01T00:00:00",
          "y0": 181250,
          "y1": 181250
         },
         {
          "line": {
           "color": "blue",
           "dash": "dot",
           "width": 3
          },
          "type": "line",
          "x0": "2008-01-01T00:00:00",
          "x1": "2009-01-01T00:00:00",
          "y0": 187750,
          "y1": 187750
         },
         {
          "line": {
           "color": "purple",
           "dash": "dot",
           "width": 3
          },
          "type": "line",
          "x0": "2009-01-01T00:00:00",
          "x1": "2010-01-01T00:00:00",
          "y0": 224400,
          "y1": 224400
         },
         {
          "line": {
           "color": "purple",
           "dash": "dot",
           "width": 3
          },
          "type": "line",
          "x0": "2009-01-01T00:00:00",
          "x1": "2010-01-01T00:00:00",
          "y0": 178752,
          "y1": 178752
         },
         {
          "line": {
           "color": "green",
           "dash": "dot",
           "width": 3
          },
          "type": "line",
          "x0": "2009-01-01T00:00:00",
          "x1": "2010-01-01T00:00:00",
          "y0": 224000,
          "y1": 224000
         },
         {
          "line": {
           "color": "green",
           "dash": "dot",
           "width": 3
          },
          "type": "line",
          "x0": "2009-01-01T00:00:00",
          "x1": "2010-01-01T00:00:00",
          "y0": 180960,
          "y1": 180960
         },
         {
          "line": {
           "color": "yellow",
           "width": 3
          },
          "type": "line",
          "x0": "2009-01-01T00:00:00",
          "x1": "2010-01-01T00:00:00",
          "y0": 223000,
          "y1": 223000
         },
         {
          "line": {
           "color": "yellow",
           "width": 3
          },
          "type": "line",
          "x0": "2009-01-01T00:00:00",
          "x1": "2010-01-01T00:00:00",
          "y0": 186480,
          "y1": 186480
         },
         {
          "line": {
           "color": "blue",
           "dash": "dot",
           "width": 3
          },
          "type": "line",
          "x0": "2009-01-01T00:00:00",
          "x1": "2010-01-01T00:00:00",
          "y0": 199000,
          "y1": 199000
         },
         {
          "line": {
           "color": "purple",
           "dash": "dot",
           "width": 3
          },
          "type": "line",
          "x0": "2010-01-01T00:00:00",
          "x1": "2011-01-01T00:00:00",
          "y0": 198450,
          "y1": 198450
         },
         {
          "line": {
           "color": "purple",
           "dash": "dot",
           "width": 3
          },
          "type": "line",
          "x0": "2010-01-01T00:00:00",
          "x1": "2011-01-01T00:00:00",
          "y0": 172650,
          "y1": 172650
         },
         {
          "line": {
           "color": "green",
           "dash": "dot",
           "width": 3
          },
          "type": "line",
          "x0": "2010-01-01T00:00:00",
          "x1": "2011-01-01T00:00:00",
          "y0": 196250,
          "y1": 196250
         },
         {
          "line": {
           "color": "green",
           "dash": "dot",
           "width": 3
          },
          "type": "line",
          "x0": "2010-01-01T00:00:00",
          "x1": "2011-01-01T00:00:00",
          "y0": 175250,
          "y1": 175250
         },
         {
          "line": {
           "color": "yellow",
           "width": 3
          },
          "type": "line",
          "x0": "2010-01-01T00:00:00",
          "x1": "2011-01-01T00:00:00",
          "y0": 190750,
          "y1": 190750
         },
         {
          "line": {
           "color": "yellow",
           "width": 3
          },
          "type": "line",
          "x0": "2010-01-01T00:00:00",
          "x1": "2011-01-01T00:00:00",
          "y0": 181750,
          "y1": 181750
         },
         {
          "line": {
           "color": "blue",
           "dash": "dot",
           "width": 3
          },
          "type": "line",
          "x0": "2010-01-01T00:00:00",
          "x1": "2011-01-01T00:00:00",
          "y0": 186250,
          "y1": 186250
         },
         {
          "line": {
           "color": "purple",
           "dash": "dot",
           "width": 3
          },
          "type": "line",
          "x0": "2011-01-01T00:00:00",
          "x1": "2012-01-01T00:00:00",
          "y0": 250220,
          "y1": 250220
         },
         {
          "line": {
           "color": "purple",
           "dash": "dot",
           "width": 3
          },
          "type": "line",
          "x0": "2011-01-01T00:00:00",
          "x1": "2012-01-01T00:00:00",
          "y0": 185480,
          "y1": 185480
         },
         {
          "line": {
           "color": "green",
           "dash": "dot",
           "width": 3
          },
          "type": "line",
          "x0": "2011-01-01T00:00:00",
          "x1": "2012-01-01T00:00:00",
          "y0": 245100,
          "y1": 245100
         },
         {
          "line": {
           "color": "green",
           "dash": "dot",
           "width": 3
          },
          "type": "line",
          "x0": "2011-01-01T00:00:00",
          "x1": "2012-01-01T00:00:00",
          "y0": 187400,
          "y1": 187400
         },
         {
          "line": {
           "color": "yellow",
           "width": 3
          },
          "type": "line",
          "x0": "2011-01-01T00:00:00",
          "x1": "2012-01-01T00:00:00",
          "y0": 231600,
          "y1": 231600
         },
         {
          "line": {
           "color": "yellow",
           "width": 3
          },
          "type": "line",
          "x0": "2011-01-01T00:00:00",
          "x1": "2012-01-01T00:00:00",
          "y0": 193500,
          "y1": 193500
         },
         {
          "line": {
           "color": "blue",
           "dash": "dot",
           "width": 3
          },
          "type": "line",
          "x0": "2011-01-01T00:00:00",
          "x1": "2012-01-01T00:00:00",
          "y0": 205000,
          "y1": 205000
         },
         {
          "line": {
           "color": "purple",
           "dash": "dot",
           "width": 3
          },
          "type": "line",
          "x0": "2012-01-01T00:00:00",
          "x1": "2013-01-01T00:00:00",
          "y0": 249130,
          "y1": 249130
         },
         {
          "line": {
           "color": "purple",
           "dash": "dot",
           "width": 3
          },
          "type": "line",
          "x0": "2012-01-01T00:00:00",
          "x1": "2013-01-01T00:00:00",
          "y0": 173030,
          "y1": 173030
         },
         {
          "line": {
           "color": "green",
           "dash": "dot",
           "width": 3
          },
          "type": "line",
          "x0": "2012-01-01T00:00:00",
          "x1": "2013-01-01T00:00:00",
          "y0": 245650,
          "y1": 245650
         },
         {
          "line": {
           "color": "green",
           "dash": "dot",
           "width": 3
          },
          "type": "line",
          "x0": "2012-01-01T00:00:00",
          "x1": "2013-01-01T00:00:00",
          "y0": 173150,
          "y1": 173150
         },
         {
          "line": {
           "color": "yellow",
           "width": 3
          },
          "type": "line",
          "x0": "2012-01-01T00:00:00",
          "x1": "2013-01-01T00:00:00",
          "y0": 236950,
          "y1": 236950
         },
         {
          "line": {
           "color": "yellow",
           "width": 3
          },
          "type": "line",
          "x0": "2012-01-01T00:00:00",
          "x1": "2013-01-01T00:00:00",
          "y0": 173450,
          "y1": 173450
         },
         {
          "line": {
           "color": "blue",
           "dash": "dot",
           "width": 3
          },
          "type": "line",
          "x0": "2012-01-01T00:00:00",
          "x1": "2013-01-01T00:00:00",
          "y0": 197500,
          "y1": 197500
         },
         {
          "line": {
           "color": "purple",
           "dash": "dot",
           "width": 3
          },
          "type": "line",
          "x0": "2013-01-01T00:00:00",
          "x1": "2014-01-01T00:00:00",
          "y0": 281955,
          "y1": 281955
         },
         {
          "line": {
           "color": "purple",
           "dash": "dot",
           "width": 3
          },
          "type": "line",
          "x0": "2013-01-01T00:00:00",
          "x1": "2014-01-01T00:00:00",
          "y0": 181050,
          "y1": 181050
         },
         {
          "line": {
           "color": "green",
           "dash": "dot",
           "width": 3
          },
          "type": "line",
          "x0": "2013-01-01T00:00:00",
          "x1": "2014-01-01T00:00:00",
          "y0": 269775,
          "y1": 269775
         },
         {
          "line": {
           "color": "green",
           "dash": "dot",
           "width": 3
          },
          "type": "line",
          "x0": "2013-01-01T00:00:00",
          "x1": "2014-01-01T00:00:00",
          "y0": 185250,
          "y1": 185250
         },
         {
          "line": {
           "color": "yellow",
           "width": 3
          },
          "type": "line",
          "x0": "2013-01-01T00:00:00",
          "x1": "2014-01-01T00:00:00",
          "y0": 240137.5,
          "y1": 240137.5
         },
         {
          "line": {
           "color": "yellow",
           "width": 3
          },
          "type": "line",
          "x0": "2013-01-01T00:00:00",
          "x1": "2014-01-01T00:00:00",
          "y0": 195000,
          "y1": 195000
         },
         {
          "line": {
           "color": "blue",
           "dash": "dot",
           "width": 3
          },
          "type": "line",
          "x0": "2013-01-01T00:00:00",
          "x1": "2014-01-01T00:00:00",
          "y0": 204250,
          "y1": 204250
         },
         {
          "line": {
           "color": "purple",
           "dash": "dot",
           "width": 3
          },
          "type": "line",
          "x0": "2014-01-01T00:00:00",
          "x1": "2015-01-01T00:00:00",
          "y0": 229950.45,
          "y1": 229950.45
         },
         {
          "line": {
           "color": "purple",
           "dash": "dot",
           "width": 3
          },
          "type": "line",
          "x0": "2014-01-01T00:00:00",
          "x1": "2015-01-01T00:00:00",
          "y0": 185449.775,
          "y1": 185449.775
         },
         {
          "line": {
           "color": "green",
           "dash": "dot",
           "width": 3
          },
          "type": "line",
          "x0": "2014-01-01T00:00:00",
          "x1": "2015-01-01T00:00:00",
          "y0": 229772.25,
          "y1": 229772.25
         },
         {
          "line": {
           "color": "green",
           "dash": "dot",
           "width": 3
          },
          "type": "line",
          "x0": "2014-01-01T00:00:00",
          "x1": "2015-01-01T00:00:00",
          "y0": 187248.875,
          "y1": 187248.875
         },
         {
          "line": {
           "color": "yellow",
           "width": 3
          },
          "type": "line",
          "x0": "2014-01-01T00:00:00",
          "x1": "2015-01-01T00:00:00",
          "y0": 221975,
          "y1": 221975
         },
         {
          "line": {
           "color": "yellow",
           "width": 3
          },
          "type": "line",
          "x0": "2014-01-01T00:00:00",
          "x1": "2015-01-01T00:00:00",
          "y0": 190873.375,
          "y1": 190873.375
         },
         {
          "line": {
           "color": "blue",
           "dash": "dot",
           "width": 3
          },
          "type": "line",
          "x0": "2014-01-01T00:00:00",
          "x1": "2015-01-01T00:00:00",
          "y0": 202237.5,
          "y1": 202237.5
         },
         {
          "line": {
           "color": "purple",
           "dash": "dot",
           "width": 3
          },
          "type": "line",
          "x0": "2015-01-01T00:00:00",
          "x1": "2016-01-01T00:00:00",
          "y0": 329730,
          "y1": 329730
         },
         {
          "line": {
           "color": "purple",
           "dash": "dot",
           "width": 3
          },
          "type": "line",
          "x0": "2015-01-01T00:00:00",
          "x1": "2016-01-01T00:00:00",
          "y0": 186347.75,
          "y1": 186347.75
         },
         {
          "line": {
           "color": "green",
           "dash": "dot",
           "width": 3
          },
          "type": "line",
          "x0": "2015-01-01T00:00:00",
          "x1": "2016-01-01T00:00:00",
          "y0": 328650,
          "y1": 328650
         },
         {
          "line": {
           "color": "green",
           "dash": "dot",
           "width": 3
          },
          "type": "line",
          "x0": "2015-01-01T00:00:00",
          "x1": "2016-01-01T00:00:00",
          "y0": 191738.75,
          "y1": 191738.75
         },
         {
          "line": {
           "color": "yellow",
           "width": 3
          },
          "type": "line",
          "x0": "2015-01-01T00:00:00",
          "x1": "2016-01-01T00:00:00",
          "y0": 312300,
          "y1": 312300
         },
         {
          "line": {
           "color": "yellow",
           "width": 3
          },
          "type": "line",
          "x0": "2015-01-01T00:00:00",
          "x1": "2016-01-01T00:00:00",
          "y0": 201733.75,
          "y1": 201733.75
         },
         {
          "line": {
           "color": "blue",
           "dash": "dot",
           "width": 3
          },
          "type": "line",
          "x0": "2015-01-01T00:00:00",
          "x1": "2016-01-01T00:00:00",
          "y0": 229375,
          "y1": 229375
         },
         {
          "line": {
           "color": "purple",
           "dash": "dot",
           "width": 3
          },
          "type": "line",
          "x0": "2016-01-01T00:00:00",
          "x1": "2017-01-01T00:00:00",
          "y0": 283395.5,
          "y1": 283395.5
         },
         {
          "line": {
           "color": "purple",
           "dash": "dot",
           "width": 3
          },
          "type": "line",
          "x0": "2016-01-01T00:00:00",
          "x1": "2017-01-01T00:00:00",
          "y0": 233050,
          "y1": 233050
         },
         {
          "line": {
           "color": "green",
           "dash": "dot",
           "width": 3
          },
          "type": "line",
          "x0": "2016-01-01T00:00:00",
          "x1": "2017-01-01T00:00:00",
          "y0": 276997.5,
          "y1": 276997.5
         },
         {
          "line": {
           "color": "green",
           "dash": "dot",
           "width": 3
          },
          "type": "line",
          "x0": "2016-01-01T00:00:00",
          "x1": "2017-01-01T00:00:00",
          "y0": 233250,
          "y1": 233250
         },
         {
          "line": {
           "color": "yellow",
           "width": 3
          },
          "type": "line",
          "x0": "2016-01-01T00:00:00",
          "x1": "2017-01-01T00:00:00",
          "y0": 259125,
          "y1": 259125
         },
         {
          "line": {
           "color": "yellow",
           "width": 3
          },
          "type": "line",
          "x0": "2016-01-01T00:00:00",
          "x1": "2017-01-01T00:00:00",
          "y0": 233748.75,
          "y1": 233748.75
         },
         {
          "line": {
           "color": "blue",
           "dash": "dot",
           "width": 3
          },
          "type": "line",
          "x0": "2016-01-01T00:00:00",
          "x1": "2017-01-01T00:00:00",
          "y0": 245000,
          "y1": 245000
         },
         {
          "line": {
           "color": "purple",
           "dash": "dot",
           "width": 3
          },
          "type": "line",
          "x0": "2017-01-01T00:00:00",
          "x1": "2018-01-01T00:00:00",
          "y0": 255450,
          "y1": 255450
         },
         {
          "line": {
           "color": "purple",
           "dash": "dot",
           "width": 3
          },
          "type": "line",
          "x0": "2017-01-01T00:00:00",
          "x1": "2018-01-01T00:00:00",
          "y0": 243100,
          "y1": 243100
         },
         {
          "line": {
           "color": "green",
           "dash": "dot",
           "width": 3
          },
          "type": "line",
          "x0": "2017-01-01T00:00:00",
          "x1": "2018-01-01T00:00:00",
          "y0": 255250,
          "y1": 255250
         },
         {
          "line": {
           "color": "green",
           "dash": "dot",
           "width": 3
          },
          "type": "line",
          "x0": "2017-01-01T00:00:00",
          "x1": "2018-01-01T00:00:00",
          "y0": 243500,
          "y1": 243500
         },
         {
          "line": {
           "color": "yellow",
           "width": 3
          },
          "type": "line",
          "x0": "2017-01-01T00:00:00",
          "x1": "2018-01-01T00:00:00",
          "y0": 253750,
          "y1": 253750
         },
         {
          "line": {
           "color": "yellow",
           "width": 3
          },
          "type": "line",
          "x0": "2017-01-01T00:00:00",
          "x1": "2018-01-01T00:00:00",
          "y0": 244500,
          "y1": 244500
         },
         {
          "line": {
           "color": "blue",
           "dash": "dot",
           "width": 3
          },
          "type": "line",
          "x0": "2017-01-01T00:00:00",
          "x1": "2018-01-01T00:00:00",
          "y0": 248725,
          "y1": 248725
         },
         {
          "line": {
           "color": "purple",
           "dash": "dot",
           "width": 3
          },
          "type": "line",
          "x0": "2018-01-01T00:00:00",
          "x1": "2019-01-01T00:00:00",
          "y0": 296200,
          "y1": 296200
         },
         {
          "line": {
           "color": "purple",
           "dash": "dot",
           "width": 3
          },
          "type": "line",
          "x0": "2018-01-01T00:00:00",
          "x1": "2019-01-01T00:00:00",
          "y0": 240875,
          "y1": 240875
         },
         {
          "line": {
           "color": "green",
           "dash": "dot",
           "width": 3
          },
          "type": "line",
          "x0": "2018-01-01T00:00:00",
          "x1": "2019-01-01T00:00:00",
          "y0": 293000,
          "y1": 293000
         },
         {
          "line": {
           "color": "green",
           "dash": "dot",
           "width": 3
          },
          "type": "line",
          "x0": "2018-01-01T00:00:00",
          "x1": "2019-01-01T00:00:00",
          "y0": 244375,
          "y1": 244375
         },
         {
          "line": {
           "color": "yellow",
           "width": 3
          },
          "type": "line",
          "x0": "2018-01-01T00:00:00",
          "x1": "2019-01-01T00:00:00",
          "y0": 285000,
          "y1": 285000
         },
         {
          "line": {
           "color": "yellow",
           "width": 3
          },
          "type": "line",
          "x0": "2018-01-01T00:00:00",
          "x1": "2019-01-01T00:00:00",
          "y0": 249375,
          "y1": 249375
         },
         {
          "line": {
           "color": "blue",
           "dash": "dot",
           "width": 3
          },
          "type": "line",
          "x0": "2018-01-01T00:00:00",
          "x1": "2019-01-01T00:00:00",
          "y0": 256250,
          "y1": 256250
         },
         {
          "line": {
           "color": "purple",
           "dash": "dot",
           "width": 3
          },
          "type": "line",
          "x0": "2019-01-01T00:00:00",
          "x1": "2020-01-01T00:00:00",
          "y0": 270000,
          "y1": 270000
         },
         {
          "line": {
           "color": "purple",
           "dash": "dot",
           "width": 3
          },
          "type": "line",
          "x0": "2019-01-01T00:00:00",
          "x1": "2020-01-01T00:00:00",
          "y0": 238647.5,
          "y1": 238647.5
         },
         {
          "line": {
           "color": "green",
           "dash": "dot",
           "width": 3
          },
          "type": "line",
          "x0": "2019-01-01T00:00:00",
          "x1": "2020-01-01T00:00:00",
          "y0": 270000,
          "y1": 270000
         },
         {
          "line": {
           "color": "green",
           "dash": "dot",
           "width": 3
          },
          "type": "line",
          "x0": "2019-01-01T00:00:00",
          "x1": "2020-01-01T00:00:00",
          "y0": 239237.5,
          "y1": 239237.5
         },
         {
          "line": {
           "color": "yellow",
           "width": 3
          },
          "type": "line",
          "x0": "2019-01-01T00:00:00",
          "x1": "2020-01-01T00:00:00",
          "y0": 265000,
          "y1": 265000
         },
         {
          "line": {
           "color": "yellow",
           "width": 3
          },
          "type": "line",
          "x0": "2019-01-01T00:00:00",
          "x1": "2020-01-01T00:00:00",
          "y0": 243487.5,
          "y1": 243487.5
         },
         {
          "line": {
           "color": "blue",
           "dash": "dot",
           "width": 3
          },
          "type": "line",
          "x0": "2019-01-01T00:00:00",
          "x1": "2020-01-01T00:00:00",
          "y0": 255000,
          "y1": 255000
         }
        ],
        "template": {
         "data": {
          "bar": [
           {
            "error_x": {
             "color": "#2a3f5f"
            },
            "error_y": {
             "color": "#2a3f5f"
            },
            "marker": {
             "line": {
              "color": "#E5ECF6",
              "width": 0.5
             }
            },
            "type": "bar"
           }
          ],
          "barpolar": [
           {
            "marker": {
             "line": {
              "color": "#E5ECF6",
              "width": 0.5
             }
            },
            "type": "barpolar"
           }
          ],
          "carpet": [
           {
            "aaxis": {
             "endlinecolor": "#2a3f5f",
             "gridcolor": "white",
             "linecolor": "white",
             "minorgridcolor": "white",
             "startlinecolor": "#2a3f5f"
            },
            "baxis": {
             "endlinecolor": "#2a3f5f",
             "gridcolor": "white",
             "linecolor": "white",
             "minorgridcolor": "white",
             "startlinecolor": "#2a3f5f"
            },
            "type": "carpet"
           }
          ],
          "choropleth": [
           {
            "colorbar": {
             "outlinewidth": 0,
             "ticks": ""
            },
            "type": "choropleth"
           }
          ],
          "contour": [
           {
            "colorbar": {
             "outlinewidth": 0,
             "ticks": ""
            },
            "colorscale": [
             [
              0,
              "#0d0887"
             ],
             [
              0.1111111111111111,
              "#46039f"
             ],
             [
              0.2222222222222222,
              "#7201a8"
             ],
             [
              0.3333333333333333,
              "#9c179e"
             ],
             [
              0.4444444444444444,
              "#bd3786"
             ],
             [
              0.5555555555555556,
              "#d8576b"
             ],
             [
              0.6666666666666666,
              "#ed7953"
             ],
             [
              0.7777777777777778,
              "#fb9f3a"
             ],
             [
              0.8888888888888888,
              "#fdca26"
             ],
             [
              1,
              "#f0f921"
             ]
            ],
            "type": "contour"
           }
          ],
          "contourcarpet": [
           {
            "colorbar": {
             "outlinewidth": 0,
             "ticks": ""
            },
            "type": "contourcarpet"
           }
          ],
          "heatmap": [
           {
            "colorbar": {
             "outlinewidth": 0,
             "ticks": ""
            },
            "colorscale": [
             [
              0,
              "#0d0887"
             ],
             [
              0.1111111111111111,
              "#46039f"
             ],
             [
              0.2222222222222222,
              "#7201a8"
             ],
             [
              0.3333333333333333,
              "#9c179e"
             ],
             [
              0.4444444444444444,
              "#bd3786"
             ],
             [
              0.5555555555555556,
              "#d8576b"
             ],
             [
              0.6666666666666666,
              "#ed7953"
             ],
             [
              0.7777777777777778,
              "#fb9f3a"
             ],
             [
              0.8888888888888888,
              "#fdca26"
             ],
             [
              1,
              "#f0f921"
             ]
            ],
            "type": "heatmap"
           }
          ],
          "heatmapgl": [
           {
            "colorbar": {
             "outlinewidth": 0,
             "ticks": ""
            },
            "colorscale": [
             [
              0,
              "#0d0887"
             ],
             [
              0.1111111111111111,
              "#46039f"
             ],
             [
              0.2222222222222222,
              "#7201a8"
             ],
             [
              0.3333333333333333,
              "#9c179e"
             ],
             [
              0.4444444444444444,
              "#bd3786"
             ],
             [
              0.5555555555555556,
              "#d8576b"
             ],
             [
              0.6666666666666666,
              "#ed7953"
             ],
             [
              0.7777777777777778,
              "#fb9f3a"
             ],
             [
              0.8888888888888888,
              "#fdca26"
             ],
             [
              1,
              "#f0f921"
             ]
            ],
            "type": "heatmapgl"
           }
          ],
          "histogram": [
           {
            "marker": {
             "colorbar": {
              "outlinewidth": 0,
              "ticks": ""
             }
            },
            "type": "histogram"
           }
          ],
          "histogram2d": [
           {
            "colorbar": {
             "outlinewidth": 0,
             "ticks": ""
            },
            "colorscale": [
             [
              0,
              "#0d0887"
             ],
             [
              0.1111111111111111,
              "#46039f"
             ],
             [
              0.2222222222222222,
              "#7201a8"
             ],
             [
              0.3333333333333333,
              "#9c179e"
             ],
             [
              0.4444444444444444,
              "#bd3786"
             ],
             [
              0.5555555555555556,
              "#d8576b"
             ],
             [
              0.6666666666666666,
              "#ed7953"
             ],
             [
              0.7777777777777778,
              "#fb9f3a"
             ],
             [
              0.8888888888888888,
              "#fdca26"
             ],
             [
              1,
              "#f0f921"
             ]
            ],
            "type": "histogram2d"
           }
          ],
          "histogram2dcontour": [
           {
            "colorbar": {
             "outlinewidth": 0,
             "ticks": ""
            },
            "colorscale": [
             [
              0,
              "#0d0887"
             ],
             [
              0.1111111111111111,
              "#46039f"
             ],
             [
              0.2222222222222222,
              "#7201a8"
             ],
             [
              0.3333333333333333,
              "#9c179e"
             ],
             [
              0.4444444444444444,
              "#bd3786"
             ],
             [
              0.5555555555555556,
              "#d8576b"
             ],
             [
              0.6666666666666666,
              "#ed7953"
             ],
             [
              0.7777777777777778,
              "#fb9f3a"
             ],
             [
              0.8888888888888888,
              "#fdca26"
             ],
             [
              1,
              "#f0f921"
             ]
            ],
            "type": "histogram2dcontour"
           }
          ],
          "mesh3d": [
           {
            "colorbar": {
             "outlinewidth": 0,
             "ticks": ""
            },
            "type": "mesh3d"
           }
          ],
          "parcoords": [
           {
            "line": {
             "colorbar": {
              "outlinewidth": 0,
              "ticks": ""
             }
            },
            "type": "parcoords"
           }
          ],
          "pie": [
           {
            "automargin": true,
            "type": "pie"
           }
          ],
          "scatter": [
           {
            "marker": {
             "colorbar": {
              "outlinewidth": 0,
              "ticks": ""
             }
            },
            "type": "scatter"
           }
          ],
          "scatter3d": [
           {
            "line": {
             "colorbar": {
              "outlinewidth": 0,
              "ticks": ""
             }
            },
            "marker": {
             "colorbar": {
              "outlinewidth": 0,
              "ticks": ""
             }
            },
            "type": "scatter3d"
           }
          ],
          "scattercarpet": [
           {
            "marker": {
             "colorbar": {
              "outlinewidth": 0,
              "ticks": ""
             }
            },
            "type": "scattercarpet"
           }
          ],
          "scattergeo": [
           {
            "marker": {
             "colorbar": {
              "outlinewidth": 0,
              "ticks": ""
             }
            },
            "type": "scattergeo"
           }
          ],
          "scattergl": [
           {
            "marker": {
             "colorbar": {
              "outlinewidth": 0,
              "ticks": ""
             }
            },
            "type": "scattergl"
           }
          ],
          "scattermapbox": [
           {
            "marker": {
             "colorbar": {
              "outlinewidth": 0,
              "ticks": ""
             }
            },
            "type": "scattermapbox"
           }
          ],
          "scatterpolar": [
           {
            "marker": {
             "colorbar": {
              "outlinewidth": 0,
              "ticks": ""
             }
            },
            "type": "scatterpolar"
           }
          ],
          "scatterpolargl": [
           {
            "marker": {
             "colorbar": {
              "outlinewidth": 0,
              "ticks": ""
             }
            },
            "type": "scatterpolargl"
           }
          ],
          "scatterternary": [
           {
            "marker": {
             "colorbar": {
              "outlinewidth": 0,
              "ticks": ""
             }
            },
            "type": "scatterternary"
           }
          ],
          "surface": [
           {
            "colorbar": {
             "outlinewidth": 0,
             "ticks": ""
            },
            "colorscale": [
             [
              0,
              "#0d0887"
             ],
             [
              0.1111111111111111,
              "#46039f"
             ],
             [
              0.2222222222222222,
              "#7201a8"
             ],
             [
              0.3333333333333333,
              "#9c179e"
             ],
             [
              0.4444444444444444,
              "#bd3786"
             ],
             [
              0.5555555555555556,
              "#d8576b"
             ],
             [
              0.6666666666666666,
              "#ed7953"
             ],
             [
              0.7777777777777778,
              "#fb9f3a"
             ],
             [
              0.8888888888888888,
              "#fdca26"
             ],
             [
              1,
              "#f0f921"
             ]
            ],
            "type": "surface"
           }
          ],
          "table": [
           {
            "cells": {
             "fill": {
              "color": "#EBF0F8"
             },
             "line": {
              "color": "white"
             }
            },
            "header": {
             "fill": {
              "color": "#C8D4E3"
             },
             "line": {
              "color": "white"
             }
            },
            "type": "table"
           }
          ]
         },
         "layout": {
          "annotationdefaults": {
           "arrowcolor": "#2a3f5f",
           "arrowhead": 0,
           "arrowwidth": 1
          },
          "coloraxis": {
           "colorbar": {
            "outlinewidth": 0,
            "ticks": ""
           }
          },
          "colorscale": {
           "diverging": [
            [
             0,
             "#8e0152"
            ],
            [
             0.1,
             "#c51b7d"
            ],
            [
             0.2,
             "#de77ae"
            ],
            [
             0.3,
             "#f1b6da"
            ],
            [
             0.4,
             "#fde0ef"
            ],
            [
             0.5,
             "#f7f7f7"
            ],
            [
             0.6,
             "#e6f5d0"
            ],
            [
             0.7,
             "#b8e186"
            ],
            [
             0.8,
             "#7fbc41"
            ],
            [
             0.9,
             "#4d9221"
            ],
            [
             1,
             "#276419"
            ]
           ],
           "sequential": [
            [
             0,
             "#0d0887"
            ],
            [
             0.1111111111111111,
             "#46039f"
            ],
            [
             0.2222222222222222,
             "#7201a8"
            ],
            [
             0.3333333333333333,
             "#9c179e"
            ],
            [
             0.4444444444444444,
             "#bd3786"
            ],
            [
             0.5555555555555556,
             "#d8576b"
            ],
            [
             0.6666666666666666,
             "#ed7953"
            ],
            [
             0.7777777777777778,
             "#fb9f3a"
            ],
            [
             0.8888888888888888,
             "#fdca26"
            ],
            [
             1,
             "#f0f921"
            ]
           ],
           "sequentialminus": [
            [
             0,
             "#0d0887"
            ],
            [
             0.1111111111111111,
             "#46039f"
            ],
            [
             0.2222222222222222,
             "#7201a8"
            ],
            [
             0.3333333333333333,
             "#9c179e"
            ],
            [
             0.4444444444444444,
             "#bd3786"
            ],
            [
             0.5555555555555556,
             "#d8576b"
            ],
            [
             0.6666666666666666,
             "#ed7953"
            ],
            [
             0.7777777777777778,
             "#fb9f3a"
            ],
            [
             0.8888888888888888,
             "#fdca26"
            ],
            [
             1,
             "#f0f921"
            ]
           ]
          },
          "colorway": [
           "#636efa",
           "#EF553B",
           "#00cc96",
           "#ab63fa",
           "#FFA15A",
           "#19d3f3",
           "#FF6692",
           "#B6E880",
           "#FF97FF",
           "#FECB52"
          ],
          "font": {
           "color": "#2a3f5f"
          },
          "geo": {
           "bgcolor": "white",
           "lakecolor": "white",
           "landcolor": "#E5ECF6",
           "showlakes": true,
           "showland": true,
           "subunitcolor": "white"
          },
          "hoverlabel": {
           "align": "left"
          },
          "hovermode": "closest",
          "mapbox": {
           "style": "light"
          },
          "paper_bgcolor": "white",
          "plot_bgcolor": "#E5ECF6",
          "polar": {
           "angularaxis": {
            "gridcolor": "white",
            "linecolor": "white",
            "ticks": ""
           },
           "bgcolor": "#E5ECF6",
           "radialaxis": {
            "gridcolor": "white",
            "linecolor": "white",
            "ticks": ""
           }
          },
          "scene": {
           "xaxis": {
            "backgroundcolor": "#E5ECF6",
            "gridcolor": "white",
            "gridwidth": 2,
            "linecolor": "white",
            "showbackground": true,
            "ticks": "",
            "zerolinecolor": "white"
           },
           "yaxis": {
            "backgroundcolor": "#E5ECF6",
            "gridcolor": "white",
            "gridwidth": 2,
            "linecolor": "white",
            "showbackground": true,
            "ticks": "",
            "zerolinecolor": "white"
           },
           "zaxis": {
            "backgroundcolor": "#E5ECF6",
            "gridcolor": "white",
            "gridwidth": 2,
            "linecolor": "white",
            "showbackground": true,
            "ticks": "",
            "zerolinecolor": "white"
           }
          },
          "shapedefaults": {
           "line": {
            "color": "#2a3f5f"
           }
          },
          "ternary": {
           "aaxis": {
            "gridcolor": "white",
            "linecolor": "white",
            "ticks": ""
           },
           "baxis": {
            "gridcolor": "white",
            "linecolor": "white",
            "ticks": ""
           },
           "bgcolor": "#E5ECF6",
           "caxis": {
            "gridcolor": "white",
            "linecolor": "white",
            "ticks": ""
           }
          },
          "title": {
           "x": 0.05
          },
          "xaxis": {
           "automargin": true,
           "gridcolor": "white",
           "linecolor": "white",
           "ticks": "",
           "title": {
            "standoff": 15
           },
           "zerolinecolor": "white",
           "zerolinewidth": 2
          },
          "yaxis": {
           "automargin": true,
           "gridcolor": "white",
           "linecolor": "white",
           "ticks": "",
           "title": {
            "standoff": 15
           },
           "zerolinecolor": "white",
           "zerolinewidth": 2
          }
         }
        },
        "title": {
         "text": "Median House Price Each Month"
        },
        "xaxis": {
         "nticks": 20
        }
       }
      },
      "text/html": [
       "<div>                            <div id=\"15e17a9e-9724-4ac8-8ce5-fc18d09d9c46\" class=\"plotly-graph-div\" style=\"height:525px; width:100%;\"></div>            <script type=\"text/javascript\">                require([\"plotly\"], function(Plotly) {                    window.PLOTLYENV=window.PLOTLYENV || {};                                    if (document.getElementById(\"15e17a9e-9724-4ac8-8ce5-fc18d09d9c46\")) {                    Plotly.newPlot(                        \"15e17a9e-9724-4ac8-8ce5-fc18d09d9c46\",                        [{\"mode\": \"markers\", \"name\": \"Median Price\", \"opacity\": 0.4, \"type\": \"scatter\", \"x\": [\"2004-06-01T00:00:00\", \"2004-08-01T00:00:00\", \"2004-09-01T00:00:00\", \"2005-10-01T00:00:00\", \"2006-02-01T00:00:00\", \"2006-07-01T00:00:00\", \"2006-09-01T00:00:00\", \"2006-12-01T00:00:00\", \"2007-01-01T00:00:00\", \"2007-02-01T00:00:00\", \"2007-03-01T00:00:00\", \"2007-04-01T00:00:00\", \"2007-07-01T00:00:00\", \"2007-08-01T00:00:00\", \"2007-10-01T00:00:00\", \"2007-11-01T00:00:00\", \"2007-12-01T00:00:00\", \"2008-02-01T00:00:00\", \"2008-03-01T00:00:00\", \"2008-04-01T00:00:00\", \"2008-05-01T00:00:00\", \"2008-07-01T00:00:00\", \"2008-09-01T00:00:00\", \"2009-05-01T00:00:00\", \"2009-06-01T00:00:00\", \"2009-08-01T00:00:00\", \"2009-11-01T00:00:00\", \"2009-12-01T00:00:00\", \"2010-03-01T00:00:00\", \"2010-04-01T00:00:00\", \"2010-06-01T00:00:00\", \"2010-07-01T00:00:00\", \"2010-10-01T00:00:00\", \"2010-12-01T00:00:00\", \"2011-01-01T00:00:00\", \"2011-02-01T00:00:00\", \"2011-04-01T00:00:00\", \"2011-06-01T00:00:00\", \"2011-07-01T00:00:00\", \"2011-08-01T00:00:00\", \"2011-09-01T00:00:00\", \"2011-10-01T00:00:00\", \"2011-11-01T00:00:00\", \"2011-12-01T00:00:00\", \"2012-07-01T00:00:00\", \"2012-10-01T00:00:00\", \"2012-11-01T00:00:00\", \"2012-12-01T00:00:00\", \"2013-04-01T00:00:00\", \"2013-05-01T00:00:00\", \"2013-06-01T00:00:00\", \"2013-07-01T00:00:00\", \"2013-09-01T00:00:00\", \"2013-10-01T00:00:00\", \"2013-11-01T00:00:00\", \"2013-12-01T00:00:00\", \"2014-01-01T00:00:00\", \"2014-03-01T00:00:00\", \"2014-04-01T00:00:00\", \"2014-05-01T00:00:00\", \"2014-06-01T00:00:00\", \"2014-07-01T00:00:00\", \"2014-08-01T00:00:00\", \"2014-09-01T00:00:00\", \"2014-10-01T00:00:00\", \"2014-11-01T00:00:00\", \"2014-12-01T00:00:00\", \"2015-01-01T00:00:00\", \"2015-02-01T00:00:00\", \"2015-03-01T00:00:00\", \"2015-04-01T00:00:00\", \"2015-05-01T00:00:00\", \"2015-06-01T00:00:00\", \"2015-07-01T00:00:00\", \"2015-08-01T00:00:00\", \"2015-09-01T00:00:00\", \"2015-10-01T00:00:00\", \"2015-11-01T00:00:00\", \"2016-01-01T00:00:00\", \"2016-02-01T00:00:00\", \"2016-03-01T00:00:00\", \"2016-04-01T00:00:00\", \"2016-05-01T00:00:00\", \"2016-06-01T00:00:00\", \"2016-07-01T00:00:00\", \"2016-08-01T00:00:00\", \"2016-09-01T00:00:00\", \"2016-10-01T00:00:00\", \"2016-11-01T00:00:00\", \"2016-12-01T00:00:00\", \"2017-01-01T00:00:00\", \"2017-02-01T00:00:00\", \"2017-03-01T00:00:00\", \"2017-04-01T00:00:00\", \"2017-05-01T00:00:00\", \"2017-06-01T00:00:00\", \"2017-07-01T00:00:00\", \"2017-08-01T00:00:00\", \"2017-09-01T00:00:00\", \"2017-10-01T00:00:00\", \"2017-11-01T00:00:00\", \"2017-12-01T00:00:00\", \"2018-01-01T00:00:00\", \"2018-02-01T00:00:00\", \"2018-03-01T00:00:00\", \"2018-04-01T00:00:00\", \"2018-05-01T00:00:00\", \"2018-06-01T00:00:00\", \"2018-07-01T00:00:00\", \"2018-08-01T00:00:00\", \"2018-09-01T00:00:00\", \"2018-10-01T00:00:00\", \"2018-11-01T00:00:00\", \"2018-12-01T00:00:00\", \"2019-01-01T00:00:00\", \"2019-02-01T00:00:00\", \"2019-03-01T00:00:00\", \"2019-04-01T00:00:00\", \"2019-05-01T00:00:00\", \"2019-06-01T00:00:00\", \"2019-07-01T00:00:00\", \"2019-08-01T00:00:00\", \"2019-09-01T00:00:00\", \"2019-10-01T00:00:00\", \"2019-11-01T00:00:00\", \"2019-12-01T00:00:00\", \"2020-01-01T00:00:00\", \"2020-02-01T00:00:00\", \"2020-03-01T00:00:00\", \"2020-04-01T00:00:00\", \"2020-05-01T00:00:00\", \"2020-07-01T00:00:00\"], \"y\": [203000.0, 226000.0, 199000.0, 195000.0, 185000.0, 200500.0, 193000.0, 245000.0, 200000.0, 195750.0, 221250.0, 242500.0, 191000.0, 250000.0, 183250.0, 249995.0, 195000.0, 193000.0, 186000.0, 190000.0, 189500.0, 173000.0, 184000.0, 178200.0, 192000.0, 199000.0, 224500.0, 222000.0, 185000.0, 172000.0, 188000.0, 186500.0, 199000.0, 186000.0, 195000.0, 191000.0, 205000.0, 235500.0, 203500.0, 204000.0, 185000.0, 216000.0, 209500.0, 251500.0, 174000.0, 221000.0, 250000.0, 173000.0, 285000.0, 195000.0, 180000.0, 241500.0, 214250.0, 205500.0, 195000.0, 203000.0, 232000.0, 207475.0, 229995.0, 202000.0, 208000.0, 192500.0, 202000.0, 189997.5, 229500.0, 185000.0, 202475.0, 197475.0, 215000.0, 255000.0, 199975.0, 185000.0, 205000.0, 285000.0, 327000.0, 330000.0, 233000.0, 225750.0, 233000.0, 235000.0, 233500.0, 249250.0, 284995.0, 269000.0, 245000.0, 233000.0, 240000.0, 246500.0, 246000.0, 233997.5, 247500.0, 244000.0, 247000.0, 252500.0, 245950.0, 251000.0, 243000.0, 248725.0, 245000.0, 255000.0, 255500.0, 249500.0, 235000.0, 269000.0, 240000.0, 289000.0, 252000.0, 297000.0, 257500.0, 281000.0, 256250.0, 248750.0, 250000.0, 255000.0, 296000.0, 260000.0, 270000.0, 239975.0, 270000.0, 255000.0, 255000.0, 247500.0, 249000.0, 238500.0, 247000.0, 258000.0, 248000.0, 241250.0, 235000.0, 330000.0, 253000.0, 325000.0]}, {\"mode\": \"lines\", \"name\": \"Rolling Average\", \"opacity\": 0.4, \"type\": \"scatter\", \"x\": [\"2004-06-01T00:00:00\", \"2004-08-01T00:00:00\", \"2004-09-01T00:00:00\", \"2005-10-01T00:00:00\", \"2006-02-01T00:00:00\", \"2006-07-01T00:00:00\", \"2006-09-01T00:00:00\", \"2006-12-01T00:00:00\", \"2007-01-01T00:00:00\", \"2007-02-01T00:00:00\", \"2007-03-01T00:00:00\", \"2007-04-01T00:00:00\", \"2007-07-01T00:00:00\", \"2007-08-01T00:00:00\", \"2007-10-01T00:00:00\", \"2007-11-01T00:00:00\", \"2007-12-01T00:00:00\", \"2008-02-01T00:00:00\", \"2008-03-01T00:00:00\", \"2008-04-01T00:00:00\", \"2008-05-01T00:00:00\", \"2008-07-01T00:00:00\", \"2008-09-01T00:00:00\", \"2009-05-01T00:00:00\", \"2009-06-01T00:00:00\", \"2009-08-01T00:00:00\", \"2009-11-01T00:00:00\", \"2009-12-01T00:00:00\", \"2010-03-01T00:00:00\", \"2010-04-01T00:00:00\", \"2010-06-01T00:00:00\", \"2010-07-01T00:00:00\", \"2010-10-01T00:00:00\", \"2010-12-01T00:00:00\", \"2011-01-01T00:00:00\", \"2011-02-01T00:00:00\", \"2011-04-01T00:00:00\", \"2011-06-01T00:00:00\", \"2011-07-01T00:00:00\", \"2011-08-01T00:00:00\", \"2011-09-01T00:00:00\", \"2011-10-01T00:00:00\", \"2011-11-01T00:00:00\", \"2011-12-01T00:00:00\", \"2012-07-01T00:00:00\", \"2012-10-01T00:00:00\", \"2012-11-01T00:00:00\", \"2012-12-01T00:00:00\", \"2013-04-01T00:00:00\", \"2013-05-01T00:00:00\", \"2013-06-01T00:00:00\", \"2013-07-01T00:00:00\", \"2013-09-01T00:00:00\", \"2013-10-01T00:00:00\", \"2013-11-01T00:00:00\", \"2013-12-01T00:00:00\", \"2014-01-01T00:00:00\", \"2014-03-01T00:00:00\", \"2014-04-01T00:00:00\", \"2014-05-01T00:00:00\", \"2014-06-01T00:00:00\", \"2014-07-01T00:00:00\", \"2014-08-01T00:00:00\", \"2014-09-01T00:00:00\", \"2014-10-01T00:00:00\", \"2014-11-01T00:00:00\", \"2014-12-01T00:00:00\", \"2015-01-01T00:00:00\", \"2015-02-01T00:00:00\", \"2015-03-01T00:00:00\", \"2015-04-01T00:00:00\", \"2015-05-01T00:00:00\", \"2015-06-01T00:00:00\", \"2015-07-01T00:00:00\", \"2015-08-01T00:00:00\", \"2015-09-01T00:00:00\", \"2015-10-01T00:00:00\", \"2015-11-01T00:00:00\", \"2016-01-01T00:00:00\", \"2016-02-01T00:00:00\", \"2016-03-01T00:00:00\", \"2016-04-01T00:00:00\", \"2016-05-01T00:00:00\", \"2016-06-01T00:00:00\", \"2016-07-01T00:00:00\", \"2016-08-01T00:00:00\", \"2016-09-01T00:00:00\", \"2016-10-01T00:00:00\", \"2016-11-01T00:00:00\", \"2016-12-01T00:00:00\", \"2017-01-01T00:00:00\", \"2017-02-01T00:00:00\", \"2017-03-01T00:00:00\", \"2017-04-01T00:00:00\", \"2017-05-01T00:00:00\", \"2017-06-01T00:00:00\", \"2017-07-01T00:00:00\", \"2017-08-01T00:00:00\", \"2017-09-01T00:00:00\", \"2017-10-01T00:00:00\", \"2017-11-01T00:00:00\", \"2017-12-01T00:00:00\", \"2018-01-01T00:00:00\", \"2018-02-01T00:00:00\", \"2018-03-01T00:00:00\", \"2018-04-01T00:00:00\", \"2018-05-01T00:00:00\", \"2018-06-01T00:00:00\", \"2018-07-01T00:00:00\", \"2018-08-01T00:00:00\", \"2018-09-01T00:00:00\", \"2018-10-01T00:00:00\", \"2018-11-01T00:00:00\", \"2018-12-01T00:00:00\", \"2019-01-01T00:00:00\", \"2019-02-01T00:00:00\", \"2019-03-01T00:00:00\", \"2019-04-01T00:00:00\", \"2019-05-01T00:00:00\", \"2019-06-01T00:00:00\", \"2019-07-01T00:00:00\", \"2019-08-01T00:00:00\", \"2019-09-01T00:00:00\", \"2019-10-01T00:00:00\", \"2019-11-01T00:00:00\", \"2019-12-01T00:00:00\", \"2020-01-01T00:00:00\", \"2020-02-01T00:00:00\", \"2020-03-01T00:00:00\", \"2020-04-01T00:00:00\", \"2020-05-01T00:00:00\", \"2020-07-01T00:00:00\"], \"y\": [null, null, 209333.33333333334, 206666.66666666666, 193000.0, 193500.0, 192833.33333333334, 212833.33333333334, 212666.66666666666, 213583.33333333334, 205666.66666666666, 219833.33333333334, 218250.0, 227833.33333333334, 208083.33333333334, 227748.33333333334, 209415.0, 212665.0, 191333.33333333334, 189666.66666666666, 188500.0, 184166.66666666666, 182166.66666666666, 178400.0, 184733.33333333334, 189733.33333333334, 205166.66666666666, 215166.66666666666, 210500.0, 193000.0, 181666.66666666666, 182166.66666666666, 191166.66666666666, 190500.0, 193333.33333333334, 190666.66666666666, 197000.0, 210500.0, 214666.66666666666, 214333.33333333334, 197500.0, 201666.66666666666, 203500.0, 225666.66666666666, 211666.66666666666, 215500.0, 215000.0, 214666.66666666666, 236000.0, 217666.66666666666, 220000.0, 205500.0, 211916.66666666666, 220416.66666666666, 204916.66666666666, 201166.66666666666, 210000.0, 214158.33333333334, 223156.66666666666, 213156.66666666666, 213331.66666666666, 200833.33333333334, 200833.33333333334, 194832.5, 207165.83333333334, 201499.16666666666, 205658.33333333334, 194983.33333333334, 204983.33333333334, 222491.66666666666, 223325.0, 213325.0, 196658.33333333334, 225000.0, 272333.3333333333, 314000.0, 296666.6666666667, 262916.6666666667, 230583.33333333334, 231250.0, 233833.33333333334, 239250.0, 255915.0, 267748.3333333333, 266331.6666666667, 249000.0, 239333.33333333334, 239833.33333333334, 244166.66666666666, 242165.83333333334, 242499.16666666666, 241832.5, 246166.66666666666, 247833.33333333334, 248483.33333333334, 249816.66666666666, 246650.0, 247575.0, 245575.0, 249575.0, 251833.33333333334, 253333.33333333334, 246666.66666666666, 251166.66666666666, 248000.0, 266000.0, 260333.33333333334, 279333.3333333333, 268833.3333333333, 278500.0, 264916.6666666667, 262000.0, 251666.66666666666, 251250.0, 267000.0, 270333.3333333333, 275333.3333333333, 256658.33333333334, 259991.66666666666, 254991.66666666666, 260000.0, 252500.0, 250500.0, 245000.0, 244833.33333333334, 247833.33333333334, 251000.0, 249083.33333333334, 241416.66666666666, 268750.0, 272666.6666666667, 302666.6666666667]}],                        {\"shapes\": [{\"line\": {\"color\": \"purple\", \"dash\": \"dot\", \"width\": 3}, \"type\": \"line\", \"x0\": \"2005-01-01T00:00:00\", \"x1\": \"2006-01-01T00:00:00\", \"y0\": 195000.0, \"y1\": 195000.0}, {\"line\": {\"color\": \"purple\", \"dash\": \"dot\", \"width\": 3}, \"type\": \"line\", \"x0\": \"2005-01-01T00:00:00\", \"x1\": \"2006-01-01T00:00:00\", \"y0\": 195000.0, \"y1\": 195000.0}, {\"line\": {\"color\": \"green\", \"dash\": \"dot\", \"width\": 3}, \"type\": \"line\", \"x0\": \"2005-01-01T00:00:00\", \"x1\": \"2006-01-01T00:00:00\", \"y0\": 195000.0, \"y1\": 195000.0}, {\"line\": {\"color\": \"green\", \"dash\": \"dot\", \"width\": 3}, \"type\": \"line\", \"x0\": \"2005-01-01T00:00:00\", \"x1\": \"2006-01-01T00:00:00\", \"y0\": 195000.0, \"y1\": 195000.0}, {\"line\": {\"color\": \"yellow\", \"width\": 3}, \"type\": \"line\", \"x0\": \"2005-01-01T00:00:00\", \"x1\": \"2006-01-01T00:00:00\", \"y0\": 195000.0, \"y1\": 195000.0}, {\"line\": {\"color\": \"yellow\", \"width\": 3}, \"type\": \"line\", \"x0\": \"2005-01-01T00:00:00\", \"x1\": \"2006-01-01T00:00:00\", \"y0\": 195000.0, \"y1\": 195000.0}, {\"line\": {\"color\": \"blue\", \"dash\": \"dot\", \"width\": 3}, \"type\": \"line\", \"x0\": \"2005-01-01T00:00:00\", \"x1\": \"2006-01-01T00:00:00\", \"y0\": 195000.0, \"y1\": 195000.0}, {\"line\": {\"color\": \"purple\", \"dash\": \"dot\", \"width\": 3}, \"type\": \"line\", \"x0\": \"2006-01-01T00:00:00\", \"x1\": \"2007-01-01T00:00:00\", \"y0\": 243665.0, \"y1\": 243665.0}, {\"line\": {\"color\": \"purple\", \"dash\": \"dot\", \"width\": 3}, \"type\": \"line\", \"x0\": \"2006-01-01T00:00:00\", \"x1\": \"2007-01-01T00:00:00\", \"y0\": 185240.0, \"y1\": 185240.0}, {\"line\": {\"color\": \"green\", \"dash\": \"dot\", \"width\": 3}, \"type\": \"line\", \"x0\": \"2006-01-01T00:00:00\", \"x1\": \"2007-01-01T00:00:00\", \"y0\": 238325.0, \"y1\": 238325.0}, {\"line\": {\"color\": \"green\", \"dash\": \"dot\", \"width\": 3}, \"type\": \"line\", \"x0\": \"2006-01-01T00:00:00\", \"x1\": \"2007-01-01T00:00:00\", \"y0\": 186200.0, \"y1\": 186200.0}, {\"line\": {\"color\": \"yellow\", \"width\": 3}, \"type\": \"line\", \"x0\": \"2006-01-01T00:00:00\", \"x1\": \"2007-01-01T00:00:00\", \"y0\": 224975.0, \"y1\": 224975.0}, {\"line\": {\"color\": \"yellow\", \"width\": 3}, \"type\": \"line\", \"x0\": \"2006-01-01T00:00:00\", \"x1\": \"2007-01-01T00:00:00\", \"y0\": 188600.0, \"y1\": 188600.0}, {\"line\": {\"color\": \"blue\", \"dash\": \"dot\", \"width\": 3}, \"type\": \"line\", \"x0\": \"2006-01-01T00:00:00\", \"x1\": \"2007-01-01T00:00:00\", \"y0\": 196750.0, \"y1\": 196750.0}, {\"line\": {\"color\": \"purple\", \"dash\": \"dot\", \"width\": 3}, \"type\": \"line\", \"x0\": \"2007-01-01T00:00:00\", \"x1\": \"2008-01-01T00:00:00\", \"y0\": 249999.65000000002, \"y1\": 249999.65000000002}, {\"line\": {\"color\": \"purple\", \"dash\": \"dot\", \"width\": 3}, \"type\": \"line\", \"x0\": \"2007-01-01T00:00:00\", \"x1\": \"2008-01-01T00:00:00\", \"y0\": 183792.5, \"y1\": 183792.5}, {\"line\": {\"color\": \"green\", \"dash\": \"dot\", \"width\": 3}, \"type\": \"line\", \"x0\": \"2007-01-01T00:00:00\", \"x1\": \"2008-01-01T00:00:00\", \"y0\": 249998.25, \"y1\": 249998.25}, {\"line\": {\"color\": \"green\", \"dash\": \"dot\", \"width\": 3}, \"type\": \"line\", \"x0\": \"2007-01-01T00:00:00\", \"x1\": \"2008-01-01T00:00:00\", \"y0\": 185962.5, \"y1\": 185962.5}, {\"line\": {\"color\": \"yellow\", \"width\": 3}, \"type\": \"line\", \"x0\": \"2007-01-01T00:00:00\", \"x1\": \"2008-01-01T00:00:00\", \"y0\": 249620.25, \"y1\": 249620.25}, {\"line\": {\"color\": \"yellow\", \"width\": 3}, \"type\": \"line\", \"x0\": \"2007-01-01T00:00:00\", \"x1\": \"2008-01-01T00:00:00\", \"y0\": 191200.0, \"y1\": 191200.0}, {\"line\": {\"color\": \"blue\", \"dash\": \"dot\", \"width\": 3}, \"type\": \"line\", \"x0\": \"2007-01-01T00:00:00\", \"x1\": \"2008-01-01T00:00:00\", \"y0\": 208500.0, \"y1\": 208500.0}, {\"line\": {\"color\": \"purple\", \"dash\": \"dot\", \"width\": 3}, \"type\": \"line\", \"x0\": \"2008-01-01T00:00:00\", \"x1\": \"2009-01-01T00:00:00\", \"y0\": 192850.0, \"y1\": 192850.0}, {\"line\": {\"color\": \"purple\", \"dash\": \"dot\", \"width\": 3}, \"type\": \"line\", \"x0\": \"2008-01-01T00:00:00\", \"x1\": \"2009-01-01T00:00:00\", \"y0\": 173550.0, \"y1\": 173550.0}, {\"line\": {\"color\": \"green\", \"dash\": \"dot\", \"width\": 3}, \"type\": \"line\", \"x0\": \"2008-01-01T00:00:00\", \"x1\": \"2009-01-01T00:00:00\", \"y0\": 192250.0, \"y1\": 192250.0}, {\"line\": {\"color\": \"green\", \"dash\": \"dot\", \"width\": 3}, \"type\": \"line\", \"x0\": \"2008-01-01T00:00:00\", \"x1\": \"2009-01-01T00:00:00\", \"y0\": 175750.0, \"y1\": 175750.0}, {\"line\": {\"color\": \"yellow\", \"width\": 3}, \"type\": \"line\", \"x0\": \"2008-01-01T00:00:00\", \"x1\": \"2009-01-01T00:00:00\", \"y0\": 190750.0, \"y1\": 190750.0}, {\"line\": {\"color\": \"yellow\", \"width\": 3}, \"type\": \"line\", \"x0\": \"2008-01-01T00:00:00\", \"x1\": \"2009-01-01T00:00:00\", \"y0\": 181250.0, \"y1\": 181250.0}, {\"line\": {\"color\": \"blue\", \"dash\": \"dot\", \"width\": 3}, \"type\": \"line\", \"x0\": \"2008-01-01T00:00:00\", \"x1\": \"2009-01-01T00:00:00\", \"y0\": 187750.0, \"y1\": 187750.0}, {\"line\": {\"color\": \"purple\", \"dash\": \"dot\", \"width\": 3}, \"type\": \"line\", \"x0\": \"2009-01-01T00:00:00\", \"x1\": \"2010-01-01T00:00:00\", \"y0\": 224400.0, \"y1\": 224400.0}, {\"line\": {\"color\": \"purple\", \"dash\": \"dot\", \"width\": 3}, \"type\": \"line\", \"x0\": \"2009-01-01T00:00:00\", \"x1\": \"2010-01-01T00:00:00\", \"y0\": 178752.0, \"y1\": 178752.0}, {\"line\": {\"color\": \"green\", \"dash\": \"dot\", \"width\": 3}, \"type\": \"line\", \"x0\": \"2009-01-01T00:00:00\", \"x1\": \"2010-01-01T00:00:00\", \"y0\": 224000.0, \"y1\": 224000.0}, {\"line\": {\"color\": \"green\", \"dash\": \"dot\", \"width\": 3}, \"type\": \"line\", \"x0\": \"2009-01-01T00:00:00\", \"x1\": \"2010-01-01T00:00:00\", \"y0\": 180960.0, \"y1\": 180960.0}, {\"line\": {\"color\": \"yellow\", \"width\": 3}, \"type\": \"line\", \"x0\": \"2009-01-01T00:00:00\", \"x1\": \"2010-01-01T00:00:00\", \"y0\": 223000.0, \"y1\": 223000.0}, {\"line\": {\"color\": \"yellow\", \"width\": 3}, \"type\": \"line\", \"x0\": \"2009-01-01T00:00:00\", \"x1\": \"2010-01-01T00:00:00\", \"y0\": 186480.0, \"y1\": 186480.0}, {\"line\": {\"color\": \"blue\", \"dash\": \"dot\", \"width\": 3}, \"type\": \"line\", \"x0\": \"2009-01-01T00:00:00\", \"x1\": \"2010-01-01T00:00:00\", \"y0\": 199000.0, \"y1\": 199000.0}, {\"line\": {\"color\": \"purple\", \"dash\": \"dot\", \"width\": 3}, \"type\": \"line\", \"x0\": \"2010-01-01T00:00:00\", \"x1\": \"2011-01-01T00:00:00\", \"y0\": 198450.0, \"y1\": 198450.0}, {\"line\": {\"color\": \"purple\", \"dash\": \"dot\", \"width\": 3}, \"type\": \"line\", \"x0\": \"2010-01-01T00:00:00\", \"x1\": \"2011-01-01T00:00:00\", \"y0\": 172650.0, \"y1\": 172650.0}, {\"line\": {\"color\": \"green\", \"dash\": \"dot\", \"width\": 3}, \"type\": \"line\", \"x0\": \"2010-01-01T00:00:00\", \"x1\": \"2011-01-01T00:00:00\", \"y0\": 196250.0, \"y1\": 196250.0}, {\"line\": {\"color\": \"green\", \"dash\": \"dot\", \"width\": 3}, \"type\": \"line\", \"x0\": \"2010-01-01T00:00:00\", \"x1\": \"2011-01-01T00:00:00\", \"y0\": 175250.0, \"y1\": 175250.0}, {\"line\": {\"color\": \"yellow\", \"width\": 3}, \"type\": \"line\", \"x0\": \"2010-01-01T00:00:00\", \"x1\": \"2011-01-01T00:00:00\", \"y0\": 190750.0, \"y1\": 190750.0}, {\"line\": {\"color\": \"yellow\", \"width\": 3}, \"type\": \"line\", \"x0\": \"2010-01-01T00:00:00\", \"x1\": \"2011-01-01T00:00:00\", \"y0\": 181750.0, \"y1\": 181750.0}, {\"line\": {\"color\": \"blue\", \"dash\": \"dot\", \"width\": 3}, \"type\": \"line\", \"x0\": \"2010-01-01T00:00:00\", \"x1\": \"2011-01-01T00:00:00\", \"y0\": 186250.0, \"y1\": 186250.0}, {\"line\": {\"color\": \"purple\", \"dash\": \"dot\", \"width\": 3}, \"type\": \"line\", \"x0\": \"2011-01-01T00:00:00\", \"x1\": \"2012-01-01T00:00:00\", \"y0\": 250220.0, \"y1\": 250220.0}, {\"line\": {\"color\": \"purple\", \"dash\": \"dot\", \"width\": 3}, \"type\": \"line\", \"x0\": \"2011-01-01T00:00:00\", \"x1\": \"2012-01-01T00:00:00\", \"y0\": 185480.0, \"y1\": 185480.0}, {\"line\": {\"color\": \"green\", \"dash\": \"dot\", \"width\": 3}, \"type\": \"line\", \"x0\": \"2011-01-01T00:00:00\", \"x1\": \"2012-01-01T00:00:00\", \"y0\": 245100.0, \"y1\": 245100.0}, {\"line\": {\"color\": \"green\", \"dash\": \"dot\", \"width\": 3}, \"type\": \"line\", \"x0\": \"2011-01-01T00:00:00\", \"x1\": \"2012-01-01T00:00:00\", \"y0\": 187400.0, \"y1\": 187400.0}, {\"line\": {\"color\": \"yellow\", \"width\": 3}, \"type\": \"line\", \"x0\": \"2011-01-01T00:00:00\", \"x1\": \"2012-01-01T00:00:00\", \"y0\": 231600.0, \"y1\": 231600.0}, {\"line\": {\"color\": \"yellow\", \"width\": 3}, \"type\": \"line\", \"x0\": \"2011-01-01T00:00:00\", \"x1\": \"2012-01-01T00:00:00\", \"y0\": 193500.0, \"y1\": 193500.0}, {\"line\": {\"color\": \"blue\", \"dash\": \"dot\", \"width\": 3}, \"type\": \"line\", \"x0\": \"2011-01-01T00:00:00\", \"x1\": \"2012-01-01T00:00:00\", \"y0\": 205000.0, \"y1\": 205000.0}, {\"line\": {\"color\": \"purple\", \"dash\": \"dot\", \"width\": 3}, \"type\": \"line\", \"x0\": \"2012-01-01T00:00:00\", \"x1\": \"2013-01-01T00:00:00\", \"y0\": 249130.0, \"y1\": 249130.0}, {\"line\": {\"color\": \"purple\", \"dash\": \"dot\", \"width\": 3}, \"type\": \"line\", \"x0\": \"2012-01-01T00:00:00\", \"x1\": \"2013-01-01T00:00:00\", \"y0\": 173030.0, \"y1\": 173030.0}, {\"line\": {\"color\": \"green\", \"dash\": \"dot\", \"width\": 3}, \"type\": \"line\", \"x0\": \"2012-01-01T00:00:00\", \"x1\": \"2013-01-01T00:00:00\", \"y0\": 245650.0, \"y1\": 245650.0}, {\"line\": {\"color\": \"green\", \"dash\": \"dot\", \"width\": 3}, \"type\": \"line\", \"x0\": \"2012-01-01T00:00:00\", \"x1\": \"2013-01-01T00:00:00\", \"y0\": 173150.0, \"y1\": 173150.0}, {\"line\": {\"color\": \"yellow\", \"width\": 3}, \"type\": \"line\", \"x0\": \"2012-01-01T00:00:00\", \"x1\": \"2013-01-01T00:00:00\", \"y0\": 236950.0, \"y1\": 236950.0}, {\"line\": {\"color\": \"yellow\", \"width\": 3}, \"type\": \"line\", \"x0\": \"2012-01-01T00:00:00\", \"x1\": \"2013-01-01T00:00:00\", \"y0\": 173450.0, \"y1\": 173450.0}, {\"line\": {\"color\": \"blue\", \"dash\": \"dot\", \"width\": 3}, \"type\": \"line\", \"x0\": \"2012-01-01T00:00:00\", \"x1\": \"2013-01-01T00:00:00\", \"y0\": 197500.0, \"y1\": 197500.0}, {\"line\": {\"color\": \"purple\", \"dash\": \"dot\", \"width\": 3}, \"type\": \"line\", \"x0\": \"2013-01-01T00:00:00\", \"x1\": \"2014-01-01T00:00:00\", \"y0\": 281955.0, \"y1\": 281955.0}, {\"line\": {\"color\": \"purple\", \"dash\": \"dot\", \"width\": 3}, \"type\": \"line\", \"x0\": \"2013-01-01T00:00:00\", \"x1\": \"2014-01-01T00:00:00\", \"y0\": 181050.0, \"y1\": 181050.0}, {\"line\": {\"color\": \"green\", \"dash\": \"dot\", \"width\": 3}, \"type\": \"line\", \"x0\": \"2013-01-01T00:00:00\", \"x1\": \"2014-01-01T00:00:00\", \"y0\": 269775.0, \"y1\": 269775.0}, {\"line\": {\"color\": \"green\", \"dash\": \"dot\", \"width\": 3}, \"type\": \"line\", \"x0\": \"2013-01-01T00:00:00\", \"x1\": \"2014-01-01T00:00:00\", \"y0\": 185250.0, \"y1\": 185250.0}, {\"line\": {\"color\": \"yellow\", \"width\": 3}, \"type\": \"line\", \"x0\": \"2013-01-01T00:00:00\", \"x1\": \"2014-01-01T00:00:00\", \"y0\": 240137.5, \"y1\": 240137.5}, {\"line\": {\"color\": \"yellow\", \"width\": 3}, \"type\": \"line\", \"x0\": \"2013-01-01T00:00:00\", \"x1\": \"2014-01-01T00:00:00\", \"y0\": 195000.0, \"y1\": 195000.0}, {\"line\": {\"color\": \"blue\", \"dash\": \"dot\", \"width\": 3}, \"type\": \"line\", \"x0\": \"2013-01-01T00:00:00\", \"x1\": \"2014-01-01T00:00:00\", \"y0\": 204250.0, \"y1\": 204250.0}, {\"line\": {\"color\": \"purple\", \"dash\": \"dot\", \"width\": 3}, \"type\": \"line\", \"x0\": \"2014-01-01T00:00:00\", \"x1\": \"2015-01-01T00:00:00\", \"y0\": 229950.45, \"y1\": 229950.45}, {\"line\": {\"color\": \"purple\", \"dash\": \"dot\", \"width\": 3}, \"type\": \"line\", \"x0\": \"2014-01-01T00:00:00\", \"x1\": \"2015-01-01T00:00:00\", \"y0\": 185449.775, \"y1\": 185449.775}, {\"line\": {\"color\": \"green\", \"dash\": \"dot\", \"width\": 3}, \"type\": \"line\", \"x0\": \"2014-01-01T00:00:00\", \"x1\": \"2015-01-01T00:00:00\", \"y0\": 229772.25, \"y1\": 229772.25}, {\"line\": {\"color\": \"green\", \"dash\": \"dot\", \"width\": 3}, \"type\": \"line\", \"x0\": \"2014-01-01T00:00:00\", \"x1\": \"2015-01-01T00:00:00\", \"y0\": 187248.875, \"y1\": 187248.875}, {\"line\": {\"color\": \"yellow\", \"width\": 3}, \"type\": \"line\", \"x0\": \"2014-01-01T00:00:00\", \"x1\": \"2015-01-01T00:00:00\", \"y0\": 221975.0, \"y1\": 221975.0}, {\"line\": {\"color\": \"yellow\", \"width\": 3}, \"type\": \"line\", \"x0\": \"2014-01-01T00:00:00\", \"x1\": \"2015-01-01T00:00:00\", \"y0\": 190873.375, \"y1\": 190873.375}, {\"line\": {\"color\": \"blue\", \"dash\": \"dot\", \"width\": 3}, \"type\": \"line\", \"x0\": \"2014-01-01T00:00:00\", \"x1\": \"2015-01-01T00:00:00\", \"y0\": 202237.5, \"y1\": 202237.5}, {\"line\": {\"color\": \"purple\", \"dash\": \"dot\", \"width\": 3}, \"type\": \"line\", \"x0\": \"2015-01-01T00:00:00\", \"x1\": \"2016-01-01T00:00:00\", \"y0\": 329730.0, \"y1\": 329730.0}, {\"line\": {\"color\": \"purple\", \"dash\": \"dot\", \"width\": 3}, \"type\": \"line\", \"x0\": \"2015-01-01T00:00:00\", \"x1\": \"2016-01-01T00:00:00\", \"y0\": 186347.75, \"y1\": 186347.75}, {\"line\": {\"color\": \"green\", \"dash\": \"dot\", \"width\": 3}, \"type\": \"line\", \"x0\": \"2015-01-01T00:00:00\", \"x1\": \"2016-01-01T00:00:00\", \"y0\": 328650.0, \"y1\": 328650.0}, {\"line\": {\"color\": \"green\", \"dash\": \"dot\", \"width\": 3}, \"type\": \"line\", \"x0\": \"2015-01-01T00:00:00\", \"x1\": \"2016-01-01T00:00:00\", \"y0\": 191738.75, \"y1\": 191738.75}, {\"line\": {\"color\": \"yellow\", \"width\": 3}, \"type\": \"line\", \"x0\": \"2015-01-01T00:00:00\", \"x1\": \"2016-01-01T00:00:00\", \"y0\": 312300.0, \"y1\": 312300.0}, {\"line\": {\"color\": \"yellow\", \"width\": 3}, \"type\": \"line\", \"x0\": \"2015-01-01T00:00:00\", \"x1\": \"2016-01-01T00:00:00\", \"y0\": 201733.75, \"y1\": 201733.75}, {\"line\": {\"color\": \"blue\", \"dash\": \"dot\", \"width\": 3}, \"type\": \"line\", \"x0\": \"2015-01-01T00:00:00\", \"x1\": \"2016-01-01T00:00:00\", \"y0\": 229375.0, \"y1\": 229375.0}, {\"line\": {\"color\": \"purple\", \"dash\": \"dot\", \"width\": 3}, \"type\": \"line\", \"x0\": \"2016-01-01T00:00:00\", \"x1\": \"2017-01-01T00:00:00\", \"y0\": 283395.5, \"y1\": 283395.5}, {\"line\": {\"color\": \"purple\", \"dash\": \"dot\", \"width\": 3}, \"type\": \"line\", \"x0\": \"2016-01-01T00:00:00\", \"x1\": \"2017-01-01T00:00:00\", \"y0\": 233050.0, \"y1\": 233050.0}, {\"line\": {\"color\": \"green\", \"dash\": \"dot\", \"width\": 3}, \"type\": \"line\", \"x0\": \"2016-01-01T00:00:00\", \"x1\": \"2017-01-01T00:00:00\", \"y0\": 276997.5, \"y1\": 276997.5}, {\"line\": {\"color\": \"green\", \"dash\": \"dot\", \"width\": 3}, \"type\": \"line\", \"x0\": \"2016-01-01T00:00:00\", \"x1\": \"2017-01-01T00:00:00\", \"y0\": 233250.0, \"y1\": 233250.0}, {\"line\": {\"color\": \"yellow\", \"width\": 3}, \"type\": \"line\", \"x0\": \"2016-01-01T00:00:00\", \"x1\": \"2017-01-01T00:00:00\", \"y0\": 259125.0, \"y1\": 259125.0}, {\"line\": {\"color\": \"yellow\", \"width\": 3}, \"type\": \"line\", \"x0\": \"2016-01-01T00:00:00\", \"x1\": \"2017-01-01T00:00:00\", \"y0\": 233748.75, \"y1\": 233748.75}, {\"line\": {\"color\": \"blue\", \"dash\": \"dot\", \"width\": 3}, \"type\": \"line\", \"x0\": \"2016-01-01T00:00:00\", \"x1\": \"2017-01-01T00:00:00\", \"y0\": 245000.0, \"y1\": 245000.0}, {\"line\": {\"color\": \"purple\", \"dash\": \"dot\", \"width\": 3}, \"type\": \"line\", \"x0\": \"2017-01-01T00:00:00\", \"x1\": \"2018-01-01T00:00:00\", \"y0\": 255450.0, \"y1\": 255450.0}, {\"line\": {\"color\": \"purple\", \"dash\": \"dot\", \"width\": 3}, \"type\": \"line\", \"x0\": \"2017-01-01T00:00:00\", \"x1\": \"2018-01-01T00:00:00\", \"y0\": 243100.0, \"y1\": 243100.0}, {\"line\": {\"color\": \"green\", \"dash\": \"dot\", \"width\": 3}, \"type\": \"line\", \"x0\": \"2017-01-01T00:00:00\", \"x1\": \"2018-01-01T00:00:00\", \"y0\": 255250.0, \"y1\": 255250.0}, {\"line\": {\"color\": \"green\", \"dash\": \"dot\", \"width\": 3}, \"type\": \"line\", \"x0\": \"2017-01-01T00:00:00\", \"x1\": \"2018-01-01T00:00:00\", \"y0\": 243500.0, \"y1\": 243500.0}, {\"line\": {\"color\": \"yellow\", \"width\": 3}, \"type\": \"line\", \"x0\": \"2017-01-01T00:00:00\", \"x1\": \"2018-01-01T00:00:00\", \"y0\": 253750.0, \"y1\": 253750.0}, {\"line\": {\"color\": \"yellow\", \"width\": 3}, \"type\": \"line\", \"x0\": \"2017-01-01T00:00:00\", \"x1\": \"2018-01-01T00:00:00\", \"y0\": 244500.0, \"y1\": 244500.0}, {\"line\": {\"color\": \"blue\", \"dash\": \"dot\", \"width\": 3}, \"type\": \"line\", \"x0\": \"2017-01-01T00:00:00\", \"x1\": \"2018-01-01T00:00:00\", \"y0\": 248725.0, \"y1\": 248725.0}, {\"line\": {\"color\": \"purple\", \"dash\": \"dot\", \"width\": 3}, \"type\": \"line\", \"x0\": \"2018-01-01T00:00:00\", \"x1\": \"2019-01-01T00:00:00\", \"y0\": 296200.0, \"y1\": 296200.0}, {\"line\": {\"color\": \"purple\", \"dash\": \"dot\", \"width\": 3}, \"type\": \"line\", \"x0\": \"2018-01-01T00:00:00\", \"x1\": \"2019-01-01T00:00:00\", \"y0\": 240875.0, \"y1\": 240875.0}, {\"line\": {\"color\": \"green\", \"dash\": \"dot\", \"width\": 3}, \"type\": \"line\", \"x0\": \"2018-01-01T00:00:00\", \"x1\": \"2019-01-01T00:00:00\", \"y0\": 293000.0, \"y1\": 293000.0}, {\"line\": {\"color\": \"green\", \"dash\": \"dot\", \"width\": 3}, \"type\": \"line\", \"x0\": \"2018-01-01T00:00:00\", \"x1\": \"2019-01-01T00:00:00\", \"y0\": 244375.0, \"y1\": 244375.0}, {\"line\": {\"color\": \"yellow\", \"width\": 3}, \"type\": \"line\", \"x0\": \"2018-01-01T00:00:00\", \"x1\": \"2019-01-01T00:00:00\", \"y0\": 285000.0, \"y1\": 285000.0}, {\"line\": {\"color\": \"yellow\", \"width\": 3}, \"type\": \"line\", \"x0\": \"2018-01-01T00:00:00\", \"x1\": \"2019-01-01T00:00:00\", \"y0\": 249375.0, \"y1\": 249375.0}, {\"line\": {\"color\": \"blue\", \"dash\": \"dot\", \"width\": 3}, \"type\": \"line\", \"x0\": \"2018-01-01T00:00:00\", \"x1\": \"2019-01-01T00:00:00\", \"y0\": 256250.0, \"y1\": 256250.0}, {\"line\": {\"color\": \"purple\", \"dash\": \"dot\", \"width\": 3}, \"type\": \"line\", \"x0\": \"2019-01-01T00:00:00\", \"x1\": \"2020-01-01T00:00:00\", \"y0\": 270000.0, \"y1\": 270000.0}, {\"line\": {\"color\": \"purple\", \"dash\": \"dot\", \"width\": 3}, \"type\": \"line\", \"x0\": \"2019-01-01T00:00:00\", \"x1\": \"2020-01-01T00:00:00\", \"y0\": 238647.5, \"y1\": 238647.5}, {\"line\": {\"color\": \"green\", \"dash\": \"dot\", \"width\": 3}, \"type\": \"line\", \"x0\": \"2019-01-01T00:00:00\", \"x1\": \"2020-01-01T00:00:00\", \"y0\": 270000.0, \"y1\": 270000.0}, {\"line\": {\"color\": \"green\", \"dash\": \"dot\", \"width\": 3}, \"type\": \"line\", \"x0\": \"2019-01-01T00:00:00\", \"x1\": \"2020-01-01T00:00:00\", \"y0\": 239237.5, \"y1\": 239237.5}, {\"line\": {\"color\": \"yellow\", \"width\": 3}, \"type\": \"line\", \"x0\": \"2019-01-01T00:00:00\", \"x1\": \"2020-01-01T00:00:00\", \"y0\": 265000.0, \"y1\": 265000.0}, {\"line\": {\"color\": \"yellow\", \"width\": 3}, \"type\": \"line\", \"x0\": \"2019-01-01T00:00:00\", \"x1\": \"2020-01-01T00:00:00\", \"y0\": 243487.5, \"y1\": 243487.5}, {\"line\": {\"color\": \"blue\", \"dash\": \"dot\", \"width\": 3}, \"type\": \"line\", \"x0\": \"2019-01-01T00:00:00\", \"x1\": \"2020-01-01T00:00:00\", \"y0\": 255000.0, \"y1\": 255000.0}], \"template\": {\"data\": {\"bar\": [{\"error_x\": {\"color\": \"#2a3f5f\"}, \"error_y\": {\"color\": \"#2a3f5f\"}, \"marker\": {\"line\": {\"color\": \"#E5ECF6\", \"width\": 0.5}}, \"type\": \"bar\"}], \"barpolar\": [{\"marker\": {\"line\": {\"color\": \"#E5ECF6\", \"width\": 0.5}}, \"type\": \"barpolar\"}], \"carpet\": [{\"aaxis\": {\"endlinecolor\": \"#2a3f5f\", \"gridcolor\": \"white\", \"linecolor\": \"white\", \"minorgridcolor\": \"white\", \"startlinecolor\": \"#2a3f5f\"}, \"baxis\": {\"endlinecolor\": \"#2a3f5f\", \"gridcolor\": \"white\", \"linecolor\": \"white\", \"minorgridcolor\": \"white\", \"startlinecolor\": \"#2a3f5f\"}, \"type\": \"carpet\"}], \"choropleth\": [{\"colorbar\": {\"outlinewidth\": 0, \"ticks\": \"\"}, \"type\": \"choropleth\"}], \"contour\": [{\"colorbar\": {\"outlinewidth\": 0, \"ticks\": \"\"}, \"colorscale\": [[0.0, \"#0d0887\"], [0.1111111111111111, \"#46039f\"], [0.2222222222222222, \"#7201a8\"], [0.3333333333333333, \"#9c179e\"], [0.4444444444444444, \"#bd3786\"], [0.5555555555555556, \"#d8576b\"], [0.6666666666666666, \"#ed7953\"], [0.7777777777777778, \"#fb9f3a\"], [0.8888888888888888, \"#fdca26\"], [1.0, \"#f0f921\"]], \"type\": \"contour\"}], \"contourcarpet\": [{\"colorbar\": {\"outlinewidth\": 0, \"ticks\": \"\"}, \"type\": \"contourcarpet\"}], \"heatmap\": [{\"colorbar\": {\"outlinewidth\": 0, \"ticks\": \"\"}, \"colorscale\": [[0.0, \"#0d0887\"], [0.1111111111111111, \"#46039f\"], [0.2222222222222222, \"#7201a8\"], [0.3333333333333333, \"#9c179e\"], [0.4444444444444444, \"#bd3786\"], [0.5555555555555556, \"#d8576b\"], [0.6666666666666666, \"#ed7953\"], [0.7777777777777778, \"#fb9f3a\"], [0.8888888888888888, \"#fdca26\"], [1.0, \"#f0f921\"]], \"type\": \"heatmap\"}], \"heatmapgl\": [{\"colorbar\": {\"outlinewidth\": 0, \"ticks\": \"\"}, \"colorscale\": [[0.0, \"#0d0887\"], [0.1111111111111111, \"#46039f\"], [0.2222222222222222, \"#7201a8\"], [0.3333333333333333, \"#9c179e\"], [0.4444444444444444, \"#bd3786\"], [0.5555555555555556, \"#d8576b\"], [0.6666666666666666, \"#ed7953\"], [0.7777777777777778, \"#fb9f3a\"], [0.8888888888888888, \"#fdca26\"], [1.0, \"#f0f921\"]], \"type\": \"heatmapgl\"}], \"histogram\": [{\"marker\": {\"colorbar\": {\"outlinewidth\": 0, \"ticks\": \"\"}}, \"type\": \"histogram\"}], \"histogram2d\": [{\"colorbar\": {\"outlinewidth\": 0, \"ticks\": \"\"}, \"colorscale\": [[0.0, \"#0d0887\"], [0.1111111111111111, \"#46039f\"], [0.2222222222222222, \"#7201a8\"], [0.3333333333333333, \"#9c179e\"], [0.4444444444444444, \"#bd3786\"], [0.5555555555555556, \"#d8576b\"], [0.6666666666666666, \"#ed7953\"], [0.7777777777777778, \"#fb9f3a\"], [0.8888888888888888, \"#fdca26\"], [1.0, \"#f0f921\"]], \"type\": \"histogram2d\"}], \"histogram2dcontour\": [{\"colorbar\": {\"outlinewidth\": 0, \"ticks\": \"\"}, \"colorscale\": [[0.0, \"#0d0887\"], [0.1111111111111111, \"#46039f\"], [0.2222222222222222, \"#7201a8\"], [0.3333333333333333, \"#9c179e\"], [0.4444444444444444, \"#bd3786\"], [0.5555555555555556, \"#d8576b\"], [0.6666666666666666, \"#ed7953\"], [0.7777777777777778, \"#fb9f3a\"], [0.8888888888888888, \"#fdca26\"], [1.0, \"#f0f921\"]], \"type\": \"histogram2dcontour\"}], \"mesh3d\": [{\"colorbar\": {\"outlinewidth\": 0, \"ticks\": \"\"}, \"type\": \"mesh3d\"}], \"parcoords\": [{\"line\": {\"colorbar\": {\"outlinewidth\": 0, \"ticks\": \"\"}}, \"type\": \"parcoords\"}], \"pie\": [{\"automargin\": true, \"type\": \"pie\"}], \"scatter\": [{\"marker\": {\"colorbar\": {\"outlinewidth\": 0, \"ticks\": \"\"}}, \"type\": \"scatter\"}], \"scatter3d\": [{\"line\": {\"colorbar\": {\"outlinewidth\": 0, \"ticks\": \"\"}}, \"marker\": {\"colorbar\": {\"outlinewidth\": 0, \"ticks\": \"\"}}, \"type\": \"scatter3d\"}], \"scattercarpet\": [{\"marker\": {\"colorbar\": {\"outlinewidth\": 0, \"ticks\": \"\"}}, \"type\": \"scattercarpet\"}], \"scattergeo\": [{\"marker\": {\"colorbar\": {\"outlinewidth\": 0, \"ticks\": \"\"}}, \"type\": \"scattergeo\"}], \"scattergl\": [{\"marker\": {\"colorbar\": {\"outlinewidth\": 0, \"ticks\": \"\"}}, \"type\": \"scattergl\"}], \"scattermapbox\": [{\"marker\": {\"colorbar\": {\"outlinewidth\": 0, \"ticks\": \"\"}}, \"type\": \"scattermapbox\"}], \"scatterpolar\": [{\"marker\": {\"colorbar\": {\"outlinewidth\": 0, \"ticks\": \"\"}}, \"type\": \"scatterpolar\"}], \"scatterpolargl\": [{\"marker\": {\"colorbar\": {\"outlinewidth\": 0, \"ticks\": \"\"}}, \"type\": \"scatterpolargl\"}], \"scatterternary\": [{\"marker\": {\"colorbar\": {\"outlinewidth\": 0, \"ticks\": \"\"}}, \"type\": \"scatterternary\"}], \"surface\": [{\"colorbar\": {\"outlinewidth\": 0, \"ticks\": \"\"}, \"colorscale\": [[0.0, \"#0d0887\"], [0.1111111111111111, \"#46039f\"], [0.2222222222222222, \"#7201a8\"], [0.3333333333333333, \"#9c179e\"], [0.4444444444444444, \"#bd3786\"], [0.5555555555555556, \"#d8576b\"], [0.6666666666666666, \"#ed7953\"], [0.7777777777777778, \"#fb9f3a\"], [0.8888888888888888, \"#fdca26\"], [1.0, \"#f0f921\"]], \"type\": \"surface\"}], \"table\": [{\"cells\": {\"fill\": {\"color\": \"#EBF0F8\"}, \"line\": {\"color\": \"white\"}}, \"header\": {\"fill\": {\"color\": \"#C8D4E3\"}, \"line\": {\"color\": \"white\"}}, \"type\": \"table\"}]}, \"layout\": {\"annotationdefaults\": {\"arrowcolor\": \"#2a3f5f\", \"arrowhead\": 0, \"arrowwidth\": 1}, \"coloraxis\": {\"colorbar\": {\"outlinewidth\": 0, \"ticks\": \"\"}}, \"colorscale\": {\"diverging\": [[0, \"#8e0152\"], [0.1, \"#c51b7d\"], [0.2, \"#de77ae\"], [0.3, \"#f1b6da\"], [0.4, \"#fde0ef\"], [0.5, \"#f7f7f7\"], [0.6, \"#e6f5d0\"], [0.7, \"#b8e186\"], [0.8, \"#7fbc41\"], [0.9, \"#4d9221\"], [1, \"#276419\"]], \"sequential\": [[0.0, \"#0d0887\"], [0.1111111111111111, \"#46039f\"], [0.2222222222222222, \"#7201a8\"], [0.3333333333333333, \"#9c179e\"], [0.4444444444444444, \"#bd3786\"], [0.5555555555555556, \"#d8576b\"], [0.6666666666666666, \"#ed7953\"], [0.7777777777777778, \"#fb9f3a\"], [0.8888888888888888, \"#fdca26\"], [1.0, \"#f0f921\"]], \"sequentialminus\": [[0.0, \"#0d0887\"], [0.1111111111111111, \"#46039f\"], [0.2222222222222222, \"#7201a8\"], [0.3333333333333333, \"#9c179e\"], [0.4444444444444444, \"#bd3786\"], [0.5555555555555556, \"#d8576b\"], [0.6666666666666666, \"#ed7953\"], [0.7777777777777778, \"#fb9f3a\"], [0.8888888888888888, \"#fdca26\"], [1.0, \"#f0f921\"]]}, \"colorway\": [\"#636efa\", \"#EF553B\", \"#00cc96\", \"#ab63fa\", \"#FFA15A\", \"#19d3f3\", \"#FF6692\", \"#B6E880\", \"#FF97FF\", \"#FECB52\"], \"font\": {\"color\": \"#2a3f5f\"}, \"geo\": {\"bgcolor\": \"white\", \"lakecolor\": \"white\", \"landcolor\": \"#E5ECF6\", \"showlakes\": true, \"showland\": true, \"subunitcolor\": \"white\"}, \"hoverlabel\": {\"align\": \"left\"}, \"hovermode\": \"closest\", \"mapbox\": {\"style\": \"light\"}, \"paper_bgcolor\": \"white\", \"plot_bgcolor\": \"#E5ECF6\", \"polar\": {\"angularaxis\": {\"gridcolor\": \"white\", \"linecolor\": \"white\", \"ticks\": \"\"}, \"bgcolor\": \"#E5ECF6\", \"radialaxis\": {\"gridcolor\": \"white\", \"linecolor\": \"white\", \"ticks\": \"\"}}, \"scene\": {\"xaxis\": {\"backgroundcolor\": \"#E5ECF6\", \"gridcolor\": \"white\", \"gridwidth\": 2, \"linecolor\": \"white\", \"showbackground\": true, \"ticks\": \"\", \"zerolinecolor\": \"white\"}, \"yaxis\": {\"backgroundcolor\": \"#E5ECF6\", \"gridcolor\": \"white\", \"gridwidth\": 2, \"linecolor\": \"white\", \"showbackground\": true, \"ticks\": \"\", \"zerolinecolor\": \"white\"}, \"zaxis\": {\"backgroundcolor\": \"#E5ECF6\", \"gridcolor\": \"white\", \"gridwidth\": 2, \"linecolor\": \"white\", \"showbackground\": true, \"ticks\": \"\", \"zerolinecolor\": \"white\"}}, \"shapedefaults\": {\"line\": {\"color\": \"#2a3f5f\"}}, \"ternary\": {\"aaxis\": {\"gridcolor\": \"white\", \"linecolor\": \"white\", \"ticks\": \"\"}, \"baxis\": {\"gridcolor\": \"white\", \"linecolor\": \"white\", \"ticks\": \"\"}, \"bgcolor\": \"#E5ECF6\", \"caxis\": {\"gridcolor\": \"white\", \"linecolor\": \"white\", \"ticks\": \"\"}}, \"title\": {\"x\": 0.05}, \"xaxis\": {\"automargin\": true, \"gridcolor\": \"white\", \"linecolor\": \"white\", \"ticks\": \"\", \"title\": {\"standoff\": 15}, \"zerolinecolor\": \"white\", \"zerolinewidth\": 2}, \"yaxis\": {\"automargin\": true, \"gridcolor\": \"white\", \"linecolor\": \"white\", \"ticks\": \"\", \"title\": {\"standoff\": 15}, \"zerolinecolor\": \"white\", \"zerolinewidth\": 2}}}, \"title\": {\"text\": \"Median House Price Each Month\"}, \"xaxis\": {\"nticks\": 20}},                        {\"responsive\": true}                    ).then(function(){\n",
       "                            \n",
       "var gd = document.getElementById('15e17a9e-9724-4ac8-8ce5-fc18d09d9c46');\n",
       "var x = new MutationObserver(function (mutations, observer) {{\n",
       "        var display = window.getComputedStyle(gd).display;\n",
       "        if (!display || display === 'none') {{\n",
       "            console.log([gd, 'removed!']);\n",
       "            Plotly.purge(gd);\n",
       "            observer.disconnect();\n",
       "        }}\n",
       "}});\n",
       "\n",
       "// Listen for the removal of the full notebook cells\n",
       "var notebookContainer = gd.closest('#notebook-container');\n",
       "if (notebookContainer) {{\n",
       "    x.observe(notebookContainer, {childList: true});\n",
       "}}\n",
       "\n",
       "// Listen for the clearing of the current output cell\n",
       "var outputEl = gd.closest('.output');\n",
       "if (outputEl) {{\n",
       "    x.observe(outputEl, {childList: true});\n",
       "}}\n",
       "\n",
       "                        })                };                });            </script>        </div>"
      ]
     },
     "metadata": {},
     "output_type": "display_data"
    }
   ],
   "source": [
    "fig = go.Figure()\n",
    "\n",
    "fig = fig.add_trace(go.Scatter(x=data['year_month_sold'], y=data['price'], mode='markers', name='Median Price', opacity=0.4))\n",
    "fig = fig.add_trace(go.Scatter(x=data['year_month_sold'], y=data['rolling_avg'], mode='lines', name='Rolling Average', opacity=0.4))\n",
    "# fig = fig.add_trace(go.Scatter(x=data_slice['year_month_sold'], y=data_slice['rolling_avg'], mode='lines', name='Rolling Average - Slice'))\n",
    "\n",
    "\n",
    "date_range = pd.date_range(start=data['year_month_sold'].min(), end=data['year_month_sold'].max(), freq='YS')\n",
    "for i in range(len(date_range) - 1):\n",
    "    \n",
    "    df_date_slice = data.loc[(data['year_month_sold'] > date_range[i]) &\n",
    "                             (data['year_month_sold'] < date_range[i + 1])]\n",
    "\n",
    "    quart_99 = df_date_slice['price'].quantile(0.99)\n",
    "    quart_01 = df_date_slice['price'].quantile(0.01)\n",
    "    \n",
    "    quart_05 = df_date_slice['price'].quantile(0.05)\n",
    "    quart_95= df_date_slice['price'].quantile(0.95)\n",
    "    \n",
    "    quart_85 = df_date_slice['price'].quantile(0.85)\n",
    "    quart_15 = df_date_slice['price'].quantile(0.15)\n",
    "    \n",
    "    median = df_date_slice['price'].median()\n",
    "    \n",
    "    \n",
    "    #99th percentile & 1st percentile \n",
    "    fig = fig.add_shape(type='line',\n",
    "                 x0=date_range[i],\n",
    "                 y0=quart_99,\n",
    "                 x1=date_range[i + 1],\n",
    "                 y1=quart_99,\n",
    "                       line=dict(color='purple',\n",
    "                                width=3,\n",
    "                                dash='dot'))\n",
    "    fig = fig.add_shape(type='line',\n",
    "             x0=date_range[i],\n",
    "             y0=quart_01,\n",
    "             x1=date_range[i + 1],\n",
    "             y1=quart_01,\n",
    "                        line=dict(color='purple',\n",
    "                        width=3,\n",
    "                        dash='dot'))\n",
    "    \n",
    "        #95th percentile & 5th percentile \n",
    "\n",
    "    fig = fig.add_shape(type='line',\n",
    "     x0=date_range[i],\n",
    "     y0=quart_95,\n",
    "     x1=date_range[i + 1],\n",
    "     y1=quart_95,\n",
    "                line=dict(color='green',\n",
    "                width=3,\n",
    "                dash='dot'))\n",
    "\n",
    "    fig = fig.add_shape(type='line',\n",
    "             x0=date_range[i],\n",
    "             y0=quart_05,\n",
    "             x1=date_range[i + 1],\n",
    "             y1=quart_05,\n",
    "                   line=dict(color='green',\n",
    "                            width=3,\n",
    "                            dash='dot'))\n",
    "\n",
    "        #85th percentile & 15th percentile \n",
    "\n",
    "    fig = fig.add_shape(type='line',\n",
    "     x0=date_range[i],\n",
    "     y0=quart_85,\n",
    "     x1=date_range[i + 1],\n",
    "     y1=quart_85,\n",
    "                line=dict(color='yellow',\n",
    "                width=3))\n",
    "\n",
    "    fig = fig.add_shape(type='line',\n",
    "             x0=date_range[i],\n",
    "             y0=quart_15,\n",
    "             x1=date_range[i + 1],\n",
    "             y1=quart_15,\n",
    "                   line=dict(color='yellow',\n",
    "                            width=3))\n",
    "    \n",
    "    \n",
    "    \n",
    "    \n",
    "    fig = fig.add_shape(type='line',\n",
    "         x0=date_range[i],\n",
    "         y0=median,\n",
    "         x1=date_range[i + 1],\n",
    "         y1=median,\n",
    "                    line=dict(color='blue',\n",
    "                    width=3,\n",
    "                    dash='dot'))\n",
    "\n",
    "    \n",
    "#             # Adding the Upper control line\n",
    "#             fig.add_shape(type='line',\n",
    "#                 x0=date_range[n-1],\n",
    "#                 y0=UCL,\n",
    "#                 x1=date_range[n],\n",
    "#                 y1=UCL,\n",
    "#                 line=dict(\n",
    "#                     color=\"Black\",\n",
    "#                     width=3,\n",
    "#                     dash=\"dot\"))\n",
    "\n",
    "fig = fig.update_layout(title='Median House Price Each Month')\n",
    "fig = fig.update_xaxes(nticks=20)\n",
    "fig.show()"
   ]
  },
  {
   "cell_type": "code",
   "execution_count": null,
   "metadata": {},
   "outputs": [],
   "source": [
    "tsplot(t, y, n=2, percentile_min=2.5, percentile_max=97.5, plot_median=True, plot_mean=False, color='g', line_color='navy')\n"
   ]
  },
  {
   "cell_type": "code",
   "execution_count": 17,
   "metadata": {},
   "outputs": [
    {
     "data": {
      "application/vnd.plotly.v1+json": {
       "config": {
        "plotlyServerURL": "https://plot.ly"
       },
       "data": [
        {
         "mode": "markers",
         "name": "Price",
         "type": "scatter",
         "x": [
          "2004-06-11",
          "2004-06-23",
          "2004-08-27",
          "2004-09-02",
          "2005-10-20",
          "2006-02-10",
          "2006-07-12",
          "2006-07-28",
          "2006-09-01",
          "2006-12-01",
          "2007-01-31",
          "2007-02-02",
          "2007-02-23",
          "2007-03-09",
          "2007-03-23",
          "2007-04-16",
          "2007-07-20",
          "2007-08-16",
          "2007-08-24",
          "2007-08-31",
          "2007-10-12",
          "2007-10-26",
          "2007-11-29",
          "2007-12-14",
          "2008-02-27",
          "2008-03-07",
          "2008-03-20",
          "2008-03-27",
          "2008-04-28",
          "2008-05-02",
          "2008-07-16",
          "2008-07-31",
          "2008-09-19",
          "2009-05-29",
          "2009-06-29",
          "2009-08-05",
          "2009-08-14",
          "2009-08-28",
          "2009-11-04",
          "2009-11-20",
          "2009-11-24",
          "2009-12-04",
          "2009-12-10",
          "2009-12-10",
          "2009-12-11",
          "2009-12-11",
          "2010-03-19",
          "2010-03-25",
          "2010-03-30",
          "2010-04-22",
          "2010-06-25",
          "2010-07-16",
          "2010-07-23",
          "2010-07-30",
          "2010-10-15",
          "2010-12-16",
          "2010-12-21",
          "2010-12-21",
          "2011-01-05",
          "2011-02-01",
          "2011-04-15",
          "2011-06-24",
          "2011-07-21",
          "2011-07-25",
          "2011-08-01",
          "2011-08-22",
          "2011-08-23",
          "2011-09-02",
          "2011-09-06",
          "2011-10-28",
          "2011-11-04",
          "2011-11-04",
          "2011-11-11",
          "2011-12-14",
          "2011-12-21",
          "2012-07-20",
          "2012-10-12",
          "2012-10-19",
          "2012-11-09",
          "2012-12-21",
          "2013-04-26",
          "2013-05-03",
          "2013-05-17",
          "2013-05-31",
          "2013-06-14",
          "2013-06-24",
          "2013-06-28",
          "2013-07-05",
          "2013-09-02",
          "2013-09-05",
          "2013-10-03",
          "2013-10-11",
          "2013-11-08",
          "2013-12-06",
          "2013-12-20",
          "2014-01-10",
          "2014-01-24",
          "2014-01-30",
          "2014-03-14",
          "2014-03-27",
          "2014-04-25",
          "2014-05-02",
          "2014-05-30",
          "2014-06-12",
          "2014-06-27",
          "2014-06-30",
          "2014-07-14",
          "2014-08-08",
          "2014-08-27",
          "2014-08-29",
          "2014-09-12",
          "2014-09-26",
          "2014-10-03",
          "2014-10-15",
          "2014-10-17",
          "2014-10-20",
          "2014-10-24",
          "2014-11-04",
          "2014-11-06",
          "2014-11-07",
          "2014-12-04",
          "2014-12-19",
          "2014-12-19",
          "2014-12-19",
          "2015-01-09",
          "2015-01-15",
          "2015-01-16",
          "2015-01-29",
          "2015-02-18",
          "2015-02-20",
          "2015-02-23",
          "2015-03-06",
          "2015-03-26",
          "2015-04-13",
          "2015-04-17",
          "2015-05-08",
          "2015-06-01",
          "2015-06-12",
          "2015-06-18",
          "2015-07-03",
          "2015-07-07",
          "2015-08-13",
          "2015-09-16",
          "2015-10-01",
          "2015-10-01",
          "2015-10-07",
          "2015-10-27",
          "2015-11-13",
          "2015-11-16",
          "2016-01-05",
          "2016-01-08",
          "2016-01-08",
          "2016-01-22",
          "2016-01-22",
          "2016-01-29",
          "2016-01-29",
          "2016-02-04",
          "2016-02-05",
          "2016-02-05",
          "2016-02-10",
          "2016-02-12",
          "2016-02-17",
          "2016-02-17",
          "2016-02-19",
          "2016-02-19",
          "2016-02-19",
          "2016-02-19",
          "2016-02-19",
          "2016-02-19",
          "2016-02-25",
          "2016-02-26",
          "2016-02-29",
          "2016-02-29",
          "2016-03-23",
          "2016-03-23",
          "2016-03-23",
          "2016-03-24",
          "2016-03-24",
          "2016-03-29",
          "2016-03-29",
          "2016-03-30",
          "2016-03-31",
          "2016-03-31",
          "2016-04-04",
          "2016-04-08",
          "2016-04-21",
          "2016-04-22",
          "2016-04-22",
          "2016-04-22",
          "2016-04-29",
          "2016-04-29",
          "2016-05-03",
          "2016-05-06",
          "2016-05-06",
          "2016-05-09",
          "2016-05-09",
          "2016-05-12",
          "2016-05-16",
          "2016-05-20",
          "2016-05-24",
          "2016-06-02",
          "2016-06-03",
          "2016-06-07",
          "2016-06-08",
          "2016-06-08",
          "2016-06-09",
          "2016-06-16",
          "2016-06-17",
          "2016-06-17",
          "2016-06-17",
          "2016-06-17",
          "2016-06-20",
          "2016-06-24",
          "2016-07-01",
          "2016-07-01",
          "2016-07-04",
          "2016-07-07",
          "2016-07-08",
          "2016-07-08",
          "2016-07-11",
          "2016-07-15",
          "2016-07-15",
          "2016-07-18",
          "2016-07-19",
          "2016-07-21",
          "2016-07-22",
          "2016-07-28",
          "2016-07-29",
          "2016-07-29",
          "2016-07-29",
          "2016-08-05",
          "2016-08-05",
          "2016-08-08",
          "2016-08-11",
          "2016-08-12",
          "2016-08-19",
          "2016-08-19",
          "2016-08-22",
          "2016-08-26",
          "2016-08-30",
          "2016-08-30",
          "2016-09-02",
          "2016-09-02",
          "2016-09-02",
          "2016-09-05",
          "2016-09-09",
          "2016-09-09",
          "2016-09-12",
          "2016-09-14",
          "2016-09-15",
          "2016-09-16",
          "2016-09-16",
          "2016-09-21",
          "2016-09-22",
          "2016-09-27",
          "2016-09-29",
          "2016-09-29",
          "2016-09-30",
          "2016-09-30",
          "2016-09-30",
          "2016-10-04",
          "2016-10-06",
          "2016-10-07",
          "2016-10-17",
          "2016-10-21",
          "2016-10-24",
          "2016-10-24",
          "2016-10-28",
          "2016-10-31",
          "2016-11-04",
          "2016-11-10",
          "2016-11-11",
          "2016-11-14",
          "2016-11-16",
          "2016-11-18",
          "2016-11-23",
          "2016-11-25",
          "2016-12-01",
          "2016-12-02",
          "2016-12-02",
          "2016-12-08",
          "2016-12-08",
          "2016-12-14",
          "2017-01-06",
          "2017-01-06",
          "2017-01-06",
          "2017-01-13",
          "2017-01-13",
          "2017-01-13",
          "2017-01-13",
          "2017-01-17",
          "2017-01-19",
          "2017-01-20",
          "2017-01-20",
          "2017-01-23",
          "2017-01-27",
          "2017-01-27",
          "2017-01-31",
          "2017-02-03",
          "2017-02-09",
          "2017-02-10",
          "2017-02-10",
          "2017-02-13",
          "2017-02-17",
          "2017-02-23",
          "2017-02-24",
          "2017-03-01",
          "2017-03-01",
          "2017-03-03",
          "2017-03-14",
          "2017-03-17",
          "2017-03-20",
          "2017-03-24",
          "2017-03-24",
          "2017-03-31",
          "2017-04-05",
          "2017-04-07",
          "2017-04-11",
          "2017-04-13",
          "2017-04-13",
          "2017-04-21",
          "2017-04-28",
          "2017-04-28",
          "2017-05-09",
          "2017-05-12",
          "2017-05-19",
          "2017-05-22",
          "2017-05-24",
          "2017-05-24",
          "2017-05-24",
          "2017-05-25",
          "2017-05-26",
          "2017-06-02",
          "2017-06-02",
          "2017-06-02",
          "2017-06-07",
          "2017-06-22",
          "2017-06-23",
          "2017-06-23",
          "2017-06-30",
          "2017-07-07",
          "2017-07-10",
          "2017-07-19",
          "2017-07-19",
          "2017-07-19",
          "2017-07-21",
          "2017-07-25",
          "2017-07-28",
          "2017-07-31",
          "2017-07-31",
          "2017-08-04",
          "2017-08-04",
          "2017-08-07",
          "2017-08-11",
          "2017-08-11",
          "2017-08-15",
          "2017-08-17",
          "2017-08-17",
          "2017-08-18",
          "2017-08-18",
          "2017-08-18",
          "2017-08-18",
          "2017-08-18",
          "2017-08-25",
          "2017-09-01",
          "2017-09-08",
          "2017-09-12",
          "2017-09-13",
          "2017-09-15",
          "2017-09-15",
          "2017-09-20",
          "2017-09-22",
          "2017-09-28",
          "2017-09-28",
          "2017-09-29",
          "2017-10-02",
          "2017-10-03",
          "2017-10-06",
          "2017-10-09",
          "2017-10-11",
          "2017-10-12",
          "2017-10-12",
          "2017-10-17",
          "2017-10-20",
          "2017-10-23",
          "2017-10-23",
          "2017-10-26",
          "2017-10-27",
          "2017-11-01",
          "2017-11-03",
          "2017-11-03",
          "2017-11-08",
          "2017-11-09",
          "2017-11-10",
          "2017-11-15",
          "2017-11-17",
          "2017-11-17",
          "2017-11-22",
          "2017-11-30",
          "2017-11-30",
          "2017-12-04",
          "2017-12-05",
          "2017-12-07",
          "2017-12-07",
          "2017-12-08",
          "2017-12-08",
          "2017-12-11",
          "2017-12-14",
          "2017-12-15",
          "2017-12-15",
          "2017-12-15",
          "2017-12-18",
          "2017-12-20",
          "2017-12-21",
          "2018-01-05",
          "2018-01-10",
          "2018-01-12",
          "2018-01-15",
          "2018-01-19",
          "2018-01-24",
          "2018-01-26",
          "2018-01-30",
          "2018-01-31",
          "2018-02-05",
          "2018-02-09",
          "2018-02-09",
          "2018-02-09",
          "2018-02-13",
          "2018-02-16",
          "2018-02-21",
          "2018-02-21",
          "2018-02-22",
          "2018-02-23",
          "2018-03-07",
          "2018-03-19",
          "2018-03-26",
          "2018-03-29",
          "2018-04-05",
          "2018-04-06",
          "2018-04-12",
          "2018-04-12",
          "2018-04-13",
          "2018-04-26",
          "2018-04-30",
          "2018-05-03",
          "2018-05-04",
          "2018-05-11",
          "2018-05-17",
          "2018-05-18",
          "2018-05-18",
          "2018-05-24",
          "2018-05-25",
          "2018-05-30",
          "2018-06-05",
          "2018-06-05",
          "2018-06-22",
          "2018-06-27",
          "2018-06-29",
          "2018-07-04",
          "2018-07-04",
          "2018-07-11",
          "2018-07-20",
          "2018-07-27",
          "2018-07-27",
          "2018-08-03",
          "2018-08-10",
          "2018-08-10",
          "2018-08-17",
          "2018-08-20",
          "2018-08-23",
          "2018-08-24",
          "2018-08-30",
          "2018-09-03",
          "2018-09-07",
          "2018-09-12",
          "2018-09-14",
          "2018-09-21",
          "2018-09-28",
          "2018-10-02",
          "2018-10-10",
          "2018-10-15",
          "2018-10-16",
          "2018-10-19",
          "2018-10-19",
          "2018-10-24",
          "2018-10-26",
          "2018-10-26",
          "2018-10-31",
          "2018-11-02",
          "2018-11-05",
          "2018-11-09",
          "2018-11-15",
          "2018-11-15",
          "2018-11-16",
          "2018-11-16",
          "2018-11-22",
          "2018-11-22",
          "2018-11-23",
          "2018-11-23",
          "2018-11-23",
          "2018-11-30",
          "2018-12-03",
          "2018-12-07",
          "2018-12-07",
          "2018-12-07",
          "2018-12-10",
          "2018-12-11",
          "2018-12-13",
          "2018-12-14",
          "2018-12-14",
          "2018-12-18",
          "2018-12-19",
          "2018-12-20",
          "2018-12-20",
          "2019-01-11",
          "2019-01-21",
          "2019-01-31",
          "2019-02-08",
          "2019-02-11",
          "2019-02-14",
          "2019-02-14",
          "2019-02-15",
          "2019-02-22",
          "2019-03-06",
          "2019-03-06",
          "2019-03-08",
          "2019-03-15",
          "2019-03-21",
          "2019-03-22",
          "2019-03-22",
          "2019-04-02",
          "2019-04-05",
          "2019-04-05",
          "2019-04-05",
          "2019-04-09",
          "2019-04-09",
          "2019-04-12",
          "2019-04-24",
          "2019-05-03",
          "2019-05-03",
          "2019-05-08",
          "2019-05-10",
          "2019-05-10",
          "2019-05-13",
          "2019-05-13",
          "2019-05-17",
          "2019-05-17",
          "2019-05-20",
          "2019-05-24",
          "2019-05-31",
          "2019-06-13",
          "2019-06-17",
          "2019-06-21",
          "2019-06-24",
          "2019-06-25",
          "2019-06-26",
          "2019-06-27",
          "2019-06-28",
          "2019-06-28",
          "2019-06-28",
          "2019-06-28",
          "2019-06-28",
          "2019-07-05",
          "2019-07-08",
          "2019-07-08",
          "2019-07-11",
          "2019-07-19",
          "2019-07-23",
          "2019-07-26",
          "2019-07-26",
          "2019-07-26",
          "2019-07-31",
          "2019-08-02",
          "2019-08-02",
          "2019-08-06",
          "2019-08-08",
          "2019-08-08",
          "2019-08-09",
          "2019-08-13",
          "2019-08-23",
          "2019-08-29",
          "2019-08-30",
          "2019-09-02",
          "2019-09-06",
          "2019-09-12",
          "2019-09-13",
          "2019-09-13",
          "2019-09-16",
          "2019-09-16",
          "2019-09-20",
          "2019-09-25",
          "2019-09-27",
          "2019-09-30",
          "2019-10-01",
          "2019-10-02",
          "2019-10-03",
          "2019-10-04",
          "2019-10-18",
          "2019-10-18",
          "2019-10-18",
          "2019-10-24",
          "2019-10-24",
          "2019-10-25",
          "2019-10-28",
          "2019-10-29",
          "2019-11-01",
          "2019-11-13",
          "2019-11-13",
          "2019-11-18",
          "2019-11-22",
          "2019-11-27",
          "2019-11-27",
          "2019-11-29",
          "2019-11-30",
          "2019-12-10",
          "2019-12-13",
          "2019-12-13",
          "2019-12-16",
          "2019-12-16",
          "2019-12-19",
          "2019-12-19",
          "2020-01-03",
          "2020-01-03",
          "2020-01-10",
          "2020-01-16",
          "2020-01-27",
          "2020-01-31",
          "2020-01-31",
          "2020-01-31",
          "2020-01-31",
          "2020-02-14",
          "2020-02-28",
          "2020-02-28",
          "2020-02-28",
          "2020-03-13",
          "2020-03-16",
          "2020-03-20",
          "2020-03-27",
          "2020-03-27",
          "2020-04-03",
          "2020-04-14",
          "2020-05-01",
          "2020-05-01",
          "2020-05-14",
          "2020-05-15",
          "2020-05-20",
          "2020-05-29",
          "2020-05-29",
          "2020-05-29",
          "2020-05-29",
          "2020-07-17"
         ],
         "y": [
          220000,
          186000,
          226000,
          199000,
          195000,
          185000,
          224000,
          177000,
          193000,
          245000,
          200000,
          181500,
          210000,
          237500,
          205000,
          242500,
          191000,
          280000,
          250000,
          203000,
          185000,
          181500,
          249995,
          195000,
          193000,
          186000,
          178000,
          249950,
          190000,
          189500,
          175000,
          171000,
          184000,
          178200,
          192000,
          199000,
          188000,
          210000,
          227500,
          195000,
          224500,
          222000,
          175000,
          240000,
          179995,
          231000,
          175000,
          185000,
          230000,
          172000,
          188000,
          186500,
          174950,
          229500,
          199000,
          230000,
          186000,
          176000,
          195000,
          191000,
          205000,
          235500,
          234000,
          173000,
          173750,
          204000,
          265000,
          188000,
          182000,
          216000,
          209500,
          241500,
          178000,
          270000,
          233000,
          174000,
          185000,
          257000,
          250000,
          173000,
          285000,
          235000,
          195000,
          181000,
          250000,
          180000,
          178000,
          241500,
          220000,
          208500,
          231000,
          180000,
          195000,
          187500,
          218500,
          207000,
          232000,
          235000,
          235000,
          179950,
          229995,
          175000,
          229000,
          185000,
          305000,
          208000,
          192500,
          202000,
          285000,
          183000,
          190000,
          189995,
          210000,
          229500,
          213345,
          242000,
          240000,
          185000,
          178000,
          242000,
          199950,
          184500,
          205000,
          239000,
          187500,
          206000,
          188950,
          207000,
          215000,
          205000,
          270000,
          325000,
          185000,
          210000,
          189950,
          185000,
          186000,
          219950,
          205000,
          320000,
          250000,
          327000,
          330000,
          231000,
          265000,
          235000,
          224995,
          256500,
          195000,
          207500,
          220500,
          253500,
          310000,
          229995,
          270000,
          233000,
          237500,
          230000,
          315000,
          277000,
          220000,
          229995,
          235000,
          230000,
          221000,
          227000,
          281500,
          245000,
          242000,
          213000,
          275000,
          223000,
          240000,
          288000,
          340000,
          236500,
          234000,
          233000,
          220500,
          207000,
          212000,
          229000,
          236000,
          315000,
          271000,
          220000,
          225000,
          284950,
          227500,
          312500,
          223000,
          249950,
          208000,
          284995,
          286000,
          290000,
          300000,
          238002,
          242000,
          340000,
          226950,
          337000,
          229950,
          324995,
          216000,
          285000,
          289950,
          249950,
          331500,
          269000,
          218500,
          290000,
          260000,
          245000,
          210000,
          244950,
          270000,
          315000,
          227500,
          252000,
          255000,
          259500,
          280000,
          227000,
          233000,
          315000,
          240000,
          253000,
          230000,
          238000,
          325000,
          245000,
          214000,
          257500,
          238000,
          233000,
          230000,
          310000,
          220000,
          226000,
          230000,
          342500,
          243000,
          300000,
          229950,
          295000,
          239000,
          307000,
          238000,
          330000,
          277000,
          234950,
          236000,
          240000,
          270000,
          235000,
          215000,
          285000,
          206500,
          233500,
          235000,
          277000,
          250000,
          239950,
          226000,
          259000,
          246500,
          345000,
          245000,
          247000,
          230000,
          242000,
          245000,
          245000,
          280000,
          258000,
          252000,
          226000,
          296000,
          205500,
          315000,
          234995,
          233000,
          299950,
          218000,
          250000,
          227000,
          233500,
          232500,
          245000,
          245000,
          247500,
          285000,
          290000,
          230000,
          339950,
          254000,
          260000,
          238000,
          233000,
          275000,
          255000,
          322500,
          250000,
          235000,
          212500,
          231000,
          265000,
          275000,
          242500,
          238000,
          310000,
          243000,
          340000,
          247000,
          255000,
          250000,
          249000,
          255000,
          280000,
          239000,
          210000,
          295000,
          340000,
          242500,
          245950,
          220000,
          333000,
          310000,
          258000,
          238500,
          215000,
          310000,
          252000,
          211000,
          300000,
          243000,
          245000,
          270000,
          250000,
          229995,
          235000,
          229000,
          241000,
          345000,
          325000,
          263000,
          245000,
          228000,
          306000,
          300000,
          252500,
          249950,
          227000,
          230000,
          240000,
          315000,
          240000,
          250000,
          249995,
          247500,
          240000,
          282000,
          234000,
          323000,
          222500,
          243500,
          285000,
          245000,
          337000,
          214000,
          255000,
          303000,
          231000,
          235000,
          255000,
          250000,
          325000,
          232000,
          297950,
          252000,
          225000,
          245000,
          345000,
          255000,
          232000,
          305000,
          284000,
          265000,
          230000,
          255000,
          340000,
          240000,
          240000,
          270000,
          260000,
          283000,
          250000,
          220000,
          256000,
          273000,
          249000,
          270000,
          255000,
          230000,
          280000,
          309950,
          232000,
          250000,
          239000,
          234000,
          229950,
          233000,
          252750,
          225000,
          318000,
          208000,
          275000,
          325000,
          235000,
          247500,
          230000,
          230000,
          218000,
          283000,
          295000,
          259950,
          207000,
          270000,
          332500,
          219995,
          268000,
          337500,
          250000,
          230000,
          250000,
          210000,
          330000,
          245500,
          305000,
          215500,
          257000,
          305000,
          289000,
          232000,
          325000,
          252000,
          238500,
          220000,
          335000,
          289500,
          300000,
          231000,
          304000,
          232000,
          297000,
          325000,
          247000,
          270000,
          231500,
          245000,
          300000,
          232000,
          276500,
          340000,
          302000,
          346000,
          260000,
          310000,
          238500,
          233500,
          227000,
          270000,
          290000,
          324995,
          242500,
          240000,
          230000,
          230000,
          252500,
          282500,
          240000,
          225250,
          304500,
          283000,
          252500,
          242000,
          245000,
          261000,
          263000,
          250000,
          224500,
          251500,
          247000,
          232500,
          226000,
          240000,
          265000,
          315000,
          249950,
          265000,
          310000,
          340000,
          245000,
          340000,
          255000,
          220000,
          242000,
          233500,
          321000,
          255000,
          232500,
          296000,
          217000,
          232000,
          348000,
          296000,
          280000,
          230000,
          285000,
          250000,
          237000,
          270000,
          270000,
          310000,
          255000,
          295000,
          208000,
          294000,
          266000,
          240000,
          220000,
          253000,
          279000,
          239950,
          234950,
          235000,
          290000,
          240000,
          226250,
          275000,
          290000,
          312500,
          260000,
          349950,
          345000,
          207500,
          315000,
          265000,
          245000,
          265000,
          246000,
          242000,
          230000,
          350000,
          255000,
          317000,
          255000,
          330000,
          230000,
          240000,
          310000,
          305000,
          260000,
          315000,
          236000,
          235000,
          280000,
          330000,
          250000,
          226000,
          250000,
          255000,
          322000,
          237000,
          305000,
          325000,
          244000,
          238000,
          245000,
          250000,
          235000,
          249000,
          238000,
          234000,
          247500,
          280000,
          235000,
          252000,
          249000,
          248500,
          249000,
          260000,
          272500,
          265000,
          220000,
          235000,
          290000,
          234000,
          298000,
          242000,
          230000,
          325000,
          220000,
          230000,
          320000,
          280000,
          340000,
          247000,
          235000,
          248000,
          208000,
          243000,
          245000,
          340000,
          209995,
          247500,
          258000,
          310000,
          250000,
          325000,
          222000,
          280000,
          233000,
          257000,
          240000,
          265000,
          248000,
          300000,
          235000,
          237500,
          245000,
          251000,
          232500,
          326500,
          235000,
          220000,
          226500,
          265000,
          312000,
          348000,
          227000,
          242250,
          265000,
          253000,
          290000,
          260000,
          223000,
          240000,
          307500,
          325000
         ]
        },
        {
         "mode": "lines",
         "name": "Rolling Average",
         "type": "scatter",
         "x": [
          "2004-06-11",
          "2007-01-31",
          "2007-10-12",
          "2008-07-16",
          "2009-11-24",
          "2010-06-25",
          "2011-04-15",
          "2011-11-04",
          "2013-04-26",
          "2013-10-03",
          "2014-04-25",
          "2014-09-12",
          "2014-12-04",
          "2015-02-23",
          "2015-07-07",
          "2016-01-08",
          "2016-02-12",
          "2016-02-26",
          "2016-03-30",
          "2016-04-29",
          "2016-06-02",
          "2016-06-17",
          "2016-07-15",
          "2016-08-05",
          "2016-08-30",
          "2016-09-16",
          "2016-10-04",
          "2016-11-10",
          "2016-12-08",
          "2017-01-17",
          "2017-02-10",
          "2017-03-17",
          "2017-04-21",
          "2017-05-25",
          "2017-07-07",
          "2017-08-04",
          "2017-08-18",
          "2017-09-20",
          "2017-10-12",
          "2017-11-03",
          "2017-12-04",
          "2017-12-15",
          "2018-01-26",
          "2018-02-21",
          "2018-04-12",
          "2018-05-24",
          "2018-07-11",
          "2018-08-24",
          "2018-10-15",
          "2018-11-09",
          "2018-11-30",
          "2018-12-18",
          "2019-02-14",
          "2019-04-02",
          "2019-05-08",
          "2019-06-13",
          "2019-06-28",
          "2019-07-26",
          "2019-08-29",
          "2019-09-25",
          "2019-10-24",
          "2019-11-27",
          "2019-12-19",
          "2020-02-14",
          "2020-04-14",
          "2020-07-17"
         ],
         "y": [
          null,
          203000,
          218550,
          198794.5,
          196920,
          199799.5,
          197295,
          208075,
          224650,
          212000,
          209994.5,
          215450,
          212979,
          210795,
          227590,
          249249.5,
          257599.5,
          239949.5,
          243400,
          254395,
          266589.7,
          275184.5,
          256945,
          260050,
          240350,
          280145,
          239095,
          256545,
          256450,
          241894.5,
          265245,
          252650,
          266800,
          269295,
          252599.5,
          271700,
          250194.5,
          262600,
          263595,
          264100,
          263200,
          254895,
          254920,
          254544.5,
          264150,
          274300,
          268250,
          283850,
          258949.5,
          256625,
          251645,
          276150,
          266650,
          264500,
          249315,
          285495,
          269500,
          274700,
          267100,
          246800,
          256550,
          267500,
          263649.5,
          251750,
          266150,
          263275
         ]
        }
       ],
       "layout": {
        "template": {
         "data": {
          "bar": [
           {
            "error_x": {
             "color": "#2a3f5f"
            },
            "error_y": {
             "color": "#2a3f5f"
            },
            "marker": {
             "line": {
              "color": "#E5ECF6",
              "width": 0.5
             }
            },
            "type": "bar"
           }
          ],
          "barpolar": [
           {
            "marker": {
             "line": {
              "color": "#E5ECF6",
              "width": 0.5
             }
            },
            "type": "barpolar"
           }
          ],
          "carpet": [
           {
            "aaxis": {
             "endlinecolor": "#2a3f5f",
             "gridcolor": "white",
             "linecolor": "white",
             "minorgridcolor": "white",
             "startlinecolor": "#2a3f5f"
            },
            "baxis": {
             "endlinecolor": "#2a3f5f",
             "gridcolor": "white",
             "linecolor": "white",
             "minorgridcolor": "white",
             "startlinecolor": "#2a3f5f"
            },
            "type": "carpet"
           }
          ],
          "choropleth": [
           {
            "colorbar": {
             "outlinewidth": 0,
             "ticks": ""
            },
            "type": "choropleth"
           }
          ],
          "contour": [
           {
            "colorbar": {
             "outlinewidth": 0,
             "ticks": ""
            },
            "colorscale": [
             [
              0,
              "#0d0887"
             ],
             [
              0.1111111111111111,
              "#46039f"
             ],
             [
              0.2222222222222222,
              "#7201a8"
             ],
             [
              0.3333333333333333,
              "#9c179e"
             ],
             [
              0.4444444444444444,
              "#bd3786"
             ],
             [
              0.5555555555555556,
              "#d8576b"
             ],
             [
              0.6666666666666666,
              "#ed7953"
             ],
             [
              0.7777777777777778,
              "#fb9f3a"
             ],
             [
              0.8888888888888888,
              "#fdca26"
             ],
             [
              1,
              "#f0f921"
             ]
            ],
            "type": "contour"
           }
          ],
          "contourcarpet": [
           {
            "colorbar": {
             "outlinewidth": 0,
             "ticks": ""
            },
            "type": "contourcarpet"
           }
          ],
          "heatmap": [
           {
            "colorbar": {
             "outlinewidth": 0,
             "ticks": ""
            },
            "colorscale": [
             [
              0,
              "#0d0887"
             ],
             [
              0.1111111111111111,
              "#46039f"
             ],
             [
              0.2222222222222222,
              "#7201a8"
             ],
             [
              0.3333333333333333,
              "#9c179e"
             ],
             [
              0.4444444444444444,
              "#bd3786"
             ],
             [
              0.5555555555555556,
              "#d8576b"
             ],
             [
              0.6666666666666666,
              "#ed7953"
             ],
             [
              0.7777777777777778,
              "#fb9f3a"
             ],
             [
              0.8888888888888888,
              "#fdca26"
             ],
             [
              1,
              "#f0f921"
             ]
            ],
            "type": "heatmap"
           }
          ],
          "heatmapgl": [
           {
            "colorbar": {
             "outlinewidth": 0,
             "ticks": ""
            },
            "colorscale": [
             [
              0,
              "#0d0887"
             ],
             [
              0.1111111111111111,
              "#46039f"
             ],
             [
              0.2222222222222222,
              "#7201a8"
             ],
             [
              0.3333333333333333,
              "#9c179e"
             ],
             [
              0.4444444444444444,
              "#bd3786"
             ],
             [
              0.5555555555555556,
              "#d8576b"
             ],
             [
              0.6666666666666666,
              "#ed7953"
             ],
             [
              0.7777777777777778,
              "#fb9f3a"
             ],
             [
              0.8888888888888888,
              "#fdca26"
             ],
             [
              1,
              "#f0f921"
             ]
            ],
            "type": "heatmapgl"
           }
          ],
          "histogram": [
           {
            "marker": {
             "colorbar": {
              "outlinewidth": 0,
              "ticks": ""
             }
            },
            "type": "histogram"
           }
          ],
          "histogram2d": [
           {
            "colorbar": {
             "outlinewidth": 0,
             "ticks": ""
            },
            "colorscale": [
             [
              0,
              "#0d0887"
             ],
             [
              0.1111111111111111,
              "#46039f"
             ],
             [
              0.2222222222222222,
              "#7201a8"
             ],
             [
              0.3333333333333333,
              "#9c179e"
             ],
             [
              0.4444444444444444,
              "#bd3786"
             ],
             [
              0.5555555555555556,
              "#d8576b"
             ],
             [
              0.6666666666666666,
              "#ed7953"
             ],
             [
              0.7777777777777778,
              "#fb9f3a"
             ],
             [
              0.8888888888888888,
              "#fdca26"
             ],
             [
              1,
              "#f0f921"
             ]
            ],
            "type": "histogram2d"
           }
          ],
          "histogram2dcontour": [
           {
            "colorbar": {
             "outlinewidth": 0,
             "ticks": ""
            },
            "colorscale": [
             [
              0,
              "#0d0887"
             ],
             [
              0.1111111111111111,
              "#46039f"
             ],
             [
              0.2222222222222222,
              "#7201a8"
             ],
             [
              0.3333333333333333,
              "#9c179e"
             ],
             [
              0.4444444444444444,
              "#bd3786"
             ],
             [
              0.5555555555555556,
              "#d8576b"
             ],
             [
              0.6666666666666666,
              "#ed7953"
             ],
             [
              0.7777777777777778,
              "#fb9f3a"
             ],
             [
              0.8888888888888888,
              "#fdca26"
             ],
             [
              1,
              "#f0f921"
             ]
            ],
            "type": "histogram2dcontour"
           }
          ],
          "mesh3d": [
           {
            "colorbar": {
             "outlinewidth": 0,
             "ticks": ""
            },
            "type": "mesh3d"
           }
          ],
          "parcoords": [
           {
            "line": {
             "colorbar": {
              "outlinewidth": 0,
              "ticks": ""
             }
            },
            "type": "parcoords"
           }
          ],
          "pie": [
           {
            "automargin": true,
            "type": "pie"
           }
          ],
          "scatter": [
           {
            "marker": {
             "colorbar": {
              "outlinewidth": 0,
              "ticks": ""
             }
            },
            "type": "scatter"
           }
          ],
          "scatter3d": [
           {
            "line": {
             "colorbar": {
              "outlinewidth": 0,
              "ticks": ""
             }
            },
            "marker": {
             "colorbar": {
              "outlinewidth": 0,
              "ticks": ""
             }
            },
            "type": "scatter3d"
           }
          ],
          "scattercarpet": [
           {
            "marker": {
             "colorbar": {
              "outlinewidth": 0,
              "ticks": ""
             }
            },
            "type": "scattercarpet"
           }
          ],
          "scattergeo": [
           {
            "marker": {
             "colorbar": {
              "outlinewidth": 0,
              "ticks": ""
             }
            },
            "type": "scattergeo"
           }
          ],
          "scattergl": [
           {
            "marker": {
             "colorbar": {
              "outlinewidth": 0,
              "ticks": ""
             }
            },
            "type": "scattergl"
           }
          ],
          "scattermapbox": [
           {
            "marker": {
             "colorbar": {
              "outlinewidth": 0,
              "ticks": ""
             }
            },
            "type": "scattermapbox"
           }
          ],
          "scatterpolar": [
           {
            "marker": {
             "colorbar": {
              "outlinewidth": 0,
              "ticks": ""
             }
            },
            "type": "scatterpolar"
           }
          ],
          "scatterpolargl": [
           {
            "marker": {
             "colorbar": {
              "outlinewidth": 0,
              "ticks": ""
             }
            },
            "type": "scatterpolargl"
           }
          ],
          "scatterternary": [
           {
            "marker": {
             "colorbar": {
              "outlinewidth": 0,
              "ticks": ""
             }
            },
            "type": "scatterternary"
           }
          ],
          "surface": [
           {
            "colorbar": {
             "outlinewidth": 0,
             "ticks": ""
            },
            "colorscale": [
             [
              0,
              "#0d0887"
             ],
             [
              0.1111111111111111,
              "#46039f"
             ],
             [
              0.2222222222222222,
              "#7201a8"
             ],
             [
              0.3333333333333333,
              "#9c179e"
             ],
             [
              0.4444444444444444,
              "#bd3786"
             ],
             [
              0.5555555555555556,
              "#d8576b"
             ],
             [
              0.6666666666666666,
              "#ed7953"
             ],
             [
              0.7777777777777778,
              "#fb9f3a"
             ],
             [
              0.8888888888888888,
              "#fdca26"
             ],
             [
              1,
              "#f0f921"
             ]
            ],
            "type": "surface"
           }
          ],
          "table": [
           {
            "cells": {
             "fill": {
              "color": "#EBF0F8"
             },
             "line": {
              "color": "white"
             }
            },
            "header": {
             "fill": {
              "color": "#C8D4E3"
             },
             "line": {
              "color": "white"
             }
            },
            "type": "table"
           }
          ]
         },
         "layout": {
          "annotationdefaults": {
           "arrowcolor": "#2a3f5f",
           "arrowhead": 0,
           "arrowwidth": 1
          },
          "coloraxis": {
           "colorbar": {
            "outlinewidth": 0,
            "ticks": ""
           }
          },
          "colorscale": {
           "diverging": [
            [
             0,
             "#8e0152"
            ],
            [
             0.1,
             "#c51b7d"
            ],
            [
             0.2,
             "#de77ae"
            ],
            [
             0.3,
             "#f1b6da"
            ],
            [
             0.4,
             "#fde0ef"
            ],
            [
             0.5,
             "#f7f7f7"
            ],
            [
             0.6,
             "#e6f5d0"
            ],
            [
             0.7,
             "#b8e186"
            ],
            [
             0.8,
             "#7fbc41"
            ],
            [
             0.9,
             "#4d9221"
            ],
            [
             1,
             "#276419"
            ]
           ],
           "sequential": [
            [
             0,
             "#0d0887"
            ],
            [
             0.1111111111111111,
             "#46039f"
            ],
            [
             0.2222222222222222,
             "#7201a8"
            ],
            [
             0.3333333333333333,
             "#9c179e"
            ],
            [
             0.4444444444444444,
             "#bd3786"
            ],
            [
             0.5555555555555556,
             "#d8576b"
            ],
            [
             0.6666666666666666,
             "#ed7953"
            ],
            [
             0.7777777777777778,
             "#fb9f3a"
            ],
            [
             0.8888888888888888,
             "#fdca26"
            ],
            [
             1,
             "#f0f921"
            ]
           ],
           "sequentialminus": [
            [
             0,
             "#0d0887"
            ],
            [
             0.1111111111111111,
             "#46039f"
            ],
            [
             0.2222222222222222,
             "#7201a8"
            ],
            [
             0.3333333333333333,
             "#9c179e"
            ],
            [
             0.4444444444444444,
             "#bd3786"
            ],
            [
             0.5555555555555556,
             "#d8576b"
            ],
            [
             0.6666666666666666,
             "#ed7953"
            ],
            [
             0.7777777777777778,
             "#fb9f3a"
            ],
            [
             0.8888888888888888,
             "#fdca26"
            ],
            [
             1,
             "#f0f921"
            ]
           ]
          },
          "colorway": [
           "#636efa",
           "#EF553B",
           "#00cc96",
           "#ab63fa",
           "#FFA15A",
           "#19d3f3",
           "#FF6692",
           "#B6E880",
           "#FF97FF",
           "#FECB52"
          ],
          "font": {
           "color": "#2a3f5f"
          },
          "geo": {
           "bgcolor": "white",
           "lakecolor": "white",
           "landcolor": "#E5ECF6",
           "showlakes": true,
           "showland": true,
           "subunitcolor": "white"
          },
          "hoverlabel": {
           "align": "left"
          },
          "hovermode": "closest",
          "mapbox": {
           "style": "light"
          },
          "paper_bgcolor": "white",
          "plot_bgcolor": "#E5ECF6",
          "polar": {
           "angularaxis": {
            "gridcolor": "white",
            "linecolor": "white",
            "ticks": ""
           },
           "bgcolor": "#E5ECF6",
           "radialaxis": {
            "gridcolor": "white",
            "linecolor": "white",
            "ticks": ""
           }
          },
          "scene": {
           "xaxis": {
            "backgroundcolor": "#E5ECF6",
            "gridcolor": "white",
            "gridwidth": 2,
            "linecolor": "white",
            "showbackground": true,
            "ticks": "",
            "zerolinecolor": "white"
           },
           "yaxis": {
            "backgroundcolor": "#E5ECF6",
            "gridcolor": "white",
            "gridwidth": 2,
            "linecolor": "white",
            "showbackground": true,
            "ticks": "",
            "zerolinecolor": "white"
           },
           "zaxis": {
            "backgroundcolor": "#E5ECF6",
            "gridcolor": "white",
            "gridwidth": 2,
            "linecolor": "white",
            "showbackground": true,
            "ticks": "",
            "zerolinecolor": "white"
           }
          },
          "shapedefaults": {
           "line": {
            "color": "#2a3f5f"
           }
          },
          "ternary": {
           "aaxis": {
            "gridcolor": "white",
            "linecolor": "white",
            "ticks": ""
           },
           "baxis": {
            "gridcolor": "white",
            "linecolor": "white",
            "ticks": ""
           },
           "bgcolor": "#E5ECF6",
           "caxis": {
            "gridcolor": "white",
            "linecolor": "white",
            "ticks": ""
           }
          },
          "title": {
           "x": 0.05
          },
          "xaxis": {
           "automargin": true,
           "gridcolor": "white",
           "linecolor": "white",
           "ticks": "",
           "title": {
            "standoff": 15
           },
           "zerolinecolor": "white",
           "zerolinewidth": 2
          },
          "yaxis": {
           "automargin": true,
           "gridcolor": "white",
           "linecolor": "white",
           "ticks": "",
           "title": {
            "standoff": 15
           },
           "zerolinecolor": "white",
           "zerolinewidth": 2
          }
         }
        }
       }
      },
      "text/html": [
       "<div>                            <div id=\"fbb3da3f-890c-4f5f-a32a-5107407d18c9\" class=\"plotly-graph-div\" style=\"height:525px; width:100%;\"></div>            <script type=\"text/javascript\">                require([\"plotly\"], function(Plotly) {                    window.PLOTLYENV=window.PLOTLYENV || {};                                    if (document.getElementById(\"fbb3da3f-890c-4f5f-a32a-5107407d18c9\")) {                    Plotly.newPlot(                        \"fbb3da3f-890c-4f5f-a32a-5107407d18c9\",                        [{\"mode\": \"markers\", \"name\": \"Price\", \"type\": \"scatter\", \"x\": [\"2004-06-11\", \"2004-06-23\", \"2004-08-27\", \"2004-09-02\", \"2005-10-20\", \"2006-02-10\", \"2006-07-12\", \"2006-07-28\", \"2006-09-01\", \"2006-12-01\", \"2007-01-31\", \"2007-02-02\", \"2007-02-23\", \"2007-03-09\", \"2007-03-23\", \"2007-04-16\", \"2007-07-20\", \"2007-08-16\", \"2007-08-24\", \"2007-08-31\", \"2007-10-12\", \"2007-10-26\", \"2007-11-29\", \"2007-12-14\", \"2008-02-27\", \"2008-03-07\", \"2008-03-20\", \"2008-03-27\", \"2008-04-28\", \"2008-05-02\", \"2008-07-16\", \"2008-07-31\", \"2008-09-19\", \"2009-05-29\", \"2009-06-29\", \"2009-08-05\", \"2009-08-14\", \"2009-08-28\", \"2009-11-04\", \"2009-11-20\", \"2009-11-24\", \"2009-12-04\", \"2009-12-10\", \"2009-12-10\", \"2009-12-11\", \"2009-12-11\", \"2010-03-19\", \"2010-03-25\", \"2010-03-30\", \"2010-04-22\", \"2010-06-25\", \"2010-07-16\", \"2010-07-23\", \"2010-07-30\", \"2010-10-15\", \"2010-12-16\", \"2010-12-21\", \"2010-12-21\", \"2011-01-05\", \"2011-02-01\", \"2011-04-15\", \"2011-06-24\", \"2011-07-21\", \"2011-07-25\", \"2011-08-01\", \"2011-08-22\", \"2011-08-23\", \"2011-09-02\", \"2011-09-06\", \"2011-10-28\", \"2011-11-04\", \"2011-11-04\", \"2011-11-11\", \"2011-12-14\", \"2011-12-21\", \"2012-07-20\", \"2012-10-12\", \"2012-10-19\", \"2012-11-09\", \"2012-12-21\", \"2013-04-26\", \"2013-05-03\", \"2013-05-17\", \"2013-05-31\", \"2013-06-14\", \"2013-06-24\", \"2013-06-28\", \"2013-07-05\", \"2013-09-02\", \"2013-09-05\", \"2013-10-03\", \"2013-10-11\", \"2013-11-08\", \"2013-12-06\", \"2013-12-20\", \"2014-01-10\", \"2014-01-24\", \"2014-01-30\", \"2014-03-14\", \"2014-03-27\", \"2014-04-25\", \"2014-05-02\", \"2014-05-30\", \"2014-06-12\", \"2014-06-27\", \"2014-06-30\", \"2014-07-14\", \"2014-08-08\", \"2014-08-27\", \"2014-08-29\", \"2014-09-12\", \"2014-09-26\", \"2014-10-03\", \"2014-10-15\", \"2014-10-17\", \"2014-10-20\", \"2014-10-24\", \"2014-11-04\", \"2014-11-06\", \"2014-11-07\", \"2014-12-04\", \"2014-12-19\", \"2014-12-19\", \"2014-12-19\", \"2015-01-09\", \"2015-01-15\", \"2015-01-16\", \"2015-01-29\", \"2015-02-18\", \"2015-02-20\", \"2015-02-23\", \"2015-03-06\", \"2015-03-26\", \"2015-04-13\", \"2015-04-17\", \"2015-05-08\", \"2015-06-01\", \"2015-06-12\", \"2015-06-18\", \"2015-07-03\", \"2015-07-07\", \"2015-08-13\", \"2015-09-16\", \"2015-10-01\", \"2015-10-01\", \"2015-10-07\", \"2015-10-27\", \"2015-11-13\", \"2015-11-16\", \"2016-01-05\", \"2016-01-08\", \"2016-01-08\", \"2016-01-22\", \"2016-01-22\", \"2016-01-29\", \"2016-01-29\", \"2016-02-04\", \"2016-02-05\", \"2016-02-05\", \"2016-02-10\", \"2016-02-12\", \"2016-02-17\", \"2016-02-17\", \"2016-02-19\", \"2016-02-19\", \"2016-02-19\", \"2016-02-19\", \"2016-02-19\", \"2016-02-19\", \"2016-02-25\", \"2016-02-26\", \"2016-02-29\", \"2016-02-29\", \"2016-03-23\", \"2016-03-23\", \"2016-03-23\", \"2016-03-24\", \"2016-03-24\", \"2016-03-29\", \"2016-03-29\", \"2016-03-30\", \"2016-03-31\", \"2016-03-31\", \"2016-04-04\", \"2016-04-08\", \"2016-04-21\", \"2016-04-22\", \"2016-04-22\", \"2016-04-22\", \"2016-04-29\", \"2016-04-29\", \"2016-05-03\", \"2016-05-06\", \"2016-05-06\", \"2016-05-09\", \"2016-05-09\", \"2016-05-12\", \"2016-05-16\", \"2016-05-20\", \"2016-05-24\", \"2016-06-02\", \"2016-06-03\", \"2016-06-07\", \"2016-06-08\", \"2016-06-08\", \"2016-06-09\", \"2016-06-16\", \"2016-06-17\", \"2016-06-17\", \"2016-06-17\", \"2016-06-17\", \"2016-06-20\", \"2016-06-24\", \"2016-07-01\", \"2016-07-01\", \"2016-07-04\", \"2016-07-07\", \"2016-07-08\", \"2016-07-08\", \"2016-07-11\", \"2016-07-15\", \"2016-07-15\", \"2016-07-18\", \"2016-07-19\", \"2016-07-21\", \"2016-07-22\", \"2016-07-28\", \"2016-07-29\", \"2016-07-29\", \"2016-07-29\", \"2016-08-05\", \"2016-08-05\", \"2016-08-08\", \"2016-08-11\", \"2016-08-12\", \"2016-08-19\", \"2016-08-19\", \"2016-08-22\", \"2016-08-26\", \"2016-08-30\", \"2016-08-30\", \"2016-09-02\", \"2016-09-02\", \"2016-09-02\", \"2016-09-05\", \"2016-09-09\", \"2016-09-09\", \"2016-09-12\", \"2016-09-14\", \"2016-09-15\", \"2016-09-16\", \"2016-09-16\", \"2016-09-21\", \"2016-09-22\", \"2016-09-27\", \"2016-09-29\", \"2016-09-29\", \"2016-09-30\", \"2016-09-30\", \"2016-09-30\", \"2016-10-04\", \"2016-10-06\", \"2016-10-07\", \"2016-10-17\", \"2016-10-21\", \"2016-10-24\", \"2016-10-24\", \"2016-10-28\", \"2016-10-31\", \"2016-11-04\", \"2016-11-10\", \"2016-11-11\", \"2016-11-14\", \"2016-11-16\", \"2016-11-18\", \"2016-11-23\", \"2016-11-25\", \"2016-12-01\", \"2016-12-02\", \"2016-12-02\", \"2016-12-08\", \"2016-12-08\", \"2016-12-14\", \"2017-01-06\", \"2017-01-06\", \"2017-01-06\", \"2017-01-13\", \"2017-01-13\", \"2017-01-13\", \"2017-01-13\", \"2017-01-17\", \"2017-01-19\", \"2017-01-20\", \"2017-01-20\", \"2017-01-23\", \"2017-01-27\", \"2017-01-27\", \"2017-01-31\", \"2017-02-03\", \"2017-02-09\", \"2017-02-10\", \"2017-02-10\", \"2017-02-13\", \"2017-02-17\", \"2017-02-23\", \"2017-02-24\", \"2017-03-01\", \"2017-03-01\", \"2017-03-03\", \"2017-03-14\", \"2017-03-17\", \"2017-03-20\", \"2017-03-24\", \"2017-03-24\", \"2017-03-31\", \"2017-04-05\", \"2017-04-07\", \"2017-04-11\", \"2017-04-13\", \"2017-04-13\", \"2017-04-21\", \"2017-04-28\", \"2017-04-28\", \"2017-05-09\", \"2017-05-12\", \"2017-05-19\", \"2017-05-22\", \"2017-05-24\", \"2017-05-24\", \"2017-05-24\", \"2017-05-25\", \"2017-05-26\", \"2017-06-02\", \"2017-06-02\", \"2017-06-02\", \"2017-06-07\", \"2017-06-22\", \"2017-06-23\", \"2017-06-23\", \"2017-06-30\", \"2017-07-07\", \"2017-07-10\", \"2017-07-19\", \"2017-07-19\", \"2017-07-19\", \"2017-07-21\", \"2017-07-25\", \"2017-07-28\", \"2017-07-31\", \"2017-07-31\", \"2017-08-04\", \"2017-08-04\", \"2017-08-07\", \"2017-08-11\", \"2017-08-11\", \"2017-08-15\", \"2017-08-17\", \"2017-08-17\", \"2017-08-18\", \"2017-08-18\", \"2017-08-18\", \"2017-08-18\", \"2017-08-18\", \"2017-08-25\", \"2017-09-01\", \"2017-09-08\", \"2017-09-12\", \"2017-09-13\", \"2017-09-15\", \"2017-09-15\", \"2017-09-20\", \"2017-09-22\", \"2017-09-28\", \"2017-09-28\", \"2017-09-29\", \"2017-10-02\", \"2017-10-03\", \"2017-10-06\", \"2017-10-09\", \"2017-10-11\", \"2017-10-12\", \"2017-10-12\", \"2017-10-17\", \"2017-10-20\", \"2017-10-23\", \"2017-10-23\", \"2017-10-26\", \"2017-10-27\", \"2017-11-01\", \"2017-11-03\", \"2017-11-03\", \"2017-11-08\", \"2017-11-09\", \"2017-11-10\", \"2017-11-15\", \"2017-11-17\", \"2017-11-17\", \"2017-11-22\", \"2017-11-30\", \"2017-11-30\", \"2017-12-04\", \"2017-12-05\", \"2017-12-07\", \"2017-12-07\", \"2017-12-08\", \"2017-12-08\", \"2017-12-11\", \"2017-12-14\", \"2017-12-15\", \"2017-12-15\", \"2017-12-15\", \"2017-12-18\", \"2017-12-20\", \"2017-12-21\", \"2018-01-05\", \"2018-01-10\", \"2018-01-12\", \"2018-01-15\", \"2018-01-19\", \"2018-01-24\", \"2018-01-26\", \"2018-01-30\", \"2018-01-31\", \"2018-02-05\", \"2018-02-09\", \"2018-02-09\", \"2018-02-09\", \"2018-02-13\", \"2018-02-16\", \"2018-02-21\", \"2018-02-21\", \"2018-02-22\", \"2018-02-23\", \"2018-03-07\", \"2018-03-19\", \"2018-03-26\", \"2018-03-29\", \"2018-04-05\", \"2018-04-06\", \"2018-04-12\", \"2018-04-12\", \"2018-04-13\", \"2018-04-26\", \"2018-04-30\", \"2018-05-03\", \"2018-05-04\", \"2018-05-11\", \"2018-05-17\", \"2018-05-18\", \"2018-05-18\", \"2018-05-24\", \"2018-05-25\", \"2018-05-30\", \"2018-06-05\", \"2018-06-05\", \"2018-06-22\", \"2018-06-27\", \"2018-06-29\", \"2018-07-04\", \"2018-07-04\", \"2018-07-11\", \"2018-07-20\", \"2018-07-27\", \"2018-07-27\", \"2018-08-03\", \"2018-08-10\", \"2018-08-10\", \"2018-08-17\", \"2018-08-20\", \"2018-08-23\", \"2018-08-24\", \"2018-08-30\", \"2018-09-03\", \"2018-09-07\", \"2018-09-12\", \"2018-09-14\", \"2018-09-21\", \"2018-09-28\", \"2018-10-02\", \"2018-10-10\", \"2018-10-15\", \"2018-10-16\", \"2018-10-19\", \"2018-10-19\", \"2018-10-24\", \"2018-10-26\", \"2018-10-26\", \"2018-10-31\", \"2018-11-02\", \"2018-11-05\", \"2018-11-09\", \"2018-11-15\", \"2018-11-15\", \"2018-11-16\", \"2018-11-16\", \"2018-11-22\", \"2018-11-22\", \"2018-11-23\", \"2018-11-23\", \"2018-11-23\", \"2018-11-30\", \"2018-12-03\", \"2018-12-07\", \"2018-12-07\", \"2018-12-07\", \"2018-12-10\", \"2018-12-11\", \"2018-12-13\", \"2018-12-14\", \"2018-12-14\", \"2018-12-18\", \"2018-12-19\", \"2018-12-20\", \"2018-12-20\", \"2019-01-11\", \"2019-01-21\", \"2019-01-31\", \"2019-02-08\", \"2019-02-11\", \"2019-02-14\", \"2019-02-14\", \"2019-02-15\", \"2019-02-22\", \"2019-03-06\", \"2019-03-06\", \"2019-03-08\", \"2019-03-15\", \"2019-03-21\", \"2019-03-22\", \"2019-03-22\", \"2019-04-02\", \"2019-04-05\", \"2019-04-05\", \"2019-04-05\", \"2019-04-09\", \"2019-04-09\", \"2019-04-12\", \"2019-04-24\", \"2019-05-03\", \"2019-05-03\", \"2019-05-08\", \"2019-05-10\", \"2019-05-10\", \"2019-05-13\", \"2019-05-13\", \"2019-05-17\", \"2019-05-17\", \"2019-05-20\", \"2019-05-24\", \"2019-05-31\", \"2019-06-13\", \"2019-06-17\", \"2019-06-21\", \"2019-06-24\", \"2019-06-25\", \"2019-06-26\", \"2019-06-27\", \"2019-06-28\", \"2019-06-28\", \"2019-06-28\", \"2019-06-28\", \"2019-06-28\", \"2019-07-05\", \"2019-07-08\", \"2019-07-08\", \"2019-07-11\", \"2019-07-19\", \"2019-07-23\", \"2019-07-26\", \"2019-07-26\", \"2019-07-26\", \"2019-07-31\", \"2019-08-02\", \"2019-08-02\", \"2019-08-06\", \"2019-08-08\", \"2019-08-08\", \"2019-08-09\", \"2019-08-13\", \"2019-08-23\", \"2019-08-29\", \"2019-08-30\", \"2019-09-02\", \"2019-09-06\", \"2019-09-12\", \"2019-09-13\", \"2019-09-13\", \"2019-09-16\", \"2019-09-16\", \"2019-09-20\", \"2019-09-25\", \"2019-09-27\", \"2019-09-30\", \"2019-10-01\", \"2019-10-02\", \"2019-10-03\", \"2019-10-04\", \"2019-10-18\", \"2019-10-18\", \"2019-10-18\", \"2019-10-24\", \"2019-10-24\", \"2019-10-25\", \"2019-10-28\", \"2019-10-29\", \"2019-11-01\", \"2019-11-13\", \"2019-11-13\", \"2019-11-18\", \"2019-11-22\", \"2019-11-27\", \"2019-11-27\", \"2019-11-29\", \"2019-11-30\", \"2019-12-10\", \"2019-12-13\", \"2019-12-13\", \"2019-12-16\", \"2019-12-16\", \"2019-12-19\", \"2019-12-19\", \"2020-01-03\", \"2020-01-03\", \"2020-01-10\", \"2020-01-16\", \"2020-01-27\", \"2020-01-31\", \"2020-01-31\", \"2020-01-31\", \"2020-01-31\", \"2020-02-14\", \"2020-02-28\", \"2020-02-28\", \"2020-02-28\", \"2020-03-13\", \"2020-03-16\", \"2020-03-20\", \"2020-03-27\", \"2020-03-27\", \"2020-04-03\", \"2020-04-14\", \"2020-05-01\", \"2020-05-01\", \"2020-05-14\", \"2020-05-15\", \"2020-05-20\", \"2020-05-29\", \"2020-05-29\", \"2020-05-29\", \"2020-05-29\", \"2020-07-17\"], \"y\": [220000, 186000, 226000, 199000, 195000, 185000, 224000, 177000, 193000, 245000, 200000, 181500, 210000, 237500, 205000, 242500, 191000, 280000, 250000, 203000, 185000, 181500, 249995, 195000, 193000, 186000, 178000, 249950, 190000, 189500, 175000, 171000, 184000, 178200, 192000, 199000, 188000, 210000, 227500, 195000, 224500, 222000, 175000, 240000, 179995, 231000, 175000, 185000, 230000, 172000, 188000, 186500, 174950, 229500, 199000, 230000, 186000, 176000, 195000, 191000, 205000, 235500, 234000, 173000, 173750, 204000, 265000, 188000, 182000, 216000, 209500, 241500, 178000, 270000, 233000, 174000, 185000, 257000, 250000, 173000, 285000, 235000, 195000, 181000, 250000, 180000, 178000, 241500, 220000, 208500, 231000, 180000, 195000, 187500, 218500, 207000, 232000, 235000, 235000, 179950, 229995, 175000, 229000, 185000, 305000, 208000, 192500, 202000, 285000, 183000, 190000, 189995, 210000, 229500, 213345, 242000, 240000, 185000, 178000, 242000, 199950, 184500, 205000, 239000, 187500, 206000, 188950, 207000, 215000, 205000, 270000, 325000, 185000, 210000, 189950, 185000, 186000, 219950, 205000, 320000, 250000, 327000, 330000, 231000, 265000, 235000, 224995, 256500, 195000, 207500, 220500, 253500, 310000, 229995, 270000, 233000, 237500, 230000, 315000, 277000, 220000, 229995, 235000, 230000, 221000, 227000, 281500, 245000, 242000, 213000, 275000, 223000, 240000, 288000, 340000, 236500, 234000, 233000, 220500, 207000, 212000, 229000, 236000, 315000, 271000, 220000, 225000, 284950, 227500, 312500, 223000, 249950, 208000, 284995, 286000, 290000, 300000, 238002, 242000, 340000, 226950, 337000, 229950, 324995, 216000, 285000, 289950, 249950, 331500, 269000, 218500, 290000, 260000, 245000, 210000, 244950, 270000, 315000, 227500, 252000, 255000, 259500, 280000, 227000, 233000, 315000, 240000, 253000, 230000, 238000, 325000, 245000, 214000, 257500, 238000, 233000, 230000, 310000, 220000, 226000, 230000, 342500, 243000, 300000, 229950, 295000, 239000, 307000, 238000, 330000, 277000, 234950, 236000, 240000, 270000, 235000, 215000, 285000, 206500, 233500, 235000, 277000, 250000, 239950, 226000, 259000, 246500, 345000, 245000, 247000, 230000, 242000, 245000, 245000, 280000, 258000, 252000, 226000, 296000, 205500, 315000, 234995, 233000, 299950, 218000, 250000, 227000, 233500, 232500, 245000, 245000, 247500, 285000, 290000, 230000, 339950, 254000, 260000, 238000, 233000, 275000, 255000, 322500, 250000, 235000, 212500, 231000, 265000, 275000, 242500, 238000, 310000, 243000, 340000, 247000, 255000, 250000, 249000, 255000, 280000, 239000, 210000, 295000, 340000, 242500, 245950, 220000, 333000, 310000, 258000, 238500, 215000, 310000, 252000, 211000, 300000, 243000, 245000, 270000, 250000, 229995, 235000, 229000, 241000, 345000, 325000, 263000, 245000, 228000, 306000, 300000, 252500, 249950, 227000, 230000, 240000, 315000, 240000, 250000, 249995, 247500, 240000, 282000, 234000, 323000, 222500, 243500, 285000, 245000, 337000, 214000, 255000, 303000, 231000, 235000, 255000, 250000, 325000, 232000, 297950, 252000, 225000, 245000, 345000, 255000, 232000, 305000, 284000, 265000, 230000, 255000, 340000, 240000, 240000, 270000, 260000, 283000, 250000, 220000, 256000, 273000, 249000, 270000, 255000, 230000, 280000, 309950, 232000, 250000, 239000, 234000, 229950, 233000, 252750, 225000, 318000, 208000, 275000, 325000, 235000, 247500, 230000, 230000, 218000, 283000, 295000, 259950, 207000, 270000, 332500, 219995, 268000, 337500, 250000, 230000, 250000, 210000, 330000, 245500, 305000, 215500, 257000, 305000, 289000, 232000, 325000, 252000, 238500, 220000, 335000, 289500, 300000, 231000, 304000, 232000, 297000, 325000, 247000, 270000, 231500, 245000, 300000, 232000, 276500, 340000, 302000, 346000, 260000, 310000, 238500, 233500, 227000, 270000, 290000, 324995, 242500, 240000, 230000, 230000, 252500, 282500, 240000, 225250, 304500, 283000, 252500, 242000, 245000, 261000, 263000, 250000, 224500, 251500, 247000, 232500, 226000, 240000, 265000, 315000, 249950, 265000, 310000, 340000, 245000, 340000, 255000, 220000, 242000, 233500, 321000, 255000, 232500, 296000, 217000, 232000, 348000, 296000, 280000, 230000, 285000, 250000, 237000, 270000, 270000, 310000, 255000, 295000, 208000, 294000, 266000, 240000, 220000, 253000, 279000, 239950, 234950, 235000, 290000, 240000, 226250, 275000, 290000, 312500, 260000, 349950, 345000, 207500, 315000, 265000, 245000, 265000, 246000, 242000, 230000, 350000, 255000, 317000, 255000, 330000, 230000, 240000, 310000, 305000, 260000, 315000, 236000, 235000, 280000, 330000, 250000, 226000, 250000, 255000, 322000, 237000, 305000, 325000, 244000, 238000, 245000, 250000, 235000, 249000, 238000, 234000, 247500, 280000, 235000, 252000, 249000, 248500, 249000, 260000, 272500, 265000, 220000, 235000, 290000, 234000, 298000, 242000, 230000, 325000, 220000, 230000, 320000, 280000, 340000, 247000, 235000, 248000, 208000, 243000, 245000, 340000, 209995, 247500, 258000, 310000, 250000, 325000, 222000, 280000, 233000, 257000, 240000, 265000, 248000, 300000, 235000, 237500, 245000, 251000, 232500, 326500, 235000, 220000, 226500, 265000, 312000, 348000, 227000, 242250, 265000, 253000, 290000, 260000, 223000, 240000, 307500, 325000]}, {\"mode\": \"lines\", \"name\": \"Rolling Average\", \"type\": \"scatter\", \"x\": [\"2004-06-11\", \"2007-01-31\", \"2007-10-12\", \"2008-07-16\", \"2009-11-24\", \"2010-06-25\", \"2011-04-15\", \"2011-11-04\", \"2013-04-26\", \"2013-10-03\", \"2014-04-25\", \"2014-09-12\", \"2014-12-04\", \"2015-02-23\", \"2015-07-07\", \"2016-01-08\", \"2016-02-12\", \"2016-02-26\", \"2016-03-30\", \"2016-04-29\", \"2016-06-02\", \"2016-06-17\", \"2016-07-15\", \"2016-08-05\", \"2016-08-30\", \"2016-09-16\", \"2016-10-04\", \"2016-11-10\", \"2016-12-08\", \"2017-01-17\", \"2017-02-10\", \"2017-03-17\", \"2017-04-21\", \"2017-05-25\", \"2017-07-07\", \"2017-08-04\", \"2017-08-18\", \"2017-09-20\", \"2017-10-12\", \"2017-11-03\", \"2017-12-04\", \"2017-12-15\", \"2018-01-26\", \"2018-02-21\", \"2018-04-12\", \"2018-05-24\", \"2018-07-11\", \"2018-08-24\", \"2018-10-15\", \"2018-11-09\", \"2018-11-30\", \"2018-12-18\", \"2019-02-14\", \"2019-04-02\", \"2019-05-08\", \"2019-06-13\", \"2019-06-28\", \"2019-07-26\", \"2019-08-29\", \"2019-09-25\", \"2019-10-24\", \"2019-11-27\", \"2019-12-19\", \"2020-02-14\", \"2020-04-14\", \"2020-07-17\"], \"y\": [null, 203000.0, 218550.0, 198794.5, 196920.0, 199799.5, 197295.0, 208075.0, 224650.0, 212000.0, 209994.5, 215450.0, 212979.0, 210795.0, 227590.0, 249249.5, 257599.5, 239949.5, 243400.0, 254395.0, 266589.7, 275184.5, 256945.0, 260050.0, 240350.0, 280145.0, 239095.0, 256545.0, 256450.0, 241894.5, 265245.0, 252650.0, 266800.0, 269295.0, 252599.5, 271700.0, 250194.5, 262600.0, 263595.0, 264100.0, 263200.0, 254895.0, 254920.0, 254544.5, 264150.0, 274300.0, 268250.0, 283850.0, 258949.5, 256625.0, 251645.0, 276150.0, 266650.0, 264500.0, 249315.0, 285495.0, 269500.0, 274700.0, 267100.0, 246800.0, 256550.0, 267500.0, 263649.5, 251750.0, 266150.0, 263275.0]}],                        {\"template\": {\"data\": {\"bar\": [{\"error_x\": {\"color\": \"#2a3f5f\"}, \"error_y\": {\"color\": \"#2a3f5f\"}, \"marker\": {\"line\": {\"color\": \"#E5ECF6\", \"width\": 0.5}}, \"type\": \"bar\"}], \"barpolar\": [{\"marker\": {\"line\": {\"color\": \"#E5ECF6\", \"width\": 0.5}}, \"type\": \"barpolar\"}], \"carpet\": [{\"aaxis\": {\"endlinecolor\": \"#2a3f5f\", \"gridcolor\": \"white\", \"linecolor\": \"white\", \"minorgridcolor\": \"white\", \"startlinecolor\": \"#2a3f5f\"}, \"baxis\": {\"endlinecolor\": \"#2a3f5f\", \"gridcolor\": \"white\", \"linecolor\": \"white\", \"minorgridcolor\": \"white\", \"startlinecolor\": \"#2a3f5f\"}, \"type\": \"carpet\"}], \"choropleth\": [{\"colorbar\": {\"outlinewidth\": 0, \"ticks\": \"\"}, \"type\": \"choropleth\"}], \"contour\": [{\"colorbar\": {\"outlinewidth\": 0, \"ticks\": \"\"}, \"colorscale\": [[0.0, \"#0d0887\"], [0.1111111111111111, \"#46039f\"], [0.2222222222222222, \"#7201a8\"], [0.3333333333333333, \"#9c179e\"], [0.4444444444444444, \"#bd3786\"], [0.5555555555555556, \"#d8576b\"], [0.6666666666666666, \"#ed7953\"], [0.7777777777777778, \"#fb9f3a\"], [0.8888888888888888, \"#fdca26\"], [1.0, \"#f0f921\"]], \"type\": \"contour\"}], \"contourcarpet\": [{\"colorbar\": {\"outlinewidth\": 0, \"ticks\": \"\"}, \"type\": \"contourcarpet\"}], \"heatmap\": [{\"colorbar\": {\"outlinewidth\": 0, \"ticks\": \"\"}, \"colorscale\": [[0.0, \"#0d0887\"], [0.1111111111111111, \"#46039f\"], [0.2222222222222222, \"#7201a8\"], [0.3333333333333333, \"#9c179e\"], [0.4444444444444444, \"#bd3786\"], [0.5555555555555556, \"#d8576b\"], [0.6666666666666666, \"#ed7953\"], [0.7777777777777778, \"#fb9f3a\"], [0.8888888888888888, \"#fdca26\"], [1.0, \"#f0f921\"]], \"type\": \"heatmap\"}], \"heatmapgl\": [{\"colorbar\": {\"outlinewidth\": 0, \"ticks\": \"\"}, \"colorscale\": [[0.0, \"#0d0887\"], [0.1111111111111111, \"#46039f\"], [0.2222222222222222, \"#7201a8\"], [0.3333333333333333, \"#9c179e\"], [0.4444444444444444, \"#bd3786\"], [0.5555555555555556, \"#d8576b\"], [0.6666666666666666, \"#ed7953\"], [0.7777777777777778, \"#fb9f3a\"], [0.8888888888888888, \"#fdca26\"], [1.0, \"#f0f921\"]], \"type\": \"heatmapgl\"}], \"histogram\": [{\"marker\": {\"colorbar\": {\"outlinewidth\": 0, \"ticks\": \"\"}}, \"type\": \"histogram\"}], \"histogram2d\": [{\"colorbar\": {\"outlinewidth\": 0, \"ticks\": \"\"}, \"colorscale\": [[0.0, \"#0d0887\"], [0.1111111111111111, \"#46039f\"], [0.2222222222222222, \"#7201a8\"], [0.3333333333333333, \"#9c179e\"], [0.4444444444444444, \"#bd3786\"], [0.5555555555555556, \"#d8576b\"], [0.6666666666666666, \"#ed7953\"], [0.7777777777777778, \"#fb9f3a\"], [0.8888888888888888, \"#fdca26\"], [1.0, \"#f0f921\"]], \"type\": \"histogram2d\"}], \"histogram2dcontour\": [{\"colorbar\": {\"outlinewidth\": 0, \"ticks\": \"\"}, \"colorscale\": [[0.0, \"#0d0887\"], [0.1111111111111111, \"#46039f\"], [0.2222222222222222, \"#7201a8\"], [0.3333333333333333, \"#9c179e\"], [0.4444444444444444, \"#bd3786\"], [0.5555555555555556, \"#d8576b\"], [0.6666666666666666, \"#ed7953\"], [0.7777777777777778, \"#fb9f3a\"], [0.8888888888888888, \"#fdca26\"], [1.0, \"#f0f921\"]], \"type\": \"histogram2dcontour\"}], \"mesh3d\": [{\"colorbar\": {\"outlinewidth\": 0, \"ticks\": \"\"}, \"type\": \"mesh3d\"}], \"parcoords\": [{\"line\": {\"colorbar\": {\"outlinewidth\": 0, \"ticks\": \"\"}}, \"type\": \"parcoords\"}], \"pie\": [{\"automargin\": true, \"type\": \"pie\"}], \"scatter\": [{\"marker\": {\"colorbar\": {\"outlinewidth\": 0, \"ticks\": \"\"}}, \"type\": \"scatter\"}], \"scatter3d\": [{\"line\": {\"colorbar\": {\"outlinewidth\": 0, \"ticks\": \"\"}}, \"marker\": {\"colorbar\": {\"outlinewidth\": 0, \"ticks\": \"\"}}, \"type\": \"scatter3d\"}], \"scattercarpet\": [{\"marker\": {\"colorbar\": {\"outlinewidth\": 0, \"ticks\": \"\"}}, \"type\": \"scattercarpet\"}], \"scattergeo\": [{\"marker\": {\"colorbar\": {\"outlinewidth\": 0, \"ticks\": \"\"}}, \"type\": \"scattergeo\"}], \"scattergl\": [{\"marker\": {\"colorbar\": {\"outlinewidth\": 0, \"ticks\": \"\"}}, \"type\": \"scattergl\"}], \"scattermapbox\": [{\"marker\": {\"colorbar\": {\"outlinewidth\": 0, \"ticks\": \"\"}}, \"type\": \"scattermapbox\"}], \"scatterpolar\": [{\"marker\": {\"colorbar\": {\"outlinewidth\": 0, \"ticks\": \"\"}}, \"type\": \"scatterpolar\"}], \"scatterpolargl\": [{\"marker\": {\"colorbar\": {\"outlinewidth\": 0, \"ticks\": \"\"}}, \"type\": \"scatterpolargl\"}], \"scatterternary\": [{\"marker\": {\"colorbar\": {\"outlinewidth\": 0, \"ticks\": \"\"}}, \"type\": \"scatterternary\"}], \"surface\": [{\"colorbar\": {\"outlinewidth\": 0, \"ticks\": \"\"}, \"colorscale\": [[0.0, \"#0d0887\"], [0.1111111111111111, \"#46039f\"], [0.2222222222222222, \"#7201a8\"], [0.3333333333333333, \"#9c179e\"], [0.4444444444444444, \"#bd3786\"], [0.5555555555555556, \"#d8576b\"], [0.6666666666666666, \"#ed7953\"], [0.7777777777777778, \"#fb9f3a\"], [0.8888888888888888, \"#fdca26\"], [1.0, \"#f0f921\"]], \"type\": \"surface\"}], \"table\": [{\"cells\": {\"fill\": {\"color\": \"#EBF0F8\"}, \"line\": {\"color\": \"white\"}}, \"header\": {\"fill\": {\"color\": \"#C8D4E3\"}, \"line\": {\"color\": \"white\"}}, \"type\": \"table\"}]}, \"layout\": {\"annotationdefaults\": {\"arrowcolor\": \"#2a3f5f\", \"arrowhead\": 0, \"arrowwidth\": 1}, \"coloraxis\": {\"colorbar\": {\"outlinewidth\": 0, \"ticks\": \"\"}}, \"colorscale\": {\"diverging\": [[0, \"#8e0152\"], [0.1, \"#c51b7d\"], [0.2, \"#de77ae\"], [0.3, \"#f1b6da\"], [0.4, \"#fde0ef\"], [0.5, \"#f7f7f7\"], [0.6, \"#e6f5d0\"], [0.7, \"#b8e186\"], [0.8, \"#7fbc41\"], [0.9, \"#4d9221\"], [1, \"#276419\"]], \"sequential\": [[0.0, \"#0d0887\"], [0.1111111111111111, \"#46039f\"], [0.2222222222222222, \"#7201a8\"], [0.3333333333333333, \"#9c179e\"], [0.4444444444444444, \"#bd3786\"], [0.5555555555555556, \"#d8576b\"], [0.6666666666666666, \"#ed7953\"], [0.7777777777777778, \"#fb9f3a\"], [0.8888888888888888, \"#fdca26\"], [1.0, \"#f0f921\"]], \"sequentialminus\": [[0.0, \"#0d0887\"], [0.1111111111111111, \"#46039f\"], [0.2222222222222222, \"#7201a8\"], [0.3333333333333333, \"#9c179e\"], [0.4444444444444444, \"#bd3786\"], [0.5555555555555556, \"#d8576b\"], [0.6666666666666666, \"#ed7953\"], [0.7777777777777778, \"#fb9f3a\"], [0.8888888888888888, \"#fdca26\"], [1.0, \"#f0f921\"]]}, \"colorway\": [\"#636efa\", \"#EF553B\", \"#00cc96\", \"#ab63fa\", \"#FFA15A\", \"#19d3f3\", \"#FF6692\", \"#B6E880\", \"#FF97FF\", \"#FECB52\"], \"font\": {\"color\": \"#2a3f5f\"}, \"geo\": {\"bgcolor\": \"white\", \"lakecolor\": \"white\", \"landcolor\": \"#E5ECF6\", \"showlakes\": true, \"showland\": true, \"subunitcolor\": \"white\"}, \"hoverlabel\": {\"align\": \"left\"}, \"hovermode\": \"closest\", \"mapbox\": {\"style\": \"light\"}, \"paper_bgcolor\": \"white\", \"plot_bgcolor\": \"#E5ECF6\", \"polar\": {\"angularaxis\": {\"gridcolor\": \"white\", \"linecolor\": \"white\", \"ticks\": \"\"}, \"bgcolor\": \"#E5ECF6\", \"radialaxis\": {\"gridcolor\": \"white\", \"linecolor\": \"white\", \"ticks\": \"\"}}, \"scene\": {\"xaxis\": {\"backgroundcolor\": \"#E5ECF6\", \"gridcolor\": \"white\", \"gridwidth\": 2, \"linecolor\": \"white\", \"showbackground\": true, \"ticks\": \"\", \"zerolinecolor\": \"white\"}, \"yaxis\": {\"backgroundcolor\": \"#E5ECF6\", \"gridcolor\": \"white\", \"gridwidth\": 2, \"linecolor\": \"white\", \"showbackground\": true, \"ticks\": \"\", \"zerolinecolor\": \"white\"}, \"zaxis\": {\"backgroundcolor\": \"#E5ECF6\", \"gridcolor\": \"white\", \"gridwidth\": 2, \"linecolor\": \"white\", \"showbackground\": true, \"ticks\": \"\", \"zerolinecolor\": \"white\"}}, \"shapedefaults\": {\"line\": {\"color\": \"#2a3f5f\"}}, \"ternary\": {\"aaxis\": {\"gridcolor\": \"white\", \"linecolor\": \"white\", \"ticks\": \"\"}, \"baxis\": {\"gridcolor\": \"white\", \"linecolor\": \"white\", \"ticks\": \"\"}, \"bgcolor\": \"#E5ECF6\", \"caxis\": {\"gridcolor\": \"white\", \"linecolor\": \"white\", \"ticks\": \"\"}}, \"title\": {\"x\": 0.05}, \"xaxis\": {\"automargin\": true, \"gridcolor\": \"white\", \"linecolor\": \"white\", \"ticks\": \"\", \"title\": {\"standoff\": 15}, \"zerolinecolor\": \"white\", \"zerolinewidth\": 2}, \"yaxis\": {\"automargin\": true, \"gridcolor\": \"white\", \"linecolor\": \"white\", \"ticks\": \"\", \"title\": {\"standoff\": 15}, \"zerolinecolor\": \"white\", \"zerolinewidth\": 2}}}},                        {\"responsive\": true}                    ).then(function(){\n",
       "                            \n",
       "var gd = document.getElementById('fbb3da3f-890c-4f5f-a32a-5107407d18c9');\n",
       "var x = new MutationObserver(function (mutations, observer) {{\n",
       "        var display = window.getComputedStyle(gd).display;\n",
       "        if (!display || display === 'none') {{\n",
       "            console.log([gd, 'removed!']);\n",
       "            Plotly.purge(gd);\n",
       "            observer.disconnect();\n",
       "        }}\n",
       "}});\n",
       "\n",
       "// Listen for the removal of the full notebook cells\n",
       "var notebookContainer = gd.closest('#notebook-container');\n",
       "if (notebookContainer) {{\n",
       "    x.observe(notebookContainer, {childList: true});\n",
       "}}\n",
       "\n",
       "// Listen for the clearing of the current output cell\n",
       "var outputEl = gd.closest('.output');\n",
       "if (outputEl) {{\n",
       "    x.observe(outputEl, {childList: true});\n",
       "}}\n",
       "\n",
       "                        })                };                });            </script>        </div>"
      ]
     },
     "metadata": {},
     "output_type": "display_data"
    }
   ],
   "source": [
    "r_val_2 = 10\n",
    "\n",
    "data_2 = yearly.loc[(yearly['ward_name'] == 'Priory Vale')].copy().sort_values('date_sold')\n",
    "data_2['rolling_average'] = data_2['price'].rolling(r_val_2).mean()\n",
    "\n",
    "\n",
    "data_2_slice = data_2.iloc[:: r_val_2, : ]\n",
    "figure = go.Figure()\n",
    "figure = figure.add_trace(go.Scatter(x=data_2['date_sold'], y=data_2['price'], mode='markers', name='Price'))\n",
    "figure = figure.add_trace(go.Scatter(x=data_2_slice['date_sold'], y=data_2_slice['rolling_average'], mode='lines', name='Rolling Average'))\n",
    "figure.show()"
   ]
  },
  {
   "cell_type": "code",
   "execution_count": null,
   "metadata": {},
   "outputs": [],
   "source": []
  },
  {
   "cell_type": "code",
   "execution_count": null,
   "metadata": {},
   "outputs": [],
   "source": []
  },
  {
   "cell_type": "code",
   "execution_count": null,
   "metadata": {},
   "outputs": [],
   "source": []
  },
  {
   "cell_type": "code",
   "execution_count": null,
   "metadata": {},
   "outputs": [],
   "source": []
  },
  {
   "cell_type": "code",
   "execution_count": null,
   "metadata": {},
   "outputs": [],
   "source": []
  },
  {
   "cell_type": "code",
   "execution_count": null,
   "metadata": {},
   "outputs": [],
   "source": []
  },
  {
   "cell_type": "code",
   "execution_count": null,
   "metadata": {},
   "outputs": [],
   "source": [
    "# ward_names = yearly['ward_name'].unique()\n",
    "# ward_dict = {}\n",
    "\n",
    "\n",
    "\n",
    "# for ward in ward_names:\n",
    "#     df = yearly.loc[yearly['ward_name'] == ward]\n",
    "#     if len(df) > 600:\n",
    "#         print (ward)\n",
    "#         corr = df['price'].corr(df['year_sold'])\n",
    "#         if corr > 0.5:\n",
    "#             ward_dict.update({ward:corr})\n",
    "                            \n",
    "# ward_dict"
   ]
  },
  {
   "cell_type": "code",
   "execution_count": null,
   "metadata": {
    "scrolled": true
   },
   "outputs": [],
   "source": [
    "temp = pd.read_csv('temp.csv')\n",
    "\n",
    "temp['year_month'] = temp['Date'].apply(lambda x: dt.strptime(str(x), \"%Y%m\"))\n",
    "temp['year_month'] = pd.to_datetime(temp['year_month'], utc=True).dt.to_period('M').copy().astype(str)\n",
    "\n"
   ]
  },
  {
   "cell_type": "code",
   "execution_count": null,
   "metadata": {},
   "outputs": [],
   "source": [
    "temp = temp[['Value', 'year_month']].set_index('year_month')"
   ]
  },
  {
   "cell_type": "code",
   "execution_count": null,
   "metadata": {},
   "outputs": [],
   "source": [
    "rolling_temp = temp.copy()\n",
    "# rolling_temp.drop('Value', axis=1, inplace=True)\n",
    "\n",
    "\n",
    "# rolling_temp['rolling'] = temp['Value'].rolling(12).mean()\n",
    "\n",
    "\n",
    "\n"
   ]
  },
  {
   "cell_type": "code",
   "execution_count": null,
   "metadata": {},
   "outputs": [],
   "source": [
    "figure = go.Figure()\n",
    "\n",
    "figure = figure.add_trace(go.Scatter(x=temp.index, y=temp['Value'], mode='markers', name='Temperature'))\n",
    "\n",
    "for i in range(3, 15, 3):\n",
    "    rolling_temp['rolling' + str(i)] = temp['Value'].rolling(i).mean()\n",
    "    rolling_temp_slice = rolling_temp.iloc[::i, :]\n",
    "    figure = figure.add_trace(go.Scatter(x=rolling_temp_slice.index, y=rolling_temp_slice['rolling' + str(i)], mode='markers+lines', name='Rolling Average' + str(i)))\n",
    "\n",
    "figure.update_layout(xaxis_title='Date',\n",
    "yaxis_title='Temperature - F')\n",
    "\n",
    "rolling_temp"
   ]
  },
  {
   "cell_type": "code",
   "execution_count": null,
   "metadata": {},
   "outputs": [],
   "source": [
    "test = [[3] * 100]"
   ]
  },
  {
   "cell_type": "code",
   "execution_count": null,
   "metadata": {},
   "outputs": [],
   "source": [
    "data = {'X': randint(0, 50, 50),\n",
    "        \"Y\": randint(0, 25, 50),\n",
    "        'class': 1}\n",
    "\n",
    "data2= {'X': randint(50, 100, 50),\n",
    "        \"Y\": randint(25, 50, 25),\n",
    "        'class': 2}\n",
    "\n",
    "data3= {'X': randint(100, 150, 50),\n",
    "        \"Y\": randint(50, 75, 25),\n",
    "        'class': 3}\n",
    "\n",
    "k_prac = pd.DataFrame([data], index=range(0, 50))\n",
    "k_prac"
   ]
  },
  {
   "cell_type": "code",
   "execution_count": null,
   "metadata": {},
   "outputs": [],
   "source": [
    "fig = go.Figure()\n",
    "colors = ['blue', 'yellow', 'red'] \n",
    "shapes = ['circle', 'diamond', 'square']\n",
    "\n",
    "for c, col, shape in zip (list(k_prac['class'].unique()), colors, shapes):\n",
    "    temp_df = k_prac.loc[k_prac['class'] == c]\n",
    "    fig = fig.add_trace(go.Scatter(x=temp_df.X,\n",
    "                            y=temp_df.Y, name=str(c), mode='markers', marker=dict(symbol=shape, color=col)))\n",
    "fig.show()"
   ]
  },
  {
   "cell_type": "code",
   "execution_count": null,
   "metadata": {},
   "outputs": [],
   "source": [
    "\n",
    "\n",
    "x_2d = k_prac[['X', 'Y']]\n",
    "y_2d = k_prac['class']\n",
    "best_score = 0\n",
    "best_i = 0\n",
    "X_train, X_test, y_train, y_test = train_test_split(x_2d, y_2d, random_state=0)\n",
    "for i in range(2, 37):\n",
    "    model = KNeighborsClassifier(n_neighbors=i)\n",
    "    fit = model.fit(X_train, y_train)\n",
    "    score = model.score(X_train, y_train)\n",
    "    print (i, score)\n",
    "    if score > best_score:\n",
    "        best_i = i\n",
    "        best_score = score\n",
    "\n",
    "print (best_i, best_score)\n",
    "model = KNeighborsClassifier(n_neighbors=best_i)\n",
    "model.fit(X_train, y_train)\n",
    "\n",
    "\n",
    "fig.add_trace(go.Scatter(x=[20], y=[30], name=str(model.predict([[20, 30]]))))"
   ]
  },
  {
   "cell_type": "code",
   "execution_count": null,
   "metadata": {},
   "outputs": [],
   "source": []
  }
 ],
 "metadata": {
  "kernelspec": {
   "display_name": "Python 3",
   "language": "python",
   "name": "python3"
  },
  "language_info": {
   "codemirror_mode": {
    "name": "ipython",
    "version": 3
   },
   "file_extension": ".py",
   "mimetype": "text/x-python",
   "name": "python",
   "nbconvert_exporter": "python",
   "pygments_lexer": "ipython3",
   "version": "3.7.6"
  }
 },
 "nbformat": 4,
 "nbformat_minor": 4
}
