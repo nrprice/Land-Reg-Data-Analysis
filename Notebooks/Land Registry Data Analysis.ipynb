{
 "cells": [
  {
   "cell_type": "markdown",
   "metadata": {},
   "source": [
    "# bootstrapping\n",
    "# naeive forecast\n",
    "# moving average for week vs year"
   ]
  },
  {
   "cell_type": "markdown",
   "metadata": {},
   "source": [
    "# <center> Land Reg </center>"
   ]
  },
  {
   "cell_type": "markdown",
   "metadata": {},
   "source": [
    "# <center> What areas that I can afford now, have posted the best returns for the past 10 years? </center>"
   ]
  },
  {
   "cell_type": "markdown",
   "metadata": {},
   "source": [
    "## <center> Variables </center> \n",
    "\n",
    "<i>area</i> refers to the options for area selection present in the postcode data. <p>The options are listed in order of descending size:\n",
    "        <ul>\n",
    "            <li><i>county_name</i></li>\n",
    "            <li><i>town/city</i></li>\n",
    "            <li><i>ward_name</i></li>\n",
    "            <li><i>postcode</i></li>\n",
    "            <li><i>MSOA</i></li>\n",
    "            <li><i>LSOA</i></li>\n",
    "        </ul>\n",
    "\n",
    "The further down the list you go, the more targeted the area. \n",
    "\n",
    "<i>target</i> is the metric to be compared in all future functions. <p>The options are:\n",
    "        <ul>\n",
    "            <li><i>pct_change</i> - Percentage Change</li>\n",
    "            <li><i>price_diff</i> - Difference in Price year on year</li>\n",
    "            <li><i>price</i> - House Price</li>\n",
    "        </ul>\n",
    "        \n",
    "<i>year_min</i> & <i>year_max</i> are variables that set the range future functions will search and compare.<p>\n",
    "<i>budget_min</i> & <i>budget_max</i> sets your budget for future functions"
   ]
  },
  {
   "cell_type": "code",
   "execution_count": null,
   "metadata": {},
   "outputs": [],
   "source": [
    "import os\n",
    "\n",
    "target = 'pct_change'\n",
    "area = 'MSOA'\n",
    "\n",
    "year_min = 2000\n",
    "year_max = 2020\n",
    "budget_min = 200000\n",
    "budget_max = 350000\n",
    "property_type_dict = {\"D\": 'Detached', \"F\": \"Flat\", 'S':'Semi', 'T': \"Terrace\"}\n",
    "regen_folder = os.getcwd().replace(\"Notebooks\", \"Text Files\") \n",
    "csv_folder = os.getcwd().replace(\"Notebooks\", \"CSVs\")\n",
    "notebook_folder = os.getcwd()\n",
    "%store target\n",
    "%store area\n",
    "%store year_min\n",
    "%store year_max\n",
    "%store budget_min\n",
    "%store budget_max\n",
    "%store csv_folder"
   ]
  },
  {
   "cell_type": "code",
   "execution_count": null,
   "metadata": {},
   "outputs": [],
   "source": [
    "from IPython.core.interactiveshell import InteractiveShell\n",
    "InteractiveShell.ast_node_interactivity = \"all\"\n",
    "\n",
    "import math\n",
    "\n",
    "import os.path\n",
    "\n",
    "from datetime import datetime as dt\n",
    "from dateutil.relativedelta import relativedelta\n",
    "\n",
    "import pandas as pd\n",
    "pd.set_option(\"display.max_columns\", 50)\n",
    "pd.set_option(\"display.max_rows\", 400000)\n",
    "pd.set_option(\"display.width\", 1000)\n",
    "\n",
    "from matplotlib import pyplot as plt\n",
    "import matplotlib.ticker as mtick\n",
    "%matplotlib inline\n",
    "plt.rcParams['figure.figsize'] = [20, 10]\n",
    "\n",
    "import numpy as np\n",
    "\n",
    "from sklearn.linear_model import LinearRegression, TheilSenRegressor\n",
    "from sklearn.model_selection import train_test_split\n",
    "from scipy import stats\n",
    "from sklearn.metrics import r2_score\n",
    "\n",
    "from sklearn.preprocessing import MinMaxScaler\n",
    "from sklearn.neighbors import KNeighborsClassifier, KNeighborsRegressor\n",
    "from sklearn.model_selection import train_test_split\n",
    "\n",
    "import seaborn as sns\n",
    "\n",
    "import plotly as py\n",
    "from plotly.subplots import make_subplots\n",
    "import plotly.graph_objs as go\n",
    "import plotly.express as px\n",
    "\n",
    "font = {'family' : 'arial',\n",
    "        'weight' : 'normal',\n",
    "        'size'   : 18}\n",
    "\n",
    "plt.rc('font', **font)\n",
    "\n"
   ]
  },
  {
   "cell_type": "code",
   "execution_count": null,
   "metadata": {},
   "outputs": [],
   "source": [
    "os.chdir(csv_folder)\n",
    "\n",
    "file_list = ['all_properties_and_postcodes.csv','entire_period_filtered.csv', 'filtered_df.csv']\n",
    "\n",
    "file_check = True\n",
    "\n",
    "for file in file_list:\n",
    "    if os.path.isfile(file):\n",
    "        print (f'Found {file}')\n",
    "    else:\n",
    "        file_check = False\n",
    "        print (f\"Did not find {file}\")\n",
    "        break"
   ]
  },
  {
   "cell_type": "code",
   "execution_count": null,
   "metadata": {},
   "outputs": [],
   "source": [
    "if file_check:\n",
    "    print('Reading all_properties_and_postcodes.csv')\n",
    "    all_properties_and_postcodes = pd.read_csv('all_properties_and_postcodes.csv', low_memory=False)\n",
    "    \n",
    "    print('Reading filtered_df.csv')\n",
    "    filtered_df = pd.read_csv('filtered_df.csv', low_memory=False)\n",
    "    \n",
    "    print('Reading entire_period_filtered.csv')\n",
    "    entire_period_filtered = pd.read_csv('entire_period_filtered.csv', low_memory=False)\n",
    "    \n",
    "else:\n",
    "    print('CSV not found. Running notebook.')\n",
    "    \n",
    "    %run '/Users/nathanprice/Dropbox/Python/Land-Reg-Data-Analysis/Read & Filter.ipynb'\n",
    "    \n",
    "    all_properties_and_postcodes = pd.read_csv('all_properties_and_postcodes.csv',\n",
    "                                               low_memory=False)\n",
    "    print ('properties_and_postcodes read')\n",
    "    \n",
    "    filtered_df = pd.read_csv('filtered_df.csv',\n",
    "                              low_memory=False)\n",
    "    print ('filtered_df read')\n",
    "    \n",
    "    entire_period_filtered = pd.read_csv('entire_period_filtered.csv',\n",
    "                                         low_memory=False)\n",
    "    print ('entire_period_filtered read \\n')\n",
    "    \n",
    "# parse_dates within read_csv did not work    \n",
    "print ('Recasting date strings to datetime')\n",
    "all_properties_and_postcodes['date_sold'] = pd.to_datetime(all_properties_and_postcodes['date_sold'], format='%Y-%m-%d %H:%M')\n",
    "filtered_df['date_sold'] = pd.to_datetime(filtered_df['date_sold'], format='%Y-%m-%d %H:%M')\n",
    "entire_period_filtered['year_sold_min'] = pd.to_datetime(entire_period_filtered['year_sold_min'], format='%Y-%m-%d %H:%M')\n",
    "entire_period_filtered['year_sold_max'] = pd.to_datetime(entire_period_filtered['year_sold_max'], format='%Y-%m-%d %H:%M')\n",
    "print ('All dates are now datetime objects \\n')\n",
    "\n",
    "os.chdir(notebook_folder)"
   ]
  },
  {
   "cell_type": "markdown",
   "metadata": {},
   "source": [
    "### within_budget_function\n",
    "\n",
    "Due to the need to keep slicing various sections of the data, rather than rewrite this everytime I needed a new slice within the budget & years this does it in much less code.<br>Takes one argument, a dataframe to be filtered. <br> Returns the filtered dataframe. "
   ]
  },
  {
   "cell_type": "code",
   "execution_count": null,
   "metadata": {},
   "outputs": [],
   "source": [
    "def within_budget_function(df):\n",
    "    return df.loc[(df['price'] >= budget_min) & (df['price'] <= budget_max)]"
   ]
  },
  {
   "cell_type": "markdown",
   "metadata": {},
   "source": [
    "### create_grid_cords\n",
    "\n",
    "My solution to being able to automatically create the correct number of subplots for the amount of plots being created. <br>\n",
    "Takes a single argument, top_n. top_n is the amount of total plots needed to be created. <br>\n",
    "Returns a list of coordinates for rows = top_n / 2 and cols = 2"
   ]
  },
  {
   "cell_type": "code",
   "execution_count": null,
   "metadata": {},
   "outputs": [],
   "source": [
    "def create_grid_cords(top_n):\n",
    "    \"\"\"When given the top_n, returns a list of subplot coordinates for top_n amount of plots\"\"\"\n",
    "    \n",
    "    if top_n % 2 != 0:\n",
    "        top_n += 1\n",
    "        \n",
    "    # Appends i to the list twice to create 1, 1, 2, 2\n",
    "    n1 = []\n",
    "    for i in range(1, (top_n // 2) + 1):\n",
    "        n1.append(i)\n",
    "        n1.append(i)\n",
    "    print (\"n1 is\", n1)\n",
    "\n",
    "    # math.floor rounds values down so 1.0 and 1.5 become 1. This gives us a list of 1, 1, 2, 2 etc.\n",
    "#     n1 = [math.floor(x) for x in n1]\n",
    "\n",
    "    # creates a single list of [1, 2] top_n many times\n",
    "    n2 = list(range(1, 3)) * (top_n)\n",
    "    print(\"n2 is\", n2)\n",
    "    # runs across both lists and just returns each iterative value\n",
    "    cords_list = [[x, y] for (x, y) in zip(n1, n2)]\n",
    "\n",
    "    return cords_list"
   ]
  },
  {
   "cell_type": "code",
   "execution_count": null,
   "metadata": {},
   "outputs": [],
   "source": [
    "create_grid_cords(6)"
   ]
  },
  {
   "cell_type": "markdown",
   "metadata": {},
   "source": [
    "### all_properties_and_postcodes\n",
    "\n",
    "<i>all_properties_and_postcodes</i> is a dataframe containing all the land registry data merged with the postcode data. "
   ]
  },
  {
   "cell_type": "code",
   "execution_count": null,
   "metadata": {},
   "outputs": [],
   "source": [
    "all_properties_and_postcodes.head(5)"
   ]
  },
  {
   "cell_type": "code",
   "execution_count": null,
   "metadata": {},
   "outputs": [],
   "source": [
    "figure = sns.displot(data=all_properties_and_postcodes['price'], kde=True, bins=50, height=8, aspect=1.5)\n",
    "plt.xlim(all_properties_and_postcodes['price'].min(), all_properties_and_postcodes['price'].max())\n",
    "plt.title('Distribution of house prices within all_properties_and_postcodes'.title())\n",
    "plt.show();"
   ]
  },
  {
   "cell_type": "code",
   "execution_count": null,
   "metadata": {},
   "outputs": [],
   "source": [
    "cdf = all_properties_and_postcodes.loc[all_properties_and_postcodes['year_sold'] > year_min].copy()\n",
    "cdf = cdf.groupby('price')['address'].count().reset_index()\n",
    "cdf = cdf.rename(columns={'address': 'count'})\n",
    "cdf_total = cdf['count'].sum()\n",
    "cdf['running_total'] = cdf['count'].cumsum()\n",
    "cdf['percentage'] = cdf['running_total'] / cdf_total * 100"
   ]
  },
  {
   "cell_type": "code",
   "execution_count": null,
   "metadata": {},
   "outputs": [],
   "source": [
    "pct_min = float (cdf['percentage'].loc[cdf['price'] == budget_min])\n",
    "pct_max = float (cdf['percentage'].loc[cdf['price'] == budget_max])\n",
    "\n",
    "print (f\"{int(pct_max - pct_min)}% of houses from {year_min} to {year_max} are in your budget of £{str(budget_min)[0:3]},{str(budget_min)[3:]} to £{str(budget_max)[0:3]},{str(budget_max)[3:]}\")\n",
    "\n",
    "cdf.plot(x='price', y='percentage', kind='line', figsize=(10, 8), legend=False, style='r')\n",
    "plt.title('Cumulative Percentage of properties by value'.title(), y = 1.01, fontsize=20)\n",
    "plt.ylabel('percntage of houses'.title(), labelpad=15)\n",
    "plt.xlabel('House price'.title(), labelpad=15)\n",
    "plt.xticks(rotation=25)\n",
    "plt.axvline(x=budget_min, color='blue', linestyle='--')\n",
    "plt.axvline(x=budget_max, color='darkblue', linestyle='--')\n",
    "# plt.axhline(y=pct_min, color='g', linestyle='--')\n",
    "# plt.axhline(y=pct_max, color='b', linestyle='--')\n",
    "plt.legend(['Cumulative Percentage', 'Minimum Budget', 'Maximum Budget'])\n",
    "plt.show();\n",
    "\n",
    "\n"
   ]
  },
  {
   "cell_type": "markdown",
   "metadata": {},
   "source": [
    "### Percentage of Affordable Properties per County\n"
   ]
  },
  {
   "cell_type": "code",
   "execution_count": null,
   "metadata": {},
   "outputs": [],
   "source": [
    "area_total = all_properties_and_postcodes.groupby(['county_name']).agg(total=('price', 'count')).reset_index()\n",
    "\n",
    "df_within_budget = within_budget_function(all_properties_and_postcodes)\n",
    "\n",
    "df_within_budget = df_within_budget.groupby(['county_name']).agg(count=('price', 'count')).reset_index()\n",
    "\n",
    "compare_counts = df_within_budget.merge(area_total, on='county_name')\n",
    "\n",
    "compare_counts['percentage'] = compare_counts['count'] / compare_counts['total'] * 100\n",
    "\n",
    "compare_counts = compare_counts.head(15)\n",
    "\n",
    "\n"
   ]
  },
  {
   "cell_type": "code",
   "execution_count": null,
   "metadata": {},
   "outputs": [],
   "source": [
    "percentage_figs = go.Figure()\n",
    "percentage_figs = percentage_figs.add_trace(go.Pie(labels=compare_counts['county_name'], values=compare_counts['count'].loc[compare_counts['percentage'] >= 20], name='butt'))#,row=1, col=2)\n",
    "percentage_figs = percentage_figs.update_layout(title_text='Affordable Houses as Percentage of total available'.title())\n",
    "percentage_figs.show()\n",
    "\n",
    "bar_figs = go.Figure()\n",
    "bar_figs = bar_figs.add_trace(go.Bar(y=compare_counts['county_name'], x=compare_counts['percentage'].loc[compare_counts['percentage'] >= 25].sort_values(ascending=False), showlegend=False, orientation='h'))#, row=1, col=1)\n",
    "bar_figs = bar_figs.update_layout(title_text='Affordable Houses as Percentage total houses within each Ward'.title())\n",
    "\n",
    "\n",
    "bar_figs.show()"
   ]
  },
  {
   "cell_type": "markdown",
   "metadata": {},
   "source": [
    "### filtered_df"
   ]
  },
  {
   "cell_type": "code",
   "execution_count": 144,
   "metadata": {},
   "outputs": [
    {
     "data": {
      "text/html": [
       "<div>\n",
       "<style scoped>\n",
       "    .dataframe tbody tr th:only-of-type {\n",
       "        vertical-align: middle;\n",
       "    }\n",
       "\n",
       "    .dataframe tbody tr th {\n",
       "        vertical-align: top;\n",
       "    }\n",
       "\n",
       "    .dataframe thead th {\n",
       "        text-align: right;\n",
       "    }\n",
       "</style>\n",
       "<table border=\"1\" class=\"dataframe\">\n",
       "  <thead>\n",
       "    <tr style=\"text-align: right;\">\n",
       "      <th></th>\n",
       "      <th>Unnamed: 0</th>\n",
       "      <th>index</th>\n",
       "      <th>price</th>\n",
       "      <th>postcode</th>\n",
       "      <th>property_type</th>\n",
       "      <th>town/city</th>\n",
       "      <th>date_sold</th>\n",
       "      <th>year_sold</th>\n",
       "      <th>address</th>\n",
       "      <th>new</th>\n",
       "      <th>freehold</th>\n",
       "      <th>county_name</th>\n",
       "      <th>ward_name</th>\n",
       "      <th>LSOA</th>\n",
       "      <th>MSOA</th>\n",
       "      <th>Longitude</th>\n",
       "      <th>Latitude</th>\n",
       "    </tr>\n",
       "  </thead>\n",
       "  <tbody>\n",
       "    <tr>\n",
       "      <th>3</th>\n",
       "      <td>3</td>\n",
       "      <td>13728238</td>\n",
       "      <td>250000</td>\n",
       "      <td>AL10 0AB</td>\n",
       "      <td>T</td>\n",
       "      <td>HATFIELD</td>\n",
       "      <td>2014-05-02</td>\n",
       "      <td>2014</td>\n",
       "      <td>al100ablongmead039</td>\n",
       "      <td>0</td>\n",
       "      <td>1</td>\n",
       "      <td>Hertfordshire</td>\n",
       "      <td>Hatfield Central</td>\n",
       "      <td>WelwynHatfield010F</td>\n",
       "      <td>WelwynHatfield010</td>\n",
       "      <td>-0.223341</td>\n",
       "      <td>51.773122</td>\n",
       "    </tr>\n",
       "    <tr>\n",
       "      <th>0</th>\n",
       "      <td>0</td>\n",
       "      <td>14003432</td>\n",
       "      <td>245000</td>\n",
       "      <td>AL10 0AB</td>\n",
       "      <td>T</td>\n",
       "      <td>HATFIELD</td>\n",
       "      <td>2014-12-12</td>\n",
       "      <td>2014</td>\n",
       "      <td>al100ablongmead025</td>\n",
       "      <td>0</td>\n",
       "      <td>1</td>\n",
       "      <td>Hertfordshire</td>\n",
       "      <td>Hatfield Central</td>\n",
       "      <td>WelwynHatfield010F</td>\n",
       "      <td>WelwynHatfield010</td>\n",
       "      <td>-0.223341</td>\n",
       "      <td>51.773122</td>\n",
       "    </tr>\n",
       "    <tr>\n",
       "      <th>2</th>\n",
       "      <td>2</td>\n",
       "      <td>15910737</td>\n",
       "      <td>348000</td>\n",
       "      <td>AL10 0AB</td>\n",
       "      <td>T</td>\n",
       "      <td>HATFIELD</td>\n",
       "      <td>2016-03-17</td>\n",
       "      <td>2016</td>\n",
       "      <td>al100ablongmead039</td>\n",
       "      <td>0</td>\n",
       "      <td>1</td>\n",
       "      <td>Hertfordshire</td>\n",
       "      <td>Hatfield Central</td>\n",
       "      <td>WelwynHatfield010F</td>\n",
       "      <td>WelwynHatfield010</td>\n",
       "      <td>-0.223341</td>\n",
       "      <td>51.773122</td>\n",
       "    </tr>\n",
       "    <tr>\n",
       "      <th>1</th>\n",
       "      <td>1</td>\n",
       "      <td>15560062</td>\n",
       "      <td>335000</td>\n",
       "      <td>AL10 0AB</td>\n",
       "      <td>T</td>\n",
       "      <td>HATFIELD</td>\n",
       "      <td>2016-08-26</td>\n",
       "      <td>2016</td>\n",
       "      <td>al100ablongmead025</td>\n",
       "      <td>0</td>\n",
       "      <td>1</td>\n",
       "      <td>Hertfordshire</td>\n",
       "      <td>Hatfield Central</td>\n",
       "      <td>WelwynHatfield010F</td>\n",
       "      <td>WelwynHatfield010</td>\n",
       "      <td>-0.223341</td>\n",
       "      <td>51.773122</td>\n",
       "    </tr>\n",
       "    <tr>\n",
       "      <th>4</th>\n",
       "      <td>4</td>\n",
       "      <td>17966021</td>\n",
       "      <td>285000</td>\n",
       "      <td>AL10 0AD</td>\n",
       "      <td>T</td>\n",
       "      <td>HATFIELD</td>\n",
       "      <td>2019-08-15</td>\n",
       "      <td>2019</td>\n",
       "      <td>al100adlongmead063</td>\n",
       "      <td>0</td>\n",
       "      <td>1</td>\n",
       "      <td>Hertfordshire</td>\n",
       "      <td>Hatfield Central</td>\n",
       "      <td>WelwynHatfield010B</td>\n",
       "      <td>WelwynHatfield010</td>\n",
       "      <td>-0.218732</td>\n",
       "      <td>51.773475</td>\n",
       "    </tr>\n",
       "  </tbody>\n",
       "</table>\n",
       "</div>"
      ],
      "text/plain": [
       "   Unnamed: 0     index   price  postcode property_type town/city  date_sold  year_sold             address  new  freehold    county_name         ward_name                LSOA               MSOA  Longitude   Latitude\n",
       "3           3  13728238  250000  AL10 0AB             T  HATFIELD 2014-05-02       2014  al100ablongmead039    0         1  Hertfordshire  Hatfield Central  WelwynHatfield010F  WelwynHatfield010  -0.223341  51.773122\n",
       "0           0  14003432  245000  AL10 0AB             T  HATFIELD 2014-12-12       2014  al100ablongmead025    0         1  Hertfordshire  Hatfield Central  WelwynHatfield010F  WelwynHatfield010  -0.223341  51.773122\n",
       "2           2  15910737  348000  AL10 0AB             T  HATFIELD 2016-03-17       2016  al100ablongmead039    0         1  Hertfordshire  Hatfield Central  WelwynHatfield010F  WelwynHatfield010  -0.223341  51.773122\n",
       "1           1  15560062  335000  AL10 0AB             T  HATFIELD 2016-08-26       2016  al100ablongmead025    0         1  Hertfordshire  Hatfield Central  WelwynHatfield010F  WelwynHatfield010  -0.223341  51.773122\n",
       "4           4  17966021  285000  AL10 0AD             T  HATFIELD 2019-08-15       2019  al100adlongmead063    0         1  Hertfordshire  Hatfield Central  WelwynHatfield010B  WelwynHatfield010  -0.218732  51.773475"
      ]
     },
     "execution_count": 144,
     "metadata": {},
     "output_type": "execute_result"
    }
   ],
   "source": [
    "filtered_df.head(5)"
   ]
  },
  {
   "cell_type": "markdown",
   "metadata": {},
   "source": [
    "<b>filtered_df</b> is a dataframe containing a subsection of properties deemed affordable. \n",
    "\n",
    "<ul>\n",
    "    <li>Only contains properties that were within budget for the past 5 years </li> \n",
    "    <li>Only contains properties that were sold more than once</li>\n",
    "    <li>Only contains properties that have a single property type</li>\n",
    "    <li>Does a final sweep to ensure all properties are within a range of the budget </li>"
   ]
  },
  {
   "cell_type": "code",
   "execution_count": null,
   "metadata": {},
   "outputs": [],
   "source": [
    "figure = sns.displot(data=filtered_df['price'], kde=True, bins=50, height=8, aspect=1.5)\n",
    "plt.xlim(filtered_df['price'].min(), filtered_df['price'].max())\n",
    "plt.title('Distribution of house prices within filtered_df'.title())\n",
    "plt.show();"
   ]
  },
  {
   "cell_type": "markdown",
   "metadata": {},
   "source": [
    "### entire_period_filtered"
   ]
  },
  {
   "cell_type": "code",
   "execution_count": null,
   "metadata": {},
   "outputs": [],
   "source": [
    "entire_period_filtered.head(5)"
   ]
  },
  {
   "cell_type": "markdown",
   "metadata": {},
   "source": [
    "<b>entire_period_filtered</b> is a dataframe that has a single entry for each address. <br> It takes the first sale and the last sale and makes calculations between the two. But it does not have access to year-on-year data. \n",
    "\n",
    "<ul>\n",
    "    <li><b>year_diff</b></li> is the difference from the year of the first sale, to the year of the last sale.\n",
    "    <li><b>price_diff</b></li> is the difference in price from the first sale to the last sale \n",
    "    <li><b>price_change_per_year</b></li> is the average price change for each year.\n",
    "    <li><b>total_pct_change</b></li> is the absolute percantage change from the first sale to the last.\n",
    "    <li><b>pct_change_per_year</b></li> is the average percentage change for each year.\n",
    "</ul>"
   ]
  },
  {
   "cell_type": "code",
   "execution_count": null,
   "metadata": {},
   "outputs": [],
   "source": [
    "figure = sns.displot(data=entire_period_filtered['max_price'], kde=True, bins=50, height=8, aspect=1.5)\n",
    "plt.xlim(entire_period_filtered['max_price'].min(), entire_period_filtered['max_price'].max())\n",
    "plt.title('Distribution of house prices within entire_period_filtered'.title())\n",
    "plt.show();"
   ]
  },
  {
   "cell_type": "markdown",
   "metadata": {},
   "source": [
    "### find_best_area"
   ]
  },
  {
   "cell_type": "code",
   "execution_count": null,
   "metadata": {},
   "outputs": [],
   "source": [
    "def find_best_area(dataset, target=target, area=area, n=15, min_n = 100, year_min=None, year_max=None):\n",
    "\n",
    "    list_of_areas_with_n_less_than_n = []\n",
    "\n",
    "    for location in list(dataset[area].unique()):\n",
    "        if len (dataset.loc[dataset[area] == location]) <= min_n:\n",
    "            list_of_areas_with_n_less_than_n.append(location)\n",
    "    \n",
    "    dataset = dataset.loc[~dataset[area].isin(list_of_areas_with_n_less_than_n)]\n",
    "\n",
    "    group = dataset.groupby([area, 'county_name'])[target].median().sort_values(ascending=False)\n",
    "    \n",
    "    group = group.reset_index().head(n)\n",
    "    \n",
    "    area_names = list (group[area].unique())\n",
    "    \n",
    "    entire_period_best_area_dataframe = dataset.loc[dataset[area].isin(area_names)]\n",
    "   \n",
    "    return group, area_names, entire_period_best_area_dataframe"
   ]
  },
  {
   "cell_type": "markdown",
   "metadata": {},
   "source": [
    "<b>find_best_area</b> is a function to find the best n areas. \n",
    "<p>The areas are ordered by the median increase of the <b>target</b> variable.\n",
    "\n",
    "It will only use entries where there are more than <b>n</b> sales. \n",
    "\n",
    "It returns three objects:<br>\n",
    "<ul>    \n",
    "    <li>A dataframe that contains the median of the target dataset grouped by the specified area and county name.</li>\n",
    "    <li>A list of the best area names</li>\n",
    "    <li>A dataframe similar to <b>entire_period_filtered</b>, but only containing entries for the top n areas as found by the function.</li>\n",
    "    </ul>"
   ]
  },
  {
   "cell_type": "markdown",
   "metadata": {},
   "source": [
    "### Top N Areas\n",
    "\n",
    "Listed below are the best <b>area</b> names as created by the <b>find_best_area<b> function. "
   ]
  },
  {
   "cell_type": "code",
   "execution_count": null,
   "metadata": {},
   "outputs": [],
   "source": [
    "top_n = 8"
   ]
  },
  {
   "cell_type": "code",
   "execution_count": null,
   "metadata": {},
   "outputs": [],
   "source": [
    "best_area, best_area_names, entire_period_best_area_dataframe = find_best_area(entire_period_filtered,\n",
    "                                                                               area=area,\n",
    "                                                                               target=target)\n",
    "\n",
    "best_area_names[:top_n]"
   ]
  },
  {
   "cell_type": "markdown",
   "metadata": {},
   "source": [
    "### Median Percentage Change by County / MSOA\n",
    "\n",
    "On the left is median percentage change by county, and on the right is MSOA. "
   ]
  },
  {
   "cell_type": "code",
   "execution_count": null,
   "metadata": {},
   "outputs": [],
   "source": [
    "best_area_counties_median = entire_period_best_area_dataframe.groupby('county_name')[target].median().reset_index()\n",
    "\n",
    "fig, axes = plt.subplots(nrows=1, ncols=2)\n",
    "\n",
    "fig_1 = best_area_counties_median.plot(kind='bar', x='county_name', y=target, ax=axes[0], rot=75, colormap='coolwarm', legend=False, title='County Name')\n",
    "fig_2 = best_area.plot(kind='bar', x=area, y=target, ax=axes[1], rot=75, colormap='coolwarm', legend=False, title='MSOA')\n",
    "\n",
    "fig.suptitle(f'Median total {target} for County & {area} from {year_min} to {year_max}'.replace(\"_\", \" \").title())\n",
    "\n",
    "fig_1.set_ylabel(target)\n",
    "fig_2.set_ylabel(target)\n",
    "\n",
    "fig_1.yaxis.set_major_formatter(mtick.PercentFormatter())\n",
    "fig_2.yaxis.set_major_formatter(mtick.PercentFormatter())\n",
    "\n",
    "\n",
    "plt.show();\n"
   ]
  },
  {
   "cell_type": "markdown",
   "metadata": {},
   "source": [
    "### yearly_dataframe\n",
    "\n",
    "<b>yearly_dataframe</b> creates a dataframe that allows you to track the price changes by individual address year on year. \n",
    "\n",
    "It should be called on an un-modified/ungrouped dataset such as <b>filtered_df</b>.\n",
    "\n",
    "It returns a dataframe containing all indiviudal sales with the following new columns:\n",
    "<ul>\n",
    "    <li><b>prev_price</b></li> is the last recorded sale price\n",
    "    <li><b>price_diff</b></li> is the difference between the current sale and the last\n",
    "    <li><b>pct_change</b></li> is the percentage change between the current sale and the last\n",
    "    <li><b>prev_year</b></li> is the year of the previous sale\n",
    "    <li><b>year_diff</b></li> is the time difference between the current sale and the last\n",
    "\n"
   ]
  },
  {
   "cell_type": "code",
   "execution_count": null,
   "metadata": {},
   "outputs": [],
   "source": [
    "def yearly_dataframe(dataframe):\n",
    "    # Creates a yearly change groupby object that then gets reset into a dataframe\n",
    "    yearly_group = dataframe.groupby(['address','property_type', 'town/city', 'postcode', 'county_name', 'ward_name', 'MSOA', 'LSOA', 'year_sold', 'date_sold', 'price']).median()\n",
    "    yearly_group = yearly_group.reset_index()\n",
    "\n",
    "    # Creates a new column year-date sold\n",
    "    yearly_group['year_month_sold'] = yearly_group['date_sold'].apply(lambda x: x.strftime(\"%Y-%m\"))\n",
    "    yearly_group['year_month_sold'] = pd.to_datetime(yearly_group['year_month_sold'], format='%Y-%m')\n",
    "    \n",
    "    # Creates columns\n",
    "    yearly_group['prev_price'] = yearly_group.groupby('address')['price'].shift()\n",
    "    yearly_group['price_diff'] = yearly_group['price'] - yearly_group['prev_price']\n",
    "    yearly_group['pct_change'] = (((yearly_group['price'] - yearly_group['prev_price']) / yearly_group['prev_price']) * 100)\n",
    "    yearly_group['prev_year'] = yearly_group.groupby('address')['year_sold'].shift()\n",
    "    yearly_group['year_diff'] = yearly_group['year_sold'] - yearly_group['prev_year']\n",
    "\n",
    "    # Filters NaN values \n",
    "    yearly_group['prev_price'] = np.where(np.isnan(yearly_group['prev_price']), 0, yearly_group['prev_price'])\n",
    "    yearly_group['price_diff'] = np.where(np.isnan(yearly_group['price_diff']), 0, yearly_group['price_diff'])\n",
    "    yearly_group['prev_year'] = np.where(np.isnan(yearly_group['prev_year']), 0, yearly_group['prev_year'])\n",
    "    yearly_group['year_diff'] = np.where(np.isnan(yearly_group['year_diff']), 0, yearly_group['year_diff'])\n",
    "    yearly_group['pct_change'] = np.where(np.isnan(yearly_group['pct_change']), 0, yearly_group['pct_change'])\n",
    "\n",
    "    # Removes entries with a zero price diff or zero year diff\n",
    "    yearly_group = yearly_group.loc[(yearly_group['price_diff'] != 0) & (yearly_group['year_diff'] >= 1)]\n",
    "    \n",
    "    \n",
    "    \n",
    "    return yearly_group"
   ]
  },
  {
   "cell_type": "markdown",
   "metadata": {},
   "source": [
    "### best_areas_yearly"
   ]
  },
  {
   "cell_type": "code",
   "execution_count": null,
   "metadata": {},
   "outputs": [],
   "source": [
    "best_areas_yearly = yearly_dataframe(filtered_df[filtered_df[area].isin(best_area_names)])\n",
    "best_areas_yearly.head(1)"
   ]
  },
  {
   "cell_type": "markdown",
   "metadata": {},
   "source": [
    "<b>best_areas_yearly</b> is a dataframe containing data for each sale for the best areas as defined by the <b>find_best_area</b> function. "
   ]
  },
  {
   "cell_type": "markdown",
   "metadata": {},
   "source": [
    "### filtered_yearly_dataframe"
   ]
  },
  {
   "cell_type": "code",
   "execution_count": null,
   "metadata": {},
   "outputs": [],
   "source": [
    "filtered_yearly_dataframe = yearly_dataframe(filtered_df)\n",
    "filtered_yearly_dataframe.head(1)"
   ]
  },
  {
   "cell_type": "markdown",
   "metadata": {},
   "source": [
    "<b>filtered_yearly_dataframe</b> is a dataframe containing yearly data for <b>only affordable</b> addresses across the entire country. <br>"
   ]
  },
  {
   "cell_type": "markdown",
   "metadata": {},
   "source": [
    "### all_yearly_dataframe"
   ]
  },
  {
   "cell_type": "code",
   "execution_count": 101,
   "metadata": {},
   "outputs": [
    {
     "data": {
      "text/html": [
       "<div>\n",
       "<style scoped>\n",
       "    .dataframe tbody tr th:only-of-type {\n",
       "        vertical-align: middle;\n",
       "    }\n",
       "\n",
       "    .dataframe tbody tr th {\n",
       "        vertical-align: top;\n",
       "    }\n",
       "\n",
       "    .dataframe thead th {\n",
       "        text-align: right;\n",
       "    }\n",
       "</style>\n",
       "<table border=\"1\" class=\"dataframe\">\n",
       "  <thead>\n",
       "    <tr style=\"text-align: right;\">\n",
       "      <th></th>\n",
       "      <th>address</th>\n",
       "      <th>property_type</th>\n",
       "      <th>town/city</th>\n",
       "      <th>postcode</th>\n",
       "      <th>county_name</th>\n",
       "      <th>ward_name</th>\n",
       "      <th>MSOA</th>\n",
       "      <th>LSOA</th>\n",
       "      <th>year_sold</th>\n",
       "      <th>date_sold</th>\n",
       "      <th>price</th>\n",
       "      <th>Unnamed: 0</th>\n",
       "      <th>new</th>\n",
       "      <th>freehold</th>\n",
       "      <th>Longitude</th>\n",
       "      <th>Latitude</th>\n",
       "      <th>year_month_sold</th>\n",
       "      <th>prev_price</th>\n",
       "      <th>price_diff</th>\n",
       "      <th>pct_change</th>\n",
       "      <th>prev_year</th>\n",
       "      <th>year_diff</th>\n",
       "    </tr>\n",
       "  </thead>\n",
       "  <tbody>\n",
       "    <tr>\n",
       "      <th>2</th>\n",
       "      <td>al100ablongmead017</td>\n",
       "      <td>T</td>\n",
       "      <td>HATFIELD</td>\n",
       "      <td>AL10 0AB</td>\n",
       "      <td>Hertfordshire</td>\n",
       "      <td>Hatfield Central</td>\n",
       "      <td>WelwynHatfield010</td>\n",
       "      <td>WelwynHatfield010F</td>\n",
       "      <td>2019</td>\n",
       "      <td>2019-10-11</td>\n",
       "      <td>360000</td>\n",
       "      <td>18617676.0</td>\n",
       "      <td>0.0</td>\n",
       "      <td>1.0</td>\n",
       "      <td>-0.223341</td>\n",
       "      <td>51.773122</td>\n",
       "      <td>2019-10-01</td>\n",
       "      <td>240000.0</td>\n",
       "      <td>120000.0</td>\n",
       "      <td>50.0</td>\n",
       "      <td>2014.0</td>\n",
       "      <td>5.0</td>\n",
       "    </tr>\n",
       "  </tbody>\n",
       "</table>\n",
       "</div>"
      ],
      "text/plain": [
       "              address property_type town/city  postcode    county_name         ward_name               MSOA                LSOA  year_sold  date_sold   price  Unnamed: 0  new  freehold  Longitude   Latitude year_month_sold  prev_price  price_diff  pct_change  prev_year  year_diff\n",
       "2  al100ablongmead017             T  HATFIELD  AL10 0AB  Hertfordshire  Hatfield Central  WelwynHatfield010  WelwynHatfield010F       2019 2019-10-11  360000  18617676.0  0.0       1.0  -0.223341  51.773122      2019-10-01    240000.0    120000.0        50.0     2014.0        5.0"
      ]
     },
     "execution_count": 101,
     "metadata": {},
     "output_type": "execute_result"
    }
   ],
   "source": [
    "all_yearly_dataframe = yearly_dataframe(all_properties_and_postcodes)\n",
    "all_yearly_dataframe.head(1)"
   ]
  },
  {
   "cell_type": "markdown",
   "metadata": {},
   "source": [
    "<b>all_yearly_dataframe</b> is a dataframe containing yearly data for <b>all</b> addresses across the entire country. <br>"
   ]
  },
  {
   "cell_type": "markdown",
   "metadata": {},
   "source": [
    "### National Median"
   ]
  },
  {
   "cell_type": "code",
   "execution_count": null,
   "metadata": {},
   "outputs": [],
   "source": [
    "national_affordable_medians = entire_period_filtered.groupby('county_name')[['pct_change', 'price_diff', 'year_diff', 'pct_change_per_year']].median().median().reset_index()\n",
    "\n",
    "\n",
    "national_affordable_medians = national_affordable_medians.rename(columns={'index': 'metric', 0: 'national_affordable_median'})\n",
    "national_affordable_medians"
   ]
  },
  {
   "cell_type": "markdown",
   "metadata": {},
   "source": [
    "<b>national_affordable_medians</b> is a dataframe containing the median values for total percentage change, difference in first and last price, difference in first and last year sold, and rate of pct change for properties deemed 'affordable' across the country. "
   ]
  },
  {
   "cell_type": "markdown",
   "metadata": {},
   "source": [
    "### performed_better\n",
    "<b>performed_better</b> is a function to compare the median values of specific areas against the national median for affordable properties. \n",
    "\n",
    "You can pass the location as a list and it will check against all those locations. The same can be done with addresses with the <b>address</b> argument. You must always pass the locations / addresses as a list. \n",
    "\n",
    "It returns a dataframe that is the <b>national_affordable_medians</b> dataframe merged with the comparison data. \n",
    "   "
   ]
  },
  {
   "cell_type": "code",
   "execution_count": null,
   "metadata": {},
   "outputs": [],
   "source": [
    "def performed_better(locations,\n",
    "                     dataframe=entire_period_filtered,\n",
    "                     area=area, \n",
    "                     address=None):\n",
    "    \n",
    "    comparison_df = national_affordable_medians.copy()\n",
    "    \n",
    "    if address == None:\n",
    "        area_of_interest = dataframe.loc[dataframe[area].isin(locations)]\n",
    "    else:\n",
    "        area_of_interest = dataframe.loc[dataframe['address'].isin(address)]\n",
    "        area = 'address'\n",
    "        locations = address\n",
    "        \n",
    "    for location in locations:\n",
    "        \n",
    "        location_of_interest = area_of_interest.loc[area_of_interest[area] == location].groupby(area)[['pct_change', 'price_diff', 'year_diff', 'pct_change_per_year']].median().reset_index()\n",
    "        comparison_df[location] = [location_of_interest['pct_change'].item(), location_of_interest['price_diff'].item(), location_of_interest['year_diff'].item(), location_of_interest['pct_change_per_year'].item()]\n",
    "    \n",
    "    return comparison_df"
   ]
  },
  {
   "cell_type": "markdown",
   "metadata": {},
   "source": [
    "### Comparison Against National Median\n",
    "\n",
    "The table below shows the median values for top N performing areas against the national median. \n",
    "\n",
    "<ul>\n",
    "    <li><b>pct_change</b></li>Total percentage change over the entire period\n",
    "    <li><b>price_diff</b></li>Median difference from the first sale to the last\n",
    "    <li><b>year_diff</b></li>The median years between house sales\n",
    "    <li><b>pct_change_per_year</b></li>Median percentage change each year for the entire period"
   ]
  },
  {
   "cell_type": "code",
   "execution_count": null,
   "metadata": {},
   "outputs": [],
   "source": [
    "comparison_df = performed_better(locations=best_area_names)\n",
    "comparison_df = comparison_df.set_index('metric')\n",
    "\n",
    "comparison_df\n",
    "\n",
    "\n"
   ]
  },
  {
   "cell_type": "markdown",
   "metadata": {},
   "source": [
    "### rolling_avg_subplots_for_area\n",
    "\n",
    "<b>rolling_avg_subplots_for_area</b> creates scatter plots and Rolling Average values for areas passed to the function.\n",
    "\n",
    "It returns two objects:<br>\n",
    "<ul> \n",
    "    <b><li>figure</li></b> A pyplot figure containing the subplots.\n",
    "    <b><li>n_table</li></b> A dataframe containing the number of sales for each area."
   ]
  },
  {
   "cell_type": "code",
   "execution_count": 135,
   "metadata": {},
   "outputs": [],
   "source": [
    "def rolling_avg_subplots_for_area(dataframe=best_areas_yearly, target=target, area=area, rolling_val=0.5, top_n=4, line=False):\n",
    "\n",
    "\n",
    "    year_min = dataframe['year_sold'].min()\n",
    "    year_max = dataframe['year_sold'].max()\n",
    "    \n",
    "    \n",
    "    n_table = pd.DataFrame(columns=[], index=['n'])\n",
    "    \n",
    "    area_list = list(dataframe[area].unique())[:top_n]\n",
    "    \n",
    "    # Created function to create appropriate grid cordinates given the top_n number of plots needed to be created\n",
    "    cords_list = create_grid_cords(top_n)\n",
    "\n",
    "#     Creates a figure and axes object.     \n",
    "    fig = make_subplots(rows=top_n // 2, cols=2, subplot_titles=area_list, shared_xaxes='all', shared_yaxes=False)\n",
    "\n",
    "    \n",
    "    for cord, location in zip(cords_list, area_list):\n",
    "        df = dataframe.loc[(dataframe[area] == location) \n",
    "                              & (dataframe['year_sold'] >= year_min) \n",
    "                              & (dataframe['year_sold'] <= year_max)].copy().sort_values('date_sold')\n",
    "        \n",
    "        df = df.groupby('year_month_sold')[target].median().reset_index()\n",
    "        \n",
    "        fig.add_trace(go.Scatter(x=df['year_month_sold'], y=df[target], mode='markers', name=target.replace(\"_\", \" \").title()),\n",
    "                     row=cord[0], col=cord[1])\n",
    "        \n",
    "        df['rolling_avg_' + str(rolling_val)] = df[target].rolling(rolling_val).mean()\n",
    "\n",
    "        fig.add_trace(go.Scatter(x=df['year_month_sold'], y=df['rolling_avg_' + str(rolling_val)], mode='lines', name='Rolling Average ' + str(rolling_val)),\n",
    "             row=cord[0], col=cord[1])\n",
    "        \n",
    "#         df['ema'] = df[target].ewm(alpha=0.2, adjust=False).mean()\n",
    "#         fig.add_trace(go.Scatter(x=df['year_month_sold'], y=df['ema'], mode='lines'), row=cord[0], col=cord[1])\n",
    "\n",
    "        if line == True:\n",
    "        \n",
    "            fig.add_shape(type='line',\n",
    "                         x0='2019-09-01',\n",
    "                         x1='2019-09-01',\n",
    "                         y0=df[target].min(),\n",
    "                         y1=df[target].max(),\n",
    "                         line=dict(\n",
    "                         color='Red', \n",
    "                         width=3, \n",
    "                         dash='dot'), row=cord[0], col=cord[1])\n",
    "        \n",
    "        n_table[location] = len(df)\n",
    "\n",
    "        \n",
    "    fig.update_layout(title_text=f\"Median {target} grouped by Month<br>Rolling Average: {rolling_val}\".title().replace(\"_\", \" \"))\n",
    "    fig.update_layout(showlegend=True)\n",
    "    fig.update_xaxes(nticks=len(dataframe['year_sold'].unique()) // 2)\n",
    "    \n",
    "    return fig, n_table"
   ]
  },
  {
   "cell_type": "code",
   "execution_count": 124,
   "metadata": {},
   "outputs": [
    {
     "name": "stdout",
     "output_type": "stream",
     "text": [
      "n1 is [1, 1]\n",
      "n2 is [1, 2, 1, 2]\n"
     ]
    },
    {
     "data": {
      "text/html": [
       "<div>\n",
       "<style scoped>\n",
       "    .dataframe tbody tr th:only-of-type {\n",
       "        vertical-align: middle;\n",
       "    }\n",
       "\n",
       "    .dataframe tbody tr th {\n",
       "        vertical-align: top;\n",
       "    }\n",
       "\n",
       "    .dataframe thead th {\n",
       "        text-align: right;\n",
       "    }\n",
       "</style>\n",
       "<table border=\"1\" class=\"dataframe\">\n",
       "  <thead>\n",
       "    <tr style=\"text-align: right;\">\n",
       "      <th></th>\n",
       "      <th>Bromley008</th>\n",
       "      <th>Bristol041</th>\n",
       "    </tr>\n",
       "  </thead>\n",
       "  <tbody>\n",
       "    <tr>\n",
       "      <th>n</th>\n",
       "      <td>97</td>\n",
       "      <td>79</td>\n",
       "    </tr>\n",
       "  </tbody>\n",
       "</table>\n",
       "</div>"
      ],
      "text/plain": [
       "   Bromley008  Bristol041\n",
       "n          97          79"
      ]
     },
     "execution_count": 124,
     "metadata": {},
     "output_type": "execute_result"
    },
    {
     "data": {
      "application/vnd.plotly.v1+json": {
       "config": {
        "plotlyServerURL": "https://plot.ly"
       },
       "data": [
        {
         "mode": "markers",
         "name": "Price",
         "type": "scatter",
         "x": [
          "2004-07-01T00:00:00",
          "2006-04-01T00:00:00",
          "2006-10-01T00:00:00",
          "2007-02-01T00:00:00",
          "2007-05-01T00:00:00",
          "2007-07-01T00:00:00",
          "2007-11-01T00:00:00",
          "2008-01-01T00:00:00",
          "2008-05-01T00:00:00",
          "2010-02-01T00:00:00",
          "2010-06-01T00:00:00",
          "2010-08-01T00:00:00",
          "2010-11-01T00:00:00",
          "2011-04-01T00:00:00",
          "2011-05-01T00:00:00",
          "2011-08-01T00:00:00",
          "2011-09-01T00:00:00",
          "2011-11-01T00:00:00",
          "2011-12-01T00:00:00",
          "2012-03-01T00:00:00",
          "2012-06-01T00:00:00",
          "2012-10-01T00:00:00",
          "2012-11-01T00:00:00",
          "2013-01-01T00:00:00",
          "2013-02-01T00:00:00",
          "2013-03-01T00:00:00",
          "2013-04-01T00:00:00",
          "2013-05-01T00:00:00",
          "2013-06-01T00:00:00",
          "2013-07-01T00:00:00",
          "2013-08-01T00:00:00",
          "2013-09-01T00:00:00",
          "2013-10-01T00:00:00",
          "2013-11-01T00:00:00",
          "2013-12-01T00:00:00",
          "2014-01-01T00:00:00",
          "2014-02-01T00:00:00",
          "2014-03-01T00:00:00",
          "2014-04-01T00:00:00",
          "2014-05-01T00:00:00",
          "2014-07-01T00:00:00",
          "2014-09-01T00:00:00",
          "2014-10-01T00:00:00",
          "2014-11-01T00:00:00",
          "2014-12-01T00:00:00",
          "2015-01-01T00:00:00",
          "2015-05-01T00:00:00",
          "2015-07-01T00:00:00",
          "2015-08-01T00:00:00",
          "2015-11-01T00:00:00",
          "2016-01-01T00:00:00",
          "2016-02-01T00:00:00",
          "2016-03-01T00:00:00",
          "2016-04-01T00:00:00",
          "2016-05-01T00:00:00",
          "2016-06-01T00:00:00",
          "2016-07-01T00:00:00",
          "2016-08-01T00:00:00",
          "2016-09-01T00:00:00",
          "2016-10-01T00:00:00",
          "2016-11-01T00:00:00",
          "2016-12-01T00:00:00",
          "2017-01-01T00:00:00",
          "2017-02-01T00:00:00",
          "2017-03-01T00:00:00",
          "2017-04-01T00:00:00",
          "2017-05-01T00:00:00",
          "2017-06-01T00:00:00",
          "2017-07-01T00:00:00",
          "2017-09-01T00:00:00",
          "2017-10-01T00:00:00",
          "2017-11-01T00:00:00",
          "2017-12-01T00:00:00",
          "2018-03-01T00:00:00",
          "2018-05-01T00:00:00",
          "2018-07-01T00:00:00",
          "2018-08-01T00:00:00",
          "2018-09-01T00:00:00",
          "2018-10-01T00:00:00",
          "2018-11-01T00:00:00",
          "2018-12-01T00:00:00",
          "2019-01-01T00:00:00",
          "2019-02-01T00:00:00",
          "2019-03-01T00:00:00",
          "2019-05-01T00:00:00",
          "2019-06-01T00:00:00",
          "2019-07-01T00:00:00",
          "2019-08-01T00:00:00",
          "2019-09-01T00:00:00",
          "2019-10-01T00:00:00",
          "2019-11-01T00:00:00",
          "2019-12-01T00:00:00",
          "2020-01-01T00:00:00",
          "2020-02-01T00:00:00",
          "2020-03-01T00:00:00",
          "2020-05-01T00:00:00",
          "2020-06-01T00:00:00"
         ],
         "xaxis": "x",
         "y": [
          202000,
          236000,
          199000,
          216500,
          210000,
          220000,
          245000,
          222500,
          244950,
          213000,
          229000,
          202500,
          211500,
          190000,
          229000,
          230000,
          199950,
          198000,
          195000,
          201497.5,
          195000,
          220000,
          200000,
          208000,
          187000,
          200000,
          222500,
          217000,
          217000,
          234500,
          207000,
          205000,
          249995,
          182000,
          230000,
          225000,
          200750,
          235000,
          240000,
          226250,
          267500,
          284995,
          249000,
          250000,
          250000,
          245000,
          280750,
          247500,
          310000,
          250000,
          295000,
          280000,
          323250,
          325500,
          308750,
          317500,
          328500,
          305000,
          259997.5,
          280000,
          336250,
          310000,
          336000,
          300000,
          303500,
          278000,
          287500,
          298750,
          295000,
          310000,
          300000,
          296250,
          332250,
          271250,
          289000,
          276000,
          270000,
          319000,
          300000,
          280000,
          278750,
          330000,
          330000,
          313500,
          299250,
          256000,
          315000,
          275000,
          297500,
          278000,
          308000,
          305000,
          275000,
          326000,
          305000,
          275000,
          261875
         ],
         "yaxis": "y"
        },
        {
         "mode": "lines",
         "name": "Rolling Average 3",
         "type": "scatter",
         "x": [
          "2004-07-01T00:00:00",
          "2006-04-01T00:00:00",
          "2006-10-01T00:00:00",
          "2007-02-01T00:00:00",
          "2007-05-01T00:00:00",
          "2007-07-01T00:00:00",
          "2007-11-01T00:00:00",
          "2008-01-01T00:00:00",
          "2008-05-01T00:00:00",
          "2010-02-01T00:00:00",
          "2010-06-01T00:00:00",
          "2010-08-01T00:00:00",
          "2010-11-01T00:00:00",
          "2011-04-01T00:00:00",
          "2011-05-01T00:00:00",
          "2011-08-01T00:00:00",
          "2011-09-01T00:00:00",
          "2011-11-01T00:00:00",
          "2011-12-01T00:00:00",
          "2012-03-01T00:00:00",
          "2012-06-01T00:00:00",
          "2012-10-01T00:00:00",
          "2012-11-01T00:00:00",
          "2013-01-01T00:00:00",
          "2013-02-01T00:00:00",
          "2013-03-01T00:00:00",
          "2013-04-01T00:00:00",
          "2013-05-01T00:00:00",
          "2013-06-01T00:00:00",
          "2013-07-01T00:00:00",
          "2013-08-01T00:00:00",
          "2013-09-01T00:00:00",
          "2013-10-01T00:00:00",
          "2013-11-01T00:00:00",
          "2013-12-01T00:00:00",
          "2014-01-01T00:00:00",
          "2014-02-01T00:00:00",
          "2014-03-01T00:00:00",
          "2014-04-01T00:00:00",
          "2014-05-01T00:00:00",
          "2014-07-01T00:00:00",
          "2014-09-01T00:00:00",
          "2014-10-01T00:00:00",
          "2014-11-01T00:00:00",
          "2014-12-01T00:00:00",
          "2015-01-01T00:00:00",
          "2015-05-01T00:00:00",
          "2015-07-01T00:00:00",
          "2015-08-01T00:00:00",
          "2015-11-01T00:00:00",
          "2016-01-01T00:00:00",
          "2016-02-01T00:00:00",
          "2016-03-01T00:00:00",
          "2016-04-01T00:00:00",
          "2016-05-01T00:00:00",
          "2016-06-01T00:00:00",
          "2016-07-01T00:00:00",
          "2016-08-01T00:00:00",
          "2016-09-01T00:00:00",
          "2016-10-01T00:00:00",
          "2016-11-01T00:00:00",
          "2016-12-01T00:00:00",
          "2017-01-01T00:00:00",
          "2017-02-01T00:00:00",
          "2017-03-01T00:00:00",
          "2017-04-01T00:00:00",
          "2017-05-01T00:00:00",
          "2017-06-01T00:00:00",
          "2017-07-01T00:00:00",
          "2017-09-01T00:00:00",
          "2017-10-01T00:00:00",
          "2017-11-01T00:00:00",
          "2017-12-01T00:00:00",
          "2018-03-01T00:00:00",
          "2018-05-01T00:00:00",
          "2018-07-01T00:00:00",
          "2018-08-01T00:00:00",
          "2018-09-01T00:00:00",
          "2018-10-01T00:00:00",
          "2018-11-01T00:00:00",
          "2018-12-01T00:00:00",
          "2019-01-01T00:00:00",
          "2019-02-01T00:00:00",
          "2019-03-01T00:00:00",
          "2019-05-01T00:00:00",
          "2019-06-01T00:00:00",
          "2019-07-01T00:00:00",
          "2019-08-01T00:00:00",
          "2019-09-01T00:00:00",
          "2019-10-01T00:00:00",
          "2019-11-01T00:00:00",
          "2019-12-01T00:00:00",
          "2020-01-01T00:00:00",
          "2020-02-01T00:00:00",
          "2020-03-01T00:00:00",
          "2020-05-01T00:00:00",
          "2020-06-01T00:00:00"
         ],
         "xaxis": "x",
         "y": [
          null,
          null,
          212333.33333333334,
          217166.66666666666,
          208500,
          215500,
          225000,
          229166.66666666666,
          237483.33333333334,
          226816.66666666666,
          228983.33333333334,
          214833.33333333334,
          214333.33333333334,
          201333.33333333334,
          210166.66666666666,
          216333.33333333334,
          219650,
          209316.66666666666,
          197650,
          198165.83333333334,
          197165.83333333334,
          205499.16666666666,
          205000,
          209333.33333333334,
          198333.33333333334,
          198333.33333333334,
          203166.66666666666,
          213166.66666666666,
          218833.33333333334,
          222833.33333333334,
          219500,
          215500,
          220665,
          212331.66666666666,
          220665,
          212333.33333333334,
          218583.33333333334,
          220250,
          225250,
          233750,
          244583.33333333334,
          259581.66666666666,
          267165,
          261331.66666666666,
          249666.66666666666,
          248333.33333333334,
          258583.33333333334,
          257750,
          279416.6666666667,
          269166.6666666667,
          285000,
          275000,
          299416.6666666667,
          309583.3333333333,
          319166.6666666667,
          317250,
          318250,
          317000,
          297832.5,
          281665.8333333333,
          292082.5,
          308750,
          327416.6666666667,
          315333.3333333333,
          313166.6666666667,
          293833.3333333333,
          289666.6666666667,
          288083.3333333333,
          293750,
          301250,
          301666.6666666667,
          302083.3333333333,
          309500,
          299916.6666666667,
          297500,
          278750,
          278333.3333333333,
          288333.3333333333,
          296333.3333333333,
          299666.6666666667,
          286250,
          296250,
          312916.6666666667,
          324500,
          314250,
          289583.3333333333,
          290083.3333333333,
          282000,
          295833.3333333333,
          283500,
          294500,
          297000,
          296000,
          302000,
          302000,
          302000,
          280625
         ],
         "yaxis": "y"
        },
        {
         "mode": "markers",
         "name": "Price",
         "type": "scatter",
         "x": [
          "2007-06-01T00:00:00",
          "2007-12-01T00:00:00",
          "2010-06-01T00:00:00",
          "2010-07-01T00:00:00",
          "2010-09-01T00:00:00",
          "2011-07-01T00:00:00",
          "2011-08-01T00:00:00",
          "2011-11-01T00:00:00",
          "2012-02-01T00:00:00",
          "2012-03-01T00:00:00",
          "2012-05-01T00:00:00",
          "2012-10-01T00:00:00",
          "2012-11-01T00:00:00",
          "2013-02-01T00:00:00",
          "2013-07-01T00:00:00",
          "2013-08-01T00:00:00",
          "2013-09-01T00:00:00",
          "2013-10-01T00:00:00",
          "2014-02-01T00:00:00",
          "2014-05-01T00:00:00",
          "2014-11-01T00:00:00",
          "2014-12-01T00:00:00",
          "2015-04-01T00:00:00",
          "2015-06-01T00:00:00",
          "2015-08-01T00:00:00",
          "2016-01-01T00:00:00",
          "2016-02-01T00:00:00",
          "2016-03-01T00:00:00",
          "2016-04-01T00:00:00",
          "2016-05-01T00:00:00",
          "2016-06-01T00:00:00",
          "2016-07-01T00:00:00",
          "2016-08-01T00:00:00",
          "2016-09-01T00:00:00",
          "2016-10-01T00:00:00",
          "2016-11-01T00:00:00",
          "2016-12-01T00:00:00",
          "2017-01-01T00:00:00",
          "2017-02-01T00:00:00",
          "2017-03-01T00:00:00",
          "2017-04-01T00:00:00",
          "2017-05-01T00:00:00",
          "2017-06-01T00:00:00",
          "2017-07-01T00:00:00",
          "2017-08-01T00:00:00",
          "2017-09-01T00:00:00",
          "2017-10-01T00:00:00",
          "2017-11-01T00:00:00",
          "2017-12-01T00:00:00",
          "2018-01-01T00:00:00",
          "2018-02-01T00:00:00",
          "2018-03-01T00:00:00",
          "2018-04-01T00:00:00",
          "2018-05-01T00:00:00",
          "2018-06-01T00:00:00",
          "2018-07-01T00:00:00",
          "2018-08-01T00:00:00",
          "2018-09-01T00:00:00",
          "2018-10-01T00:00:00",
          "2018-11-01T00:00:00",
          "2018-12-01T00:00:00",
          "2019-01-01T00:00:00",
          "2019-02-01T00:00:00",
          "2019-03-01T00:00:00",
          "2019-04-01T00:00:00",
          "2019-05-01T00:00:00",
          "2019-06-01T00:00:00",
          "2019-07-01T00:00:00",
          "2019-08-01T00:00:00",
          "2019-09-01T00:00:00",
          "2019-10-01T00:00:00",
          "2019-11-01T00:00:00",
          "2019-12-01T00:00:00",
          "2020-01-01T00:00:00",
          "2020-02-01T00:00:00",
          "2020-03-01T00:00:00",
          "2020-04-01T00:00:00",
          "2020-05-01T00:00:00",
          "2020-06-01T00:00:00"
         ],
         "xaxis": "x2",
         "y": [
          200000,
          207000,
          183750,
          196936,
          218000,
          199100,
          203000,
          190000,
          220000,
          205000,
          217000,
          189000,
          210000,
          203000,
          185000,
          221000,
          243100,
          204500,
          212000,
          243000,
          223000,
          236000,
          245750,
          273250,
          279000,
          321600,
          305000,
          270500,
          304950,
          305000,
          312500,
          328000,
          285250,
          322236.5,
          315000,
          292600,
          300000,
          325000,
          285000,
          307100,
          298750,
          332000,
          290000,
          325000,
          325500,
          320000,
          317000,
          289500,
          335000,
          332000,
          320000,
          335179,
          285000,
          325000,
          314000,
          320000,
          310000,
          310000,
          330000,
          321000,
          225000,
          325000,
          300000,
          335000,
          305000,
          325000,
          345000,
          295000,
          315000,
          300000,
          345217,
          337000,
          340300,
          307500,
          325000,
          340000,
          270000,
          343500,
          372000
         ],
         "yaxis": "y2"
        },
        {
         "mode": "lines",
         "name": "Rolling Average 3",
         "type": "scatter",
         "x": [
          "2007-06-01T00:00:00",
          "2007-12-01T00:00:00",
          "2010-06-01T00:00:00",
          "2010-07-01T00:00:00",
          "2010-09-01T00:00:00",
          "2011-07-01T00:00:00",
          "2011-08-01T00:00:00",
          "2011-11-01T00:00:00",
          "2012-02-01T00:00:00",
          "2012-03-01T00:00:00",
          "2012-05-01T00:00:00",
          "2012-10-01T00:00:00",
          "2012-11-01T00:00:00",
          "2013-02-01T00:00:00",
          "2013-07-01T00:00:00",
          "2013-08-01T00:00:00",
          "2013-09-01T00:00:00",
          "2013-10-01T00:00:00",
          "2014-02-01T00:00:00",
          "2014-05-01T00:00:00",
          "2014-11-01T00:00:00",
          "2014-12-01T00:00:00",
          "2015-04-01T00:00:00",
          "2015-06-01T00:00:00",
          "2015-08-01T00:00:00",
          "2016-01-01T00:00:00",
          "2016-02-01T00:00:00",
          "2016-03-01T00:00:00",
          "2016-04-01T00:00:00",
          "2016-05-01T00:00:00",
          "2016-06-01T00:00:00",
          "2016-07-01T00:00:00",
          "2016-08-01T00:00:00",
          "2016-09-01T00:00:00",
          "2016-10-01T00:00:00",
          "2016-11-01T00:00:00",
          "2016-12-01T00:00:00",
          "2017-01-01T00:00:00",
          "2017-02-01T00:00:00",
          "2017-03-01T00:00:00",
          "2017-04-01T00:00:00",
          "2017-05-01T00:00:00",
          "2017-06-01T00:00:00",
          "2017-07-01T00:00:00",
          "2017-08-01T00:00:00",
          "2017-09-01T00:00:00",
          "2017-10-01T00:00:00",
          "2017-11-01T00:00:00",
          "2017-12-01T00:00:00",
          "2018-01-01T00:00:00",
          "2018-02-01T00:00:00",
          "2018-03-01T00:00:00",
          "2018-04-01T00:00:00",
          "2018-05-01T00:00:00",
          "2018-06-01T00:00:00",
          "2018-07-01T00:00:00",
          "2018-08-01T00:00:00",
          "2018-09-01T00:00:00",
          "2018-10-01T00:00:00",
          "2018-11-01T00:00:00",
          "2018-12-01T00:00:00",
          "2019-01-01T00:00:00",
          "2019-02-01T00:00:00",
          "2019-03-01T00:00:00",
          "2019-04-01T00:00:00",
          "2019-05-01T00:00:00",
          "2019-06-01T00:00:00",
          "2019-07-01T00:00:00",
          "2019-08-01T00:00:00",
          "2019-09-01T00:00:00",
          "2019-10-01T00:00:00",
          "2019-11-01T00:00:00",
          "2019-12-01T00:00:00",
          "2020-01-01T00:00:00",
          "2020-02-01T00:00:00",
          "2020-03-01T00:00:00",
          "2020-04-01T00:00:00",
          "2020-05-01T00:00:00",
          "2020-06-01T00:00:00"
         ],
         "xaxis": "x2",
         "y": [
          null,
          null,
          196916.66666666666,
          195895.33333333334,
          199562,
          204678.66666666666,
          206700,
          197366.66666666666,
          204333.33333333334,
          205000,
          214000,
          203666.66666666666,
          205333.33333333334,
          200666.66666666666,
          199333.33333333334,
          203000,
          216366.66666666666,
          222866.66666666666,
          219866.66666666666,
          219833.33333333334,
          226000,
          234000,
          234916.66666666666,
          251666.66666666666,
          266000,
          291283.3333333333,
          301866.6666666667,
          299033.3333333333,
          293483.3333333333,
          293483.3333333333,
          307483.3333333333,
          315166.6666666667,
          308583.3333333333,
          311828.8333333333,
          307495.5,
          309945.5,
          302533.3333333333,
          305866.6666666667,
          303333.3333333333,
          305700,
          296950,
          312616.6666666667,
          306916.6666666667,
          315666.6666666667,
          313500,
          323500,
          320833.3333333333,
          308833.3333333333,
          313833.3333333333,
          318833.3333333333,
          329000,
          329059.6666666667,
          313393,
          315059.6666666667,
          308000,
          319666.6666666667,
          314666.6666666667,
          313333.3333333333,
          316666.6666666667,
          320333.3333333333,
          292000,
          290333.3333333333,
          283333.3333333333,
          320000,
          313333.3333333333,
          321666.6666666667,
          325000,
          321666.6666666667,
          318333.3333333333,
          303333.3333333333,
          320072.3333333333,
          327405.6666666667,
          340839,
          328266.6666666667,
          324266.6666666667,
          324166.6666666667,
          311666.6666666667,
          317833.3333333333,
          328500
         ],
         "yaxis": "y2"
        }
       ],
       "layout": {
        "annotations": [
         {
          "font": {
           "size": 16
          },
          "showarrow": false,
          "text": "Bromley008",
          "x": 0.225,
          "xanchor": "center",
          "xref": "paper",
          "y": 1,
          "yanchor": "bottom",
          "yref": "paper"
         },
         {
          "font": {
           "size": 16
          },
          "showarrow": false,
          "text": "Bristol041",
          "x": 0.775,
          "xanchor": "center",
          "xref": "paper",
          "y": 1,
          "yanchor": "bottom",
          "yref": "paper"
         }
        ],
        "showlegend": true,
        "template": {
         "data": {
          "bar": [
           {
            "error_x": {
             "color": "#2a3f5f"
            },
            "error_y": {
             "color": "#2a3f5f"
            },
            "marker": {
             "line": {
              "color": "#E5ECF6",
              "width": 0.5
             }
            },
            "type": "bar"
           }
          ],
          "barpolar": [
           {
            "marker": {
             "line": {
              "color": "#E5ECF6",
              "width": 0.5
             }
            },
            "type": "barpolar"
           }
          ],
          "carpet": [
           {
            "aaxis": {
             "endlinecolor": "#2a3f5f",
             "gridcolor": "white",
             "linecolor": "white",
             "minorgridcolor": "white",
             "startlinecolor": "#2a3f5f"
            },
            "baxis": {
             "endlinecolor": "#2a3f5f",
             "gridcolor": "white",
             "linecolor": "white",
             "minorgridcolor": "white",
             "startlinecolor": "#2a3f5f"
            },
            "type": "carpet"
           }
          ],
          "choropleth": [
           {
            "colorbar": {
             "outlinewidth": 0,
             "ticks": ""
            },
            "type": "choropleth"
           }
          ],
          "contour": [
           {
            "colorbar": {
             "outlinewidth": 0,
             "ticks": ""
            },
            "colorscale": [
             [
              0,
              "#0d0887"
             ],
             [
              0.1111111111111111,
              "#46039f"
             ],
             [
              0.2222222222222222,
              "#7201a8"
             ],
             [
              0.3333333333333333,
              "#9c179e"
             ],
             [
              0.4444444444444444,
              "#bd3786"
             ],
             [
              0.5555555555555556,
              "#d8576b"
             ],
             [
              0.6666666666666666,
              "#ed7953"
             ],
             [
              0.7777777777777778,
              "#fb9f3a"
             ],
             [
              0.8888888888888888,
              "#fdca26"
             ],
             [
              1,
              "#f0f921"
             ]
            ],
            "type": "contour"
           }
          ],
          "contourcarpet": [
           {
            "colorbar": {
             "outlinewidth": 0,
             "ticks": ""
            },
            "type": "contourcarpet"
           }
          ],
          "heatmap": [
           {
            "colorbar": {
             "outlinewidth": 0,
             "ticks": ""
            },
            "colorscale": [
             [
              0,
              "#0d0887"
             ],
             [
              0.1111111111111111,
              "#46039f"
             ],
             [
              0.2222222222222222,
              "#7201a8"
             ],
             [
              0.3333333333333333,
              "#9c179e"
             ],
             [
              0.4444444444444444,
              "#bd3786"
             ],
             [
              0.5555555555555556,
              "#d8576b"
             ],
             [
              0.6666666666666666,
              "#ed7953"
             ],
             [
              0.7777777777777778,
              "#fb9f3a"
             ],
             [
              0.8888888888888888,
              "#fdca26"
             ],
             [
              1,
              "#f0f921"
             ]
            ],
            "type": "heatmap"
           }
          ],
          "heatmapgl": [
           {
            "colorbar": {
             "outlinewidth": 0,
             "ticks": ""
            },
            "colorscale": [
             [
              0,
              "#0d0887"
             ],
             [
              0.1111111111111111,
              "#46039f"
             ],
             [
              0.2222222222222222,
              "#7201a8"
             ],
             [
              0.3333333333333333,
              "#9c179e"
             ],
             [
              0.4444444444444444,
              "#bd3786"
             ],
             [
              0.5555555555555556,
              "#d8576b"
             ],
             [
              0.6666666666666666,
              "#ed7953"
             ],
             [
              0.7777777777777778,
              "#fb9f3a"
             ],
             [
              0.8888888888888888,
              "#fdca26"
             ],
             [
              1,
              "#f0f921"
             ]
            ],
            "type": "heatmapgl"
           }
          ],
          "histogram": [
           {
            "marker": {
             "colorbar": {
              "outlinewidth": 0,
              "ticks": ""
             }
            },
            "type": "histogram"
           }
          ],
          "histogram2d": [
           {
            "colorbar": {
             "outlinewidth": 0,
             "ticks": ""
            },
            "colorscale": [
             [
              0,
              "#0d0887"
             ],
             [
              0.1111111111111111,
              "#46039f"
             ],
             [
              0.2222222222222222,
              "#7201a8"
             ],
             [
              0.3333333333333333,
              "#9c179e"
             ],
             [
              0.4444444444444444,
              "#bd3786"
             ],
             [
              0.5555555555555556,
              "#d8576b"
             ],
             [
              0.6666666666666666,
              "#ed7953"
             ],
             [
              0.7777777777777778,
              "#fb9f3a"
             ],
             [
              0.8888888888888888,
              "#fdca26"
             ],
             [
              1,
              "#f0f921"
             ]
            ],
            "type": "histogram2d"
           }
          ],
          "histogram2dcontour": [
           {
            "colorbar": {
             "outlinewidth": 0,
             "ticks": ""
            },
            "colorscale": [
             [
              0,
              "#0d0887"
             ],
             [
              0.1111111111111111,
              "#46039f"
             ],
             [
              0.2222222222222222,
              "#7201a8"
             ],
             [
              0.3333333333333333,
              "#9c179e"
             ],
             [
              0.4444444444444444,
              "#bd3786"
             ],
             [
              0.5555555555555556,
              "#d8576b"
             ],
             [
              0.6666666666666666,
              "#ed7953"
             ],
             [
              0.7777777777777778,
              "#fb9f3a"
             ],
             [
              0.8888888888888888,
              "#fdca26"
             ],
             [
              1,
              "#f0f921"
             ]
            ],
            "type": "histogram2dcontour"
           }
          ],
          "mesh3d": [
           {
            "colorbar": {
             "outlinewidth": 0,
             "ticks": ""
            },
            "type": "mesh3d"
           }
          ],
          "parcoords": [
           {
            "line": {
             "colorbar": {
              "outlinewidth": 0,
              "ticks": ""
             }
            },
            "type": "parcoords"
           }
          ],
          "pie": [
           {
            "automargin": true,
            "type": "pie"
           }
          ],
          "scatter": [
           {
            "marker": {
             "colorbar": {
              "outlinewidth": 0,
              "ticks": ""
             }
            },
            "type": "scatter"
           }
          ],
          "scatter3d": [
           {
            "line": {
             "colorbar": {
              "outlinewidth": 0,
              "ticks": ""
             }
            },
            "marker": {
             "colorbar": {
              "outlinewidth": 0,
              "ticks": ""
             }
            },
            "type": "scatter3d"
           }
          ],
          "scattercarpet": [
           {
            "marker": {
             "colorbar": {
              "outlinewidth": 0,
              "ticks": ""
             }
            },
            "type": "scattercarpet"
           }
          ],
          "scattergeo": [
           {
            "marker": {
             "colorbar": {
              "outlinewidth": 0,
              "ticks": ""
             }
            },
            "type": "scattergeo"
           }
          ],
          "scattergl": [
           {
            "marker": {
             "colorbar": {
              "outlinewidth": 0,
              "ticks": ""
             }
            },
            "type": "scattergl"
           }
          ],
          "scattermapbox": [
           {
            "marker": {
             "colorbar": {
              "outlinewidth": 0,
              "ticks": ""
             }
            },
            "type": "scattermapbox"
           }
          ],
          "scatterpolar": [
           {
            "marker": {
             "colorbar": {
              "outlinewidth": 0,
              "ticks": ""
             }
            },
            "type": "scatterpolar"
           }
          ],
          "scatterpolargl": [
           {
            "marker": {
             "colorbar": {
              "outlinewidth": 0,
              "ticks": ""
             }
            },
            "type": "scatterpolargl"
           }
          ],
          "scatterternary": [
           {
            "marker": {
             "colorbar": {
              "outlinewidth": 0,
              "ticks": ""
             }
            },
            "type": "scatterternary"
           }
          ],
          "surface": [
           {
            "colorbar": {
             "outlinewidth": 0,
             "ticks": ""
            },
            "colorscale": [
             [
              0,
              "#0d0887"
             ],
             [
              0.1111111111111111,
              "#46039f"
             ],
             [
              0.2222222222222222,
              "#7201a8"
             ],
             [
              0.3333333333333333,
              "#9c179e"
             ],
             [
              0.4444444444444444,
              "#bd3786"
             ],
             [
              0.5555555555555556,
              "#d8576b"
             ],
             [
              0.6666666666666666,
              "#ed7953"
             ],
             [
              0.7777777777777778,
              "#fb9f3a"
             ],
             [
              0.8888888888888888,
              "#fdca26"
             ],
             [
              1,
              "#f0f921"
             ]
            ],
            "type": "surface"
           }
          ],
          "table": [
           {
            "cells": {
             "fill": {
              "color": "#EBF0F8"
             },
             "line": {
              "color": "white"
             }
            },
            "header": {
             "fill": {
              "color": "#C8D4E3"
             },
             "line": {
              "color": "white"
             }
            },
            "type": "table"
           }
          ]
         },
         "layout": {
          "annotationdefaults": {
           "arrowcolor": "#2a3f5f",
           "arrowhead": 0,
           "arrowwidth": 1
          },
          "coloraxis": {
           "colorbar": {
            "outlinewidth": 0,
            "ticks": ""
           }
          },
          "colorscale": {
           "diverging": [
            [
             0,
             "#8e0152"
            ],
            [
             0.1,
             "#c51b7d"
            ],
            [
             0.2,
             "#de77ae"
            ],
            [
             0.3,
             "#f1b6da"
            ],
            [
             0.4,
             "#fde0ef"
            ],
            [
             0.5,
             "#f7f7f7"
            ],
            [
             0.6,
             "#e6f5d0"
            ],
            [
             0.7,
             "#b8e186"
            ],
            [
             0.8,
             "#7fbc41"
            ],
            [
             0.9,
             "#4d9221"
            ],
            [
             1,
             "#276419"
            ]
           ],
           "sequential": [
            [
             0,
             "#0d0887"
            ],
            [
             0.1111111111111111,
             "#46039f"
            ],
            [
             0.2222222222222222,
             "#7201a8"
            ],
            [
             0.3333333333333333,
             "#9c179e"
            ],
            [
             0.4444444444444444,
             "#bd3786"
            ],
            [
             0.5555555555555556,
             "#d8576b"
            ],
            [
             0.6666666666666666,
             "#ed7953"
            ],
            [
             0.7777777777777778,
             "#fb9f3a"
            ],
            [
             0.8888888888888888,
             "#fdca26"
            ],
            [
             1,
             "#f0f921"
            ]
           ],
           "sequentialminus": [
            [
             0,
             "#0d0887"
            ],
            [
             0.1111111111111111,
             "#46039f"
            ],
            [
             0.2222222222222222,
             "#7201a8"
            ],
            [
             0.3333333333333333,
             "#9c179e"
            ],
            [
             0.4444444444444444,
             "#bd3786"
            ],
            [
             0.5555555555555556,
             "#d8576b"
            ],
            [
             0.6666666666666666,
             "#ed7953"
            ],
            [
             0.7777777777777778,
             "#fb9f3a"
            ],
            [
             0.8888888888888888,
             "#fdca26"
            ],
            [
             1,
             "#f0f921"
            ]
           ]
          },
          "colorway": [
           "#636efa",
           "#EF553B",
           "#00cc96",
           "#ab63fa",
           "#FFA15A",
           "#19d3f3",
           "#FF6692",
           "#B6E880",
           "#FF97FF",
           "#FECB52"
          ],
          "font": {
           "color": "#2a3f5f"
          },
          "geo": {
           "bgcolor": "white",
           "lakecolor": "white",
           "landcolor": "#E5ECF6",
           "showlakes": true,
           "showland": true,
           "subunitcolor": "white"
          },
          "hoverlabel": {
           "align": "left"
          },
          "hovermode": "closest",
          "mapbox": {
           "style": "light"
          },
          "paper_bgcolor": "white",
          "plot_bgcolor": "#E5ECF6",
          "polar": {
           "angularaxis": {
            "gridcolor": "white",
            "linecolor": "white",
            "ticks": ""
           },
           "bgcolor": "#E5ECF6",
           "radialaxis": {
            "gridcolor": "white",
            "linecolor": "white",
            "ticks": ""
           }
          },
          "scene": {
           "xaxis": {
            "backgroundcolor": "#E5ECF6",
            "gridcolor": "white",
            "gridwidth": 2,
            "linecolor": "white",
            "showbackground": true,
            "ticks": "",
            "zerolinecolor": "white"
           },
           "yaxis": {
            "backgroundcolor": "#E5ECF6",
            "gridcolor": "white",
            "gridwidth": 2,
            "linecolor": "white",
            "showbackground": true,
            "ticks": "",
            "zerolinecolor": "white"
           },
           "zaxis": {
            "backgroundcolor": "#E5ECF6",
            "gridcolor": "white",
            "gridwidth": 2,
            "linecolor": "white",
            "showbackground": true,
            "ticks": "",
            "zerolinecolor": "white"
           }
          },
          "shapedefaults": {
           "line": {
            "color": "#2a3f5f"
           }
          },
          "ternary": {
           "aaxis": {
            "gridcolor": "white",
            "linecolor": "white",
            "ticks": ""
           },
           "baxis": {
            "gridcolor": "white",
            "linecolor": "white",
            "ticks": ""
           },
           "bgcolor": "#E5ECF6",
           "caxis": {
            "gridcolor": "white",
            "linecolor": "white",
            "ticks": ""
           }
          },
          "title": {
           "x": 0.05
          },
          "xaxis": {
           "automargin": true,
           "gridcolor": "white",
           "linecolor": "white",
           "ticks": "",
           "title": {
            "standoff": 15
           },
           "zerolinecolor": "white",
           "zerolinewidth": 2
          },
          "yaxis": {
           "automargin": true,
           "gridcolor": "white",
           "linecolor": "white",
           "ticks": "",
           "title": {
            "standoff": 15
           },
           "zerolinecolor": "white",
           "zerolinewidth": 2
          }
         }
        },
        "title": {
         "text": "Median Price Grouped By Month<Br>Rolling Average: 3"
        },
        "xaxis": {
         "anchor": "y",
         "domain": [
          0,
          0.45
         ],
         "nticks": 9
        },
        "xaxis2": {
         "anchor": "y2",
         "domain": [
          0.55,
          1
         ],
         "matches": "x",
         "nticks": 9
        },
        "yaxis": {
         "anchor": "x",
         "domain": [
          0,
          1
         ]
        },
        "yaxis2": {
         "anchor": "x2",
         "domain": [
          0,
          1
         ]
        }
       }
      },
      "text/html": [
       "<div>                            <div id=\"e5a6bf32-90be-4f1f-8f66-cf822779aac0\" class=\"plotly-graph-div\" style=\"height:525px; width:100%;\"></div>            <script type=\"text/javascript\">                require([\"plotly\"], function(Plotly) {                    window.PLOTLYENV=window.PLOTLYENV || {};                                    if (document.getElementById(\"e5a6bf32-90be-4f1f-8f66-cf822779aac0\")) {                    Plotly.newPlot(                        \"e5a6bf32-90be-4f1f-8f66-cf822779aac0\",                        [{\"mode\": \"markers\", \"name\": \"Price\", \"type\": \"scatter\", \"x\": [\"2004-07-01T00:00:00\", \"2006-04-01T00:00:00\", \"2006-10-01T00:00:00\", \"2007-02-01T00:00:00\", \"2007-05-01T00:00:00\", \"2007-07-01T00:00:00\", \"2007-11-01T00:00:00\", \"2008-01-01T00:00:00\", \"2008-05-01T00:00:00\", \"2010-02-01T00:00:00\", \"2010-06-01T00:00:00\", \"2010-08-01T00:00:00\", \"2010-11-01T00:00:00\", \"2011-04-01T00:00:00\", \"2011-05-01T00:00:00\", \"2011-08-01T00:00:00\", \"2011-09-01T00:00:00\", \"2011-11-01T00:00:00\", \"2011-12-01T00:00:00\", \"2012-03-01T00:00:00\", \"2012-06-01T00:00:00\", \"2012-10-01T00:00:00\", \"2012-11-01T00:00:00\", \"2013-01-01T00:00:00\", \"2013-02-01T00:00:00\", \"2013-03-01T00:00:00\", \"2013-04-01T00:00:00\", \"2013-05-01T00:00:00\", \"2013-06-01T00:00:00\", \"2013-07-01T00:00:00\", \"2013-08-01T00:00:00\", \"2013-09-01T00:00:00\", \"2013-10-01T00:00:00\", \"2013-11-01T00:00:00\", \"2013-12-01T00:00:00\", \"2014-01-01T00:00:00\", \"2014-02-01T00:00:00\", \"2014-03-01T00:00:00\", \"2014-04-01T00:00:00\", \"2014-05-01T00:00:00\", \"2014-07-01T00:00:00\", \"2014-09-01T00:00:00\", \"2014-10-01T00:00:00\", \"2014-11-01T00:00:00\", \"2014-12-01T00:00:00\", \"2015-01-01T00:00:00\", \"2015-05-01T00:00:00\", \"2015-07-01T00:00:00\", \"2015-08-01T00:00:00\", \"2015-11-01T00:00:00\", \"2016-01-01T00:00:00\", \"2016-02-01T00:00:00\", \"2016-03-01T00:00:00\", \"2016-04-01T00:00:00\", \"2016-05-01T00:00:00\", \"2016-06-01T00:00:00\", \"2016-07-01T00:00:00\", \"2016-08-01T00:00:00\", \"2016-09-01T00:00:00\", \"2016-10-01T00:00:00\", \"2016-11-01T00:00:00\", \"2016-12-01T00:00:00\", \"2017-01-01T00:00:00\", \"2017-02-01T00:00:00\", \"2017-03-01T00:00:00\", \"2017-04-01T00:00:00\", \"2017-05-01T00:00:00\", \"2017-06-01T00:00:00\", \"2017-07-01T00:00:00\", \"2017-09-01T00:00:00\", \"2017-10-01T00:00:00\", \"2017-11-01T00:00:00\", \"2017-12-01T00:00:00\", \"2018-03-01T00:00:00\", \"2018-05-01T00:00:00\", \"2018-07-01T00:00:00\", \"2018-08-01T00:00:00\", \"2018-09-01T00:00:00\", \"2018-10-01T00:00:00\", \"2018-11-01T00:00:00\", \"2018-12-01T00:00:00\", \"2019-01-01T00:00:00\", \"2019-02-01T00:00:00\", \"2019-03-01T00:00:00\", \"2019-05-01T00:00:00\", \"2019-06-01T00:00:00\", \"2019-07-01T00:00:00\", \"2019-08-01T00:00:00\", \"2019-09-01T00:00:00\", \"2019-10-01T00:00:00\", \"2019-11-01T00:00:00\", \"2019-12-01T00:00:00\", \"2020-01-01T00:00:00\", \"2020-02-01T00:00:00\", \"2020-03-01T00:00:00\", \"2020-05-01T00:00:00\", \"2020-06-01T00:00:00\"], \"xaxis\": \"x\", \"y\": [202000.0, 236000.0, 199000.0, 216500.0, 210000.0, 220000.0, 245000.0, 222500.0, 244950.0, 213000.0, 229000.0, 202500.0, 211500.0, 190000.0, 229000.0, 230000.0, 199950.0, 198000.0, 195000.0, 201497.5, 195000.0, 220000.0, 200000.0, 208000.0, 187000.0, 200000.0, 222500.0, 217000.0, 217000.0, 234500.0, 207000.0, 205000.0, 249995.0, 182000.0, 230000.0, 225000.0, 200750.0, 235000.0, 240000.0, 226250.0, 267500.0, 284995.0, 249000.0, 250000.0, 250000.0, 245000.0, 280750.0, 247500.0, 310000.0, 250000.0, 295000.0, 280000.0, 323250.0, 325500.0, 308750.0, 317500.0, 328500.0, 305000.0, 259997.5, 280000.0, 336250.0, 310000.0, 336000.0, 300000.0, 303500.0, 278000.0, 287500.0, 298750.0, 295000.0, 310000.0, 300000.0, 296250.0, 332250.0, 271250.0, 289000.0, 276000.0, 270000.0, 319000.0, 300000.0, 280000.0, 278750.0, 330000.0, 330000.0, 313500.0, 299250.0, 256000.0, 315000.0, 275000.0, 297500.0, 278000.0, 308000.0, 305000.0, 275000.0, 326000.0, 305000.0, 275000.0, 261875.0], \"yaxis\": \"y\"}, {\"mode\": \"lines\", \"name\": \"Rolling Average 3\", \"type\": \"scatter\", \"x\": [\"2004-07-01T00:00:00\", \"2006-04-01T00:00:00\", \"2006-10-01T00:00:00\", \"2007-02-01T00:00:00\", \"2007-05-01T00:00:00\", \"2007-07-01T00:00:00\", \"2007-11-01T00:00:00\", \"2008-01-01T00:00:00\", \"2008-05-01T00:00:00\", \"2010-02-01T00:00:00\", \"2010-06-01T00:00:00\", \"2010-08-01T00:00:00\", \"2010-11-01T00:00:00\", \"2011-04-01T00:00:00\", \"2011-05-01T00:00:00\", \"2011-08-01T00:00:00\", \"2011-09-01T00:00:00\", \"2011-11-01T00:00:00\", \"2011-12-01T00:00:00\", \"2012-03-01T00:00:00\", \"2012-06-01T00:00:00\", \"2012-10-01T00:00:00\", \"2012-11-01T00:00:00\", \"2013-01-01T00:00:00\", \"2013-02-01T00:00:00\", \"2013-03-01T00:00:00\", \"2013-04-01T00:00:00\", \"2013-05-01T00:00:00\", \"2013-06-01T00:00:00\", \"2013-07-01T00:00:00\", \"2013-08-01T00:00:00\", \"2013-09-01T00:00:00\", \"2013-10-01T00:00:00\", \"2013-11-01T00:00:00\", \"2013-12-01T00:00:00\", \"2014-01-01T00:00:00\", \"2014-02-01T00:00:00\", \"2014-03-01T00:00:00\", \"2014-04-01T00:00:00\", \"2014-05-01T00:00:00\", \"2014-07-01T00:00:00\", \"2014-09-01T00:00:00\", \"2014-10-01T00:00:00\", \"2014-11-01T00:00:00\", \"2014-12-01T00:00:00\", \"2015-01-01T00:00:00\", \"2015-05-01T00:00:00\", \"2015-07-01T00:00:00\", \"2015-08-01T00:00:00\", \"2015-11-01T00:00:00\", \"2016-01-01T00:00:00\", \"2016-02-01T00:00:00\", \"2016-03-01T00:00:00\", \"2016-04-01T00:00:00\", \"2016-05-01T00:00:00\", \"2016-06-01T00:00:00\", \"2016-07-01T00:00:00\", \"2016-08-01T00:00:00\", \"2016-09-01T00:00:00\", \"2016-10-01T00:00:00\", \"2016-11-01T00:00:00\", \"2016-12-01T00:00:00\", \"2017-01-01T00:00:00\", \"2017-02-01T00:00:00\", \"2017-03-01T00:00:00\", \"2017-04-01T00:00:00\", \"2017-05-01T00:00:00\", \"2017-06-01T00:00:00\", \"2017-07-01T00:00:00\", \"2017-09-01T00:00:00\", \"2017-10-01T00:00:00\", \"2017-11-01T00:00:00\", \"2017-12-01T00:00:00\", \"2018-03-01T00:00:00\", \"2018-05-01T00:00:00\", \"2018-07-01T00:00:00\", \"2018-08-01T00:00:00\", \"2018-09-01T00:00:00\", \"2018-10-01T00:00:00\", \"2018-11-01T00:00:00\", \"2018-12-01T00:00:00\", \"2019-01-01T00:00:00\", \"2019-02-01T00:00:00\", \"2019-03-01T00:00:00\", \"2019-05-01T00:00:00\", \"2019-06-01T00:00:00\", \"2019-07-01T00:00:00\", \"2019-08-01T00:00:00\", \"2019-09-01T00:00:00\", \"2019-10-01T00:00:00\", \"2019-11-01T00:00:00\", \"2019-12-01T00:00:00\", \"2020-01-01T00:00:00\", \"2020-02-01T00:00:00\", \"2020-03-01T00:00:00\", \"2020-05-01T00:00:00\", \"2020-06-01T00:00:00\"], \"xaxis\": \"x\", \"y\": [null, null, 212333.33333333334, 217166.66666666666, 208500.0, 215500.0, 225000.0, 229166.66666666666, 237483.33333333334, 226816.66666666666, 228983.33333333334, 214833.33333333334, 214333.33333333334, 201333.33333333334, 210166.66666666666, 216333.33333333334, 219650.0, 209316.66666666666, 197650.0, 198165.83333333334, 197165.83333333334, 205499.16666666666, 205000.0, 209333.33333333334, 198333.33333333334, 198333.33333333334, 203166.66666666666, 213166.66666666666, 218833.33333333334, 222833.33333333334, 219500.0, 215500.0, 220665.0, 212331.66666666666, 220665.0, 212333.33333333334, 218583.33333333334, 220250.0, 225250.0, 233750.0, 244583.33333333334, 259581.66666666666, 267165.0, 261331.66666666666, 249666.66666666666, 248333.33333333334, 258583.33333333334, 257750.0, 279416.6666666667, 269166.6666666667, 285000.0, 275000.0, 299416.6666666667, 309583.3333333333, 319166.6666666667, 317250.0, 318250.0, 317000.0, 297832.5, 281665.8333333333, 292082.5, 308750.0, 327416.6666666667, 315333.3333333333, 313166.6666666667, 293833.3333333333, 289666.6666666667, 288083.3333333333, 293750.0, 301250.0, 301666.6666666667, 302083.3333333333, 309500.0, 299916.6666666667, 297500.0, 278750.0, 278333.3333333333, 288333.3333333333, 296333.3333333333, 299666.6666666667, 286250.0, 296250.0, 312916.6666666667, 324500.0, 314250.0, 289583.3333333333, 290083.3333333333, 282000.0, 295833.3333333333, 283500.0, 294500.0, 297000.0, 296000.0, 302000.0, 302000.0, 302000.0, 280625.0], \"yaxis\": \"y\"}, {\"mode\": \"markers\", \"name\": \"Price\", \"type\": \"scatter\", \"x\": [\"2007-06-01T00:00:00\", \"2007-12-01T00:00:00\", \"2010-06-01T00:00:00\", \"2010-07-01T00:00:00\", \"2010-09-01T00:00:00\", \"2011-07-01T00:00:00\", \"2011-08-01T00:00:00\", \"2011-11-01T00:00:00\", \"2012-02-01T00:00:00\", \"2012-03-01T00:00:00\", \"2012-05-01T00:00:00\", \"2012-10-01T00:00:00\", \"2012-11-01T00:00:00\", \"2013-02-01T00:00:00\", \"2013-07-01T00:00:00\", \"2013-08-01T00:00:00\", \"2013-09-01T00:00:00\", \"2013-10-01T00:00:00\", \"2014-02-01T00:00:00\", \"2014-05-01T00:00:00\", \"2014-11-01T00:00:00\", \"2014-12-01T00:00:00\", \"2015-04-01T00:00:00\", \"2015-06-01T00:00:00\", \"2015-08-01T00:00:00\", \"2016-01-01T00:00:00\", \"2016-02-01T00:00:00\", \"2016-03-01T00:00:00\", \"2016-04-01T00:00:00\", \"2016-05-01T00:00:00\", \"2016-06-01T00:00:00\", \"2016-07-01T00:00:00\", \"2016-08-01T00:00:00\", \"2016-09-01T00:00:00\", \"2016-10-01T00:00:00\", \"2016-11-01T00:00:00\", \"2016-12-01T00:00:00\", \"2017-01-01T00:00:00\", \"2017-02-01T00:00:00\", \"2017-03-01T00:00:00\", \"2017-04-01T00:00:00\", \"2017-05-01T00:00:00\", \"2017-06-01T00:00:00\", \"2017-07-01T00:00:00\", \"2017-08-01T00:00:00\", \"2017-09-01T00:00:00\", \"2017-10-01T00:00:00\", \"2017-11-01T00:00:00\", \"2017-12-01T00:00:00\", \"2018-01-01T00:00:00\", \"2018-02-01T00:00:00\", \"2018-03-01T00:00:00\", \"2018-04-01T00:00:00\", \"2018-05-01T00:00:00\", \"2018-06-01T00:00:00\", \"2018-07-01T00:00:00\", \"2018-08-01T00:00:00\", \"2018-09-01T00:00:00\", \"2018-10-01T00:00:00\", \"2018-11-01T00:00:00\", \"2018-12-01T00:00:00\", \"2019-01-01T00:00:00\", \"2019-02-01T00:00:00\", \"2019-03-01T00:00:00\", \"2019-04-01T00:00:00\", \"2019-05-01T00:00:00\", \"2019-06-01T00:00:00\", \"2019-07-01T00:00:00\", \"2019-08-01T00:00:00\", \"2019-09-01T00:00:00\", \"2019-10-01T00:00:00\", \"2019-11-01T00:00:00\", \"2019-12-01T00:00:00\", \"2020-01-01T00:00:00\", \"2020-02-01T00:00:00\", \"2020-03-01T00:00:00\", \"2020-04-01T00:00:00\", \"2020-05-01T00:00:00\", \"2020-06-01T00:00:00\"], \"xaxis\": \"x2\", \"y\": [200000.0, 207000.0, 183750.0, 196936.0, 218000.0, 199100.0, 203000.0, 190000.0, 220000.0, 205000.0, 217000.0, 189000.0, 210000.0, 203000.0, 185000.0, 221000.0, 243100.0, 204500.0, 212000.0, 243000.0, 223000.0, 236000.0, 245750.0, 273250.0, 279000.0, 321600.0, 305000.0, 270500.0, 304950.0, 305000.0, 312500.0, 328000.0, 285250.0, 322236.5, 315000.0, 292600.0, 300000.0, 325000.0, 285000.0, 307100.0, 298750.0, 332000.0, 290000.0, 325000.0, 325500.0, 320000.0, 317000.0, 289500.0, 335000.0, 332000.0, 320000.0, 335179.0, 285000.0, 325000.0, 314000.0, 320000.0, 310000.0, 310000.0, 330000.0, 321000.0, 225000.0, 325000.0, 300000.0, 335000.0, 305000.0, 325000.0, 345000.0, 295000.0, 315000.0, 300000.0, 345217.0, 337000.0, 340300.0, 307500.0, 325000.0, 340000.0, 270000.0, 343500.0, 372000.0], \"yaxis\": \"y2\"}, {\"mode\": \"lines\", \"name\": \"Rolling Average 3\", \"type\": \"scatter\", \"x\": [\"2007-06-01T00:00:00\", \"2007-12-01T00:00:00\", \"2010-06-01T00:00:00\", \"2010-07-01T00:00:00\", \"2010-09-01T00:00:00\", \"2011-07-01T00:00:00\", \"2011-08-01T00:00:00\", \"2011-11-01T00:00:00\", \"2012-02-01T00:00:00\", \"2012-03-01T00:00:00\", \"2012-05-01T00:00:00\", \"2012-10-01T00:00:00\", \"2012-11-01T00:00:00\", \"2013-02-01T00:00:00\", \"2013-07-01T00:00:00\", \"2013-08-01T00:00:00\", \"2013-09-01T00:00:00\", \"2013-10-01T00:00:00\", \"2014-02-01T00:00:00\", \"2014-05-01T00:00:00\", \"2014-11-01T00:00:00\", \"2014-12-01T00:00:00\", \"2015-04-01T00:00:00\", \"2015-06-01T00:00:00\", \"2015-08-01T00:00:00\", \"2016-01-01T00:00:00\", \"2016-02-01T00:00:00\", \"2016-03-01T00:00:00\", \"2016-04-01T00:00:00\", \"2016-05-01T00:00:00\", \"2016-06-01T00:00:00\", \"2016-07-01T00:00:00\", \"2016-08-01T00:00:00\", \"2016-09-01T00:00:00\", \"2016-10-01T00:00:00\", \"2016-11-01T00:00:00\", \"2016-12-01T00:00:00\", \"2017-01-01T00:00:00\", \"2017-02-01T00:00:00\", \"2017-03-01T00:00:00\", \"2017-04-01T00:00:00\", \"2017-05-01T00:00:00\", \"2017-06-01T00:00:00\", \"2017-07-01T00:00:00\", \"2017-08-01T00:00:00\", \"2017-09-01T00:00:00\", \"2017-10-01T00:00:00\", \"2017-11-01T00:00:00\", \"2017-12-01T00:00:00\", \"2018-01-01T00:00:00\", \"2018-02-01T00:00:00\", \"2018-03-01T00:00:00\", \"2018-04-01T00:00:00\", \"2018-05-01T00:00:00\", \"2018-06-01T00:00:00\", \"2018-07-01T00:00:00\", \"2018-08-01T00:00:00\", \"2018-09-01T00:00:00\", \"2018-10-01T00:00:00\", \"2018-11-01T00:00:00\", \"2018-12-01T00:00:00\", \"2019-01-01T00:00:00\", \"2019-02-01T00:00:00\", \"2019-03-01T00:00:00\", \"2019-04-01T00:00:00\", \"2019-05-01T00:00:00\", \"2019-06-01T00:00:00\", \"2019-07-01T00:00:00\", \"2019-08-01T00:00:00\", \"2019-09-01T00:00:00\", \"2019-10-01T00:00:00\", \"2019-11-01T00:00:00\", \"2019-12-01T00:00:00\", \"2020-01-01T00:00:00\", \"2020-02-01T00:00:00\", \"2020-03-01T00:00:00\", \"2020-04-01T00:00:00\", \"2020-05-01T00:00:00\", \"2020-06-01T00:00:00\"], \"xaxis\": \"x2\", \"y\": [null, null, 196916.66666666666, 195895.33333333334, 199562.0, 204678.66666666666, 206700.0, 197366.66666666666, 204333.33333333334, 205000.0, 214000.0, 203666.66666666666, 205333.33333333334, 200666.66666666666, 199333.33333333334, 203000.0, 216366.66666666666, 222866.66666666666, 219866.66666666666, 219833.33333333334, 226000.0, 234000.0, 234916.66666666666, 251666.66666666666, 266000.0, 291283.3333333333, 301866.6666666667, 299033.3333333333, 293483.3333333333, 293483.3333333333, 307483.3333333333, 315166.6666666667, 308583.3333333333, 311828.8333333333, 307495.5, 309945.5, 302533.3333333333, 305866.6666666667, 303333.3333333333, 305700.0, 296950.0, 312616.6666666667, 306916.6666666667, 315666.6666666667, 313500.0, 323500.0, 320833.3333333333, 308833.3333333333, 313833.3333333333, 318833.3333333333, 329000.0, 329059.6666666667, 313393.0, 315059.6666666667, 308000.0, 319666.6666666667, 314666.6666666667, 313333.3333333333, 316666.6666666667, 320333.3333333333, 292000.0, 290333.3333333333, 283333.3333333333, 320000.0, 313333.3333333333, 321666.6666666667, 325000.0, 321666.6666666667, 318333.3333333333, 303333.3333333333, 320072.3333333333, 327405.6666666667, 340839.0, 328266.6666666667, 324266.6666666667, 324166.6666666667, 311666.6666666667, 317833.3333333333, 328500.0], \"yaxis\": \"y2\"}],                        {\"annotations\": [{\"font\": {\"size\": 16}, \"showarrow\": false, \"text\": \"Bromley008\", \"x\": 0.225, \"xanchor\": \"center\", \"xref\": \"paper\", \"y\": 1.0, \"yanchor\": \"bottom\", \"yref\": \"paper\"}, {\"font\": {\"size\": 16}, \"showarrow\": false, \"text\": \"Bristol041\", \"x\": 0.775, \"xanchor\": \"center\", \"xref\": \"paper\", \"y\": 1.0, \"yanchor\": \"bottom\", \"yref\": \"paper\"}], \"showlegend\": true, \"template\": {\"data\": {\"bar\": [{\"error_x\": {\"color\": \"#2a3f5f\"}, \"error_y\": {\"color\": \"#2a3f5f\"}, \"marker\": {\"line\": {\"color\": \"#E5ECF6\", \"width\": 0.5}}, \"type\": \"bar\"}], \"barpolar\": [{\"marker\": {\"line\": {\"color\": \"#E5ECF6\", \"width\": 0.5}}, \"type\": \"barpolar\"}], \"carpet\": [{\"aaxis\": {\"endlinecolor\": \"#2a3f5f\", \"gridcolor\": \"white\", \"linecolor\": \"white\", \"minorgridcolor\": \"white\", \"startlinecolor\": \"#2a3f5f\"}, \"baxis\": {\"endlinecolor\": \"#2a3f5f\", \"gridcolor\": \"white\", \"linecolor\": \"white\", \"minorgridcolor\": \"white\", \"startlinecolor\": \"#2a3f5f\"}, \"type\": \"carpet\"}], \"choropleth\": [{\"colorbar\": {\"outlinewidth\": 0, \"ticks\": \"\"}, \"type\": \"choropleth\"}], \"contour\": [{\"colorbar\": {\"outlinewidth\": 0, \"ticks\": \"\"}, \"colorscale\": [[0.0, \"#0d0887\"], [0.1111111111111111, \"#46039f\"], [0.2222222222222222, \"#7201a8\"], [0.3333333333333333, \"#9c179e\"], [0.4444444444444444, \"#bd3786\"], [0.5555555555555556, \"#d8576b\"], [0.6666666666666666, \"#ed7953\"], [0.7777777777777778, \"#fb9f3a\"], [0.8888888888888888, \"#fdca26\"], [1.0, \"#f0f921\"]], \"type\": \"contour\"}], \"contourcarpet\": [{\"colorbar\": {\"outlinewidth\": 0, \"ticks\": \"\"}, \"type\": \"contourcarpet\"}], \"heatmap\": [{\"colorbar\": {\"outlinewidth\": 0, \"ticks\": \"\"}, \"colorscale\": [[0.0, \"#0d0887\"], [0.1111111111111111, \"#46039f\"], [0.2222222222222222, \"#7201a8\"], [0.3333333333333333, \"#9c179e\"], [0.4444444444444444, \"#bd3786\"], [0.5555555555555556, \"#d8576b\"], [0.6666666666666666, \"#ed7953\"], [0.7777777777777778, \"#fb9f3a\"], [0.8888888888888888, \"#fdca26\"], [1.0, \"#f0f921\"]], \"type\": \"heatmap\"}], \"heatmapgl\": [{\"colorbar\": {\"outlinewidth\": 0, \"ticks\": \"\"}, \"colorscale\": [[0.0, \"#0d0887\"], [0.1111111111111111, \"#46039f\"], [0.2222222222222222, \"#7201a8\"], [0.3333333333333333, \"#9c179e\"], [0.4444444444444444, \"#bd3786\"], [0.5555555555555556, \"#d8576b\"], [0.6666666666666666, \"#ed7953\"], [0.7777777777777778, \"#fb9f3a\"], [0.8888888888888888, \"#fdca26\"], [1.0, \"#f0f921\"]], \"type\": \"heatmapgl\"}], \"histogram\": [{\"marker\": {\"colorbar\": {\"outlinewidth\": 0, \"ticks\": \"\"}}, \"type\": \"histogram\"}], \"histogram2d\": [{\"colorbar\": {\"outlinewidth\": 0, \"ticks\": \"\"}, \"colorscale\": [[0.0, \"#0d0887\"], [0.1111111111111111, \"#46039f\"], [0.2222222222222222, \"#7201a8\"], [0.3333333333333333, \"#9c179e\"], [0.4444444444444444, \"#bd3786\"], [0.5555555555555556, \"#d8576b\"], [0.6666666666666666, \"#ed7953\"], [0.7777777777777778, \"#fb9f3a\"], [0.8888888888888888, \"#fdca26\"], [1.0, \"#f0f921\"]], \"type\": \"histogram2d\"}], \"histogram2dcontour\": [{\"colorbar\": {\"outlinewidth\": 0, \"ticks\": \"\"}, \"colorscale\": [[0.0, \"#0d0887\"], [0.1111111111111111, \"#46039f\"], [0.2222222222222222, \"#7201a8\"], [0.3333333333333333, \"#9c179e\"], [0.4444444444444444, \"#bd3786\"], [0.5555555555555556, \"#d8576b\"], [0.6666666666666666, \"#ed7953\"], [0.7777777777777778, \"#fb9f3a\"], [0.8888888888888888, \"#fdca26\"], [1.0, \"#f0f921\"]], \"type\": \"histogram2dcontour\"}], \"mesh3d\": [{\"colorbar\": {\"outlinewidth\": 0, \"ticks\": \"\"}, \"type\": \"mesh3d\"}], \"parcoords\": [{\"line\": {\"colorbar\": {\"outlinewidth\": 0, \"ticks\": \"\"}}, \"type\": \"parcoords\"}], \"pie\": [{\"automargin\": true, \"type\": \"pie\"}], \"scatter\": [{\"marker\": {\"colorbar\": {\"outlinewidth\": 0, \"ticks\": \"\"}}, \"type\": \"scatter\"}], \"scatter3d\": [{\"line\": {\"colorbar\": {\"outlinewidth\": 0, \"ticks\": \"\"}}, \"marker\": {\"colorbar\": {\"outlinewidth\": 0, \"ticks\": \"\"}}, \"type\": \"scatter3d\"}], \"scattercarpet\": [{\"marker\": {\"colorbar\": {\"outlinewidth\": 0, \"ticks\": \"\"}}, \"type\": \"scattercarpet\"}], \"scattergeo\": [{\"marker\": {\"colorbar\": {\"outlinewidth\": 0, \"ticks\": \"\"}}, \"type\": \"scattergeo\"}], \"scattergl\": [{\"marker\": {\"colorbar\": {\"outlinewidth\": 0, \"ticks\": \"\"}}, \"type\": \"scattergl\"}], \"scattermapbox\": [{\"marker\": {\"colorbar\": {\"outlinewidth\": 0, \"ticks\": \"\"}}, \"type\": \"scattermapbox\"}], \"scatterpolar\": [{\"marker\": {\"colorbar\": {\"outlinewidth\": 0, \"ticks\": \"\"}}, \"type\": \"scatterpolar\"}], \"scatterpolargl\": [{\"marker\": {\"colorbar\": {\"outlinewidth\": 0, \"ticks\": \"\"}}, \"type\": \"scatterpolargl\"}], \"scatterternary\": [{\"marker\": {\"colorbar\": {\"outlinewidth\": 0, \"ticks\": \"\"}}, \"type\": \"scatterternary\"}], \"surface\": [{\"colorbar\": {\"outlinewidth\": 0, \"ticks\": \"\"}, \"colorscale\": [[0.0, \"#0d0887\"], [0.1111111111111111, \"#46039f\"], [0.2222222222222222, \"#7201a8\"], [0.3333333333333333, \"#9c179e\"], [0.4444444444444444, \"#bd3786\"], [0.5555555555555556, \"#d8576b\"], [0.6666666666666666, \"#ed7953\"], [0.7777777777777778, \"#fb9f3a\"], [0.8888888888888888, \"#fdca26\"], [1.0, \"#f0f921\"]], \"type\": \"surface\"}], \"table\": [{\"cells\": {\"fill\": {\"color\": \"#EBF0F8\"}, \"line\": {\"color\": \"white\"}}, \"header\": {\"fill\": {\"color\": \"#C8D4E3\"}, \"line\": {\"color\": \"white\"}}, \"type\": \"table\"}]}, \"layout\": {\"annotationdefaults\": {\"arrowcolor\": \"#2a3f5f\", \"arrowhead\": 0, \"arrowwidth\": 1}, \"coloraxis\": {\"colorbar\": {\"outlinewidth\": 0, \"ticks\": \"\"}}, \"colorscale\": {\"diverging\": [[0, \"#8e0152\"], [0.1, \"#c51b7d\"], [0.2, \"#de77ae\"], [0.3, \"#f1b6da\"], [0.4, \"#fde0ef\"], [0.5, \"#f7f7f7\"], [0.6, \"#e6f5d0\"], [0.7, \"#b8e186\"], [0.8, \"#7fbc41\"], [0.9, \"#4d9221\"], [1, \"#276419\"]], \"sequential\": [[0.0, \"#0d0887\"], [0.1111111111111111, \"#46039f\"], [0.2222222222222222, \"#7201a8\"], [0.3333333333333333, \"#9c179e\"], [0.4444444444444444, \"#bd3786\"], [0.5555555555555556, \"#d8576b\"], [0.6666666666666666, \"#ed7953\"], [0.7777777777777778, \"#fb9f3a\"], [0.8888888888888888, \"#fdca26\"], [1.0, \"#f0f921\"]], \"sequentialminus\": [[0.0, \"#0d0887\"], [0.1111111111111111, \"#46039f\"], [0.2222222222222222, \"#7201a8\"], [0.3333333333333333, \"#9c179e\"], [0.4444444444444444, \"#bd3786\"], [0.5555555555555556, \"#d8576b\"], [0.6666666666666666, \"#ed7953\"], [0.7777777777777778, \"#fb9f3a\"], [0.8888888888888888, \"#fdca26\"], [1.0, \"#f0f921\"]]}, \"colorway\": [\"#636efa\", \"#EF553B\", \"#00cc96\", \"#ab63fa\", \"#FFA15A\", \"#19d3f3\", \"#FF6692\", \"#B6E880\", \"#FF97FF\", \"#FECB52\"], \"font\": {\"color\": \"#2a3f5f\"}, \"geo\": {\"bgcolor\": \"white\", \"lakecolor\": \"white\", \"landcolor\": \"#E5ECF6\", \"showlakes\": true, \"showland\": true, \"subunitcolor\": \"white\"}, \"hoverlabel\": {\"align\": \"left\"}, \"hovermode\": \"closest\", \"mapbox\": {\"style\": \"light\"}, \"paper_bgcolor\": \"white\", \"plot_bgcolor\": \"#E5ECF6\", \"polar\": {\"angularaxis\": {\"gridcolor\": \"white\", \"linecolor\": \"white\", \"ticks\": \"\"}, \"bgcolor\": \"#E5ECF6\", \"radialaxis\": {\"gridcolor\": \"white\", \"linecolor\": \"white\", \"ticks\": \"\"}}, \"scene\": {\"xaxis\": {\"backgroundcolor\": \"#E5ECF6\", \"gridcolor\": \"white\", \"gridwidth\": 2, \"linecolor\": \"white\", \"showbackground\": true, \"ticks\": \"\", \"zerolinecolor\": \"white\"}, \"yaxis\": {\"backgroundcolor\": \"#E5ECF6\", \"gridcolor\": \"white\", \"gridwidth\": 2, \"linecolor\": \"white\", \"showbackground\": true, \"ticks\": \"\", \"zerolinecolor\": \"white\"}, \"zaxis\": {\"backgroundcolor\": \"#E5ECF6\", \"gridcolor\": \"white\", \"gridwidth\": 2, \"linecolor\": \"white\", \"showbackground\": true, \"ticks\": \"\", \"zerolinecolor\": \"white\"}}, \"shapedefaults\": {\"line\": {\"color\": \"#2a3f5f\"}}, \"ternary\": {\"aaxis\": {\"gridcolor\": \"white\", \"linecolor\": \"white\", \"ticks\": \"\"}, \"baxis\": {\"gridcolor\": \"white\", \"linecolor\": \"white\", \"ticks\": \"\"}, \"bgcolor\": \"#E5ECF6\", \"caxis\": {\"gridcolor\": \"white\", \"linecolor\": \"white\", \"ticks\": \"\"}}, \"title\": {\"x\": 0.05}, \"xaxis\": {\"automargin\": true, \"gridcolor\": \"white\", \"linecolor\": \"white\", \"ticks\": \"\", \"title\": {\"standoff\": 15}, \"zerolinecolor\": \"white\", \"zerolinewidth\": 2}, \"yaxis\": {\"automargin\": true, \"gridcolor\": \"white\", \"linecolor\": \"white\", \"ticks\": \"\", \"title\": {\"standoff\": 15}, \"zerolinecolor\": \"white\", \"zerolinewidth\": 2}}}, \"title\": {\"text\": \"Median Price Grouped By Month<Br>Rolling Average: 3\"}, \"xaxis\": {\"anchor\": \"y\", \"domain\": [0.0, 0.45], \"nticks\": 9}, \"xaxis2\": {\"anchor\": \"y2\", \"domain\": [0.55, 1.0], \"matches\": \"x\", \"nticks\": 9}, \"yaxis\": {\"anchor\": \"x\", \"domain\": [0.0, 1.0]}, \"yaxis2\": {\"anchor\": \"x2\", \"domain\": [0.0, 1.0]}},                        {\"responsive\": true}                    ).then(function(){\n",
       "                            \n",
       "var gd = document.getElementById('e5a6bf32-90be-4f1f-8f66-cf822779aac0');\n",
       "var x = new MutationObserver(function (mutations, observer) {{\n",
       "        var display = window.getComputedStyle(gd).display;\n",
       "        if (!display || display === 'none') {{\n",
       "            console.log([gd, 'removed!']);\n",
       "            Plotly.purge(gd);\n",
       "            observer.disconnect();\n",
       "        }}\n",
       "}});\n",
       "\n",
       "// Listen for the removal of the full notebook cells\n",
       "var notebookContainer = gd.closest('#notebook-container');\n",
       "if (notebookContainer) {{\n",
       "    x.observe(notebookContainer, {childList: true});\n",
       "}}\n",
       "\n",
       "// Listen for the clearing of the current output cell\n",
       "var outputEl = gd.closest('.output');\n",
       "if (outputEl) {{\n",
       "    x.observe(outputEl, {childList: true});\n",
       "}}\n",
       "\n",
       "                        })                };                });            </script>        </div>"
      ]
     },
     "metadata": {},
     "output_type": "display_data"
    }
   ],
   "source": [
    "best_areas_figure, n_table = rolling_avg_subplots_for_area(dataframe=best_areas_yearly,\n",
    "                                               target='price',\n",
    "                                              rolling_val=3, top_n=2)\n",
    "\n",
    "n_table\n",
    "best_areas_figure\n"
   ]
  },
  {
   "cell_type": "markdown",
   "metadata": {},
   "source": [
    "# <i>plot moving and exp average on the same chart for various time lengths</i>\n",
    "# <i>95th and 5th percentile</i>"
   ]
  },
  {
   "cell_type": "markdown",
   "metadata": {},
   "source": [
    "### poly_subplots_for_area\n",
    "\n",
    "<b>poly_subplots_for_area</b> creates scatter plots and a polynomial regression for areas passed to the function.\n",
    "\n",
    "Currently you have to change the <b>rows</b> and <b>cols</b> for the subplot manually in the function to match the <b>top_n</b> areas. \n",
    "\n",
    "It returns two objects:<br>\n",
    "<ul> \n",
    "    <b><li>figure</li></b> A pyplot figure containing the subplots.\n",
    "    <b><li>n_table</li></b> A dataframe containing the number of sales for each area."
   ]
  },
  {
   "cell_type": "code",
   "execution_count": null,
   "metadata": {},
   "outputs": [],
   "source": [
    "def poly_subplots_for_area(dataframe=best_areas_yearly, target=target, area=area, top_n=6):\n",
    "\n",
    "\n",
    "    year_min = dataframe['year_sold'].min()\n",
    "    year_max = dataframe['year_sold'].max()\n",
    "    \n",
    "    \n",
    "    n_table = pd.DataFrame(columns=[], index=['n'])\n",
    "    \n",
    "    area_list = list(dataframe[area].unique())\n",
    "    \n",
    "    # Created function to create appropriate grid cordinates given the top_n number of plots needed to be created\n",
    "    cords_list = create_grid_cords(top_n)\n",
    "\n",
    "#     Creates a figure and axes object.     \n",
    "    fig = make_subplots(rows=(top_n // 2),\n",
    "                        cols=2,\n",
    "                        subplot_titles=area_list,\n",
    "                        shared_xaxes='all',\n",
    "                        print_grid=False)\n",
    "\n",
    "    # Iterates through the subplot grids, and the locations named in area_list\n",
    "    for cord, location in zip(cords_list, area_list):\n",
    "\n",
    "        #creates temporary dataframe containing only matched locations, and areas within the correct year range\n",
    "        df = dataframe.loc[(dataframe[area] == location) \n",
    "                              & (dataframe['year_sold'] >= year_min) \n",
    "                              & (dataframe['year_sold'] <= year_max)].copy()\n",
    "        \n",
    "        #groups the df by the year_month sold creating a single median entry for each month of the year\n",
    "        df = df.groupby('year_month_sold')[target].median().reset_index()\n",
    "        \n",
    "        #creates a new column converting the year_month_sold datetime value to a ordinal value to allow model creation\n",
    "        df['ord_dates'] = df['year_month_sold'].map(dt.toordinal)\n",
    "        \n",
    "        #variable creation for readability later\n",
    "        x_vals = df['ord_dates']\n",
    "        y_vals = df[target]\n",
    "        \n",
    "        #Adds a scatter trace to teh specified row, col subplot of all monthly sale information\n",
    "        fig.add_trace(go.Scatter(x=df['year_month_sold'],\n",
    "                                 y=y_vals,\n",
    "                                 mode='markers'),\n",
    "                     row=cord[0], col=cord[1])\n",
    "\n",
    "        #variable creation to values in the coming for loop\n",
    "        best_score = 0\n",
    "        best_i = 0\n",
    "        #iterates over a specified range to try different polynomial values to find the most accurate line\n",
    "        for i in range(20):\n",
    "            \n",
    "                    \n",
    "            #surpresses numpy warnings about model being incorrectly fit as it iterates over all posibilties\n",
    "            np.warnings.filterwarnings('ignore')\n",
    "            \n",
    "            #stolen from stackoverflow, not 100% sure what's happening\n",
    "            #From what I can tell it's similar to scikit and is fitting the data to a model with a polynomial, i\n",
    "            mymodel = np.poly1d(np.polyfit(x_vals,\n",
    "                                          y_vals,\n",
    "                                          i))\n",
    "            #creates an array of x values\n",
    "            myline = np.linspace(x_vals[0],\n",
    "                                 x_vals[len(x_vals) - 1])\n",
    "            \n",
    "            #returns r2 score of the mode\n",
    "            score = r2_score(y_vals, mymodel(x_vals))\n",
    "            \n",
    "            if score > best_score:\n",
    "                best_score = score\n",
    "                best_i = i\n",
    "        \n",
    "        #refits the model with the best_i value found by the above for loop\n",
    "        mymodel = np.poly1d(np.polyfit(x_vals, y_vals, best_i))\n",
    "        \n",
    "        #this is key\n",
    "        #creates a new series of datetime values from the ordinal date values used in the numpy model\n",
    "        my_line_dates = pd.Series(myline.astype(int)).map(dt.fromordinal)\n",
    "        \n",
    "        #adds the polynomial line to the figure.\n",
    "        fig.add_trace(go.Scatter(x = my_line_dates,\n",
    "                                 y = mymodel(myline),\n",
    "                                 mode='lines'),\n",
    "                     row=cord[0], col=cord[1])       \n",
    "\n",
    "        \n",
    "        n_table[location] = len(df)\n",
    "\n",
    "    fig.update_layout(title_text=f\"{target} grouped by Month<br>With polynomial regression lines\".title().replace(\"_\", \" \"))\n",
    "    fig.update_layout(showlegend=False)\n",
    "    fig.update_xaxes(nticks=20)\n",
    "\n",
    "    \n",
    "    return fig, n_table"
   ]
  },
  {
   "cell_type": "code",
   "execution_count": 142,
   "metadata": {},
   "outputs": [
    {
     "name": "stdout",
     "output_type": "stream",
     "text": [
      "n1 is [1, 1, 2, 2]\n",
      "n2 is [1, 2, 1, 2, 1, 2, 1, 2]\n"
     ]
    },
    {
     "data": {
      "text/html": [
       "<div>\n",
       "<style scoped>\n",
       "    .dataframe tbody tr th:only-of-type {\n",
       "        vertical-align: middle;\n",
       "    }\n",
       "\n",
       "    .dataframe tbody tr th {\n",
       "        vertical-align: top;\n",
       "    }\n",
       "\n",
       "    .dataframe thead th {\n",
       "        text-align: right;\n",
       "    }\n",
       "</style>\n",
       "<table border=\"1\" class=\"dataframe\">\n",
       "  <thead>\n",
       "    <tr style=\"text-align: right;\">\n",
       "      <th></th>\n",
       "      <th>Bromley008</th>\n",
       "      <th>Bristol041</th>\n",
       "      <th>Bristol037</th>\n",
       "      <th>Harlow005</th>\n",
       "    </tr>\n",
       "  </thead>\n",
       "  <tbody>\n",
       "    <tr>\n",
       "      <th>n</th>\n",
       "      <td>97</td>\n",
       "      <td>79</td>\n",
       "      <td>71</td>\n",
       "      <td>114</td>\n",
       "    </tr>\n",
       "  </tbody>\n",
       "</table>\n",
       "</div>"
      ],
      "text/plain": [
       "   Bromley008  Bristol041  Bristol037  Harlow005\n",
       "n          97          79          71        114"
      ]
     },
     "execution_count": 142,
     "metadata": {},
     "output_type": "execute_result"
    },
    {
     "data": {
      "application/vnd.plotly.v1+json": {
       "config": {
        "plotlyServerURL": "https://plot.ly"
       },
       "data": [
        {
         "mode": "markers",
         "type": "scatter",
         "x": [
          "2004-07-01T00:00:00",
          "2006-04-01T00:00:00",
          "2006-10-01T00:00:00",
          "2007-02-01T00:00:00",
          "2007-05-01T00:00:00",
          "2007-07-01T00:00:00",
          "2007-11-01T00:00:00",
          "2008-01-01T00:00:00",
          "2008-05-01T00:00:00",
          "2010-02-01T00:00:00",
          "2010-06-01T00:00:00",
          "2010-08-01T00:00:00",
          "2010-11-01T00:00:00",
          "2011-04-01T00:00:00",
          "2011-05-01T00:00:00",
          "2011-08-01T00:00:00",
          "2011-09-01T00:00:00",
          "2011-11-01T00:00:00",
          "2011-12-01T00:00:00",
          "2012-03-01T00:00:00",
          "2012-06-01T00:00:00",
          "2012-10-01T00:00:00",
          "2012-11-01T00:00:00",
          "2013-01-01T00:00:00",
          "2013-02-01T00:00:00",
          "2013-03-01T00:00:00",
          "2013-04-01T00:00:00",
          "2013-05-01T00:00:00",
          "2013-06-01T00:00:00",
          "2013-07-01T00:00:00",
          "2013-08-01T00:00:00",
          "2013-09-01T00:00:00",
          "2013-10-01T00:00:00",
          "2013-11-01T00:00:00",
          "2013-12-01T00:00:00",
          "2014-01-01T00:00:00",
          "2014-02-01T00:00:00",
          "2014-03-01T00:00:00",
          "2014-04-01T00:00:00",
          "2014-05-01T00:00:00",
          "2014-07-01T00:00:00",
          "2014-09-01T00:00:00",
          "2014-10-01T00:00:00",
          "2014-11-01T00:00:00",
          "2014-12-01T00:00:00",
          "2015-01-01T00:00:00",
          "2015-05-01T00:00:00",
          "2015-07-01T00:00:00",
          "2015-08-01T00:00:00",
          "2015-11-01T00:00:00",
          "2016-01-01T00:00:00",
          "2016-02-01T00:00:00",
          "2016-03-01T00:00:00",
          "2016-04-01T00:00:00",
          "2016-05-01T00:00:00",
          "2016-06-01T00:00:00",
          "2016-07-01T00:00:00",
          "2016-08-01T00:00:00",
          "2016-09-01T00:00:00",
          "2016-10-01T00:00:00",
          "2016-11-01T00:00:00",
          "2016-12-01T00:00:00",
          "2017-01-01T00:00:00",
          "2017-02-01T00:00:00",
          "2017-03-01T00:00:00",
          "2017-04-01T00:00:00",
          "2017-05-01T00:00:00",
          "2017-06-01T00:00:00",
          "2017-07-01T00:00:00",
          "2017-09-01T00:00:00",
          "2017-10-01T00:00:00",
          "2017-11-01T00:00:00",
          "2017-12-01T00:00:00",
          "2018-03-01T00:00:00",
          "2018-05-01T00:00:00",
          "2018-07-01T00:00:00",
          "2018-08-01T00:00:00",
          "2018-09-01T00:00:00",
          "2018-10-01T00:00:00",
          "2018-11-01T00:00:00",
          "2018-12-01T00:00:00",
          "2019-01-01T00:00:00",
          "2019-02-01T00:00:00",
          "2019-03-01T00:00:00",
          "2019-05-01T00:00:00",
          "2019-06-01T00:00:00",
          "2019-07-01T00:00:00",
          "2019-08-01T00:00:00",
          "2019-09-01T00:00:00",
          "2019-10-01T00:00:00",
          "2019-11-01T00:00:00",
          "2019-12-01T00:00:00",
          "2020-01-01T00:00:00",
          "2020-02-01T00:00:00",
          "2020-03-01T00:00:00",
          "2020-05-01T00:00:00",
          "2020-06-01T00:00:00"
         ],
         "xaxis": "x",
         "y": [
          13.48314606741573,
          4.888888888888889,
          14.367816091954023,
          24.42528735632184,
          7.6923076923076925,
          1.4374827455792776,
          33.15217391304348,
          27.873563218390807,
          21.262376237623762,
          10.362694300518134,
          4.093274847155618,
          6.265020755953682,
          12.5,
          6.145251396648044,
          4.5662100456621,
          0.6241019050283843,
          7.2117962466487935,
          4.2105263157894735,
          8.333333333333332,
          2.0077663671373553,
          -4.854842644547451,
          2.3255813953488373,
          15.942028985507244,
          -1.6548463356973995,
          7.471264367816093,
          2.164923376307468,
          11.25,
          14.814814814814813,
          10.997442455242968,
          9.420408163265307,
          6.153846153846154,
          7.8975762520066315,
          12.357303370786516,
          -8.080808080808081,
          21.372031662269126,
          31.195335276967928,
          9.932432432432432,
          17.5,
          9.090909090909092,
          20.265151515151516,
          40.78947368421053,
          29.543181818181818,
          33.68784133371659,
          34.40860215053764,
          25.003125078126953,
          16.666666666666664,
          47.83414502164502,
          44.73684210526316,
          39.954853273137694,
          42.857142857142854,
          32,
          48.97343862167983,
          51.97690350362106,
          55.44041450777202,
          67.31108497500735,
          58.14492137696557,
          38.84444444444444,
          55.61224489795919,
          37.30527517423696,
          55.55555555555556,
          39.025275382119375,
          73.18435754189943,
          61.33276255707763,
          33.63095238095238,
          57.62922262922263,
          36.5953488372093,
          25.26034337179848,
          45.86899563318777,
          52.493483331046775,
          28.31050228310502,
          45.380434782608695,
          39.52762923351158,
          60.70699668892145,
          51.53508771929825,
          31.436768240676123,
          20.711527854384997,
          23.031496062992126,
          30.23065931822821,
          35.22859564848827,
          21.659192825112108,
          26.093032288570654,
          32.54032258064517,
          64.93530071961445,
          50.58064516129032,
          2.351906158357771,
          34.77230850223743,
          50.96618357487923,
          16.52173913043478,
          43.82843983880254,
          16,
          29.71813725490196,
          22,
          27.906976744186046,
          31.705596552947913,
          28.952793238507525,
          11.11111111111111,
          49.21477464291188
         ],
         "yaxis": "y"
        },
        {
         "mode": "lines",
         "type": "scatter",
         "x": [
          "2004-07-01T00:00:00",
          "2004-10-27T00:00:00",
          "2005-02-23T00:00:00",
          "2005-06-21T00:00:00",
          "2005-10-18T00:00:00",
          "2006-02-14T00:00:00",
          "2006-06-12T00:00:00",
          "2006-10-09T00:00:00",
          "2007-02-05T00:00:00",
          "2007-06-03T00:00:00",
          "2007-09-30T00:00:00",
          "2008-01-27T00:00:00",
          "2008-05-24T00:00:00",
          "2008-09-20T00:00:00",
          "2009-01-17T00:00:00",
          "2009-05-15T00:00:00",
          "2009-09-11T00:00:00",
          "2010-01-08T00:00:00",
          "2010-05-06T00:00:00",
          "2010-09-02T00:00:00",
          "2010-12-30T00:00:00",
          "2011-04-27T00:00:00",
          "2011-08-24T00:00:00",
          "2011-12-21T00:00:00",
          "2012-04-17T00:00:00",
          "2012-08-14T00:00:00",
          "2012-12-10T00:00:00",
          "2013-04-08T00:00:00",
          "2013-08-05T00:00:00",
          "2013-12-01T00:00:00",
          "2014-03-30T00:00:00",
          "2014-07-27T00:00:00",
          "2014-11-22T00:00:00",
          "2015-03-21T00:00:00",
          "2015-07-18T00:00:00",
          "2015-11-13T00:00:00",
          "2016-03-11T00:00:00",
          "2016-07-08T00:00:00",
          "2016-11-03T00:00:00",
          "2017-03-02T00:00:00",
          "2017-06-29T00:00:00",
          "2017-10-25T00:00:00",
          "2018-02-21T00:00:00",
          "2018-06-20T00:00:00",
          "2018-10-16T00:00:00",
          "2019-02-12T00:00:00",
          "2019-06-11T00:00:00",
          "2019-10-07T00:00:00",
          "2020-02-03T00:00:00",
          "2020-06-01T00:00:00"
         ],
         "xaxis": "x",
         "y": [
          3.412689208984375,
          12.092376708984375,
          18.248748779296875,
          22.261322021484375,
          24.47900390625,
          25.221649169921875,
          24.781494140625,
          23.42315673828125,
          21.385223388671875,
          18.88116455078125,
          16.100616455078125,
          13.20916748046875,
          10.35125732421875,
          7.649627685546875,
          5.207305908203125,
          3.108001708984375,
          1.41748046875,
          0.184539794921875,
          -0.557830810546875,
          -0.79144287109375,
          -0.51171875,
          0.272674560546875,
          1.5419921875,
          3.26593017578125,
          5.404998779296875,
          7.91064453125,
          10.72833251953125,
          13.79644775390625,
          17.049224853515625,
          20.41693115234375,
          23.82696533203125,
          27.2056884765625,
          30.47894287109375,
          33.573638916015625,
          36.41864013671875,
          38.94635009765625,
          41.093292236328125,
          42.80206298828125,
          44.021636962890625,
          44.709869384765625,
          44.833099365234375,
          44.3692626953125,
          43.306915283203125,
          41.648956298828125,
          39.41180419921875,
          36.62786865234375,
          33.346405029296875,
          29.634796142578125,
          25.580108642578125,
          21.290130615234375
         ],
         "yaxis": "y"
        },
        {
         "mode": "markers",
         "type": "scatter",
         "x": [
          "2007-06-01T00:00:00",
          "2007-12-01T00:00:00",
          "2010-06-01T00:00:00",
          "2010-07-01T00:00:00",
          "2010-09-01T00:00:00",
          "2011-07-01T00:00:00",
          "2011-08-01T00:00:00",
          "2011-11-01T00:00:00",
          "2012-02-01T00:00:00",
          "2012-03-01T00:00:00",
          "2012-05-01T00:00:00",
          "2012-10-01T00:00:00",
          "2012-11-01T00:00:00",
          "2013-02-01T00:00:00",
          "2013-07-01T00:00:00",
          "2013-08-01T00:00:00",
          "2013-09-01T00:00:00",
          "2013-10-01T00:00:00",
          "2014-02-01T00:00:00",
          "2014-05-01T00:00:00",
          "2014-11-01T00:00:00",
          "2014-12-01T00:00:00",
          "2015-04-01T00:00:00",
          "2015-06-01T00:00:00",
          "2015-08-01T00:00:00",
          "2016-01-01T00:00:00",
          "2016-02-01T00:00:00",
          "2016-03-01T00:00:00",
          "2016-04-01T00:00:00",
          "2016-05-01T00:00:00",
          "2016-06-01T00:00:00",
          "2016-07-01T00:00:00",
          "2016-08-01T00:00:00",
          "2016-09-01T00:00:00",
          "2016-10-01T00:00:00",
          "2016-11-01T00:00:00",
          "2016-12-01T00:00:00",
          "2017-01-01T00:00:00",
          "2017-02-01T00:00:00",
          "2017-03-01T00:00:00",
          "2017-04-01T00:00:00",
          "2017-05-01T00:00:00",
          "2017-06-01T00:00:00",
          "2017-07-01T00:00:00",
          "2017-08-01T00:00:00",
          "2017-09-01T00:00:00",
          "2017-10-01T00:00:00",
          "2017-11-01T00:00:00",
          "2017-12-01T00:00:00",
          "2018-01-01T00:00:00",
          "2018-02-01T00:00:00",
          "2018-03-01T00:00:00",
          "2018-04-01T00:00:00",
          "2018-05-01T00:00:00",
          "2018-06-01T00:00:00",
          "2018-07-01T00:00:00",
          "2018-08-01T00:00:00",
          "2018-09-01T00:00:00",
          "2018-10-01T00:00:00",
          "2018-11-01T00:00:00",
          "2018-12-01T00:00:00",
          "2019-01-01T00:00:00",
          "2019-02-01T00:00:00",
          "2019-03-01T00:00:00",
          "2019-04-01T00:00:00",
          "2019-05-01T00:00:00",
          "2019-06-01T00:00:00",
          "2019-07-01T00:00:00",
          "2019-08-01T00:00:00",
          "2019-09-01T00:00:00",
          "2019-10-01T00:00:00",
          "2019-11-01T00:00:00",
          "2019-12-01T00:00:00",
          "2020-01-01T00:00:00",
          "2020-02-01T00:00:00",
          "2020-03-01T00:00:00",
          "2020-04-01T00:00:00",
          "2020-05-01T00:00:00",
          "2020-06-01T00:00:00"
         ],
         "xaxis": "x2",
         "y": [
          -6.976744186046512,
          19.30835734870317,
          5.961794019933554,
          -1.532,
          24.607030580165763,
          5.519662921348314,
          0.24691358024691357,
          -10.377358490566039,
          15.802882439019255,
          15.168539325842698,
          25.43352601156069,
          -5.555555555555555,
          11.11111111111111,
          -3.3333333333333335,
          2.7777777777777777,
          14.507772020725387,
          38.91428571428571,
          4.871794871794872,
          10.129870129870131,
          23.037974683544306,
          17.07377049180328,
          21.649484536082475,
          22.875,
          43.70758184696804,
          32.24249888042991,
          53.142857142857146,
          43.86792452830189,
          37.795660222130806,
          48.74141876430206,
          56.53846153846154,
          61.42870905587668,
          53.3431572178759,
          56.039436619718316,
          66.3968699774992,
          50,
          54.001869855300896,
          44.18604651162791,
          42.71653543307087,
          47.286821705426355,
          56.29545454545455,
          55.02712257785933,
          52.293577981651374,
          65.71428571428571,
          68.29268292682927,
          46.79272342995169,
          56.09756097560976,
          58.70795107033639,
          40.107879924953096,
          63.41463414634146,
          64.7671568627451,
          56.09756097560976,
          60.49528301886793,
          30.73394495412844,
          62.54063515878969,
          35.89118886242902,
          57.41154486736808,
          38.24884792626728,
          24.623115577889447,
          35.80246913580247,
          37.95127353266888,
          28.57142857142857,
          23.91304347826087,
          22.413793103448278,
          77.24867724867724,
          22.71186440677966,
          53.301886792452834,
          77.83505154639175,
          70.52023121387283,
          20.092378752886837,
          22.448979591836736,
          12.53731343283582,
          16.314199395770395,
          14.38655462184874,
          58.35278336686788,
          85.76736210345814,
          78.01047120418848,
          8,
          37.4,
          9.411764705882353
         ],
         "yaxis": "y2"
        },
        {
         "mode": "lines",
         "type": "scatter",
         "x": [
          "2007-06-01T00:00:00",
          "2007-09-05T00:00:00",
          "2007-12-11T00:00:00",
          "2008-03-17T00:00:00",
          "2008-06-22T00:00:00",
          "2008-09-27T00:00:00",
          "2009-01-02T00:00:00",
          "2009-04-09T00:00:00",
          "2009-07-15T00:00:00",
          "2009-10-20T00:00:00",
          "2010-01-25T00:00:00",
          "2010-05-02T00:00:00",
          "2010-08-07T00:00:00",
          "2010-11-11T00:00:00",
          "2011-02-16T00:00:00",
          "2011-05-24T00:00:00",
          "2011-08-29T00:00:00",
          "2011-12-04T00:00:00",
          "2012-03-10T00:00:00",
          "2012-06-15T00:00:00",
          "2012-09-20T00:00:00",
          "2012-12-26T00:00:00",
          "2013-04-02T00:00:00",
          "2013-07-08T00:00:00",
          "2013-10-13T00:00:00",
          "2014-01-17T00:00:00",
          "2014-04-24T00:00:00",
          "2014-07-30T00:00:00",
          "2014-11-04T00:00:00",
          "2015-02-09T00:00:00",
          "2015-05-17T00:00:00",
          "2015-08-22T00:00:00",
          "2015-11-27T00:00:00",
          "2016-03-03T00:00:00",
          "2016-06-08T00:00:00",
          "2016-09-13T00:00:00",
          "2016-12-19T00:00:00",
          "2017-03-25T00:00:00",
          "2017-06-30T00:00:00",
          "2017-10-05T00:00:00",
          "2018-01-10T00:00:00",
          "2018-04-17T00:00:00",
          "2018-07-23T00:00:00",
          "2018-10-28T00:00:00",
          "2019-02-02T00:00:00",
          "2019-05-10T00:00:00",
          "2019-08-15T00:00:00",
          "2019-11-20T00:00:00",
          "2020-02-25T00:00:00",
          "2020-06-01T00:00:00"
         ],
         "xaxis": "x2",
         "y": [
          -5.47119140625,
          7.39013671875,
          16.60205078125,
          22.744384765625,
          26.3466796875,
          27.890625,
          27.808837890625,
          26.49267578125,
          24.2880859375,
          21.5009765625,
          18.39794921875,
          15.208984375,
          12.127197265625,
          9.315673828125,
          6.90234375,
          4.987548828125,
          3.6455078125,
          2.92236328125,
          2.84423828125,
          3.41162109375,
          4.609130859375,
          6.40185546875,
          8.740966796875,
          11.564208984375,
          14.79736328125,
          18.358154296875,
          22.15576171875,
          26.094970703125,
          30.079345703125,
          34.009521484375,
          37.788818359375,
          41.32421875,
          44.528564453125,
          47.31982421875,
          49.630859375,
          51.403076171875,
          52.593994140625,
          53.17724609375,
          53.14599609375,
          52.5146484375,
          51.32080078125,
          49.62646484375,
          47.5234375,
          45.133056640625,
          42.60986328125,
          40.141845703125,
          37.95703125,
          36.319580078125,
          35.537109375,
          35.962646484375
         ],
         "yaxis": "y2"
        },
        {
         "mode": "markers",
         "type": "scatter",
         "x": [
          "2008-10-01T00:00:00",
          "2010-08-01T00:00:00",
          "2011-03-01T00:00:00",
          "2011-08-01T00:00:00",
          "2011-11-01T00:00:00",
          "2012-08-01T00:00:00",
          "2012-09-01T00:00:00",
          "2012-10-01T00:00:00",
          "2013-01-01T00:00:00",
          "2013-06-01T00:00:00",
          "2013-08-01T00:00:00",
          "2013-11-01T00:00:00",
          "2013-12-01T00:00:00",
          "2014-01-01T00:00:00",
          "2014-03-01T00:00:00",
          "2014-05-01T00:00:00",
          "2014-06-01T00:00:00",
          "2014-09-01T00:00:00",
          "2014-10-01T00:00:00",
          "2014-11-01T00:00:00",
          "2015-09-01T00:00:00",
          "2015-11-01T00:00:00",
          "2016-01-01T00:00:00",
          "2016-02-01T00:00:00",
          "2016-03-01T00:00:00",
          "2016-06-01T00:00:00",
          "2016-07-01T00:00:00",
          "2016-08-01T00:00:00",
          "2016-10-01T00:00:00",
          "2016-11-01T00:00:00",
          "2016-12-01T00:00:00",
          "2017-01-01T00:00:00",
          "2017-02-01T00:00:00",
          "2017-04-01T00:00:00",
          "2017-05-01T00:00:00",
          "2017-06-01T00:00:00",
          "2017-07-01T00:00:00",
          "2017-08-01T00:00:00",
          "2017-09-01T00:00:00",
          "2017-10-01T00:00:00",
          "2017-11-01T00:00:00",
          "2017-12-01T00:00:00",
          "2018-01-01T00:00:00",
          "2018-02-01T00:00:00",
          "2018-03-01T00:00:00",
          "2018-04-01T00:00:00",
          "2018-05-01T00:00:00",
          "2018-06-01T00:00:00",
          "2018-07-01T00:00:00",
          "2018-08-01T00:00:00",
          "2018-09-01T00:00:00",
          "2018-10-01T00:00:00",
          "2018-11-01T00:00:00",
          "2018-12-01T00:00:00",
          "2019-01-01T00:00:00",
          "2019-02-01T00:00:00",
          "2019-03-01T00:00:00",
          "2019-04-01T00:00:00",
          "2019-05-01T00:00:00",
          "2019-06-01T00:00:00",
          "2019-08-01T00:00:00",
          "2019-10-01T00:00:00",
          "2019-11-01T00:00:00",
          "2019-12-01T00:00:00",
          "2020-01-01T00:00:00",
          "2020-03-01T00:00:00",
          "2020-04-01T00:00:00",
          "2020-05-01T00:00:00",
          "2020-06-01T00:00:00",
          "2020-07-01T00:00:00",
          "2020-08-01T00:00:00"
         ],
         "xaxis": "x3",
         "y": [
          16.477272727272727,
          11.9765625,
          25.142857142857146,
          4.878048780487805,
          -1.1049723756906076,
          -1.00955915540752,
          7.575757575757576,
          -6.25,
          -0.5076142131979695,
          -0.9950248756218906,
          2.9836381135707413,
          12.690355329949238,
          5.639468345211466,
          23.735393059490086,
          33.36760211169769,
          23.16715542521994,
          12.769743589743591,
          28.205128205128204,
          42.69005847953216,
          23.456790123456788,
          24.18918918918919,
          56.7554117939786,
          41.46341463414634,
          20.930232558139537,
          59.539884971242806,
          36.16666666666667,
          67.51291669615684,
          45.67724867724868,
          59.21290623723671,
          41.9753086419753,
          48.13626126126126,
          43.493398444565024,
          47.97572617730951,
          61.056287425149705,
          67.59776536312849,
          38.669601369528,
          57.43073887963142,
          63.04909560723514,
          64.76190476190476,
          44.73574770403742,
          16.741629185407298,
          30.00270838975812,
          50.04395282396894,
          46.808510638297875,
          51.442307692307686,
          75.38461538461539,
          42.234842527645846,
          48.32407119539872,
          57.77777777777777,
          54.20560747663551,
          53.30571447359769,
          58.97435897435898,
          39.2967032967033,
          67.95865633074936,
          34.22848192618763,
          37.2093023255814,
          45.42335290280496,
          25.336990595611283,
          49.40195673143172,
          54.761904761904766,
          10,
          69.99351151361202,
          53.57142857142857,
          18.681318681318682,
          77.14285714285715,
          9.310344827586208,
          11.069444444444445,
          35.8974358974359,
          93.50584795321637,
          18.45878136200717,
          14.43661971830986
         ],
         "yaxis": "y3"
        },
        {
         "mode": "lines",
         "type": "scatter",
         "x": [
          "2008-10-01T00:00:00",
          "2008-12-28T00:00:00",
          "2009-03-26T00:00:00",
          "2009-06-22T00:00:00",
          "2009-09-18T00:00:00",
          "2009-12-16T00:00:00",
          "2010-03-14T00:00:00",
          "2010-06-10T00:00:00",
          "2010-09-06T00:00:00",
          "2010-12-03T00:00:00",
          "2011-03-02T00:00:00",
          "2011-05-29T00:00:00",
          "2011-08-25T00:00:00",
          "2011-11-21T00:00:00",
          "2012-02-17T00:00:00",
          "2012-05-16T00:00:00",
          "2012-08-12T00:00:00",
          "2012-11-08T00:00:00",
          "2013-02-04T00:00:00",
          "2013-05-03T00:00:00",
          "2013-07-31T00:00:00",
          "2013-10-27T00:00:00",
          "2014-01-23T00:00:00",
          "2014-04-21T00:00:00",
          "2014-07-18T00:00:00",
          "2014-10-15T00:00:00",
          "2015-01-11T00:00:00",
          "2015-04-09T00:00:00",
          "2015-07-06T00:00:00",
          "2015-10-02T00:00:00",
          "2015-12-30T00:00:00",
          "2016-03-27T00:00:00",
          "2016-06-23T00:00:00",
          "2016-09-19T00:00:00",
          "2016-12-16T00:00:00",
          "2017-03-15T00:00:00",
          "2017-06-11T00:00:00",
          "2017-09-07T00:00:00",
          "2017-12-04T00:00:00",
          "2018-03-02T00:00:00",
          "2018-05-30T00:00:00",
          "2018-08-26T00:00:00",
          "2018-11-22T00:00:00",
          "2019-02-18T00:00:00",
          "2019-05-17T00:00:00",
          "2019-08-14T00:00:00",
          "2019-11-10T00:00:00",
          "2020-02-06T00:00:00",
          "2020-05-04T00:00:00",
          "2020-08-01T00:00:00"
         ],
         "xaxis": "x3",
         "y": [
          17.865234375,
          20.390625,
          21.4765625,
          21.42578125,
          20.505859375,
          18.947265625,
          16.966796875,
          14.75,
          12.4609375,
          10.228515625,
          8.181640625,
          6.408203125,
          4.986328125,
          3.98046875,
          3.423828125,
          3.33984375,
          3.74609375,
          4.6328125,
          5.990234375,
          7.7890625,
          9.990234375,
          12.55859375,
          15.43359375,
          18.5625,
          21.876953125,
          25.310546875,
          28.802734375,
          32.29296875,
          35.68359375,
          38.927734375,
          41.953125,
          44.703125,
          47.12109375,
          49.158203125,
          50.76953125,
          51.92578125,
          52.609375,
          52.806640625,
          52.51953125,
          51.771484375,
          50.58984375,
          49.0234375,
          47.146484375,
          45.041015625,
          42.82421875,
          40.61328125,
          38.5859375,
          36.896484375,
          35.751953125,
          35.40625
         ],
         "yaxis": "y3"
        },
        {
         "mode": "markers",
         "type": "scatter",
         "x": [
          "2004-09-01T00:00:00",
          "2005-04-01T00:00:00",
          "2005-05-01T00:00:00",
          "2005-07-01T00:00:00",
          "2005-08-01T00:00:00",
          "2005-12-01T00:00:00",
          "2006-02-01T00:00:00",
          "2006-04-01T00:00:00",
          "2006-06-01T00:00:00",
          "2006-11-01T00:00:00",
          "2006-12-01T00:00:00",
          "2007-01-01T00:00:00",
          "2007-03-01T00:00:00",
          "2007-04-01T00:00:00",
          "2007-05-01T00:00:00",
          "2007-07-01T00:00:00",
          "2007-09-01T00:00:00",
          "2007-12-01T00:00:00",
          "2008-05-01T00:00:00",
          "2008-09-01T00:00:00",
          "2008-10-01T00:00:00",
          "2009-07-01T00:00:00",
          "2009-09-01T00:00:00",
          "2009-11-01T00:00:00",
          "2009-12-01T00:00:00",
          "2010-02-01T00:00:00",
          "2010-05-01T00:00:00",
          "2010-07-01T00:00:00",
          "2010-08-01T00:00:00",
          "2010-10-01T00:00:00",
          "2010-12-01T00:00:00",
          "2011-02-01T00:00:00",
          "2011-03-01T00:00:00",
          "2011-04-01T00:00:00",
          "2011-05-01T00:00:00",
          "2011-06-01T00:00:00",
          "2011-07-01T00:00:00",
          "2011-12-01T00:00:00",
          "2012-02-01T00:00:00",
          "2012-04-01T00:00:00",
          "2012-09-01T00:00:00",
          "2012-11-01T00:00:00",
          "2012-12-01T00:00:00",
          "2013-02-01T00:00:00",
          "2013-07-01T00:00:00",
          "2013-08-01T00:00:00",
          "2013-09-01T00:00:00",
          "2013-11-01T00:00:00",
          "2013-12-01T00:00:00",
          "2014-01-01T00:00:00",
          "2014-02-01T00:00:00",
          "2014-05-01T00:00:00",
          "2014-08-01T00:00:00",
          "2015-01-01T00:00:00",
          "2015-02-01T00:00:00",
          "2015-07-01T00:00:00",
          "2015-08-01T00:00:00",
          "2015-10-01T00:00:00",
          "2015-11-01T00:00:00",
          "2016-01-01T00:00:00",
          "2016-02-01T00:00:00",
          "2016-03-01T00:00:00",
          "2016-04-01T00:00:00",
          "2016-05-01T00:00:00",
          "2016-06-01T00:00:00",
          "2016-07-01T00:00:00",
          "2016-08-01T00:00:00",
          "2016-09-01T00:00:00",
          "2016-10-01T00:00:00",
          "2016-11-01T00:00:00",
          "2016-12-01T00:00:00",
          "2017-01-01T00:00:00",
          "2017-02-01T00:00:00",
          "2017-03-01T00:00:00",
          "2017-04-01T00:00:00",
          "2017-05-01T00:00:00",
          "2017-06-01T00:00:00",
          "2017-07-01T00:00:00",
          "2017-08-01T00:00:00",
          "2017-09-01T00:00:00",
          "2017-10-01T00:00:00",
          "2017-11-01T00:00:00",
          "2017-12-01T00:00:00",
          "2018-01-01T00:00:00",
          "2018-02-01T00:00:00",
          "2018-03-01T00:00:00",
          "2018-04-01T00:00:00",
          "2018-05-01T00:00:00",
          "2018-06-01T00:00:00",
          "2018-07-01T00:00:00",
          "2018-08-01T00:00:00",
          "2018-09-01T00:00:00",
          "2018-10-01T00:00:00",
          "2018-11-01T00:00:00",
          "2019-01-01T00:00:00",
          "2019-02-01T00:00:00",
          "2019-03-01T00:00:00",
          "2019-04-01T00:00:00",
          "2019-05-01T00:00:00",
          "2019-06-01T00:00:00",
          "2019-07-01T00:00:00",
          "2019-08-01T00:00:00",
          "2019-09-01T00:00:00",
          "2019-10-01T00:00:00",
          "2019-11-01T00:00:00",
          "2019-12-01T00:00:00",
          "2020-01-01T00:00:00",
          "2020-02-01T00:00:00",
          "2020-03-01T00:00:00",
          "2020-04-01T00:00:00",
          "2020-05-01T00:00:00",
          "2020-06-01T00:00:00",
          "2020-07-01T00:00:00",
          "2020-08-01T00:00:00"
         ],
         "xaxis": "x4",
         "y": [
          11.428571428571429,
          4.739598410484486,
          7.780771688102448,
          0.2688172043010753,
          2.094240837696335,
          4.468949506674405,
          0.8571428571428572,
          12.698412698412698,
          -5.277777777777778,
          11.5,
          15.425531914893616,
          6.979232075164539,
          6.5,
          13.88888888888889,
          12.763829787234043,
          2.860081716620475,
          21.637426900584796,
          6.3938618925831205,
          25.55277777777778,
          5.205479452054795,
          16.201117318435752,
          -10.485933503836318,
          16.889296958333013,
          1.8433179723502304,
          -2.3381509794553272,
          14.44759206798867,
          23.28767123287671,
          20.51282051282051,
          -2.604166666666667,
          5.027932960893855,
          1.3574660633484164,
          1.7241379310344827,
          1.382520334569921,
          5.717306208748822,
          3.6931818181818183,
          15.792520855811995,
          7.784947610529006,
          -1.0810810810810811,
          -9.266409266409266,
          12.834224598930483,
          7.246376811594203,
          3.977272727272727,
          1.1494252873563218,
          23.670212765957448,
          0.423728813559322,
          9.274193548387096,
          40.98837209302326,
          4.188328507689998,
          12.32876712328767,
          6.658529294539656,
          13.18554131054131,
          17.94871794871795,
          27.11581920903955,
          29.644775565016143,
          31.666666666666664,
          37.142857142857146,
          38.394444444444446,
          45.97701149425287,
          44.534713223760484,
          44.086021505376344,
          40.68919476610104,
          52.10650488709133,
          39.603960396039604,
          46.6430314613052,
          44.53501393265449,
          50.57471264367817,
          49.18918918918919,
          39.95432490304955,
          40.557638238050615,
          54.054054054054056,
          43.546099290780134,
          52.54668210966411,
          34.74126804123711,
          51.19418978449816,
          46.78217821782178,
          51.742627345844504,
          44.08408408408408,
          57.312768569674645,
          42.297810648142715,
          53.41687422166874,
          47.354047882964906,
          18.6046511627907,
          55.26724387483881,
          42.82121299223915,
          83.78378378378379,
          48.91304347826087,
          5,
          65.78947368421053,
          53.626943005181346,
          47.22222222222222,
          23.729166666666668,
          47.037144095967626,
          56.86285900176597,
          25.26595744680851,
          44.55901335996606,
          21.73913043478261,
          22.22493833196293,
          11.863247863247864,
          53.853754940711454,
          15.402456195244055,
          55.00124875124875,
          52.222659323367424,
          17.59533614334237,
          46.15384615384615,
          23.393235541449474,
          38.88888888888889,
          11.639492753623188,
          17.29334098737084,
          55.44041450777202,
          7.142857142857142,
          38.6815364086489,
          7.575757575757576,
          41.82692307692308,
          9.615384615384617
         ],
         "yaxis": "y4"
        },
        {
         "mode": "lines",
         "type": "scatter",
         "x": [
          "2004-09-01T00:00:00",
          "2004-12-28T00:00:00",
          "2005-04-26T00:00:00",
          "2005-08-22T00:00:00",
          "2005-12-19T00:00:00",
          "2006-04-17T00:00:00",
          "2006-08-13T00:00:00",
          "2006-12-10T00:00:00",
          "2007-04-08T00:00:00",
          "2007-08-04T00:00:00",
          "2007-12-01T00:00:00",
          "2008-03-28T00:00:00",
          "2008-07-25T00:00:00",
          "2008-11-21T00:00:00",
          "2009-03-19T00:00:00",
          "2009-07-16T00:00:00",
          "2009-11-12T00:00:00",
          "2010-03-10T00:00:00",
          "2010-07-07T00:00:00",
          "2010-11-03T00:00:00",
          "2011-03-01T00:00:00",
          "2011-06-28T00:00:00",
          "2011-10-24T00:00:00",
          "2012-02-20T00:00:00",
          "2012-06-18T00:00:00",
          "2012-10-14T00:00:00",
          "2013-02-10T00:00:00",
          "2013-06-09T00:00:00",
          "2013-10-05T00:00:00",
          "2014-02-01T00:00:00",
          "2014-05-30T00:00:00",
          "2014-09-26T00:00:00",
          "2015-01-23T00:00:00",
          "2015-05-21T00:00:00",
          "2015-09-17T00:00:00",
          "2016-01-14T00:00:00",
          "2016-05-11T00:00:00",
          "2016-09-07T00:00:00",
          "2017-01-04T00:00:00",
          "2017-05-02T00:00:00",
          "2017-08-29T00:00:00",
          "2017-12-25T00:00:00",
          "2018-04-23T00:00:00",
          "2018-08-20T00:00:00",
          "2018-12-16T00:00:00",
          "2019-04-14T00:00:00",
          "2019-08-11T00:00:00",
          "2019-12-07T00:00:00",
          "2020-04-04T00:00:00",
          "2020-08-01T00:00:00"
         ],
         "xaxis": "x4",
         "y": [
          -3.7469253540039062,
          1.27105712890625,
          5.0735015869140625,
          7.824104309082031,
          9.67608642578125,
          10.772369384765625,
          11.24566650390625,
          11.218864440917969,
          10.805206298828125,
          10.1083984375,
          9.222869873046875,
          8.234024047851562,
          7.218505859375,
          6.244194030761719,
          5.3707427978515625,
          4.6495361328125,
          4.124053955078125,
          3.8300323486328125,
          3.79571533203125,
          4.042144775390625,
          4.583213806152344,
          5.4261322021484375,
          6.5714874267578125,
          8.013565063476562,
          9.740493774414062,
          11.734626770019531,
          13.972618103027344,
          16.425880432128906,
          19.060531616210938,
          21.83795166015625,
          24.714797973632812,
          27.643386840820312,
          30.571868896484375,
          33.444618225097656,
          36.20220184326172,
          38.78199768066406,
          41.118141174316406,
          43.14203643798828,
          44.78240203857422,
          45.965667724609375,
          46.61620330810547,
          46.656646728515625,
          46.008033752441406,
          44.59015655517578,
          42.32190704345703,
          39.12141418457031,
          34.9063720703125,
          29.5943603515625,
          23.103118896484375,
          15.350753784179688
         ],
         "yaxis": "y4"
        }
       ],
       "layout": {
        "annotations": [
         {
          "font": {
           "size": 16
          },
          "showarrow": false,
          "text": "Bromley008",
          "x": 0.225,
          "xanchor": "center",
          "xref": "paper",
          "y": 1,
          "yanchor": "bottom",
          "yref": "paper"
         },
         {
          "font": {
           "size": 16
          },
          "showarrow": false,
          "text": "Bristol041",
          "x": 0.775,
          "xanchor": "center",
          "xref": "paper",
          "y": 1,
          "yanchor": "bottom",
          "yref": "paper"
         },
         {
          "font": {
           "size": 16
          },
          "showarrow": false,
          "text": "Bristol037",
          "x": 0.225,
          "xanchor": "center",
          "xref": "paper",
          "y": 0.375,
          "yanchor": "bottom",
          "yref": "paper"
         },
         {
          "font": {
           "size": 16
          },
          "showarrow": false,
          "text": "Harlow005",
          "x": 0.775,
          "xanchor": "center",
          "xref": "paper",
          "y": 0.375,
          "yanchor": "bottom",
          "yref": "paper"
         }
        ],
        "showlegend": false,
        "template": {
         "data": {
          "bar": [
           {
            "error_x": {
             "color": "#2a3f5f"
            },
            "error_y": {
             "color": "#2a3f5f"
            },
            "marker": {
             "line": {
              "color": "#E5ECF6",
              "width": 0.5
             }
            },
            "type": "bar"
           }
          ],
          "barpolar": [
           {
            "marker": {
             "line": {
              "color": "#E5ECF6",
              "width": 0.5
             }
            },
            "type": "barpolar"
           }
          ],
          "carpet": [
           {
            "aaxis": {
             "endlinecolor": "#2a3f5f",
             "gridcolor": "white",
             "linecolor": "white",
             "minorgridcolor": "white",
             "startlinecolor": "#2a3f5f"
            },
            "baxis": {
             "endlinecolor": "#2a3f5f",
             "gridcolor": "white",
             "linecolor": "white",
             "minorgridcolor": "white",
             "startlinecolor": "#2a3f5f"
            },
            "type": "carpet"
           }
          ],
          "choropleth": [
           {
            "colorbar": {
             "outlinewidth": 0,
             "ticks": ""
            },
            "type": "choropleth"
           }
          ],
          "contour": [
           {
            "colorbar": {
             "outlinewidth": 0,
             "ticks": ""
            },
            "colorscale": [
             [
              0,
              "#0d0887"
             ],
             [
              0.1111111111111111,
              "#46039f"
             ],
             [
              0.2222222222222222,
              "#7201a8"
             ],
             [
              0.3333333333333333,
              "#9c179e"
             ],
             [
              0.4444444444444444,
              "#bd3786"
             ],
             [
              0.5555555555555556,
              "#d8576b"
             ],
             [
              0.6666666666666666,
              "#ed7953"
             ],
             [
              0.7777777777777778,
              "#fb9f3a"
             ],
             [
              0.8888888888888888,
              "#fdca26"
             ],
             [
              1,
              "#f0f921"
             ]
            ],
            "type": "contour"
           }
          ],
          "contourcarpet": [
           {
            "colorbar": {
             "outlinewidth": 0,
             "ticks": ""
            },
            "type": "contourcarpet"
           }
          ],
          "heatmap": [
           {
            "colorbar": {
             "outlinewidth": 0,
             "ticks": ""
            },
            "colorscale": [
             [
              0,
              "#0d0887"
             ],
             [
              0.1111111111111111,
              "#46039f"
             ],
             [
              0.2222222222222222,
              "#7201a8"
             ],
             [
              0.3333333333333333,
              "#9c179e"
             ],
             [
              0.4444444444444444,
              "#bd3786"
             ],
             [
              0.5555555555555556,
              "#d8576b"
             ],
             [
              0.6666666666666666,
              "#ed7953"
             ],
             [
              0.7777777777777778,
              "#fb9f3a"
             ],
             [
              0.8888888888888888,
              "#fdca26"
             ],
             [
              1,
              "#f0f921"
             ]
            ],
            "type": "heatmap"
           }
          ],
          "heatmapgl": [
           {
            "colorbar": {
             "outlinewidth": 0,
             "ticks": ""
            },
            "colorscale": [
             [
              0,
              "#0d0887"
             ],
             [
              0.1111111111111111,
              "#46039f"
             ],
             [
              0.2222222222222222,
              "#7201a8"
             ],
             [
              0.3333333333333333,
              "#9c179e"
             ],
             [
              0.4444444444444444,
              "#bd3786"
             ],
             [
              0.5555555555555556,
              "#d8576b"
             ],
             [
              0.6666666666666666,
              "#ed7953"
             ],
             [
              0.7777777777777778,
              "#fb9f3a"
             ],
             [
              0.8888888888888888,
              "#fdca26"
             ],
             [
              1,
              "#f0f921"
             ]
            ],
            "type": "heatmapgl"
           }
          ],
          "histogram": [
           {
            "marker": {
             "colorbar": {
              "outlinewidth": 0,
              "ticks": ""
             }
            },
            "type": "histogram"
           }
          ],
          "histogram2d": [
           {
            "colorbar": {
             "outlinewidth": 0,
             "ticks": ""
            },
            "colorscale": [
             [
              0,
              "#0d0887"
             ],
             [
              0.1111111111111111,
              "#46039f"
             ],
             [
              0.2222222222222222,
              "#7201a8"
             ],
             [
              0.3333333333333333,
              "#9c179e"
             ],
             [
              0.4444444444444444,
              "#bd3786"
             ],
             [
              0.5555555555555556,
              "#d8576b"
             ],
             [
              0.6666666666666666,
              "#ed7953"
             ],
             [
              0.7777777777777778,
              "#fb9f3a"
             ],
             [
              0.8888888888888888,
              "#fdca26"
             ],
             [
              1,
              "#f0f921"
             ]
            ],
            "type": "histogram2d"
           }
          ],
          "histogram2dcontour": [
           {
            "colorbar": {
             "outlinewidth": 0,
             "ticks": ""
            },
            "colorscale": [
             [
              0,
              "#0d0887"
             ],
             [
              0.1111111111111111,
              "#46039f"
             ],
             [
              0.2222222222222222,
              "#7201a8"
             ],
             [
              0.3333333333333333,
              "#9c179e"
             ],
             [
              0.4444444444444444,
              "#bd3786"
             ],
             [
              0.5555555555555556,
              "#d8576b"
             ],
             [
              0.6666666666666666,
              "#ed7953"
             ],
             [
              0.7777777777777778,
              "#fb9f3a"
             ],
             [
              0.8888888888888888,
              "#fdca26"
             ],
             [
              1,
              "#f0f921"
             ]
            ],
            "type": "histogram2dcontour"
           }
          ],
          "mesh3d": [
           {
            "colorbar": {
             "outlinewidth": 0,
             "ticks": ""
            },
            "type": "mesh3d"
           }
          ],
          "parcoords": [
           {
            "line": {
             "colorbar": {
              "outlinewidth": 0,
              "ticks": ""
             }
            },
            "type": "parcoords"
           }
          ],
          "pie": [
           {
            "automargin": true,
            "type": "pie"
           }
          ],
          "scatter": [
           {
            "marker": {
             "colorbar": {
              "outlinewidth": 0,
              "ticks": ""
             }
            },
            "type": "scatter"
           }
          ],
          "scatter3d": [
           {
            "line": {
             "colorbar": {
              "outlinewidth": 0,
              "ticks": ""
             }
            },
            "marker": {
             "colorbar": {
              "outlinewidth": 0,
              "ticks": ""
             }
            },
            "type": "scatter3d"
           }
          ],
          "scattercarpet": [
           {
            "marker": {
             "colorbar": {
              "outlinewidth": 0,
              "ticks": ""
             }
            },
            "type": "scattercarpet"
           }
          ],
          "scattergeo": [
           {
            "marker": {
             "colorbar": {
              "outlinewidth": 0,
              "ticks": ""
             }
            },
            "type": "scattergeo"
           }
          ],
          "scattergl": [
           {
            "marker": {
             "colorbar": {
              "outlinewidth": 0,
              "ticks": ""
             }
            },
            "type": "scattergl"
           }
          ],
          "scattermapbox": [
           {
            "marker": {
             "colorbar": {
              "outlinewidth": 0,
              "ticks": ""
             }
            },
            "type": "scattermapbox"
           }
          ],
          "scatterpolar": [
           {
            "marker": {
             "colorbar": {
              "outlinewidth": 0,
              "ticks": ""
             }
            },
            "type": "scatterpolar"
           }
          ],
          "scatterpolargl": [
           {
            "marker": {
             "colorbar": {
              "outlinewidth": 0,
              "ticks": ""
             }
            },
            "type": "scatterpolargl"
           }
          ],
          "scatterternary": [
           {
            "marker": {
             "colorbar": {
              "outlinewidth": 0,
              "ticks": ""
             }
            },
            "type": "scatterternary"
           }
          ],
          "surface": [
           {
            "colorbar": {
             "outlinewidth": 0,
             "ticks": ""
            },
            "colorscale": [
             [
              0,
              "#0d0887"
             ],
             [
              0.1111111111111111,
              "#46039f"
             ],
             [
              0.2222222222222222,
              "#7201a8"
             ],
             [
              0.3333333333333333,
              "#9c179e"
             ],
             [
              0.4444444444444444,
              "#bd3786"
             ],
             [
              0.5555555555555556,
              "#d8576b"
             ],
             [
              0.6666666666666666,
              "#ed7953"
             ],
             [
              0.7777777777777778,
              "#fb9f3a"
             ],
             [
              0.8888888888888888,
              "#fdca26"
             ],
             [
              1,
              "#f0f921"
             ]
            ],
            "type": "surface"
           }
          ],
          "table": [
           {
            "cells": {
             "fill": {
              "color": "#EBF0F8"
             },
             "line": {
              "color": "white"
             }
            },
            "header": {
             "fill": {
              "color": "#C8D4E3"
             },
             "line": {
              "color": "white"
             }
            },
            "type": "table"
           }
          ]
         },
         "layout": {
          "annotationdefaults": {
           "arrowcolor": "#2a3f5f",
           "arrowhead": 0,
           "arrowwidth": 1
          },
          "coloraxis": {
           "colorbar": {
            "outlinewidth": 0,
            "ticks": ""
           }
          },
          "colorscale": {
           "diverging": [
            [
             0,
             "#8e0152"
            ],
            [
             0.1,
             "#c51b7d"
            ],
            [
             0.2,
             "#de77ae"
            ],
            [
             0.3,
             "#f1b6da"
            ],
            [
             0.4,
             "#fde0ef"
            ],
            [
             0.5,
             "#f7f7f7"
            ],
            [
             0.6,
             "#e6f5d0"
            ],
            [
             0.7,
             "#b8e186"
            ],
            [
             0.8,
             "#7fbc41"
            ],
            [
             0.9,
             "#4d9221"
            ],
            [
             1,
             "#276419"
            ]
           ],
           "sequential": [
            [
             0,
             "#0d0887"
            ],
            [
             0.1111111111111111,
             "#46039f"
            ],
            [
             0.2222222222222222,
             "#7201a8"
            ],
            [
             0.3333333333333333,
             "#9c179e"
            ],
            [
             0.4444444444444444,
             "#bd3786"
            ],
            [
             0.5555555555555556,
             "#d8576b"
            ],
            [
             0.6666666666666666,
             "#ed7953"
            ],
            [
             0.7777777777777778,
             "#fb9f3a"
            ],
            [
             0.8888888888888888,
             "#fdca26"
            ],
            [
             1,
             "#f0f921"
            ]
           ],
           "sequentialminus": [
            [
             0,
             "#0d0887"
            ],
            [
             0.1111111111111111,
             "#46039f"
            ],
            [
             0.2222222222222222,
             "#7201a8"
            ],
            [
             0.3333333333333333,
             "#9c179e"
            ],
            [
             0.4444444444444444,
             "#bd3786"
            ],
            [
             0.5555555555555556,
             "#d8576b"
            ],
            [
             0.6666666666666666,
             "#ed7953"
            ],
            [
             0.7777777777777778,
             "#fb9f3a"
            ],
            [
             0.8888888888888888,
             "#fdca26"
            ],
            [
             1,
             "#f0f921"
            ]
           ]
          },
          "colorway": [
           "#636efa",
           "#EF553B",
           "#00cc96",
           "#ab63fa",
           "#FFA15A",
           "#19d3f3",
           "#FF6692",
           "#B6E880",
           "#FF97FF",
           "#FECB52"
          ],
          "font": {
           "color": "#2a3f5f"
          },
          "geo": {
           "bgcolor": "white",
           "lakecolor": "white",
           "landcolor": "#E5ECF6",
           "showlakes": true,
           "showland": true,
           "subunitcolor": "white"
          },
          "hoverlabel": {
           "align": "left"
          },
          "hovermode": "closest",
          "mapbox": {
           "style": "light"
          },
          "paper_bgcolor": "white",
          "plot_bgcolor": "#E5ECF6",
          "polar": {
           "angularaxis": {
            "gridcolor": "white",
            "linecolor": "white",
            "ticks": ""
           },
           "bgcolor": "#E5ECF6",
           "radialaxis": {
            "gridcolor": "white",
            "linecolor": "white",
            "ticks": ""
           }
          },
          "scene": {
           "xaxis": {
            "backgroundcolor": "#E5ECF6",
            "gridcolor": "white",
            "gridwidth": 2,
            "linecolor": "white",
            "showbackground": true,
            "ticks": "",
            "zerolinecolor": "white"
           },
           "yaxis": {
            "backgroundcolor": "#E5ECF6",
            "gridcolor": "white",
            "gridwidth": 2,
            "linecolor": "white",
            "showbackground": true,
            "ticks": "",
            "zerolinecolor": "white"
           },
           "zaxis": {
            "backgroundcolor": "#E5ECF6",
            "gridcolor": "white",
            "gridwidth": 2,
            "linecolor": "white",
            "showbackground": true,
            "ticks": "",
            "zerolinecolor": "white"
           }
          },
          "shapedefaults": {
           "line": {
            "color": "#2a3f5f"
           }
          },
          "ternary": {
           "aaxis": {
            "gridcolor": "white",
            "linecolor": "white",
            "ticks": ""
           },
           "baxis": {
            "gridcolor": "white",
            "linecolor": "white",
            "ticks": ""
           },
           "bgcolor": "#E5ECF6",
           "caxis": {
            "gridcolor": "white",
            "linecolor": "white",
            "ticks": ""
           }
          },
          "title": {
           "x": 0.05
          },
          "xaxis": {
           "automargin": true,
           "gridcolor": "white",
           "linecolor": "white",
           "ticks": "",
           "title": {
            "standoff": 15
           },
           "zerolinecolor": "white",
           "zerolinewidth": 2
          },
          "yaxis": {
           "automargin": true,
           "gridcolor": "white",
           "linecolor": "white",
           "ticks": "",
           "title": {
            "standoff": 15
           },
           "zerolinecolor": "white",
           "zerolinewidth": 2
          }
         }
        },
        "title": {
         "text": "Pct Change Grouped By Month<Br>With Polynomial Regression Lines"
        },
        "xaxis": {
         "anchor": "y",
         "domain": [
          0,
          0.45
         ],
         "matches": "x3",
         "nticks": 20,
         "showticklabels": false
        },
        "xaxis2": {
         "anchor": "y2",
         "domain": [
          0.55,
          1
         ],
         "matches": "x3",
         "nticks": 20,
         "showticklabels": false
        },
        "xaxis3": {
         "anchor": "y3",
         "domain": [
          0,
          0.45
         ],
         "nticks": 20
        },
        "xaxis4": {
         "anchor": "y4",
         "domain": [
          0.55,
          1
         ],
         "matches": "x3",
         "nticks": 20
        },
        "yaxis": {
         "anchor": "x",
         "domain": [
          0.625,
          1
         ]
        },
        "yaxis2": {
         "anchor": "x2",
         "domain": [
          0.625,
          1
         ]
        },
        "yaxis3": {
         "anchor": "x3",
         "domain": [
          0,
          0.375
         ]
        },
        "yaxis4": {
         "anchor": "x4",
         "domain": [
          0,
          0.375
         ]
        }
       }
      },
      "text/html": [
       "<div>                            <div id=\"b7f2cdeb-08ec-47d5-9076-29582f370f97\" class=\"plotly-graph-div\" style=\"height:525px; width:100%;\"></div>            <script type=\"text/javascript\">                require([\"plotly\"], function(Plotly) {                    window.PLOTLYENV=window.PLOTLYENV || {};                                    if (document.getElementById(\"b7f2cdeb-08ec-47d5-9076-29582f370f97\")) {                    Plotly.newPlot(                        \"b7f2cdeb-08ec-47d5-9076-29582f370f97\",                        [{\"mode\": \"markers\", \"type\": \"scatter\", \"x\": [\"2004-07-01T00:00:00\", \"2006-04-01T00:00:00\", \"2006-10-01T00:00:00\", \"2007-02-01T00:00:00\", \"2007-05-01T00:00:00\", \"2007-07-01T00:00:00\", \"2007-11-01T00:00:00\", \"2008-01-01T00:00:00\", \"2008-05-01T00:00:00\", \"2010-02-01T00:00:00\", \"2010-06-01T00:00:00\", \"2010-08-01T00:00:00\", \"2010-11-01T00:00:00\", \"2011-04-01T00:00:00\", \"2011-05-01T00:00:00\", \"2011-08-01T00:00:00\", \"2011-09-01T00:00:00\", \"2011-11-01T00:00:00\", \"2011-12-01T00:00:00\", \"2012-03-01T00:00:00\", \"2012-06-01T00:00:00\", \"2012-10-01T00:00:00\", \"2012-11-01T00:00:00\", \"2013-01-01T00:00:00\", \"2013-02-01T00:00:00\", \"2013-03-01T00:00:00\", \"2013-04-01T00:00:00\", \"2013-05-01T00:00:00\", \"2013-06-01T00:00:00\", \"2013-07-01T00:00:00\", \"2013-08-01T00:00:00\", \"2013-09-01T00:00:00\", \"2013-10-01T00:00:00\", \"2013-11-01T00:00:00\", \"2013-12-01T00:00:00\", \"2014-01-01T00:00:00\", \"2014-02-01T00:00:00\", \"2014-03-01T00:00:00\", \"2014-04-01T00:00:00\", \"2014-05-01T00:00:00\", \"2014-07-01T00:00:00\", \"2014-09-01T00:00:00\", \"2014-10-01T00:00:00\", \"2014-11-01T00:00:00\", \"2014-12-01T00:00:00\", \"2015-01-01T00:00:00\", \"2015-05-01T00:00:00\", \"2015-07-01T00:00:00\", \"2015-08-01T00:00:00\", \"2015-11-01T00:00:00\", \"2016-01-01T00:00:00\", \"2016-02-01T00:00:00\", \"2016-03-01T00:00:00\", \"2016-04-01T00:00:00\", \"2016-05-01T00:00:00\", \"2016-06-01T00:00:00\", \"2016-07-01T00:00:00\", \"2016-08-01T00:00:00\", \"2016-09-01T00:00:00\", \"2016-10-01T00:00:00\", \"2016-11-01T00:00:00\", \"2016-12-01T00:00:00\", \"2017-01-01T00:00:00\", \"2017-02-01T00:00:00\", \"2017-03-01T00:00:00\", \"2017-04-01T00:00:00\", \"2017-05-01T00:00:00\", \"2017-06-01T00:00:00\", \"2017-07-01T00:00:00\", \"2017-09-01T00:00:00\", \"2017-10-01T00:00:00\", \"2017-11-01T00:00:00\", \"2017-12-01T00:00:00\", \"2018-03-01T00:00:00\", \"2018-05-01T00:00:00\", \"2018-07-01T00:00:00\", \"2018-08-01T00:00:00\", \"2018-09-01T00:00:00\", \"2018-10-01T00:00:00\", \"2018-11-01T00:00:00\", \"2018-12-01T00:00:00\", \"2019-01-01T00:00:00\", \"2019-02-01T00:00:00\", \"2019-03-01T00:00:00\", \"2019-05-01T00:00:00\", \"2019-06-01T00:00:00\", \"2019-07-01T00:00:00\", \"2019-08-01T00:00:00\", \"2019-09-01T00:00:00\", \"2019-10-01T00:00:00\", \"2019-11-01T00:00:00\", \"2019-12-01T00:00:00\", \"2020-01-01T00:00:00\", \"2020-02-01T00:00:00\", \"2020-03-01T00:00:00\", \"2020-05-01T00:00:00\", \"2020-06-01T00:00:00\"], \"xaxis\": \"x\", \"y\": [13.48314606741573, 4.888888888888889, 14.367816091954023, 24.42528735632184, 7.6923076923076925, 1.4374827455792776, 33.15217391304348, 27.873563218390807, 21.262376237623762, 10.362694300518134, 4.093274847155618, 6.265020755953682, 12.5, 6.145251396648044, 4.5662100456621, 0.6241019050283843, 7.2117962466487935, 4.2105263157894735, 8.333333333333332, 2.0077663671373553, -4.854842644547451, 2.3255813953488373, 15.942028985507244, -1.6548463356973995, 7.471264367816093, 2.164923376307468, 11.25, 14.814814814814813, 10.997442455242968, 9.420408163265307, 6.153846153846154, 7.8975762520066315, 12.357303370786516, -8.080808080808081, 21.372031662269126, 31.195335276967928, 9.932432432432432, 17.5, 9.090909090909092, 20.265151515151516, 40.78947368421053, 29.543181818181818, 33.68784133371659, 34.40860215053764, 25.003125078126953, 16.666666666666664, 47.83414502164502, 44.73684210526316, 39.954853273137694, 42.857142857142854, 32.0, 48.97343862167983, 51.97690350362106, 55.44041450777202, 67.31108497500735, 58.14492137696557, 38.84444444444444, 55.61224489795919, 37.30527517423696, 55.55555555555556, 39.025275382119375, 73.18435754189943, 61.33276255707763, 33.63095238095238, 57.62922262922263, 36.5953488372093, 25.26034337179848, 45.86899563318777, 52.493483331046775, 28.31050228310502, 45.380434782608695, 39.52762923351158, 60.70699668892145, 51.53508771929825, 31.436768240676123, 20.711527854384997, 23.031496062992126, 30.23065931822821, 35.22859564848827, 21.659192825112108, 26.093032288570654, 32.54032258064517, 64.93530071961445, 50.58064516129032, 2.351906158357771, 34.77230850223743, 50.96618357487923, 16.52173913043478, 43.82843983880254, 16.0, 29.71813725490196, 22.0, 27.906976744186046, 31.705596552947913, 28.952793238507525, 11.11111111111111, 49.21477464291188], \"yaxis\": \"y\"}, {\"mode\": \"lines\", \"type\": \"scatter\", \"x\": [\"2004-07-01T00:00:00\", \"2004-10-27T00:00:00\", \"2005-02-23T00:00:00\", \"2005-06-21T00:00:00\", \"2005-10-18T00:00:00\", \"2006-02-14T00:00:00\", \"2006-06-12T00:00:00\", \"2006-10-09T00:00:00\", \"2007-02-05T00:00:00\", \"2007-06-03T00:00:00\", \"2007-09-30T00:00:00\", \"2008-01-27T00:00:00\", \"2008-05-24T00:00:00\", \"2008-09-20T00:00:00\", \"2009-01-17T00:00:00\", \"2009-05-15T00:00:00\", \"2009-09-11T00:00:00\", \"2010-01-08T00:00:00\", \"2010-05-06T00:00:00\", \"2010-09-02T00:00:00\", \"2010-12-30T00:00:00\", \"2011-04-27T00:00:00\", \"2011-08-24T00:00:00\", \"2011-12-21T00:00:00\", \"2012-04-17T00:00:00\", \"2012-08-14T00:00:00\", \"2012-12-10T00:00:00\", \"2013-04-08T00:00:00\", \"2013-08-05T00:00:00\", \"2013-12-01T00:00:00\", \"2014-03-30T00:00:00\", \"2014-07-27T00:00:00\", \"2014-11-22T00:00:00\", \"2015-03-21T00:00:00\", \"2015-07-18T00:00:00\", \"2015-11-13T00:00:00\", \"2016-03-11T00:00:00\", \"2016-07-08T00:00:00\", \"2016-11-03T00:00:00\", \"2017-03-02T00:00:00\", \"2017-06-29T00:00:00\", \"2017-10-25T00:00:00\", \"2018-02-21T00:00:00\", \"2018-06-20T00:00:00\", \"2018-10-16T00:00:00\", \"2019-02-12T00:00:00\", \"2019-06-11T00:00:00\", \"2019-10-07T00:00:00\", \"2020-02-03T00:00:00\", \"2020-06-01T00:00:00\"], \"xaxis\": \"x\", \"y\": [3.412689208984375, 12.092376708984375, 18.248748779296875, 22.261322021484375, 24.47900390625, 25.221649169921875, 24.781494140625, 23.42315673828125, 21.385223388671875, 18.88116455078125, 16.100616455078125, 13.20916748046875, 10.35125732421875, 7.649627685546875, 5.207305908203125, 3.108001708984375, 1.41748046875, 0.184539794921875, -0.557830810546875, -0.79144287109375, -0.51171875, 0.272674560546875, 1.5419921875, 3.26593017578125, 5.404998779296875, 7.91064453125, 10.72833251953125, 13.79644775390625, 17.049224853515625, 20.41693115234375, 23.82696533203125, 27.2056884765625, 30.47894287109375, 33.573638916015625, 36.41864013671875, 38.94635009765625, 41.093292236328125, 42.80206298828125, 44.021636962890625, 44.709869384765625, 44.833099365234375, 44.3692626953125, 43.306915283203125, 41.648956298828125, 39.41180419921875, 36.62786865234375, 33.346405029296875, 29.634796142578125, 25.580108642578125, 21.290130615234375], \"yaxis\": \"y\"}, {\"mode\": \"markers\", \"type\": \"scatter\", \"x\": [\"2007-06-01T00:00:00\", \"2007-12-01T00:00:00\", \"2010-06-01T00:00:00\", \"2010-07-01T00:00:00\", \"2010-09-01T00:00:00\", \"2011-07-01T00:00:00\", \"2011-08-01T00:00:00\", \"2011-11-01T00:00:00\", \"2012-02-01T00:00:00\", \"2012-03-01T00:00:00\", \"2012-05-01T00:00:00\", \"2012-10-01T00:00:00\", \"2012-11-01T00:00:00\", \"2013-02-01T00:00:00\", \"2013-07-01T00:00:00\", \"2013-08-01T00:00:00\", \"2013-09-01T00:00:00\", \"2013-10-01T00:00:00\", \"2014-02-01T00:00:00\", \"2014-05-01T00:00:00\", \"2014-11-01T00:00:00\", \"2014-12-01T00:00:00\", \"2015-04-01T00:00:00\", \"2015-06-01T00:00:00\", \"2015-08-01T00:00:00\", \"2016-01-01T00:00:00\", \"2016-02-01T00:00:00\", \"2016-03-01T00:00:00\", \"2016-04-01T00:00:00\", \"2016-05-01T00:00:00\", \"2016-06-01T00:00:00\", \"2016-07-01T00:00:00\", \"2016-08-01T00:00:00\", \"2016-09-01T00:00:00\", \"2016-10-01T00:00:00\", \"2016-11-01T00:00:00\", \"2016-12-01T00:00:00\", \"2017-01-01T00:00:00\", \"2017-02-01T00:00:00\", \"2017-03-01T00:00:00\", \"2017-04-01T00:00:00\", \"2017-05-01T00:00:00\", \"2017-06-01T00:00:00\", \"2017-07-01T00:00:00\", \"2017-08-01T00:00:00\", \"2017-09-01T00:00:00\", \"2017-10-01T00:00:00\", \"2017-11-01T00:00:00\", \"2017-12-01T00:00:00\", \"2018-01-01T00:00:00\", \"2018-02-01T00:00:00\", \"2018-03-01T00:00:00\", \"2018-04-01T00:00:00\", \"2018-05-01T00:00:00\", \"2018-06-01T00:00:00\", \"2018-07-01T00:00:00\", \"2018-08-01T00:00:00\", \"2018-09-01T00:00:00\", \"2018-10-01T00:00:00\", \"2018-11-01T00:00:00\", \"2018-12-01T00:00:00\", \"2019-01-01T00:00:00\", \"2019-02-01T00:00:00\", \"2019-03-01T00:00:00\", \"2019-04-01T00:00:00\", \"2019-05-01T00:00:00\", \"2019-06-01T00:00:00\", \"2019-07-01T00:00:00\", \"2019-08-01T00:00:00\", \"2019-09-01T00:00:00\", \"2019-10-01T00:00:00\", \"2019-11-01T00:00:00\", \"2019-12-01T00:00:00\", \"2020-01-01T00:00:00\", \"2020-02-01T00:00:00\", \"2020-03-01T00:00:00\", \"2020-04-01T00:00:00\", \"2020-05-01T00:00:00\", \"2020-06-01T00:00:00\"], \"xaxis\": \"x2\", \"y\": [-6.976744186046512, 19.30835734870317, 5.961794019933554, -1.532, 24.607030580165763, 5.519662921348314, 0.24691358024691357, -10.377358490566039, 15.802882439019255, 15.168539325842698, 25.43352601156069, -5.555555555555555, 11.11111111111111, -3.3333333333333335, 2.7777777777777777, 14.507772020725387, 38.91428571428571, 4.871794871794872, 10.129870129870131, 23.037974683544306, 17.07377049180328, 21.649484536082475, 22.875, 43.70758184696804, 32.24249888042991, 53.142857142857146, 43.86792452830189, 37.795660222130806, 48.74141876430206, 56.53846153846154, 61.42870905587668, 53.3431572178759, 56.039436619718316, 66.3968699774992, 50.0, 54.001869855300896, 44.18604651162791, 42.71653543307087, 47.286821705426355, 56.29545454545455, 55.02712257785933, 52.293577981651374, 65.71428571428571, 68.29268292682927, 46.79272342995169, 56.09756097560976, 58.70795107033639, 40.107879924953096, 63.41463414634146, 64.7671568627451, 56.09756097560976, 60.49528301886793, 30.73394495412844, 62.54063515878969, 35.89118886242902, 57.41154486736808, 38.24884792626728, 24.623115577889447, 35.80246913580247, 37.95127353266888, 28.57142857142857, 23.91304347826087, 22.413793103448278, 77.24867724867724, 22.71186440677966, 53.301886792452834, 77.83505154639175, 70.52023121387283, 20.092378752886837, 22.448979591836736, 12.53731343283582, 16.314199395770395, 14.38655462184874, 58.35278336686788, 85.76736210345814, 78.01047120418848, 8.0, 37.4, 9.411764705882353], \"yaxis\": \"y2\"}, {\"mode\": \"lines\", \"type\": \"scatter\", \"x\": [\"2007-06-01T00:00:00\", \"2007-09-05T00:00:00\", \"2007-12-11T00:00:00\", \"2008-03-17T00:00:00\", \"2008-06-22T00:00:00\", \"2008-09-27T00:00:00\", \"2009-01-02T00:00:00\", \"2009-04-09T00:00:00\", \"2009-07-15T00:00:00\", \"2009-10-20T00:00:00\", \"2010-01-25T00:00:00\", \"2010-05-02T00:00:00\", \"2010-08-07T00:00:00\", \"2010-11-11T00:00:00\", \"2011-02-16T00:00:00\", \"2011-05-24T00:00:00\", \"2011-08-29T00:00:00\", \"2011-12-04T00:00:00\", \"2012-03-10T00:00:00\", \"2012-06-15T00:00:00\", \"2012-09-20T00:00:00\", \"2012-12-26T00:00:00\", \"2013-04-02T00:00:00\", \"2013-07-08T00:00:00\", \"2013-10-13T00:00:00\", \"2014-01-17T00:00:00\", \"2014-04-24T00:00:00\", \"2014-07-30T00:00:00\", \"2014-11-04T00:00:00\", \"2015-02-09T00:00:00\", \"2015-05-17T00:00:00\", \"2015-08-22T00:00:00\", \"2015-11-27T00:00:00\", \"2016-03-03T00:00:00\", \"2016-06-08T00:00:00\", \"2016-09-13T00:00:00\", \"2016-12-19T00:00:00\", \"2017-03-25T00:00:00\", \"2017-06-30T00:00:00\", \"2017-10-05T00:00:00\", \"2018-01-10T00:00:00\", \"2018-04-17T00:00:00\", \"2018-07-23T00:00:00\", \"2018-10-28T00:00:00\", \"2019-02-02T00:00:00\", \"2019-05-10T00:00:00\", \"2019-08-15T00:00:00\", \"2019-11-20T00:00:00\", \"2020-02-25T00:00:00\", \"2020-06-01T00:00:00\"], \"xaxis\": \"x2\", \"y\": [-5.47119140625, 7.39013671875, 16.60205078125, 22.744384765625, 26.3466796875, 27.890625, 27.808837890625, 26.49267578125, 24.2880859375, 21.5009765625, 18.39794921875, 15.208984375, 12.127197265625, 9.315673828125, 6.90234375, 4.987548828125, 3.6455078125, 2.92236328125, 2.84423828125, 3.41162109375, 4.609130859375, 6.40185546875, 8.740966796875, 11.564208984375, 14.79736328125, 18.358154296875, 22.15576171875, 26.094970703125, 30.079345703125, 34.009521484375, 37.788818359375, 41.32421875, 44.528564453125, 47.31982421875, 49.630859375, 51.403076171875, 52.593994140625, 53.17724609375, 53.14599609375, 52.5146484375, 51.32080078125, 49.62646484375, 47.5234375, 45.133056640625, 42.60986328125, 40.141845703125, 37.95703125, 36.319580078125, 35.537109375, 35.962646484375], \"yaxis\": \"y2\"}, {\"mode\": \"markers\", \"type\": \"scatter\", \"x\": [\"2008-10-01T00:00:00\", \"2010-08-01T00:00:00\", \"2011-03-01T00:00:00\", \"2011-08-01T00:00:00\", \"2011-11-01T00:00:00\", \"2012-08-01T00:00:00\", \"2012-09-01T00:00:00\", \"2012-10-01T00:00:00\", \"2013-01-01T00:00:00\", \"2013-06-01T00:00:00\", \"2013-08-01T00:00:00\", \"2013-11-01T00:00:00\", \"2013-12-01T00:00:00\", \"2014-01-01T00:00:00\", \"2014-03-01T00:00:00\", \"2014-05-01T00:00:00\", \"2014-06-01T00:00:00\", \"2014-09-01T00:00:00\", \"2014-10-01T00:00:00\", \"2014-11-01T00:00:00\", \"2015-09-01T00:00:00\", \"2015-11-01T00:00:00\", \"2016-01-01T00:00:00\", \"2016-02-01T00:00:00\", \"2016-03-01T00:00:00\", \"2016-06-01T00:00:00\", \"2016-07-01T00:00:00\", \"2016-08-01T00:00:00\", \"2016-10-01T00:00:00\", \"2016-11-01T00:00:00\", \"2016-12-01T00:00:00\", \"2017-01-01T00:00:00\", \"2017-02-01T00:00:00\", \"2017-04-01T00:00:00\", \"2017-05-01T00:00:00\", \"2017-06-01T00:00:00\", \"2017-07-01T00:00:00\", \"2017-08-01T00:00:00\", \"2017-09-01T00:00:00\", \"2017-10-01T00:00:00\", \"2017-11-01T00:00:00\", \"2017-12-01T00:00:00\", \"2018-01-01T00:00:00\", \"2018-02-01T00:00:00\", \"2018-03-01T00:00:00\", \"2018-04-01T00:00:00\", \"2018-05-01T00:00:00\", \"2018-06-01T00:00:00\", \"2018-07-01T00:00:00\", \"2018-08-01T00:00:00\", \"2018-09-01T00:00:00\", \"2018-10-01T00:00:00\", \"2018-11-01T00:00:00\", \"2018-12-01T00:00:00\", \"2019-01-01T00:00:00\", \"2019-02-01T00:00:00\", \"2019-03-01T00:00:00\", \"2019-04-01T00:00:00\", \"2019-05-01T00:00:00\", \"2019-06-01T00:00:00\", \"2019-08-01T00:00:00\", \"2019-10-01T00:00:00\", \"2019-11-01T00:00:00\", \"2019-12-01T00:00:00\", \"2020-01-01T00:00:00\", \"2020-03-01T00:00:00\", \"2020-04-01T00:00:00\", \"2020-05-01T00:00:00\", \"2020-06-01T00:00:00\", \"2020-07-01T00:00:00\", \"2020-08-01T00:00:00\"], \"xaxis\": \"x3\", \"y\": [16.477272727272727, 11.9765625, 25.142857142857146, 4.878048780487805, -1.1049723756906076, -1.00955915540752, 7.575757575757576, -6.25, -0.5076142131979695, -0.9950248756218906, 2.9836381135707413, 12.690355329949238, 5.639468345211466, 23.735393059490086, 33.36760211169769, 23.16715542521994, 12.769743589743591, 28.205128205128204, 42.69005847953216, 23.456790123456788, 24.18918918918919, 56.7554117939786, 41.46341463414634, 20.930232558139537, 59.539884971242806, 36.16666666666667, 67.51291669615684, 45.67724867724868, 59.21290623723671, 41.9753086419753, 48.13626126126126, 43.493398444565024, 47.97572617730951, 61.056287425149705, 67.59776536312849, 38.669601369528, 57.43073887963142, 63.04909560723514, 64.76190476190476, 44.73574770403742, 16.741629185407298, 30.00270838975812, 50.04395282396894, 46.808510638297875, 51.442307692307686, 75.38461538461539, 42.234842527645846, 48.32407119539872, 57.77777777777777, 54.20560747663551, 53.30571447359769, 58.97435897435898, 39.2967032967033, 67.95865633074936, 34.22848192618763, 37.2093023255814, 45.42335290280496, 25.336990595611283, 49.40195673143172, 54.761904761904766, 10.0, 69.99351151361202, 53.57142857142857, 18.681318681318682, 77.14285714285715, 9.310344827586208, 11.069444444444445, 35.8974358974359, 93.50584795321637, 18.45878136200717, 14.43661971830986], \"yaxis\": \"y3\"}, {\"mode\": \"lines\", \"type\": \"scatter\", \"x\": [\"2008-10-01T00:00:00\", \"2008-12-28T00:00:00\", \"2009-03-26T00:00:00\", \"2009-06-22T00:00:00\", \"2009-09-18T00:00:00\", \"2009-12-16T00:00:00\", \"2010-03-14T00:00:00\", \"2010-06-10T00:00:00\", \"2010-09-06T00:00:00\", \"2010-12-03T00:00:00\", \"2011-03-02T00:00:00\", \"2011-05-29T00:00:00\", \"2011-08-25T00:00:00\", \"2011-11-21T00:00:00\", \"2012-02-17T00:00:00\", \"2012-05-16T00:00:00\", \"2012-08-12T00:00:00\", \"2012-11-08T00:00:00\", \"2013-02-04T00:00:00\", \"2013-05-03T00:00:00\", \"2013-07-31T00:00:00\", \"2013-10-27T00:00:00\", \"2014-01-23T00:00:00\", \"2014-04-21T00:00:00\", \"2014-07-18T00:00:00\", \"2014-10-15T00:00:00\", \"2015-01-11T00:00:00\", \"2015-04-09T00:00:00\", \"2015-07-06T00:00:00\", \"2015-10-02T00:00:00\", \"2015-12-30T00:00:00\", \"2016-03-27T00:00:00\", \"2016-06-23T00:00:00\", \"2016-09-19T00:00:00\", \"2016-12-16T00:00:00\", \"2017-03-15T00:00:00\", \"2017-06-11T00:00:00\", \"2017-09-07T00:00:00\", \"2017-12-04T00:00:00\", \"2018-03-02T00:00:00\", \"2018-05-30T00:00:00\", \"2018-08-26T00:00:00\", \"2018-11-22T00:00:00\", \"2019-02-18T00:00:00\", \"2019-05-17T00:00:00\", \"2019-08-14T00:00:00\", \"2019-11-10T00:00:00\", \"2020-02-06T00:00:00\", \"2020-05-04T00:00:00\", \"2020-08-01T00:00:00\"], \"xaxis\": \"x3\", \"y\": [17.865234375, 20.390625, 21.4765625, 21.42578125, 20.505859375, 18.947265625, 16.966796875, 14.75, 12.4609375, 10.228515625, 8.181640625, 6.408203125, 4.986328125, 3.98046875, 3.423828125, 3.33984375, 3.74609375, 4.6328125, 5.990234375, 7.7890625, 9.990234375, 12.55859375, 15.43359375, 18.5625, 21.876953125, 25.310546875, 28.802734375, 32.29296875, 35.68359375, 38.927734375, 41.953125, 44.703125, 47.12109375, 49.158203125, 50.76953125, 51.92578125, 52.609375, 52.806640625, 52.51953125, 51.771484375, 50.58984375, 49.0234375, 47.146484375, 45.041015625, 42.82421875, 40.61328125, 38.5859375, 36.896484375, 35.751953125, 35.40625], \"yaxis\": \"y3\"}, {\"mode\": \"markers\", \"type\": \"scatter\", \"x\": [\"2004-09-01T00:00:00\", \"2005-04-01T00:00:00\", \"2005-05-01T00:00:00\", \"2005-07-01T00:00:00\", \"2005-08-01T00:00:00\", \"2005-12-01T00:00:00\", \"2006-02-01T00:00:00\", \"2006-04-01T00:00:00\", \"2006-06-01T00:00:00\", \"2006-11-01T00:00:00\", \"2006-12-01T00:00:00\", \"2007-01-01T00:00:00\", \"2007-03-01T00:00:00\", \"2007-04-01T00:00:00\", \"2007-05-01T00:00:00\", \"2007-07-01T00:00:00\", \"2007-09-01T00:00:00\", \"2007-12-01T00:00:00\", \"2008-05-01T00:00:00\", \"2008-09-01T00:00:00\", \"2008-10-01T00:00:00\", \"2009-07-01T00:00:00\", \"2009-09-01T00:00:00\", \"2009-11-01T00:00:00\", \"2009-12-01T00:00:00\", \"2010-02-01T00:00:00\", \"2010-05-01T00:00:00\", \"2010-07-01T00:00:00\", \"2010-08-01T00:00:00\", \"2010-10-01T00:00:00\", \"2010-12-01T00:00:00\", \"2011-02-01T00:00:00\", \"2011-03-01T00:00:00\", \"2011-04-01T00:00:00\", \"2011-05-01T00:00:00\", \"2011-06-01T00:00:00\", \"2011-07-01T00:00:00\", \"2011-12-01T00:00:00\", \"2012-02-01T00:00:00\", \"2012-04-01T00:00:00\", \"2012-09-01T00:00:00\", \"2012-11-01T00:00:00\", \"2012-12-01T00:00:00\", \"2013-02-01T00:00:00\", \"2013-07-01T00:00:00\", \"2013-08-01T00:00:00\", \"2013-09-01T00:00:00\", \"2013-11-01T00:00:00\", \"2013-12-01T00:00:00\", \"2014-01-01T00:00:00\", \"2014-02-01T00:00:00\", \"2014-05-01T00:00:00\", \"2014-08-01T00:00:00\", \"2015-01-01T00:00:00\", \"2015-02-01T00:00:00\", \"2015-07-01T00:00:00\", \"2015-08-01T00:00:00\", \"2015-10-01T00:00:00\", \"2015-11-01T00:00:00\", \"2016-01-01T00:00:00\", \"2016-02-01T00:00:00\", \"2016-03-01T00:00:00\", \"2016-04-01T00:00:00\", \"2016-05-01T00:00:00\", \"2016-06-01T00:00:00\", \"2016-07-01T00:00:00\", \"2016-08-01T00:00:00\", \"2016-09-01T00:00:00\", \"2016-10-01T00:00:00\", \"2016-11-01T00:00:00\", \"2016-12-01T00:00:00\", \"2017-01-01T00:00:00\", \"2017-02-01T00:00:00\", \"2017-03-01T00:00:00\", \"2017-04-01T00:00:00\", \"2017-05-01T00:00:00\", \"2017-06-01T00:00:00\", \"2017-07-01T00:00:00\", \"2017-08-01T00:00:00\", \"2017-09-01T00:00:00\", \"2017-10-01T00:00:00\", \"2017-11-01T00:00:00\", \"2017-12-01T00:00:00\", \"2018-01-01T00:00:00\", \"2018-02-01T00:00:00\", \"2018-03-01T00:00:00\", \"2018-04-01T00:00:00\", \"2018-05-01T00:00:00\", \"2018-06-01T00:00:00\", \"2018-07-01T00:00:00\", \"2018-08-01T00:00:00\", \"2018-09-01T00:00:00\", \"2018-10-01T00:00:00\", \"2018-11-01T00:00:00\", \"2019-01-01T00:00:00\", \"2019-02-01T00:00:00\", \"2019-03-01T00:00:00\", \"2019-04-01T00:00:00\", \"2019-05-01T00:00:00\", \"2019-06-01T00:00:00\", \"2019-07-01T00:00:00\", \"2019-08-01T00:00:00\", \"2019-09-01T00:00:00\", \"2019-10-01T00:00:00\", \"2019-11-01T00:00:00\", \"2019-12-01T00:00:00\", \"2020-01-01T00:00:00\", \"2020-02-01T00:00:00\", \"2020-03-01T00:00:00\", \"2020-04-01T00:00:00\", \"2020-05-01T00:00:00\", \"2020-06-01T00:00:00\", \"2020-07-01T00:00:00\", \"2020-08-01T00:00:00\"], \"xaxis\": \"x4\", \"y\": [11.428571428571429, 4.739598410484486, 7.780771688102448, 0.2688172043010753, 2.094240837696335, 4.468949506674405, 0.8571428571428572, 12.698412698412698, -5.277777777777778, 11.5, 15.425531914893616, 6.979232075164539, 6.5, 13.88888888888889, 12.763829787234043, 2.860081716620475, 21.637426900584796, 6.3938618925831205, 25.55277777777778, 5.205479452054795, 16.201117318435752, -10.485933503836318, 16.889296958333013, 1.8433179723502304, -2.3381509794553272, 14.44759206798867, 23.28767123287671, 20.51282051282051, -2.604166666666667, 5.027932960893855, 1.3574660633484164, 1.7241379310344827, 1.382520334569921, 5.717306208748822, 3.6931818181818183, 15.792520855811995, 7.784947610529006, -1.0810810810810811, -9.266409266409266, 12.834224598930483, 7.246376811594203, 3.977272727272727, 1.1494252873563218, 23.670212765957448, 0.423728813559322, 9.274193548387096, 40.98837209302326, 4.188328507689998, 12.32876712328767, 6.658529294539656, 13.18554131054131, 17.94871794871795, 27.11581920903955, 29.644775565016143, 31.666666666666664, 37.142857142857146, 38.394444444444446, 45.97701149425287, 44.534713223760484, 44.086021505376344, 40.68919476610104, 52.10650488709133, 39.603960396039604, 46.6430314613052, 44.53501393265449, 50.57471264367817, 49.18918918918919, 39.95432490304955, 40.557638238050615, 54.054054054054056, 43.546099290780134, 52.54668210966411, 34.74126804123711, 51.19418978449816, 46.78217821782178, 51.742627345844504, 44.08408408408408, 57.312768569674645, 42.297810648142715, 53.41687422166874, 47.354047882964906, 18.6046511627907, 55.26724387483881, 42.82121299223915, 83.78378378378379, 48.91304347826087, 5.0, 65.78947368421053, 53.626943005181346, 47.22222222222222, 23.729166666666668, 47.037144095967626, 56.86285900176597, 25.26595744680851, 44.55901335996606, 21.73913043478261, 22.22493833196293, 11.863247863247864, 53.853754940711454, 15.402456195244055, 55.00124875124875, 52.222659323367424, 17.59533614334237, 46.15384615384615, 23.393235541449474, 38.88888888888889, 11.639492753623188, 17.29334098737084, 55.44041450777202, 7.142857142857142, 38.6815364086489, 7.575757575757576, 41.82692307692308, 9.615384615384617], \"yaxis\": \"y4\"}, {\"mode\": \"lines\", \"type\": \"scatter\", \"x\": [\"2004-09-01T00:00:00\", \"2004-12-28T00:00:00\", \"2005-04-26T00:00:00\", \"2005-08-22T00:00:00\", \"2005-12-19T00:00:00\", \"2006-04-17T00:00:00\", \"2006-08-13T00:00:00\", \"2006-12-10T00:00:00\", \"2007-04-08T00:00:00\", \"2007-08-04T00:00:00\", \"2007-12-01T00:00:00\", \"2008-03-28T00:00:00\", \"2008-07-25T00:00:00\", \"2008-11-21T00:00:00\", \"2009-03-19T00:00:00\", \"2009-07-16T00:00:00\", \"2009-11-12T00:00:00\", \"2010-03-10T00:00:00\", \"2010-07-07T00:00:00\", \"2010-11-03T00:00:00\", \"2011-03-01T00:00:00\", \"2011-06-28T00:00:00\", \"2011-10-24T00:00:00\", \"2012-02-20T00:00:00\", \"2012-06-18T00:00:00\", \"2012-10-14T00:00:00\", \"2013-02-10T00:00:00\", \"2013-06-09T00:00:00\", \"2013-10-05T00:00:00\", \"2014-02-01T00:00:00\", \"2014-05-30T00:00:00\", \"2014-09-26T00:00:00\", \"2015-01-23T00:00:00\", \"2015-05-21T00:00:00\", \"2015-09-17T00:00:00\", \"2016-01-14T00:00:00\", \"2016-05-11T00:00:00\", \"2016-09-07T00:00:00\", \"2017-01-04T00:00:00\", \"2017-05-02T00:00:00\", \"2017-08-29T00:00:00\", \"2017-12-25T00:00:00\", \"2018-04-23T00:00:00\", \"2018-08-20T00:00:00\", \"2018-12-16T00:00:00\", \"2019-04-14T00:00:00\", \"2019-08-11T00:00:00\", \"2019-12-07T00:00:00\", \"2020-04-04T00:00:00\", \"2020-08-01T00:00:00\"], \"xaxis\": \"x4\", \"y\": [-3.7469253540039062, 1.27105712890625, 5.0735015869140625, 7.824104309082031, 9.67608642578125, 10.772369384765625, 11.24566650390625, 11.218864440917969, 10.805206298828125, 10.1083984375, 9.222869873046875, 8.234024047851562, 7.218505859375, 6.244194030761719, 5.3707427978515625, 4.6495361328125, 4.124053955078125, 3.8300323486328125, 3.79571533203125, 4.042144775390625, 4.583213806152344, 5.4261322021484375, 6.5714874267578125, 8.013565063476562, 9.740493774414062, 11.734626770019531, 13.972618103027344, 16.425880432128906, 19.060531616210938, 21.83795166015625, 24.714797973632812, 27.643386840820312, 30.571868896484375, 33.444618225097656, 36.20220184326172, 38.78199768066406, 41.118141174316406, 43.14203643798828, 44.78240203857422, 45.965667724609375, 46.61620330810547, 46.656646728515625, 46.008033752441406, 44.59015655517578, 42.32190704345703, 39.12141418457031, 34.9063720703125, 29.5943603515625, 23.103118896484375, 15.350753784179688], \"yaxis\": \"y4\"}],                        {\"annotations\": [{\"font\": {\"size\": 16}, \"showarrow\": false, \"text\": \"Bromley008\", \"x\": 0.225, \"xanchor\": \"center\", \"xref\": \"paper\", \"y\": 1.0, \"yanchor\": \"bottom\", \"yref\": \"paper\"}, {\"font\": {\"size\": 16}, \"showarrow\": false, \"text\": \"Bristol041\", \"x\": 0.775, \"xanchor\": \"center\", \"xref\": \"paper\", \"y\": 1.0, \"yanchor\": \"bottom\", \"yref\": \"paper\"}, {\"font\": {\"size\": 16}, \"showarrow\": false, \"text\": \"Bristol037\", \"x\": 0.225, \"xanchor\": \"center\", \"xref\": \"paper\", \"y\": 0.375, \"yanchor\": \"bottom\", \"yref\": \"paper\"}, {\"font\": {\"size\": 16}, \"showarrow\": false, \"text\": \"Harlow005\", \"x\": 0.775, \"xanchor\": \"center\", \"xref\": \"paper\", \"y\": 0.375, \"yanchor\": \"bottom\", \"yref\": \"paper\"}], \"showlegend\": false, \"template\": {\"data\": {\"bar\": [{\"error_x\": {\"color\": \"#2a3f5f\"}, \"error_y\": {\"color\": \"#2a3f5f\"}, \"marker\": {\"line\": {\"color\": \"#E5ECF6\", \"width\": 0.5}}, \"type\": \"bar\"}], \"barpolar\": [{\"marker\": {\"line\": {\"color\": \"#E5ECF6\", \"width\": 0.5}}, \"type\": \"barpolar\"}], \"carpet\": [{\"aaxis\": {\"endlinecolor\": \"#2a3f5f\", \"gridcolor\": \"white\", \"linecolor\": \"white\", \"minorgridcolor\": \"white\", \"startlinecolor\": \"#2a3f5f\"}, \"baxis\": {\"endlinecolor\": \"#2a3f5f\", \"gridcolor\": \"white\", \"linecolor\": \"white\", \"minorgridcolor\": \"white\", \"startlinecolor\": \"#2a3f5f\"}, \"type\": \"carpet\"}], \"choropleth\": [{\"colorbar\": {\"outlinewidth\": 0, \"ticks\": \"\"}, \"type\": \"choropleth\"}], \"contour\": [{\"colorbar\": {\"outlinewidth\": 0, \"ticks\": \"\"}, \"colorscale\": [[0.0, \"#0d0887\"], [0.1111111111111111, \"#46039f\"], [0.2222222222222222, \"#7201a8\"], [0.3333333333333333, \"#9c179e\"], [0.4444444444444444, \"#bd3786\"], [0.5555555555555556, \"#d8576b\"], [0.6666666666666666, \"#ed7953\"], [0.7777777777777778, \"#fb9f3a\"], [0.8888888888888888, \"#fdca26\"], [1.0, \"#f0f921\"]], \"type\": \"contour\"}], \"contourcarpet\": [{\"colorbar\": {\"outlinewidth\": 0, \"ticks\": \"\"}, \"type\": \"contourcarpet\"}], \"heatmap\": [{\"colorbar\": {\"outlinewidth\": 0, \"ticks\": \"\"}, \"colorscale\": [[0.0, \"#0d0887\"], [0.1111111111111111, \"#46039f\"], [0.2222222222222222, \"#7201a8\"], [0.3333333333333333, \"#9c179e\"], [0.4444444444444444, \"#bd3786\"], [0.5555555555555556, \"#d8576b\"], [0.6666666666666666, \"#ed7953\"], [0.7777777777777778, \"#fb9f3a\"], [0.8888888888888888, \"#fdca26\"], [1.0, \"#f0f921\"]], \"type\": \"heatmap\"}], \"heatmapgl\": [{\"colorbar\": {\"outlinewidth\": 0, \"ticks\": \"\"}, \"colorscale\": [[0.0, \"#0d0887\"], [0.1111111111111111, \"#46039f\"], [0.2222222222222222, \"#7201a8\"], [0.3333333333333333, \"#9c179e\"], [0.4444444444444444, \"#bd3786\"], [0.5555555555555556, \"#d8576b\"], [0.6666666666666666, \"#ed7953\"], [0.7777777777777778, \"#fb9f3a\"], [0.8888888888888888, \"#fdca26\"], [1.0, \"#f0f921\"]], \"type\": \"heatmapgl\"}], \"histogram\": [{\"marker\": {\"colorbar\": {\"outlinewidth\": 0, \"ticks\": \"\"}}, \"type\": \"histogram\"}], \"histogram2d\": [{\"colorbar\": {\"outlinewidth\": 0, \"ticks\": \"\"}, \"colorscale\": [[0.0, \"#0d0887\"], [0.1111111111111111, \"#46039f\"], [0.2222222222222222, \"#7201a8\"], [0.3333333333333333, \"#9c179e\"], [0.4444444444444444, \"#bd3786\"], [0.5555555555555556, \"#d8576b\"], [0.6666666666666666, \"#ed7953\"], [0.7777777777777778, \"#fb9f3a\"], [0.8888888888888888, \"#fdca26\"], [1.0, \"#f0f921\"]], \"type\": \"histogram2d\"}], \"histogram2dcontour\": [{\"colorbar\": {\"outlinewidth\": 0, \"ticks\": \"\"}, \"colorscale\": [[0.0, \"#0d0887\"], [0.1111111111111111, \"#46039f\"], [0.2222222222222222, \"#7201a8\"], [0.3333333333333333, \"#9c179e\"], [0.4444444444444444, \"#bd3786\"], [0.5555555555555556, \"#d8576b\"], [0.6666666666666666, \"#ed7953\"], [0.7777777777777778, \"#fb9f3a\"], [0.8888888888888888, \"#fdca26\"], [1.0, \"#f0f921\"]], \"type\": \"histogram2dcontour\"}], \"mesh3d\": [{\"colorbar\": {\"outlinewidth\": 0, \"ticks\": \"\"}, \"type\": \"mesh3d\"}], \"parcoords\": [{\"line\": {\"colorbar\": {\"outlinewidth\": 0, \"ticks\": \"\"}}, \"type\": \"parcoords\"}], \"pie\": [{\"automargin\": true, \"type\": \"pie\"}], \"scatter\": [{\"marker\": {\"colorbar\": {\"outlinewidth\": 0, \"ticks\": \"\"}}, \"type\": \"scatter\"}], \"scatter3d\": [{\"line\": {\"colorbar\": {\"outlinewidth\": 0, \"ticks\": \"\"}}, \"marker\": {\"colorbar\": {\"outlinewidth\": 0, \"ticks\": \"\"}}, \"type\": \"scatter3d\"}], \"scattercarpet\": [{\"marker\": {\"colorbar\": {\"outlinewidth\": 0, \"ticks\": \"\"}}, \"type\": \"scattercarpet\"}], \"scattergeo\": [{\"marker\": {\"colorbar\": {\"outlinewidth\": 0, \"ticks\": \"\"}}, \"type\": \"scattergeo\"}], \"scattergl\": [{\"marker\": {\"colorbar\": {\"outlinewidth\": 0, \"ticks\": \"\"}}, \"type\": \"scattergl\"}], \"scattermapbox\": [{\"marker\": {\"colorbar\": {\"outlinewidth\": 0, \"ticks\": \"\"}}, \"type\": \"scattermapbox\"}], \"scatterpolar\": [{\"marker\": {\"colorbar\": {\"outlinewidth\": 0, \"ticks\": \"\"}}, \"type\": \"scatterpolar\"}], \"scatterpolargl\": [{\"marker\": {\"colorbar\": {\"outlinewidth\": 0, \"ticks\": \"\"}}, \"type\": \"scatterpolargl\"}], \"scatterternary\": [{\"marker\": {\"colorbar\": {\"outlinewidth\": 0, \"ticks\": \"\"}}, \"type\": \"scatterternary\"}], \"surface\": [{\"colorbar\": {\"outlinewidth\": 0, \"ticks\": \"\"}, \"colorscale\": [[0.0, \"#0d0887\"], [0.1111111111111111, \"#46039f\"], [0.2222222222222222, \"#7201a8\"], [0.3333333333333333, \"#9c179e\"], [0.4444444444444444, \"#bd3786\"], [0.5555555555555556, \"#d8576b\"], [0.6666666666666666, \"#ed7953\"], [0.7777777777777778, \"#fb9f3a\"], [0.8888888888888888, \"#fdca26\"], [1.0, \"#f0f921\"]], \"type\": \"surface\"}], \"table\": [{\"cells\": {\"fill\": {\"color\": \"#EBF0F8\"}, \"line\": {\"color\": \"white\"}}, \"header\": {\"fill\": {\"color\": \"#C8D4E3\"}, \"line\": {\"color\": \"white\"}}, \"type\": \"table\"}]}, \"layout\": {\"annotationdefaults\": {\"arrowcolor\": \"#2a3f5f\", \"arrowhead\": 0, \"arrowwidth\": 1}, \"coloraxis\": {\"colorbar\": {\"outlinewidth\": 0, \"ticks\": \"\"}}, \"colorscale\": {\"diverging\": [[0, \"#8e0152\"], [0.1, \"#c51b7d\"], [0.2, \"#de77ae\"], [0.3, \"#f1b6da\"], [0.4, \"#fde0ef\"], [0.5, \"#f7f7f7\"], [0.6, \"#e6f5d0\"], [0.7, \"#b8e186\"], [0.8, \"#7fbc41\"], [0.9, \"#4d9221\"], [1, \"#276419\"]], \"sequential\": [[0.0, \"#0d0887\"], [0.1111111111111111, \"#46039f\"], [0.2222222222222222, \"#7201a8\"], [0.3333333333333333, \"#9c179e\"], [0.4444444444444444, \"#bd3786\"], [0.5555555555555556, \"#d8576b\"], [0.6666666666666666, \"#ed7953\"], [0.7777777777777778, \"#fb9f3a\"], [0.8888888888888888, \"#fdca26\"], [1.0, \"#f0f921\"]], \"sequentialminus\": [[0.0, \"#0d0887\"], [0.1111111111111111, \"#46039f\"], [0.2222222222222222, \"#7201a8\"], [0.3333333333333333, \"#9c179e\"], [0.4444444444444444, \"#bd3786\"], [0.5555555555555556, \"#d8576b\"], [0.6666666666666666, \"#ed7953\"], [0.7777777777777778, \"#fb9f3a\"], [0.8888888888888888, \"#fdca26\"], [1.0, \"#f0f921\"]]}, \"colorway\": [\"#636efa\", \"#EF553B\", \"#00cc96\", \"#ab63fa\", \"#FFA15A\", \"#19d3f3\", \"#FF6692\", \"#B6E880\", \"#FF97FF\", \"#FECB52\"], \"font\": {\"color\": \"#2a3f5f\"}, \"geo\": {\"bgcolor\": \"white\", \"lakecolor\": \"white\", \"landcolor\": \"#E5ECF6\", \"showlakes\": true, \"showland\": true, \"subunitcolor\": \"white\"}, \"hoverlabel\": {\"align\": \"left\"}, \"hovermode\": \"closest\", \"mapbox\": {\"style\": \"light\"}, \"paper_bgcolor\": \"white\", \"plot_bgcolor\": \"#E5ECF6\", \"polar\": {\"angularaxis\": {\"gridcolor\": \"white\", \"linecolor\": \"white\", \"ticks\": \"\"}, \"bgcolor\": \"#E5ECF6\", \"radialaxis\": {\"gridcolor\": \"white\", \"linecolor\": \"white\", \"ticks\": \"\"}}, \"scene\": {\"xaxis\": {\"backgroundcolor\": \"#E5ECF6\", \"gridcolor\": \"white\", \"gridwidth\": 2, \"linecolor\": \"white\", \"showbackground\": true, \"ticks\": \"\", \"zerolinecolor\": \"white\"}, \"yaxis\": {\"backgroundcolor\": \"#E5ECF6\", \"gridcolor\": \"white\", \"gridwidth\": 2, \"linecolor\": \"white\", \"showbackground\": true, \"ticks\": \"\", \"zerolinecolor\": \"white\"}, \"zaxis\": {\"backgroundcolor\": \"#E5ECF6\", \"gridcolor\": \"white\", \"gridwidth\": 2, \"linecolor\": \"white\", \"showbackground\": true, \"ticks\": \"\", \"zerolinecolor\": \"white\"}}, \"shapedefaults\": {\"line\": {\"color\": \"#2a3f5f\"}}, \"ternary\": {\"aaxis\": {\"gridcolor\": \"white\", \"linecolor\": \"white\", \"ticks\": \"\"}, \"baxis\": {\"gridcolor\": \"white\", \"linecolor\": \"white\", \"ticks\": \"\"}, \"bgcolor\": \"#E5ECF6\", \"caxis\": {\"gridcolor\": \"white\", \"linecolor\": \"white\", \"ticks\": \"\"}}, \"title\": {\"x\": 0.05}, \"xaxis\": {\"automargin\": true, \"gridcolor\": \"white\", \"linecolor\": \"white\", \"ticks\": \"\", \"title\": {\"standoff\": 15}, \"zerolinecolor\": \"white\", \"zerolinewidth\": 2}, \"yaxis\": {\"automargin\": true, \"gridcolor\": \"white\", \"linecolor\": \"white\", \"ticks\": \"\", \"title\": {\"standoff\": 15}, \"zerolinecolor\": \"white\", \"zerolinewidth\": 2}}}, \"title\": {\"text\": \"Pct Change Grouped By Month<Br>With Polynomial Regression Lines\"}, \"xaxis\": {\"anchor\": \"y\", \"domain\": [0.0, 0.45], \"matches\": \"x3\", \"nticks\": 20, \"showticklabels\": false}, \"xaxis2\": {\"anchor\": \"y2\", \"domain\": [0.55, 1.0], \"matches\": \"x3\", \"nticks\": 20, \"showticklabels\": false}, \"xaxis3\": {\"anchor\": \"y3\", \"domain\": [0.0, 0.45], \"nticks\": 20}, \"xaxis4\": {\"anchor\": \"y4\", \"domain\": [0.55, 1.0], \"matches\": \"x3\", \"nticks\": 20}, \"yaxis\": {\"anchor\": \"x\", \"domain\": [0.625, 1.0]}, \"yaxis2\": {\"anchor\": \"x2\", \"domain\": [0.625, 1.0]}, \"yaxis3\": {\"anchor\": \"x3\", \"domain\": [0.0, 0.375]}, \"yaxis4\": {\"anchor\": \"x4\", \"domain\": [0.0, 0.375]}},                        {\"responsive\": true}                    ).then(function(){\n",
       "                            \n",
       "var gd = document.getElementById('b7f2cdeb-08ec-47d5-9076-29582f370f97');\n",
       "var x = new MutationObserver(function (mutations, observer) {{\n",
       "        var display = window.getComputedStyle(gd).display;\n",
       "        if (!display || display === 'none') {{\n",
       "            console.log([gd, 'removed!']);\n",
       "            Plotly.purge(gd);\n",
       "            observer.disconnect();\n",
       "        }}\n",
       "}});\n",
       "\n",
       "// Listen for the removal of the full notebook cells\n",
       "var notebookContainer = gd.closest('#notebook-container');\n",
       "if (notebookContainer) {{\n",
       "    x.observe(notebookContainer, {childList: true});\n",
       "}}\n",
       "\n",
       "// Listen for the clearing of the current output cell\n",
       "var outputEl = gd.closest('.output');\n",
       "if (outputEl) {{\n",
       "    x.observe(outputEl, {childList: true});\n",
       "}}\n",
       "\n",
       "                        })                };                });            </script>        </div>"
      ]
     },
     "metadata": {},
     "output_type": "display_data"
    }
   ],
   "source": [
    "best_areas_figure, n_table = poly_subplots_for_area(dataframe=best_areas_yearly,\n",
    "                                               target=target, \n",
    "                                                    top_n=4)\n",
    "\n",
    "n_table\n",
    "best_areas_figure\n",
    "\n",
    "\n"
   ]
  },
  {
   "cell_type": "markdown",
   "metadata": {},
   "source": [
    "### Map of Best Affordable Areas"
   ]
  },
  {
   "cell_type": "code",
   "execution_count": null,
   "metadata": {},
   "outputs": [],
   "source": [
    "fig = px.scatter_mapbox(best_areas_yearly, lat=\"Latitude\", lon=\"Longitude\", hover_name=\"address\", hover_data=[\"price\", \"ward_name\", 'MSOA', 'postcode'],\n",
    "                        color=area, size='price',\n",
    "                  color_continuous_scale=px.colors.cyclical.IceFire, zoom=6, height=1000, width=1000)\n",
    "fig.update_layout(mapbox_style=\"carto-positron\")\n",
    "fig.update_layout(margin={\"r\":0,\"t\":0,\"l\":0,\"b\":0})\n",
    "fig.show();"
   ]
  },
  {
   "cell_type": "markdown",
   "metadata": {},
   "source": [
    "### create_process_control_chart"
   ]
  },
  {
   "cell_type": "markdown",
   "metadata": {},
   "source": [
    "Outputs and displays a process control chart. \n",
    "<ul>\n",
    "    <li>You should already have filtered the passed dataframe to only contain the subsection / area of interest, and time period / grouping of interest. </li>\n",
    "    <li>n_group is how many data points each point on the scatter will represent. </li>\n",
    "    <li>x_name is the name of the column being passed as the x axis. x_name has to be a datetime format.</li>\n",
    "    <li>y_name is the name of the column being passed as the y axis. Has to be numerical. </li>\n",
    "    <li>time interval is a time series / date offset value from the pandas datetime module. Defailt is 'BYS' - beginning of calendar year. </ul>\n",
    "    <li>You can specify a custom title by passing it as a string to the <b>title=</b> arugment.</li>\n",
    "</ul>"
   ]
  },
  {
   "cell_type": "code",
   "execution_count": null,
   "metadata": {},
   "outputs": [],
   "source": [
    "def plotly_create_process_control_chart(dataframe, n_group, x_name, y_name, time_interval='BYS', title=False):\n",
    "    \n",
    "    # Organises data in chronological order \n",
    "    dataframe = dataframe.sort_values(x_name)\n",
    "\n",
    "    # Finds first and last date in the data\n",
    "    first_date = dataframe[x_name].min()\n",
    "    last_date = dataframe[x_name].max()\n",
    "\n",
    "    # Creates dataframe to be filled later\n",
    "    final_dataframe = pd.DataFrame(columns=[x_name, y_name])\n",
    "    \n",
    "    # For loop to create n_group length slices within the data\n",
    "    for i in range(n_group, len(dataframe), n_group):\n",
    "        df_slice = dataframe.iloc[i - n_group: i]\n",
    "\n",
    "        y_val = df_slice[y_name].median()\n",
    "        x_val = df_slice[x_name].min()\n",
    "\n",
    "        vals = pd.DataFrame([[x_val, y_val]], columns=list(final_dataframe.columns))\n",
    "\n",
    "        final_dataframe = final_dataframe.append(vals)\n",
    "\n",
    "    # Pandas date_range function used to pass dates to the for loop to create LCL, UCL and central lines\n",
    "    date_range = pd.date_range(start=first_date,\n",
    "                               end=last_date + relativedelta(years=1),\n",
    "                               freq=time_interval, closed=None)\n",
    "\n",
    "    # Creates plotly graph object     \n",
    "    fig = go.Figure()\n",
    "    \n",
    "    # Adds a scatter trace to the graph object of the slices we created\n",
    "    fig.add_trace(go.Scatter(x=final_dataframe[x_name], y=final_dataframe[y_name], mode='lines+markers', name='Rolling Median House Price'))\n",
    "    \n",
    "    # Logic to loop through the date ranges to find the boundries for each of the lines\n",
    "    for n in range(1, len(list(date_range)), 1):\n",
    "        \n",
    "        # Try, except here to catch the index error.  \n",
    "        try:\n",
    "            \n",
    "            # Create a dataframe containing only information within the date boundries. \n",
    "            date_slice = dataframe[y_name].loc[(dataframe[x_name] > date_range[n - 1]) &\n",
    "                                         (dataframe[x_name] < date_range[n])]\n",
    "            \n",
    "            # Mean, STD, UCL and LCL\n",
    "            mean = date_slice.mean()\n",
    "            std = date_slice.std()\n",
    "            UCL = mean + (std * 3)\n",
    "            LCL = mean - (std * 3)\n",
    "            \n",
    "            # \n",
    "            # Adding the Central Line \n",
    "            fig.add_shape(type='line',\n",
    "                x0=date_range[n-1],\n",
    "                y0=mean,\n",
    "                x1=date_range[n],\n",
    "                y1=mean,\n",
    "                line=dict(\n",
    "                    color=\"Red\",\n",
    "                    width=1))\n",
    "\n",
    "            # Adding the Upper control line\n",
    "            fig.add_shape(type='line',\n",
    "                x0=date_range[n-1],\n",
    "                y0=UCL,\n",
    "                x1=date_range[n],\n",
    "                y1=UCL,\n",
    "                line=dict(\n",
    "                    color=\"Black\",\n",
    "                    width=3,\n",
    "                    dash=\"dot\"))\n",
    "\n",
    "            # Adding the Lower control line\n",
    "            fig.add_shape(type='line',\n",
    "                x0=date_range[n-1],\n",
    "                y0=LCL,\n",
    "                x1=date_range[n],\n",
    "                y1=LCL,\n",
    "                line=dict(\n",
    "                    color=\"Black\",\n",
    "                    width=3,\n",
    "                    dash=\"dot\"), name='LCL')\n",
    "        \n",
    "        except IndexError:\n",
    "            continue \n",
    "\n",
    "    fig.update_xaxes(nticks=20)\n",
    "    \n",
    "    if title:\n",
    "        fig.update_layout(title=title.replace(\"_\", \" \").title())\n",
    "    else:\n",
    "        fig.update_layout(title=f'{y_name} by {x_name}'.replace(\"_\", \" \").title())\n",
    "    return fig"
   ]
  },
  {
   "cell_type": "code",
   "execution_count": null,
   "metadata": {},
   "outputs": [],
   "source": [
    "plotly_create_process_control_chart(dataframe=best_areas_yearly, \n",
    "                             n_group=25, \n",
    "                             x_name='date_sold', \n",
    "                             y_name='price')"
   ]
  },
  {
   "cell_type": "code",
   "execution_count": null,
   "metadata": {},
   "outputs": [],
   "source": [
    "plotly_create_process_control_chart(dataframe=best_areas_yearly.groupby('year_month_sold')['price'].median().reset_index(), \n",
    "                             n_group=1, \n",
    "                             x_name='year_month_sold', \n",
    "                             y_name='price',\n",
    "                             title='Price by Year Month Sold for best_areas_yearly')"
   ]
  },
  {
   "cell_type": "code",
   "execution_count": null,
   "metadata": {},
   "outputs": [],
   "source": [
    "def new_compare_scatter(dataframe, x_name, y_name, z_name, rolling_type='ema', ema_val=0.5, rolling_val=10, title=False):\n",
    "    \n",
    "    df = dataframe.groupby([x_name, z_name])[y_name].median().reset_index()\n",
    "    \n",
    "    figure = go.Figure()\n",
    "    figure.add_trace(go.Scatter(x=df[x_name],\n",
    "                                y=df[y_name],\n",
    "                                mode='markers',\n",
    "                                opacity=0.2,\n",
    "                                name='Sale Price'))\n",
    "    \n",
    "    for z in df[z_name].unique():\n",
    "        df_by_type = df.loc[df[z_name] == z].copy()\n",
    "        \n",
    "        if rolling_type == 'ema':\n",
    "            df_by_type['EMA_' + str(ema_val)] = df_by_type[y_name].ewm(alpha=ema_val, adjust=False).mean()\n",
    "\n",
    "\n",
    "            figure.add_trace(go.Scatter(x=df_by_type[x_name], \n",
    "                                        y=df_by_type['EMA_' + str(ema_val)], \n",
    "                                        name=property_type_dict[z],\n",
    "                                        mode='markers+lines'))\n",
    "\n",
    "            if title:\n",
    "                figure.update_layout(title=title.title())\n",
    "            else:\n",
    "                figure.update_layout(title=f'{y_name} by {x_name} for {z_name} with EMA - {ema_val}'.replace(\"_\", \" \").title())\n",
    "\n",
    "\n",
    "        \n",
    "        if rolling_type == 'avg':\n",
    "            df_by_type['rolling'] = df_by_type[y_name].rolling(rolling_val).mean()\n",
    "\n",
    "\n",
    "            figure.add_trace(go.Scatter(x=df_by_type[x_name], \n",
    "                                        y=df_by_type['rolling'], \n",
    "                                        name=property_type_dict[z],\n",
    "                                        mode='markers+lines'))\n",
    "\n",
    "        if title:\n",
    "            figure.update_layout(title=title.title())\n",
    "        else:\n",
    "            figure.update_layout(title=f'{y_name} by {x_name}<br>Split by {z_name}<br>Rolling Average - {rolling_val}'.replace(\"_\", \" \").title()) \n",
    "\n",
    "        \n",
    "    return figure"
   ]
  },
  {
   "cell_type": "code",
   "execution_count": null,
   "metadata": {},
   "outputs": [],
   "source": [
    "new_compare_scatter(best_areas_yearly,\n",
    "                    x_name='date_sold',\n",
    "                    y_name='price',\n",
    "                    z_name='property_type',\n",
    "                    rolling_type='avg',\n",
    "                    rolling_val=10)"
   ]
  },
  {
   "cell_type": "code",
   "execution_count": null,
   "metadata": {},
   "outputs": [],
   "source": [
    "new_compare_scatter(best_areas_yearly,\n",
    "                    x_name='date_sold',\n",
    "                    y_name='price',\n",
    "                    z_name='property_type',\n",
    "                    rolling_type='ema',\n",
    "                    ema_val=0.1)"
   ]
  },
  {
   "cell_type": "markdown",
   "metadata": {},
   "source": [
    "### Regeneration Areas\n",
    "\n",
    "In September 2019 the government announced regeneration projects for a number of towns.\n",
    "\n",
    "<b>df_all_regen_towns</b> is a dataframe with only entries present on the following lists:\n",
    "<ul>\n",
    "    <b><li>regen_towns</li></b>Is a list of ward names of the towns due for regeneration taken from a government press release. \n",
    "    <b><li>guardian_regen_towns</li></b>Is a list of the actual town names themselves, taken from a Guardian article.\n",
    "</ul>"
   ]
  },
  {
   "cell_type": "code",
   "execution_count": 102,
   "metadata": {},
   "outputs": [],
   "source": [
    "os.chdir(regen_folder)\n",
    "\n",
    "with open('regen.txt') as f:\n",
    "    regen_towns = f.read()\n",
    "    regen_towns = list(regen_towns.split(\"\\n\"))\n",
    "\n",
    "\n",
    "with open('guardian_regen_edit.txt') as f:\n",
    "    guardian_regen_towns = f.read()\n",
    "    guardian_regen_towns = list(guardian_regen_towns.split(\",\"))\n",
    "\n",
    "guardian_regen_towns = [x.lstrip() for x in guardian_regen_towns]\n",
    "\n",
    "df_regen_towns = all_yearly_dataframe.loc[all_yearly_dataframe['ward_name'].isin(regen_towns)]\n",
    "\n",
    "df_guardian_regen_towns = all_yearly_dataframe.loc[all_yearly_dataframe['town/city'].isin(guardian_regen_towns)]\n",
    "\n",
    "df_all_regen_towns = df_regen_towns.append(df_guardian_regen_towns)\n",
    "\n",
    "os.chdir(notebook_folder)"
   ]
  },
  {
   "cell_type": "markdown",
   "metadata": {},
   "source": [
    "### df_yearly_regen_towns\n",
    "\n",
    "In order to better see the effects of the 2019 announcement, the following line creates a slice of the dataframe containing the entire period. "
   ]
  },
  {
   "cell_type": "code",
   "execution_count": 139,
   "metadata": {},
   "outputs": [
    {
     "data": {
      "text/html": [
       "<div>\n",
       "<style scoped>\n",
       "    .dataframe tbody tr th:only-of-type {\n",
       "        vertical-align: middle;\n",
       "    }\n",
       "\n",
       "    .dataframe tbody tr th {\n",
       "        vertical-align: top;\n",
       "    }\n",
       "\n",
       "    .dataframe thead th {\n",
       "        text-align: right;\n",
       "    }\n",
       "</style>\n",
       "<table border=\"1\" class=\"dataframe\">\n",
       "  <thead>\n",
       "    <tr style=\"text-align: right;\">\n",
       "      <th></th>\n",
       "      <th>address</th>\n",
       "      <th>property_type</th>\n",
       "      <th>town/city</th>\n",
       "      <th>postcode</th>\n",
       "      <th>county_name</th>\n",
       "      <th>ward_name</th>\n",
       "      <th>MSOA</th>\n",
       "      <th>LSOA</th>\n",
       "      <th>year_sold</th>\n",
       "      <th>date_sold</th>\n",
       "      <th>price</th>\n",
       "      <th>Unnamed: 0</th>\n",
       "      <th>new</th>\n",
       "      <th>freehold</th>\n",
       "      <th>Longitude</th>\n",
       "      <th>Latitude</th>\n",
       "      <th>year_month_sold</th>\n",
       "      <th>prev_price</th>\n",
       "      <th>price_diff</th>\n",
       "      <th>pct_change</th>\n",
       "      <th>prev_year</th>\n",
       "      <th>year_diff</th>\n",
       "    </tr>\n",
       "  </thead>\n",
       "  <tbody>\n",
       "    <tr>\n",
       "      <th>2657018</th>\n",
       "      <td>cf481hjgethinplace07</td>\n",
       "      <td>T</td>\n",
       "      <td>MERTHYR TYDFIL</td>\n",
       "      <td>CF48 1HJ</td>\n",
       "      <td>(pseudo) Wales</td>\n",
       "      <td>Plymouth</td>\n",
       "      <td>MerthyrTydfil005</td>\n",
       "      <td>MerthyrTydfil005A</td>\n",
       "      <td>2019</td>\n",
       "      <td>2019-11-22</td>\n",
       "      <td>103500</td>\n",
       "      <td>17951329.0</td>\n",
       "      <td>0.0</td>\n",
       "      <td>1.0</td>\n",
       "      <td>-3.363638</td>\n",
       "      <td>51.722120</td>\n",
       "      <td>2019-11-01</td>\n",
       "      <td>82000.0</td>\n",
       "      <td>21500.0</td>\n",
       "      <td>26.219512</td>\n",
       "      <td>2013.0</td>\n",
       "      <td>6.0</td>\n",
       "    </tr>\n",
       "    <tr>\n",
       "      <th>2657625</th>\n",
       "      <td>cf481pxgethinstreet06</td>\n",
       "      <td>T</td>\n",
       "      <td>MERTHYR TYDFIL</td>\n",
       "      <td>CF48 1PX</td>\n",
       "      <td>(pseudo) Wales</td>\n",
       "      <td>Plymouth</td>\n",
       "      <td>MerthyrTydfil005</td>\n",
       "      <td>MerthyrTydfil005A</td>\n",
       "      <td>2019</td>\n",
       "      <td>2019-11-20</td>\n",
       "      <td>97000</td>\n",
       "      <td>18156715.0</td>\n",
       "      <td>0.0</td>\n",
       "      <td>1.0</td>\n",
       "      <td>-3.364365</td>\n",
       "      <td>51.722723</td>\n",
       "      <td>2019-11-01</td>\n",
       "      <td>113000.0</td>\n",
       "      <td>-16000.0</td>\n",
       "      <td>-14.159292</td>\n",
       "      <td>2008.0</td>\n",
       "      <td>11.0</td>\n",
       "    </tr>\n",
       "    <tr>\n",
       "      <th>2657882</th>\n",
       "      <td>cf481sxchapelstreet7waunwylltcourt</td>\n",
       "      <td>T</td>\n",
       "      <td>MERTHYR TYDFIL</td>\n",
       "      <td>CF48 1SX</td>\n",
       "      <td>(pseudo) Wales</td>\n",
       "      <td>Plymouth</td>\n",
       "      <td>MerthyrTydfil005</td>\n",
       "      <td>MerthyrTydfil005A</td>\n",
       "      <td>2019</td>\n",
       "      <td>2019-12-18</td>\n",
       "      <td>120000</td>\n",
       "      <td>18561449.0</td>\n",
       "      <td>0.0</td>\n",
       "      <td>1.0</td>\n",
       "      <td>-3.364434</td>\n",
       "      <td>51.724147</td>\n",
       "      <td>2019-12-01</td>\n",
       "      <td>100000.0</td>\n",
       "      <td>20000.0</td>\n",
       "      <td>20.000000</td>\n",
       "      <td>2016.0</td>\n",
       "      <td>3.0</td>\n",
       "    </tr>\n",
       "    <tr>\n",
       "      <th>2658097</th>\n",
       "      <td>cf481yxanthonygrove052</td>\n",
       "      <td>S</td>\n",
       "      <td>MERTHYR TYDFIL</td>\n",
       "      <td>CF48 1YX</td>\n",
       "      <td>(pseudo) Wales</td>\n",
       "      <td>Plymouth</td>\n",
       "      <td>MerthyrTydfil005</td>\n",
       "      <td>MerthyrTydfil005A</td>\n",
       "      <td>2019</td>\n",
       "      <td>2019-06-07</td>\n",
       "      <td>120000</td>\n",
       "      <td>18661533.0</td>\n",
       "      <td>0.0</td>\n",
       "      <td>1.0</td>\n",
       "      <td>-3.371275</td>\n",
       "      <td>51.725726</td>\n",
       "      <td>2019-06-01</td>\n",
       "      <td>82000.0</td>\n",
       "      <td>38000.0</td>\n",
       "      <td>46.341463</td>\n",
       "      <td>2005.0</td>\n",
       "      <td>14.0</td>\n",
       "    </tr>\n",
       "    <tr>\n",
       "      <th>2659420</th>\n",
       "      <td>cf484aasliproad0wernlascottage</td>\n",
       "      <td>D</td>\n",
       "      <td>MERTHYR TYDFIL</td>\n",
       "      <td>CF48 4AA</td>\n",
       "      <td>(pseudo) Wales</td>\n",
       "      <td>Plymouth</td>\n",
       "      <td>MerthyrTydfil006</td>\n",
       "      <td>MerthyrTydfil006E</td>\n",
       "      <td>2019</td>\n",
       "      <td>2019-07-12</td>\n",
       "      <td>450000</td>\n",
       "      <td>18387915.0</td>\n",
       "      <td>0.0</td>\n",
       "      <td>1.0</td>\n",
       "      <td>-3.359256</td>\n",
       "      <td>51.729508</td>\n",
       "      <td>2019-07-01</td>\n",
       "      <td>225000.0</td>\n",
       "      <td>225000.0</td>\n",
       "      <td>100.000000</td>\n",
       "      <td>2009.0</td>\n",
       "      <td>10.0</td>\n",
       "    </tr>\n",
       "  </tbody>\n",
       "</table>\n",
       "</div>"
      ],
      "text/plain": [
       "                                    address property_type       town/city  postcode     county_name ward_name              MSOA               LSOA  year_sold  date_sold   price  Unnamed: 0  new  freehold  Longitude   Latitude year_month_sold  prev_price  price_diff  pct_change  prev_year  year_diff\n",
       "2657018                cf481hjgethinplace07             T  MERTHYR TYDFIL  CF48 1HJ  (pseudo) Wales  Plymouth  MerthyrTydfil005  MerthyrTydfil005A       2019 2019-11-22  103500  17951329.0  0.0       1.0  -3.363638  51.722120      2019-11-01     82000.0     21500.0   26.219512     2013.0        6.0\n",
       "2657625               cf481pxgethinstreet06             T  MERTHYR TYDFIL  CF48 1PX  (pseudo) Wales  Plymouth  MerthyrTydfil005  MerthyrTydfil005A       2019 2019-11-20   97000  18156715.0  0.0       1.0  -3.364365  51.722723      2019-11-01    113000.0    -16000.0  -14.159292     2008.0       11.0\n",
       "2657882  cf481sxchapelstreet7waunwylltcourt             T  MERTHYR TYDFIL  CF48 1SX  (pseudo) Wales  Plymouth  MerthyrTydfil005  MerthyrTydfil005A       2019 2019-12-18  120000  18561449.0  0.0       1.0  -3.364434  51.724147      2019-12-01    100000.0     20000.0   20.000000     2016.0        3.0\n",
       "2658097              cf481yxanthonygrove052             S  MERTHYR TYDFIL  CF48 1YX  (pseudo) Wales  Plymouth  MerthyrTydfil005  MerthyrTydfil005A       2019 2019-06-07  120000  18661533.0  0.0       1.0  -3.371275  51.725726      2019-06-01     82000.0     38000.0   46.341463     2005.0       14.0\n",
       "2659420      cf484aasliproad0wernlascottage             D  MERTHYR TYDFIL  CF48 4AA  (pseudo) Wales  Plymouth  MerthyrTydfil006  MerthyrTydfil006E       2019 2019-07-12  450000  18387915.0  0.0       1.0  -3.359256  51.729508      2019-07-01    225000.0    225000.0  100.000000     2009.0       10.0"
      ]
     },
     "execution_count": 139,
     "metadata": {},
     "output_type": "execute_result"
    }
   ],
   "source": [
    "df_regen_towns_from_2017 = df_all_regen_towns.loc[df_all_regen_towns['year_sold'] >= 2018]\n",
    "\n",
    "df_regen_towns_from_2017.head(5)"
   ]
  },
  {
   "cell_type": "code",
   "execution_count": 140,
   "metadata": {},
   "outputs": [
    {
     "name": "stdout",
     "output_type": "stream",
     "text": [
      "n1 is [1, 1, 2, 2, 3, 3]\n",
      "n2 is [1, 2, 1, 2, 1, 2, 1, 2, 1, 2, 1, 2]\n"
     ]
    },
    {
     "data": {
      "text/html": [
       "<div>\n",
       "<style scoped>\n",
       "    .dataframe tbody tr th:only-of-type {\n",
       "        vertical-align: middle;\n",
       "    }\n",
       "\n",
       "    .dataframe tbody tr th {\n",
       "        vertical-align: top;\n",
       "    }\n",
       "\n",
       "    .dataframe thead th {\n",
       "        text-align: right;\n",
       "    }\n",
       "</style>\n",
       "<table border=\"1\" class=\"dataframe\">\n",
       "  <thead>\n",
       "    <tr style=\"text-align: right;\">\n",
       "      <th></th>\n",
       "      <th>Plymouth</th>\n",
       "      <th>Barrow</th>\n",
       "      <th>Northumberland</th>\n",
       "      <th>North East</th>\n",
       "      <th>Warwick</th>\n",
       "      <th>Hambleton</th>\n",
       "    </tr>\n",
       "  </thead>\n",
       "  <tbody>\n",
       "    <tr>\n",
       "      <th>n</th>\n",
       "      <td>30</td>\n",
       "      <td>18</td>\n",
       "      <td>31</td>\n",
       "      <td>31</td>\n",
       "      <td>31</td>\n",
       "      <td>29</td>\n",
       "    </tr>\n",
       "  </tbody>\n",
       "</table>\n",
       "</div>"
      ],
      "text/plain": [
       "   Plymouth  Barrow  Northumberland  North East  Warwick  Hambleton\n",
       "n        30      18              31          31       31         29"
      ]
     },
     "execution_count": 140,
     "metadata": {},
     "output_type": "execute_result"
    },
    {
     "data": {
      "application/vnd.plotly.v1+json": {
       "config": {
        "plotlyServerURL": "https://plot.ly"
       },
       "data": [
        {
         "mode": "markers",
         "name": "Price",
         "type": "scatter",
         "x": [
          "2018-01-01T00:00:00",
          "2018-02-01T00:00:00",
          "2018-03-01T00:00:00",
          "2018-04-01T00:00:00",
          "2018-05-01T00:00:00",
          "2018-06-01T00:00:00",
          "2018-07-01T00:00:00",
          "2018-08-01T00:00:00",
          "2018-09-01T00:00:00",
          "2018-10-01T00:00:00",
          "2018-11-01T00:00:00",
          "2018-12-01T00:00:00",
          "2019-01-01T00:00:00",
          "2019-02-01T00:00:00",
          "2019-03-01T00:00:00",
          "2019-04-01T00:00:00",
          "2019-05-01T00:00:00",
          "2019-06-01T00:00:00",
          "2019-07-01T00:00:00",
          "2019-08-01T00:00:00",
          "2019-09-01T00:00:00",
          "2019-10-01T00:00:00",
          "2019-11-01T00:00:00",
          "2019-12-01T00:00:00",
          "2020-01-01T00:00:00",
          "2020-02-01T00:00:00",
          "2020-04-01T00:00:00",
          "2020-05-01T00:00:00",
          "2020-06-01T00:00:00",
          "2020-07-01T00:00:00"
         ],
         "xaxis": "x",
         "y": [
          374975,
          345000,
          600000,
          195000,
          249000,
          335000,
          267500,
          317500,
          560000,
          355000,
          400000,
          124000,
          145000,
          690000,
          226000,
          296250,
          305000,
          125000,
          288000,
          454000,
          460000,
          700000,
          250000,
          285000,
          652500,
          169000,
          785500,
          567500,
          450000,
          513000
         ],
         "yaxis": "y"
        },
        {
         "mode": "lines",
         "name": "Rolling Average 2",
         "type": "scatter",
         "x": [
          "2018-01-01T00:00:00",
          "2018-02-01T00:00:00",
          "2018-03-01T00:00:00",
          "2018-04-01T00:00:00",
          "2018-05-01T00:00:00",
          "2018-06-01T00:00:00",
          "2018-07-01T00:00:00",
          "2018-08-01T00:00:00",
          "2018-09-01T00:00:00",
          "2018-10-01T00:00:00",
          "2018-11-01T00:00:00",
          "2018-12-01T00:00:00",
          "2019-01-01T00:00:00",
          "2019-02-01T00:00:00",
          "2019-03-01T00:00:00",
          "2019-04-01T00:00:00",
          "2019-05-01T00:00:00",
          "2019-06-01T00:00:00",
          "2019-07-01T00:00:00",
          "2019-08-01T00:00:00",
          "2019-09-01T00:00:00",
          "2019-10-01T00:00:00",
          "2019-11-01T00:00:00",
          "2019-12-01T00:00:00",
          "2020-01-01T00:00:00",
          "2020-02-01T00:00:00",
          "2020-04-01T00:00:00",
          "2020-05-01T00:00:00",
          "2020-06-01T00:00:00",
          "2020-07-01T00:00:00"
         ],
         "xaxis": "x",
         "y": [
          null,
          359987.5,
          472500,
          397500,
          222000,
          292000,
          301250,
          292500,
          438750,
          457500,
          377500,
          262000,
          134500,
          417500,
          458000,
          261125,
          300625,
          215000,
          206500,
          371000,
          457000,
          580000,
          475000,
          267500,
          468750,
          410750,
          477250,
          676500,
          508750,
          481500
         ],
         "yaxis": "y"
        },
        {
         "mode": "markers",
         "name": "Price",
         "type": "scatter",
         "x": [
          "2018-02-01T00:00:00",
          "2018-03-01T00:00:00",
          "2018-04-01T00:00:00",
          "2018-05-01T00:00:00",
          "2018-07-01T00:00:00",
          "2018-08-01T00:00:00",
          "2018-11-01T00:00:00",
          "2018-12-01T00:00:00",
          "2019-01-01T00:00:00",
          "2019-02-01T00:00:00",
          "2019-03-01T00:00:00",
          "2019-05-01T00:00:00",
          "2019-07-01T00:00:00",
          "2019-08-01T00:00:00",
          "2019-09-01T00:00:00",
          "2019-11-01T00:00:00",
          "2020-04-01T00:00:00",
          "2020-07-01T00:00:00"
         ],
         "xaxis": "x2",
         "y": [
          312000,
          330000,
          375000,
          350000,
          366500,
          522500,
          485000,
          645000,
          300000,
          414975,
          420000,
          210000,
          365000,
          333500,
          300000,
          490000,
          355000,
          345000
         ],
         "yaxis": "y2"
        },
        {
         "mode": "lines",
         "name": "Rolling Average 2",
         "type": "scatter",
         "x": [
          "2018-02-01T00:00:00",
          "2018-03-01T00:00:00",
          "2018-04-01T00:00:00",
          "2018-05-01T00:00:00",
          "2018-07-01T00:00:00",
          "2018-08-01T00:00:00",
          "2018-11-01T00:00:00",
          "2018-12-01T00:00:00",
          "2019-01-01T00:00:00",
          "2019-02-01T00:00:00",
          "2019-03-01T00:00:00",
          "2019-05-01T00:00:00",
          "2019-07-01T00:00:00",
          "2019-08-01T00:00:00",
          "2019-09-01T00:00:00",
          "2019-11-01T00:00:00",
          "2020-04-01T00:00:00",
          "2020-07-01T00:00:00"
         ],
         "xaxis": "x2",
         "y": [
          null,
          321000,
          352500,
          362500,
          358250,
          444500,
          503750,
          565000,
          472500,
          357487.5,
          417487.5,
          315000,
          287500,
          349250,
          316750,
          395000,
          422500,
          350000
         ],
         "yaxis": "y2"
        },
        {
         "mode": "markers",
         "name": "Price",
         "type": "scatter",
         "x": [
          "2018-01-01T00:00:00",
          "2018-02-01T00:00:00",
          "2018-03-01T00:00:00",
          "2018-04-01T00:00:00",
          "2018-05-01T00:00:00",
          "2018-06-01T00:00:00",
          "2018-07-01T00:00:00",
          "2018-08-01T00:00:00",
          "2018-09-01T00:00:00",
          "2018-10-01T00:00:00",
          "2018-11-01T00:00:00",
          "2018-12-01T00:00:00",
          "2019-01-01T00:00:00",
          "2019-02-01T00:00:00",
          "2019-03-01T00:00:00",
          "2019-04-01T00:00:00",
          "2019-05-01T00:00:00",
          "2019-06-01T00:00:00",
          "2019-07-01T00:00:00",
          "2019-08-01T00:00:00",
          "2019-09-01T00:00:00",
          "2019-10-01T00:00:00",
          "2019-11-01T00:00:00",
          "2019-12-01T00:00:00",
          "2020-01-01T00:00:00",
          "2020-02-01T00:00:00",
          "2020-03-01T00:00:00",
          "2020-04-01T00:00:00",
          "2020-05-01T00:00:00",
          "2020-06-01T00:00:00",
          "2020-07-01T00:00:00"
         ],
         "xaxis": "x3",
         "y": [
          149950,
          117000,
          120000,
          122000,
          151250,
          137475,
          144950,
          135875,
          157500,
          102000,
          146000,
          175000,
          144500,
          129000,
          136500,
          122000,
          126750,
          115000,
          115000,
          154000,
          146000,
          145000,
          144975,
          127500,
          133500,
          131500,
          134950,
          150000,
          122500,
          215000,
          260000
         ],
         "yaxis": "y3"
        },
        {
         "mode": "lines",
         "name": "Rolling Average 2",
         "type": "scatter",
         "x": [
          "2018-01-01T00:00:00",
          "2018-02-01T00:00:00",
          "2018-03-01T00:00:00",
          "2018-04-01T00:00:00",
          "2018-05-01T00:00:00",
          "2018-06-01T00:00:00",
          "2018-07-01T00:00:00",
          "2018-08-01T00:00:00",
          "2018-09-01T00:00:00",
          "2018-10-01T00:00:00",
          "2018-11-01T00:00:00",
          "2018-12-01T00:00:00",
          "2019-01-01T00:00:00",
          "2019-02-01T00:00:00",
          "2019-03-01T00:00:00",
          "2019-04-01T00:00:00",
          "2019-05-01T00:00:00",
          "2019-06-01T00:00:00",
          "2019-07-01T00:00:00",
          "2019-08-01T00:00:00",
          "2019-09-01T00:00:00",
          "2019-10-01T00:00:00",
          "2019-11-01T00:00:00",
          "2019-12-01T00:00:00",
          "2020-01-01T00:00:00",
          "2020-02-01T00:00:00",
          "2020-03-01T00:00:00",
          "2020-04-01T00:00:00",
          "2020-05-01T00:00:00",
          "2020-06-01T00:00:00",
          "2020-07-01T00:00:00"
         ],
         "xaxis": "x3",
         "y": [
          null,
          133475,
          118500,
          121000,
          136625,
          144362.5,
          141212.5,
          140412.5,
          146687.5,
          129750,
          124000,
          160500,
          159750,
          136750,
          132750,
          129250,
          124375,
          120875,
          115000,
          134500,
          150000,
          145500,
          144987.5,
          136237.5,
          130500,
          132500,
          133225,
          142475,
          136250,
          168750,
          237500
         ],
         "yaxis": "y3"
        },
        {
         "mode": "markers",
         "name": "Price",
         "type": "scatter",
         "x": [
          "2018-01-01T00:00:00",
          "2018-02-01T00:00:00",
          "2018-03-01T00:00:00",
          "2018-04-01T00:00:00",
          "2018-05-01T00:00:00",
          "2018-06-01T00:00:00",
          "2018-07-01T00:00:00",
          "2018-08-01T00:00:00",
          "2018-09-01T00:00:00",
          "2018-10-01T00:00:00",
          "2018-11-01T00:00:00",
          "2018-12-01T00:00:00",
          "2019-01-01T00:00:00",
          "2019-02-01T00:00:00",
          "2019-03-01T00:00:00",
          "2019-04-01T00:00:00",
          "2019-05-01T00:00:00",
          "2019-06-01T00:00:00",
          "2019-07-01T00:00:00",
          "2019-08-01T00:00:00",
          "2019-09-01T00:00:00",
          "2019-10-01T00:00:00",
          "2019-11-01T00:00:00",
          "2019-12-01T00:00:00",
          "2020-01-01T00:00:00",
          "2020-02-01T00:00:00",
          "2020-03-01T00:00:00",
          "2020-04-01T00:00:00",
          "2020-05-01T00:00:00",
          "2020-06-01T00:00:00",
          "2020-07-01T00:00:00"
         ],
         "xaxis": "x4",
         "y": [
          138500,
          113250,
          129000,
          110000,
          180000,
          144000,
          163000,
          127000,
          126000,
          130400,
          141000,
          124500,
          117000,
          107000,
          115000,
          120000,
          111000,
          119000,
          153750,
          138000,
          125000,
          134950,
          137500,
          135000,
          170000,
          124500,
          146250,
          105500,
          115000,
          97000,
          107000
         ],
         "yaxis": "y4"
        },
        {
         "mode": "lines",
         "name": "Rolling Average 2",
         "type": "scatter",
         "x": [
          "2018-01-01T00:00:00",
          "2018-02-01T00:00:00",
          "2018-03-01T00:00:00",
          "2018-04-01T00:00:00",
          "2018-05-01T00:00:00",
          "2018-06-01T00:00:00",
          "2018-07-01T00:00:00",
          "2018-08-01T00:00:00",
          "2018-09-01T00:00:00",
          "2018-10-01T00:00:00",
          "2018-11-01T00:00:00",
          "2018-12-01T00:00:00",
          "2019-01-01T00:00:00",
          "2019-02-01T00:00:00",
          "2019-03-01T00:00:00",
          "2019-04-01T00:00:00",
          "2019-05-01T00:00:00",
          "2019-06-01T00:00:00",
          "2019-07-01T00:00:00",
          "2019-08-01T00:00:00",
          "2019-09-01T00:00:00",
          "2019-10-01T00:00:00",
          "2019-11-01T00:00:00",
          "2019-12-01T00:00:00",
          "2020-01-01T00:00:00",
          "2020-02-01T00:00:00",
          "2020-03-01T00:00:00",
          "2020-04-01T00:00:00",
          "2020-05-01T00:00:00",
          "2020-06-01T00:00:00",
          "2020-07-01T00:00:00"
         ],
         "xaxis": "x4",
         "y": [
          null,
          125875,
          121125,
          119500,
          145000,
          162000,
          153500,
          145000,
          126500,
          128200,
          135700,
          132750,
          120750,
          112000,
          111000,
          117500,
          115500,
          115000,
          136375,
          145875,
          131500,
          129975,
          136225,
          136250,
          152500,
          147250,
          135375,
          125875,
          110250,
          106000,
          102000
         ],
         "yaxis": "y4"
        },
        {
         "mode": "markers",
         "name": "Price",
         "type": "scatter",
         "x": [
          "2018-01-01T00:00:00",
          "2018-02-01T00:00:00",
          "2018-03-01T00:00:00",
          "2018-04-01T00:00:00",
          "2018-05-01T00:00:00",
          "2018-06-01T00:00:00",
          "2018-07-01T00:00:00",
          "2018-08-01T00:00:00",
          "2018-09-01T00:00:00",
          "2018-10-01T00:00:00",
          "2018-11-01T00:00:00",
          "2018-12-01T00:00:00",
          "2019-01-01T00:00:00",
          "2019-02-01T00:00:00",
          "2019-03-01T00:00:00",
          "2019-04-01T00:00:00",
          "2019-05-01T00:00:00",
          "2019-06-01T00:00:00",
          "2019-07-01T00:00:00",
          "2019-08-01T00:00:00",
          "2019-09-01T00:00:00",
          "2019-10-01T00:00:00",
          "2019-11-01T00:00:00",
          "2019-12-01T00:00:00",
          "2020-01-01T00:00:00",
          "2020-02-01T00:00:00",
          "2020-03-01T00:00:00",
          "2020-04-01T00:00:00",
          "2020-05-01T00:00:00",
          "2020-06-01T00:00:00",
          "2020-07-01T00:00:00"
         ],
         "xaxis": "x5",
         "y": [
          862500,
          650000,
          863900,
          701000,
          907500,
          835000,
          980000,
          750000,
          795250,
          625000,
          814250,
          753122,
          964000,
          747500,
          525000,
          532500,
          730000,
          662500,
          914250,
          1280000,
          1017500,
          985000,
          780000,
          1263003.5,
          987500,
          805000,
          900000,
          499999,
          552000,
          762700,
          900000
         ],
         "yaxis": "y5"
        },
        {
         "mode": "lines",
         "name": "Rolling Average 2",
         "type": "scatter",
         "x": [
          "2018-01-01T00:00:00",
          "2018-02-01T00:00:00",
          "2018-03-01T00:00:00",
          "2018-04-01T00:00:00",
          "2018-05-01T00:00:00",
          "2018-06-01T00:00:00",
          "2018-07-01T00:00:00",
          "2018-08-01T00:00:00",
          "2018-09-01T00:00:00",
          "2018-10-01T00:00:00",
          "2018-11-01T00:00:00",
          "2018-12-01T00:00:00",
          "2019-01-01T00:00:00",
          "2019-02-01T00:00:00",
          "2019-03-01T00:00:00",
          "2019-04-01T00:00:00",
          "2019-05-01T00:00:00",
          "2019-06-01T00:00:00",
          "2019-07-01T00:00:00",
          "2019-08-01T00:00:00",
          "2019-09-01T00:00:00",
          "2019-10-01T00:00:00",
          "2019-11-01T00:00:00",
          "2019-12-01T00:00:00",
          "2020-01-01T00:00:00",
          "2020-02-01T00:00:00",
          "2020-03-01T00:00:00",
          "2020-04-01T00:00:00",
          "2020-05-01T00:00:00",
          "2020-06-01T00:00:00",
          "2020-07-01T00:00:00"
         ],
         "xaxis": "x5",
         "y": [
          null,
          756250,
          756950,
          782450,
          804250,
          871250,
          907500,
          865000,
          772625,
          710125,
          719625,
          783686,
          858561,
          855750,
          636250,
          528750,
          631250,
          696250,
          788375,
          1097125,
          1148750,
          1001250,
          882500,
          1021501.75,
          1125251.75,
          896250,
          852500,
          699999.5,
          525999.5,
          657350,
          831350
         ],
         "yaxis": "y5"
        },
        {
         "mode": "markers",
         "name": "Price",
         "type": "scatter",
         "x": [
          "2018-02-01T00:00:00",
          "2018-03-01T00:00:00",
          "2018-04-01T00:00:00",
          "2018-06-01T00:00:00",
          "2018-07-01T00:00:00",
          "2018-08-01T00:00:00",
          "2018-09-01T00:00:00",
          "2018-10-01T00:00:00",
          "2018-11-01T00:00:00",
          "2018-12-01T00:00:00",
          "2019-01-01T00:00:00",
          "2019-02-01T00:00:00",
          "2019-03-01T00:00:00",
          "2019-04-01T00:00:00",
          "2019-05-01T00:00:00",
          "2019-06-01T00:00:00",
          "2019-07-01T00:00:00",
          "2019-08-01T00:00:00",
          "2019-09-01T00:00:00",
          "2019-10-01T00:00:00",
          "2019-11-01T00:00:00",
          "2019-12-01T00:00:00",
          "2020-01-01T00:00:00",
          "2020-02-01T00:00:00",
          "2020-03-01T00:00:00",
          "2020-04-01T00:00:00",
          "2020-05-01T00:00:00",
          "2020-06-01T00:00:00",
          "2020-07-01T00:00:00"
         ],
         "xaxis": "x6",
         "y": [
          157500,
          219750,
          207500,
          291000,
          283500,
          189000,
          375000,
          166250,
          287500,
          207000,
          204000,
          150000,
          97500,
          268000,
          184750,
          312500,
          350000,
          236250,
          191250,
          195000,
          233000,
          261000,
          212000,
          199250,
          300000,
          186000,
          365000,
          355000,
          190000
         ],
         "yaxis": "y6"
        },
        {
         "mode": "lines",
         "name": "Rolling Average 2",
         "type": "scatter",
         "x": [
          "2018-02-01T00:00:00",
          "2018-03-01T00:00:00",
          "2018-04-01T00:00:00",
          "2018-06-01T00:00:00",
          "2018-07-01T00:00:00",
          "2018-08-01T00:00:00",
          "2018-09-01T00:00:00",
          "2018-10-01T00:00:00",
          "2018-11-01T00:00:00",
          "2018-12-01T00:00:00",
          "2019-01-01T00:00:00",
          "2019-02-01T00:00:00",
          "2019-03-01T00:00:00",
          "2019-04-01T00:00:00",
          "2019-05-01T00:00:00",
          "2019-06-01T00:00:00",
          "2019-07-01T00:00:00",
          "2019-08-01T00:00:00",
          "2019-09-01T00:00:00",
          "2019-10-01T00:00:00",
          "2019-11-01T00:00:00",
          "2019-12-01T00:00:00",
          "2020-01-01T00:00:00",
          "2020-02-01T00:00:00",
          "2020-03-01T00:00:00",
          "2020-04-01T00:00:00",
          "2020-05-01T00:00:00",
          "2020-06-01T00:00:00",
          "2020-07-01T00:00:00"
         ],
         "xaxis": "x6",
         "y": [
          null,
          188625,
          213625,
          249250,
          287250,
          236250,
          282000,
          270625,
          226875,
          247250,
          205500,
          177000,
          123750,
          182750,
          226375,
          248625,
          331250,
          293125,
          213750,
          193125,
          214000,
          247000,
          236500,
          205625,
          249625,
          243000,
          275500,
          360000,
          272500
         ],
         "yaxis": "y6"
        }
       ],
       "layout": {
        "annotations": [
         {
          "font": {
           "size": 16
          },
          "showarrow": false,
          "text": "Plymouth",
          "x": 0.225,
          "xanchor": "center",
          "xref": "paper",
          "y": 1,
          "yanchor": "bottom",
          "yref": "paper"
         },
         {
          "font": {
           "size": 16
          },
          "showarrow": false,
          "text": "Barrow",
          "x": 0.775,
          "xanchor": "center",
          "xref": "paper",
          "y": 1,
          "yanchor": "bottom",
          "yref": "paper"
         },
         {
          "font": {
           "size": 16
          },
          "showarrow": false,
          "text": "Northumberland",
          "x": 0.225,
          "xanchor": "center",
          "xref": "paper",
          "y": 0.6111111111111112,
          "yanchor": "bottom",
          "yref": "paper"
         },
         {
          "font": {
           "size": 16
          },
          "showarrow": false,
          "text": "North East",
          "x": 0.775,
          "xanchor": "center",
          "xref": "paper",
          "y": 0.6111111111111112,
          "yanchor": "bottom",
          "yref": "paper"
         },
         {
          "font": {
           "size": 16
          },
          "showarrow": false,
          "text": "Warwick",
          "x": 0.225,
          "xanchor": "center",
          "xref": "paper",
          "y": 0.22222222222222224,
          "yanchor": "bottom",
          "yref": "paper"
         },
         {
          "font": {
           "size": 16
          },
          "showarrow": false,
          "text": "Hambleton",
          "x": 0.775,
          "xanchor": "center",
          "xref": "paper",
          "y": 0.22222222222222224,
          "yanchor": "bottom",
          "yref": "paper"
         }
        ],
        "shapes": [
         {
          "line": {
           "color": "Red",
           "dash": "dot",
           "width": 3
          },
          "type": "line",
          "x0": "2019-09-01",
          "x1": "2019-09-01",
          "xref": "x",
          "y0": 124000,
          "y1": 785500,
          "yref": "y"
         },
         {
          "line": {
           "color": "Red",
           "dash": "dot",
           "width": 3
          },
          "type": "line",
          "x0": "2019-09-01",
          "x1": "2019-09-01",
          "xref": "x2",
          "y0": 210000,
          "y1": 645000,
          "yref": "y2"
         },
         {
          "line": {
           "color": "Red",
           "dash": "dot",
           "width": 3
          },
          "type": "line",
          "x0": "2019-09-01",
          "x1": "2019-09-01",
          "xref": "x3",
          "y0": 102000,
          "y1": 260000,
          "yref": "y3"
         },
         {
          "line": {
           "color": "Red",
           "dash": "dot",
           "width": 3
          },
          "type": "line",
          "x0": "2019-09-01",
          "x1": "2019-09-01",
          "xref": "x4",
          "y0": 97000,
          "y1": 180000,
          "yref": "y4"
         },
         {
          "line": {
           "color": "Red",
           "dash": "dot",
           "width": 3
          },
          "type": "line",
          "x0": "2019-09-01",
          "x1": "2019-09-01",
          "xref": "x5",
          "y0": 499999,
          "y1": 1280000,
          "yref": "y5"
         },
         {
          "line": {
           "color": "Red",
           "dash": "dot",
           "width": 3
          },
          "type": "line",
          "x0": "2019-09-01",
          "x1": "2019-09-01",
          "xref": "x6",
          "y0": 97500,
          "y1": 375000,
          "yref": "y6"
         }
        ],
        "showlegend": true,
        "template": {
         "data": {
          "bar": [
           {
            "error_x": {
             "color": "#2a3f5f"
            },
            "error_y": {
             "color": "#2a3f5f"
            },
            "marker": {
             "line": {
              "color": "#E5ECF6",
              "width": 0.5
             }
            },
            "type": "bar"
           }
          ],
          "barpolar": [
           {
            "marker": {
             "line": {
              "color": "#E5ECF6",
              "width": 0.5
             }
            },
            "type": "barpolar"
           }
          ],
          "carpet": [
           {
            "aaxis": {
             "endlinecolor": "#2a3f5f",
             "gridcolor": "white",
             "linecolor": "white",
             "minorgridcolor": "white",
             "startlinecolor": "#2a3f5f"
            },
            "baxis": {
             "endlinecolor": "#2a3f5f",
             "gridcolor": "white",
             "linecolor": "white",
             "minorgridcolor": "white",
             "startlinecolor": "#2a3f5f"
            },
            "type": "carpet"
           }
          ],
          "choropleth": [
           {
            "colorbar": {
             "outlinewidth": 0,
             "ticks": ""
            },
            "type": "choropleth"
           }
          ],
          "contour": [
           {
            "colorbar": {
             "outlinewidth": 0,
             "ticks": ""
            },
            "colorscale": [
             [
              0,
              "#0d0887"
             ],
             [
              0.1111111111111111,
              "#46039f"
             ],
             [
              0.2222222222222222,
              "#7201a8"
             ],
             [
              0.3333333333333333,
              "#9c179e"
             ],
             [
              0.4444444444444444,
              "#bd3786"
             ],
             [
              0.5555555555555556,
              "#d8576b"
             ],
             [
              0.6666666666666666,
              "#ed7953"
             ],
             [
              0.7777777777777778,
              "#fb9f3a"
             ],
             [
              0.8888888888888888,
              "#fdca26"
             ],
             [
              1,
              "#f0f921"
             ]
            ],
            "type": "contour"
           }
          ],
          "contourcarpet": [
           {
            "colorbar": {
             "outlinewidth": 0,
             "ticks": ""
            },
            "type": "contourcarpet"
           }
          ],
          "heatmap": [
           {
            "colorbar": {
             "outlinewidth": 0,
             "ticks": ""
            },
            "colorscale": [
             [
              0,
              "#0d0887"
             ],
             [
              0.1111111111111111,
              "#46039f"
             ],
             [
              0.2222222222222222,
              "#7201a8"
             ],
             [
              0.3333333333333333,
              "#9c179e"
             ],
             [
              0.4444444444444444,
              "#bd3786"
             ],
             [
              0.5555555555555556,
              "#d8576b"
             ],
             [
              0.6666666666666666,
              "#ed7953"
             ],
             [
              0.7777777777777778,
              "#fb9f3a"
             ],
             [
              0.8888888888888888,
              "#fdca26"
             ],
             [
              1,
              "#f0f921"
             ]
            ],
            "type": "heatmap"
           }
          ],
          "heatmapgl": [
           {
            "colorbar": {
             "outlinewidth": 0,
             "ticks": ""
            },
            "colorscale": [
             [
              0,
              "#0d0887"
             ],
             [
              0.1111111111111111,
              "#46039f"
             ],
             [
              0.2222222222222222,
              "#7201a8"
             ],
             [
              0.3333333333333333,
              "#9c179e"
             ],
             [
              0.4444444444444444,
              "#bd3786"
             ],
             [
              0.5555555555555556,
              "#d8576b"
             ],
             [
              0.6666666666666666,
              "#ed7953"
             ],
             [
              0.7777777777777778,
              "#fb9f3a"
             ],
             [
              0.8888888888888888,
              "#fdca26"
             ],
             [
              1,
              "#f0f921"
             ]
            ],
            "type": "heatmapgl"
           }
          ],
          "histogram": [
           {
            "marker": {
             "colorbar": {
              "outlinewidth": 0,
              "ticks": ""
             }
            },
            "type": "histogram"
           }
          ],
          "histogram2d": [
           {
            "colorbar": {
             "outlinewidth": 0,
             "ticks": ""
            },
            "colorscale": [
             [
              0,
              "#0d0887"
             ],
             [
              0.1111111111111111,
              "#46039f"
             ],
             [
              0.2222222222222222,
              "#7201a8"
             ],
             [
              0.3333333333333333,
              "#9c179e"
             ],
             [
              0.4444444444444444,
              "#bd3786"
             ],
             [
              0.5555555555555556,
              "#d8576b"
             ],
             [
              0.6666666666666666,
              "#ed7953"
             ],
             [
              0.7777777777777778,
              "#fb9f3a"
             ],
             [
              0.8888888888888888,
              "#fdca26"
             ],
             [
              1,
              "#f0f921"
             ]
            ],
            "type": "histogram2d"
           }
          ],
          "histogram2dcontour": [
           {
            "colorbar": {
             "outlinewidth": 0,
             "ticks": ""
            },
            "colorscale": [
             [
              0,
              "#0d0887"
             ],
             [
              0.1111111111111111,
              "#46039f"
             ],
             [
              0.2222222222222222,
              "#7201a8"
             ],
             [
              0.3333333333333333,
              "#9c179e"
             ],
             [
              0.4444444444444444,
              "#bd3786"
             ],
             [
              0.5555555555555556,
              "#d8576b"
             ],
             [
              0.6666666666666666,
              "#ed7953"
             ],
             [
              0.7777777777777778,
              "#fb9f3a"
             ],
             [
              0.8888888888888888,
              "#fdca26"
             ],
             [
              1,
              "#f0f921"
             ]
            ],
            "type": "histogram2dcontour"
           }
          ],
          "mesh3d": [
           {
            "colorbar": {
             "outlinewidth": 0,
             "ticks": ""
            },
            "type": "mesh3d"
           }
          ],
          "parcoords": [
           {
            "line": {
             "colorbar": {
              "outlinewidth": 0,
              "ticks": ""
             }
            },
            "type": "parcoords"
           }
          ],
          "pie": [
           {
            "automargin": true,
            "type": "pie"
           }
          ],
          "scatter": [
           {
            "marker": {
             "colorbar": {
              "outlinewidth": 0,
              "ticks": ""
             }
            },
            "type": "scatter"
           }
          ],
          "scatter3d": [
           {
            "line": {
             "colorbar": {
              "outlinewidth": 0,
              "ticks": ""
             }
            },
            "marker": {
             "colorbar": {
              "outlinewidth": 0,
              "ticks": ""
             }
            },
            "type": "scatter3d"
           }
          ],
          "scattercarpet": [
           {
            "marker": {
             "colorbar": {
              "outlinewidth": 0,
              "ticks": ""
             }
            },
            "type": "scattercarpet"
           }
          ],
          "scattergeo": [
           {
            "marker": {
             "colorbar": {
              "outlinewidth": 0,
              "ticks": ""
             }
            },
            "type": "scattergeo"
           }
          ],
          "scattergl": [
           {
            "marker": {
             "colorbar": {
              "outlinewidth": 0,
              "ticks": ""
             }
            },
            "type": "scattergl"
           }
          ],
          "scattermapbox": [
           {
            "marker": {
             "colorbar": {
              "outlinewidth": 0,
              "ticks": ""
             }
            },
            "type": "scattermapbox"
           }
          ],
          "scatterpolar": [
           {
            "marker": {
             "colorbar": {
              "outlinewidth": 0,
              "ticks": ""
             }
            },
            "type": "scatterpolar"
           }
          ],
          "scatterpolargl": [
           {
            "marker": {
             "colorbar": {
              "outlinewidth": 0,
              "ticks": ""
             }
            },
            "type": "scatterpolargl"
           }
          ],
          "scatterternary": [
           {
            "marker": {
             "colorbar": {
              "outlinewidth": 0,
              "ticks": ""
             }
            },
            "type": "scatterternary"
           }
          ],
          "surface": [
           {
            "colorbar": {
             "outlinewidth": 0,
             "ticks": ""
            },
            "colorscale": [
             [
              0,
              "#0d0887"
             ],
             [
              0.1111111111111111,
              "#46039f"
             ],
             [
              0.2222222222222222,
              "#7201a8"
             ],
             [
              0.3333333333333333,
              "#9c179e"
             ],
             [
              0.4444444444444444,
              "#bd3786"
             ],
             [
              0.5555555555555556,
              "#d8576b"
             ],
             [
              0.6666666666666666,
              "#ed7953"
             ],
             [
              0.7777777777777778,
              "#fb9f3a"
             ],
             [
              0.8888888888888888,
              "#fdca26"
             ],
             [
              1,
              "#f0f921"
             ]
            ],
            "type": "surface"
           }
          ],
          "table": [
           {
            "cells": {
             "fill": {
              "color": "#EBF0F8"
             },
             "line": {
              "color": "white"
             }
            },
            "header": {
             "fill": {
              "color": "#C8D4E3"
             },
             "line": {
              "color": "white"
             }
            },
            "type": "table"
           }
          ]
         },
         "layout": {
          "annotationdefaults": {
           "arrowcolor": "#2a3f5f",
           "arrowhead": 0,
           "arrowwidth": 1
          },
          "coloraxis": {
           "colorbar": {
            "outlinewidth": 0,
            "ticks": ""
           }
          },
          "colorscale": {
           "diverging": [
            [
             0,
             "#8e0152"
            ],
            [
             0.1,
             "#c51b7d"
            ],
            [
             0.2,
             "#de77ae"
            ],
            [
             0.3,
             "#f1b6da"
            ],
            [
             0.4,
             "#fde0ef"
            ],
            [
             0.5,
             "#f7f7f7"
            ],
            [
             0.6,
             "#e6f5d0"
            ],
            [
             0.7,
             "#b8e186"
            ],
            [
             0.8,
             "#7fbc41"
            ],
            [
             0.9,
             "#4d9221"
            ],
            [
             1,
             "#276419"
            ]
           ],
           "sequential": [
            [
             0,
             "#0d0887"
            ],
            [
             0.1111111111111111,
             "#46039f"
            ],
            [
             0.2222222222222222,
             "#7201a8"
            ],
            [
             0.3333333333333333,
             "#9c179e"
            ],
            [
             0.4444444444444444,
             "#bd3786"
            ],
            [
             0.5555555555555556,
             "#d8576b"
            ],
            [
             0.6666666666666666,
             "#ed7953"
            ],
            [
             0.7777777777777778,
             "#fb9f3a"
            ],
            [
             0.8888888888888888,
             "#fdca26"
            ],
            [
             1,
             "#f0f921"
            ]
           ],
           "sequentialminus": [
            [
             0,
             "#0d0887"
            ],
            [
             0.1111111111111111,
             "#46039f"
            ],
            [
             0.2222222222222222,
             "#7201a8"
            ],
            [
             0.3333333333333333,
             "#9c179e"
            ],
            [
             0.4444444444444444,
             "#bd3786"
            ],
            [
             0.5555555555555556,
             "#d8576b"
            ],
            [
             0.6666666666666666,
             "#ed7953"
            ],
            [
             0.7777777777777778,
             "#fb9f3a"
            ],
            [
             0.8888888888888888,
             "#fdca26"
            ],
            [
             1,
             "#f0f921"
            ]
           ]
          },
          "colorway": [
           "#636efa",
           "#EF553B",
           "#00cc96",
           "#ab63fa",
           "#FFA15A",
           "#19d3f3",
           "#FF6692",
           "#B6E880",
           "#FF97FF",
           "#FECB52"
          ],
          "font": {
           "color": "#2a3f5f"
          },
          "geo": {
           "bgcolor": "white",
           "lakecolor": "white",
           "landcolor": "#E5ECF6",
           "showlakes": true,
           "showland": true,
           "subunitcolor": "white"
          },
          "hoverlabel": {
           "align": "left"
          },
          "hovermode": "closest",
          "mapbox": {
           "style": "light"
          },
          "paper_bgcolor": "white",
          "plot_bgcolor": "#E5ECF6",
          "polar": {
           "angularaxis": {
            "gridcolor": "white",
            "linecolor": "white",
            "ticks": ""
           },
           "bgcolor": "#E5ECF6",
           "radialaxis": {
            "gridcolor": "white",
            "linecolor": "white",
            "ticks": ""
           }
          },
          "scene": {
           "xaxis": {
            "backgroundcolor": "#E5ECF6",
            "gridcolor": "white",
            "gridwidth": 2,
            "linecolor": "white",
            "showbackground": true,
            "ticks": "",
            "zerolinecolor": "white"
           },
           "yaxis": {
            "backgroundcolor": "#E5ECF6",
            "gridcolor": "white",
            "gridwidth": 2,
            "linecolor": "white",
            "showbackground": true,
            "ticks": "",
            "zerolinecolor": "white"
           },
           "zaxis": {
            "backgroundcolor": "#E5ECF6",
            "gridcolor": "white",
            "gridwidth": 2,
            "linecolor": "white",
            "showbackground": true,
            "ticks": "",
            "zerolinecolor": "white"
           }
          },
          "shapedefaults": {
           "line": {
            "color": "#2a3f5f"
           }
          },
          "ternary": {
           "aaxis": {
            "gridcolor": "white",
            "linecolor": "white",
            "ticks": ""
           },
           "baxis": {
            "gridcolor": "white",
            "linecolor": "white",
            "ticks": ""
           },
           "bgcolor": "#E5ECF6",
           "caxis": {
            "gridcolor": "white",
            "linecolor": "white",
            "ticks": ""
           }
          },
          "title": {
           "x": 0.05
          },
          "xaxis": {
           "automargin": true,
           "gridcolor": "white",
           "linecolor": "white",
           "ticks": "",
           "title": {
            "standoff": 15
           },
           "zerolinecolor": "white",
           "zerolinewidth": 2
          },
          "yaxis": {
           "automargin": true,
           "gridcolor": "white",
           "linecolor": "white",
           "ticks": "",
           "title": {
            "standoff": 15
           },
           "zerolinecolor": "white",
           "zerolinewidth": 2
          }
         }
        },
        "title": {
         "text": "Median Price Grouped By Month<Br>Rolling Average: 2"
        },
        "xaxis": {
         "anchor": "y",
         "domain": [
          0,
          0.45
         ],
         "matches": "x5",
         "nticks": 1,
         "showticklabels": false
        },
        "xaxis2": {
         "anchor": "y2",
         "domain": [
          0.55,
          1
         ],
         "matches": "x5",
         "nticks": 1,
         "showticklabels": false
        },
        "xaxis3": {
         "anchor": "y3",
         "domain": [
          0,
          0.45
         ],
         "matches": "x5",
         "nticks": 1,
         "showticklabels": false
        },
        "xaxis4": {
         "anchor": "y4",
         "domain": [
          0.55,
          1
         ],
         "matches": "x5",
         "nticks": 1,
         "showticklabels": false
        },
        "xaxis5": {
         "anchor": "y5",
         "domain": [
          0,
          0.45
         ],
         "nticks": 1
        },
        "xaxis6": {
         "anchor": "y6",
         "domain": [
          0.55,
          1
         ],
         "matches": "x5",
         "nticks": 1
        },
        "yaxis": {
         "anchor": "x",
         "domain": [
          0.7777777777777778,
          1
         ]
        },
        "yaxis2": {
         "anchor": "x2",
         "domain": [
          0.7777777777777778,
          1
         ]
        },
        "yaxis3": {
         "anchor": "x3",
         "domain": [
          0.3888888888888889,
          0.6111111111111112
         ]
        },
        "yaxis4": {
         "anchor": "x4",
         "domain": [
          0.3888888888888889,
          0.6111111111111112
         ]
        },
        "yaxis5": {
         "anchor": "x5",
         "domain": [
          0,
          0.22222222222222224
         ]
        },
        "yaxis6": {
         "anchor": "x6",
         "domain": [
          0,
          0.22222222222222224
         ]
        }
       }
      },
      "text/html": [
       "<div>                            <div id=\"fddfa69e-a0ba-4d33-9e00-5e55214baa55\" class=\"plotly-graph-div\" style=\"height:525px; width:100%;\"></div>            <script type=\"text/javascript\">                require([\"plotly\"], function(Plotly) {                    window.PLOTLYENV=window.PLOTLYENV || {};                                    if (document.getElementById(\"fddfa69e-a0ba-4d33-9e00-5e55214baa55\")) {                    Plotly.newPlot(                        \"fddfa69e-a0ba-4d33-9e00-5e55214baa55\",                        [{\"mode\": \"markers\", \"name\": \"Price\", \"type\": \"scatter\", \"x\": [\"2018-01-01T00:00:00\", \"2018-02-01T00:00:00\", \"2018-03-01T00:00:00\", \"2018-04-01T00:00:00\", \"2018-05-01T00:00:00\", \"2018-06-01T00:00:00\", \"2018-07-01T00:00:00\", \"2018-08-01T00:00:00\", \"2018-09-01T00:00:00\", \"2018-10-01T00:00:00\", \"2018-11-01T00:00:00\", \"2018-12-01T00:00:00\", \"2019-01-01T00:00:00\", \"2019-02-01T00:00:00\", \"2019-03-01T00:00:00\", \"2019-04-01T00:00:00\", \"2019-05-01T00:00:00\", \"2019-06-01T00:00:00\", \"2019-07-01T00:00:00\", \"2019-08-01T00:00:00\", \"2019-09-01T00:00:00\", \"2019-10-01T00:00:00\", \"2019-11-01T00:00:00\", \"2019-12-01T00:00:00\", \"2020-01-01T00:00:00\", \"2020-02-01T00:00:00\", \"2020-04-01T00:00:00\", \"2020-05-01T00:00:00\", \"2020-06-01T00:00:00\", \"2020-07-01T00:00:00\"], \"xaxis\": \"x\", \"y\": [374975, 345000, 600000, 195000, 249000, 335000, 267500, 317500, 560000, 355000, 400000, 124000, 145000, 690000, 226000, 296250, 305000, 125000, 288000, 454000, 460000, 700000, 250000, 285000, 652500, 169000, 785500, 567500, 450000, 513000], \"yaxis\": \"y\"}, {\"mode\": \"lines\", \"name\": \"Rolling Average 2\", \"type\": \"scatter\", \"x\": [\"2018-01-01T00:00:00\", \"2018-02-01T00:00:00\", \"2018-03-01T00:00:00\", \"2018-04-01T00:00:00\", \"2018-05-01T00:00:00\", \"2018-06-01T00:00:00\", \"2018-07-01T00:00:00\", \"2018-08-01T00:00:00\", \"2018-09-01T00:00:00\", \"2018-10-01T00:00:00\", \"2018-11-01T00:00:00\", \"2018-12-01T00:00:00\", \"2019-01-01T00:00:00\", \"2019-02-01T00:00:00\", \"2019-03-01T00:00:00\", \"2019-04-01T00:00:00\", \"2019-05-01T00:00:00\", \"2019-06-01T00:00:00\", \"2019-07-01T00:00:00\", \"2019-08-01T00:00:00\", \"2019-09-01T00:00:00\", \"2019-10-01T00:00:00\", \"2019-11-01T00:00:00\", \"2019-12-01T00:00:00\", \"2020-01-01T00:00:00\", \"2020-02-01T00:00:00\", \"2020-04-01T00:00:00\", \"2020-05-01T00:00:00\", \"2020-06-01T00:00:00\", \"2020-07-01T00:00:00\"], \"xaxis\": \"x\", \"y\": [null, 359987.5, 472500.0, 397500.0, 222000.0, 292000.0, 301250.0, 292500.0, 438750.0, 457500.0, 377500.0, 262000.0, 134500.0, 417500.0, 458000.0, 261125.0, 300625.0, 215000.0, 206500.0, 371000.0, 457000.0, 580000.0, 475000.0, 267500.0, 468750.0, 410750.0, 477250.0, 676500.0, 508750.0, 481500.0], \"yaxis\": \"y\"}, {\"mode\": \"markers\", \"name\": \"Price\", \"type\": \"scatter\", \"x\": [\"2018-02-01T00:00:00\", \"2018-03-01T00:00:00\", \"2018-04-01T00:00:00\", \"2018-05-01T00:00:00\", \"2018-07-01T00:00:00\", \"2018-08-01T00:00:00\", \"2018-11-01T00:00:00\", \"2018-12-01T00:00:00\", \"2019-01-01T00:00:00\", \"2019-02-01T00:00:00\", \"2019-03-01T00:00:00\", \"2019-05-01T00:00:00\", \"2019-07-01T00:00:00\", \"2019-08-01T00:00:00\", \"2019-09-01T00:00:00\", \"2019-11-01T00:00:00\", \"2020-04-01T00:00:00\", \"2020-07-01T00:00:00\"], \"xaxis\": \"x2\", \"y\": [312000, 330000, 375000, 350000, 366500, 522500, 485000, 645000, 300000, 414975, 420000, 210000, 365000, 333500, 300000, 490000, 355000, 345000], \"yaxis\": \"y2\"}, {\"mode\": \"lines\", \"name\": \"Rolling Average 2\", \"type\": \"scatter\", \"x\": [\"2018-02-01T00:00:00\", \"2018-03-01T00:00:00\", \"2018-04-01T00:00:00\", \"2018-05-01T00:00:00\", \"2018-07-01T00:00:00\", \"2018-08-01T00:00:00\", \"2018-11-01T00:00:00\", \"2018-12-01T00:00:00\", \"2019-01-01T00:00:00\", \"2019-02-01T00:00:00\", \"2019-03-01T00:00:00\", \"2019-05-01T00:00:00\", \"2019-07-01T00:00:00\", \"2019-08-01T00:00:00\", \"2019-09-01T00:00:00\", \"2019-11-01T00:00:00\", \"2020-04-01T00:00:00\", \"2020-07-01T00:00:00\"], \"xaxis\": \"x2\", \"y\": [null, 321000.0, 352500.0, 362500.0, 358250.0, 444500.0, 503750.0, 565000.0, 472500.0, 357487.5, 417487.5, 315000.0, 287500.0, 349250.0, 316750.0, 395000.0, 422500.0, 350000.0], \"yaxis\": \"y2\"}, {\"mode\": \"markers\", \"name\": \"Price\", \"type\": \"scatter\", \"x\": [\"2018-01-01T00:00:00\", \"2018-02-01T00:00:00\", \"2018-03-01T00:00:00\", \"2018-04-01T00:00:00\", \"2018-05-01T00:00:00\", \"2018-06-01T00:00:00\", \"2018-07-01T00:00:00\", \"2018-08-01T00:00:00\", \"2018-09-01T00:00:00\", \"2018-10-01T00:00:00\", \"2018-11-01T00:00:00\", \"2018-12-01T00:00:00\", \"2019-01-01T00:00:00\", \"2019-02-01T00:00:00\", \"2019-03-01T00:00:00\", \"2019-04-01T00:00:00\", \"2019-05-01T00:00:00\", \"2019-06-01T00:00:00\", \"2019-07-01T00:00:00\", \"2019-08-01T00:00:00\", \"2019-09-01T00:00:00\", \"2019-10-01T00:00:00\", \"2019-11-01T00:00:00\", \"2019-12-01T00:00:00\", \"2020-01-01T00:00:00\", \"2020-02-01T00:00:00\", \"2020-03-01T00:00:00\", \"2020-04-01T00:00:00\", \"2020-05-01T00:00:00\", \"2020-06-01T00:00:00\", \"2020-07-01T00:00:00\"], \"xaxis\": \"x3\", \"y\": [149950, 117000, 120000, 122000, 151250, 137475, 144950, 135875, 157500, 102000, 146000, 175000, 144500, 129000, 136500, 122000, 126750, 115000, 115000, 154000, 146000, 145000, 144975, 127500, 133500, 131500, 134950, 150000, 122500, 215000, 260000], \"yaxis\": \"y3\"}, {\"mode\": \"lines\", \"name\": \"Rolling Average 2\", \"type\": \"scatter\", \"x\": [\"2018-01-01T00:00:00\", \"2018-02-01T00:00:00\", \"2018-03-01T00:00:00\", \"2018-04-01T00:00:00\", \"2018-05-01T00:00:00\", \"2018-06-01T00:00:00\", \"2018-07-01T00:00:00\", \"2018-08-01T00:00:00\", \"2018-09-01T00:00:00\", \"2018-10-01T00:00:00\", \"2018-11-01T00:00:00\", \"2018-12-01T00:00:00\", \"2019-01-01T00:00:00\", \"2019-02-01T00:00:00\", \"2019-03-01T00:00:00\", \"2019-04-01T00:00:00\", \"2019-05-01T00:00:00\", \"2019-06-01T00:00:00\", \"2019-07-01T00:00:00\", \"2019-08-01T00:00:00\", \"2019-09-01T00:00:00\", \"2019-10-01T00:00:00\", \"2019-11-01T00:00:00\", \"2019-12-01T00:00:00\", \"2020-01-01T00:00:00\", \"2020-02-01T00:00:00\", \"2020-03-01T00:00:00\", \"2020-04-01T00:00:00\", \"2020-05-01T00:00:00\", \"2020-06-01T00:00:00\", \"2020-07-01T00:00:00\"], \"xaxis\": \"x3\", \"y\": [null, 133475.0, 118500.0, 121000.0, 136625.0, 144362.5, 141212.5, 140412.5, 146687.5, 129750.0, 124000.0, 160500.0, 159750.0, 136750.0, 132750.0, 129250.0, 124375.0, 120875.0, 115000.0, 134500.0, 150000.0, 145500.0, 144987.5, 136237.5, 130500.0, 132500.0, 133225.0, 142475.0, 136250.0, 168750.0, 237500.0], \"yaxis\": \"y3\"}, {\"mode\": \"markers\", \"name\": \"Price\", \"type\": \"scatter\", \"x\": [\"2018-01-01T00:00:00\", \"2018-02-01T00:00:00\", \"2018-03-01T00:00:00\", \"2018-04-01T00:00:00\", \"2018-05-01T00:00:00\", \"2018-06-01T00:00:00\", \"2018-07-01T00:00:00\", \"2018-08-01T00:00:00\", \"2018-09-01T00:00:00\", \"2018-10-01T00:00:00\", \"2018-11-01T00:00:00\", \"2018-12-01T00:00:00\", \"2019-01-01T00:00:00\", \"2019-02-01T00:00:00\", \"2019-03-01T00:00:00\", \"2019-04-01T00:00:00\", \"2019-05-01T00:00:00\", \"2019-06-01T00:00:00\", \"2019-07-01T00:00:00\", \"2019-08-01T00:00:00\", \"2019-09-01T00:00:00\", \"2019-10-01T00:00:00\", \"2019-11-01T00:00:00\", \"2019-12-01T00:00:00\", \"2020-01-01T00:00:00\", \"2020-02-01T00:00:00\", \"2020-03-01T00:00:00\", \"2020-04-01T00:00:00\", \"2020-05-01T00:00:00\", \"2020-06-01T00:00:00\", \"2020-07-01T00:00:00\"], \"xaxis\": \"x4\", \"y\": [138500, 113250, 129000, 110000, 180000, 144000, 163000, 127000, 126000, 130400, 141000, 124500, 117000, 107000, 115000, 120000, 111000, 119000, 153750, 138000, 125000, 134950, 137500, 135000, 170000, 124500, 146250, 105500, 115000, 97000, 107000], \"yaxis\": \"y4\"}, {\"mode\": \"lines\", \"name\": \"Rolling Average 2\", \"type\": \"scatter\", \"x\": [\"2018-01-01T00:00:00\", \"2018-02-01T00:00:00\", \"2018-03-01T00:00:00\", \"2018-04-01T00:00:00\", \"2018-05-01T00:00:00\", \"2018-06-01T00:00:00\", \"2018-07-01T00:00:00\", \"2018-08-01T00:00:00\", \"2018-09-01T00:00:00\", \"2018-10-01T00:00:00\", \"2018-11-01T00:00:00\", \"2018-12-01T00:00:00\", \"2019-01-01T00:00:00\", \"2019-02-01T00:00:00\", \"2019-03-01T00:00:00\", \"2019-04-01T00:00:00\", \"2019-05-01T00:00:00\", \"2019-06-01T00:00:00\", \"2019-07-01T00:00:00\", \"2019-08-01T00:00:00\", \"2019-09-01T00:00:00\", \"2019-10-01T00:00:00\", \"2019-11-01T00:00:00\", \"2019-12-01T00:00:00\", \"2020-01-01T00:00:00\", \"2020-02-01T00:00:00\", \"2020-03-01T00:00:00\", \"2020-04-01T00:00:00\", \"2020-05-01T00:00:00\", \"2020-06-01T00:00:00\", \"2020-07-01T00:00:00\"], \"xaxis\": \"x4\", \"y\": [null, 125875.0, 121125.0, 119500.0, 145000.0, 162000.0, 153500.0, 145000.0, 126500.0, 128200.0, 135700.0, 132750.0, 120750.0, 112000.0, 111000.0, 117500.0, 115500.0, 115000.0, 136375.0, 145875.0, 131500.0, 129975.0, 136225.0, 136250.0, 152500.0, 147250.0, 135375.0, 125875.0, 110250.0, 106000.0, 102000.0], \"yaxis\": \"y4\"}, {\"mode\": \"markers\", \"name\": \"Price\", \"type\": \"scatter\", \"x\": [\"2018-01-01T00:00:00\", \"2018-02-01T00:00:00\", \"2018-03-01T00:00:00\", \"2018-04-01T00:00:00\", \"2018-05-01T00:00:00\", \"2018-06-01T00:00:00\", \"2018-07-01T00:00:00\", \"2018-08-01T00:00:00\", \"2018-09-01T00:00:00\", \"2018-10-01T00:00:00\", \"2018-11-01T00:00:00\", \"2018-12-01T00:00:00\", \"2019-01-01T00:00:00\", \"2019-02-01T00:00:00\", \"2019-03-01T00:00:00\", \"2019-04-01T00:00:00\", \"2019-05-01T00:00:00\", \"2019-06-01T00:00:00\", \"2019-07-01T00:00:00\", \"2019-08-01T00:00:00\", \"2019-09-01T00:00:00\", \"2019-10-01T00:00:00\", \"2019-11-01T00:00:00\", \"2019-12-01T00:00:00\", \"2020-01-01T00:00:00\", \"2020-02-01T00:00:00\", \"2020-03-01T00:00:00\", \"2020-04-01T00:00:00\", \"2020-05-01T00:00:00\", \"2020-06-01T00:00:00\", \"2020-07-01T00:00:00\"], \"xaxis\": \"x5\", \"y\": [862500.0, 650000.0, 863900.0, 701000.0, 907500.0, 835000.0, 980000.0, 750000.0, 795250.0, 625000.0, 814250.0, 753122.0, 964000.0, 747500.0, 525000.0, 532500.0, 730000.0, 662500.0, 914250.0, 1280000.0, 1017500.0, 985000.0, 780000.0, 1263003.5, 987500.0, 805000.0, 900000.0, 499999.0, 552000.0, 762700.0, 900000.0], \"yaxis\": \"y5\"}, {\"mode\": \"lines\", \"name\": \"Rolling Average 2\", \"type\": \"scatter\", \"x\": [\"2018-01-01T00:00:00\", \"2018-02-01T00:00:00\", \"2018-03-01T00:00:00\", \"2018-04-01T00:00:00\", \"2018-05-01T00:00:00\", \"2018-06-01T00:00:00\", \"2018-07-01T00:00:00\", \"2018-08-01T00:00:00\", \"2018-09-01T00:00:00\", \"2018-10-01T00:00:00\", \"2018-11-01T00:00:00\", \"2018-12-01T00:00:00\", \"2019-01-01T00:00:00\", \"2019-02-01T00:00:00\", \"2019-03-01T00:00:00\", \"2019-04-01T00:00:00\", \"2019-05-01T00:00:00\", \"2019-06-01T00:00:00\", \"2019-07-01T00:00:00\", \"2019-08-01T00:00:00\", \"2019-09-01T00:00:00\", \"2019-10-01T00:00:00\", \"2019-11-01T00:00:00\", \"2019-12-01T00:00:00\", \"2020-01-01T00:00:00\", \"2020-02-01T00:00:00\", \"2020-03-01T00:00:00\", \"2020-04-01T00:00:00\", \"2020-05-01T00:00:00\", \"2020-06-01T00:00:00\", \"2020-07-01T00:00:00\"], \"xaxis\": \"x5\", \"y\": [null, 756250.0, 756950.0, 782450.0, 804250.0, 871250.0, 907500.0, 865000.0, 772625.0, 710125.0, 719625.0, 783686.0, 858561.0, 855750.0, 636250.0, 528750.0, 631250.0, 696250.0, 788375.0, 1097125.0, 1148750.0, 1001250.0, 882500.0, 1021501.75, 1125251.75, 896250.0, 852500.0, 699999.5, 525999.5, 657350.0, 831350.0], \"yaxis\": \"y5\"}, {\"mode\": \"markers\", \"name\": \"Price\", \"type\": \"scatter\", \"x\": [\"2018-02-01T00:00:00\", \"2018-03-01T00:00:00\", \"2018-04-01T00:00:00\", \"2018-06-01T00:00:00\", \"2018-07-01T00:00:00\", \"2018-08-01T00:00:00\", \"2018-09-01T00:00:00\", \"2018-10-01T00:00:00\", \"2018-11-01T00:00:00\", \"2018-12-01T00:00:00\", \"2019-01-01T00:00:00\", \"2019-02-01T00:00:00\", \"2019-03-01T00:00:00\", \"2019-04-01T00:00:00\", \"2019-05-01T00:00:00\", \"2019-06-01T00:00:00\", \"2019-07-01T00:00:00\", \"2019-08-01T00:00:00\", \"2019-09-01T00:00:00\", \"2019-10-01T00:00:00\", \"2019-11-01T00:00:00\", \"2019-12-01T00:00:00\", \"2020-01-01T00:00:00\", \"2020-02-01T00:00:00\", \"2020-03-01T00:00:00\", \"2020-04-01T00:00:00\", \"2020-05-01T00:00:00\", \"2020-06-01T00:00:00\", \"2020-07-01T00:00:00\"], \"xaxis\": \"x6\", \"y\": [157500, 219750, 207500, 291000, 283500, 189000, 375000, 166250, 287500, 207000, 204000, 150000, 97500, 268000, 184750, 312500, 350000, 236250, 191250, 195000, 233000, 261000, 212000, 199250, 300000, 186000, 365000, 355000, 190000], \"yaxis\": \"y6\"}, {\"mode\": \"lines\", \"name\": \"Rolling Average 2\", \"type\": \"scatter\", \"x\": [\"2018-02-01T00:00:00\", \"2018-03-01T00:00:00\", \"2018-04-01T00:00:00\", \"2018-06-01T00:00:00\", \"2018-07-01T00:00:00\", \"2018-08-01T00:00:00\", \"2018-09-01T00:00:00\", \"2018-10-01T00:00:00\", \"2018-11-01T00:00:00\", \"2018-12-01T00:00:00\", \"2019-01-01T00:00:00\", \"2019-02-01T00:00:00\", \"2019-03-01T00:00:00\", \"2019-04-01T00:00:00\", \"2019-05-01T00:00:00\", \"2019-06-01T00:00:00\", \"2019-07-01T00:00:00\", \"2019-08-01T00:00:00\", \"2019-09-01T00:00:00\", \"2019-10-01T00:00:00\", \"2019-11-01T00:00:00\", \"2019-12-01T00:00:00\", \"2020-01-01T00:00:00\", \"2020-02-01T00:00:00\", \"2020-03-01T00:00:00\", \"2020-04-01T00:00:00\", \"2020-05-01T00:00:00\", \"2020-06-01T00:00:00\", \"2020-07-01T00:00:00\"], \"xaxis\": \"x6\", \"y\": [null, 188625.0, 213625.0, 249250.0, 287250.0, 236250.0, 282000.0, 270625.0, 226875.0, 247250.0, 205500.0, 177000.0, 123750.0, 182750.0, 226375.0, 248625.0, 331250.0, 293125.0, 213750.0, 193125.0, 214000.0, 247000.0, 236500.0, 205625.0, 249625.0, 243000.0, 275500.0, 360000.0, 272500.0], \"yaxis\": \"y6\"}],                        {\"annotations\": [{\"font\": {\"size\": 16}, \"showarrow\": false, \"text\": \"Plymouth\", \"x\": 0.225, \"xanchor\": \"center\", \"xref\": \"paper\", \"y\": 1.0, \"yanchor\": \"bottom\", \"yref\": \"paper\"}, {\"font\": {\"size\": 16}, \"showarrow\": false, \"text\": \"Barrow\", \"x\": 0.775, \"xanchor\": \"center\", \"xref\": \"paper\", \"y\": 1.0, \"yanchor\": \"bottom\", \"yref\": \"paper\"}, {\"font\": {\"size\": 16}, \"showarrow\": false, \"text\": \"Northumberland\", \"x\": 0.225, \"xanchor\": \"center\", \"xref\": \"paper\", \"y\": 0.6111111111111112, \"yanchor\": \"bottom\", \"yref\": \"paper\"}, {\"font\": {\"size\": 16}, \"showarrow\": false, \"text\": \"North East\", \"x\": 0.775, \"xanchor\": \"center\", \"xref\": \"paper\", \"y\": 0.6111111111111112, \"yanchor\": \"bottom\", \"yref\": \"paper\"}, {\"font\": {\"size\": 16}, \"showarrow\": false, \"text\": \"Warwick\", \"x\": 0.225, \"xanchor\": \"center\", \"xref\": \"paper\", \"y\": 0.22222222222222224, \"yanchor\": \"bottom\", \"yref\": \"paper\"}, {\"font\": {\"size\": 16}, \"showarrow\": false, \"text\": \"Hambleton\", \"x\": 0.775, \"xanchor\": \"center\", \"xref\": \"paper\", \"y\": 0.22222222222222224, \"yanchor\": \"bottom\", \"yref\": \"paper\"}], \"shapes\": [{\"line\": {\"color\": \"Red\", \"dash\": \"dot\", \"width\": 3}, \"type\": \"line\", \"x0\": \"2019-09-01\", \"x1\": \"2019-09-01\", \"xref\": \"x\", \"y0\": 124000, \"y1\": 785500, \"yref\": \"y\"}, {\"line\": {\"color\": \"Red\", \"dash\": \"dot\", \"width\": 3}, \"type\": \"line\", \"x0\": \"2019-09-01\", \"x1\": \"2019-09-01\", \"xref\": \"x2\", \"y0\": 210000, \"y1\": 645000, \"yref\": \"y2\"}, {\"line\": {\"color\": \"Red\", \"dash\": \"dot\", \"width\": 3}, \"type\": \"line\", \"x0\": \"2019-09-01\", \"x1\": \"2019-09-01\", \"xref\": \"x3\", \"y0\": 102000, \"y1\": 260000, \"yref\": \"y3\"}, {\"line\": {\"color\": \"Red\", \"dash\": \"dot\", \"width\": 3}, \"type\": \"line\", \"x0\": \"2019-09-01\", \"x1\": \"2019-09-01\", \"xref\": \"x4\", \"y0\": 97000, \"y1\": 180000, \"yref\": \"y4\"}, {\"line\": {\"color\": \"Red\", \"dash\": \"dot\", \"width\": 3}, \"type\": \"line\", \"x0\": \"2019-09-01\", \"x1\": \"2019-09-01\", \"xref\": \"x5\", \"y0\": 499999.0, \"y1\": 1280000.0, \"yref\": \"y5\"}, {\"line\": {\"color\": \"Red\", \"dash\": \"dot\", \"width\": 3}, \"type\": \"line\", \"x0\": \"2019-09-01\", \"x1\": \"2019-09-01\", \"xref\": \"x6\", \"y0\": 97500, \"y1\": 375000, \"yref\": \"y6\"}], \"showlegend\": true, \"template\": {\"data\": {\"bar\": [{\"error_x\": {\"color\": \"#2a3f5f\"}, \"error_y\": {\"color\": \"#2a3f5f\"}, \"marker\": {\"line\": {\"color\": \"#E5ECF6\", \"width\": 0.5}}, \"type\": \"bar\"}], \"barpolar\": [{\"marker\": {\"line\": {\"color\": \"#E5ECF6\", \"width\": 0.5}}, \"type\": \"barpolar\"}], \"carpet\": [{\"aaxis\": {\"endlinecolor\": \"#2a3f5f\", \"gridcolor\": \"white\", \"linecolor\": \"white\", \"minorgridcolor\": \"white\", \"startlinecolor\": \"#2a3f5f\"}, \"baxis\": {\"endlinecolor\": \"#2a3f5f\", \"gridcolor\": \"white\", \"linecolor\": \"white\", \"minorgridcolor\": \"white\", \"startlinecolor\": \"#2a3f5f\"}, \"type\": \"carpet\"}], \"choropleth\": [{\"colorbar\": {\"outlinewidth\": 0, \"ticks\": \"\"}, \"type\": \"choropleth\"}], \"contour\": [{\"colorbar\": {\"outlinewidth\": 0, \"ticks\": \"\"}, \"colorscale\": [[0.0, \"#0d0887\"], [0.1111111111111111, \"#46039f\"], [0.2222222222222222, \"#7201a8\"], [0.3333333333333333, \"#9c179e\"], [0.4444444444444444, \"#bd3786\"], [0.5555555555555556, \"#d8576b\"], [0.6666666666666666, \"#ed7953\"], [0.7777777777777778, \"#fb9f3a\"], [0.8888888888888888, \"#fdca26\"], [1.0, \"#f0f921\"]], \"type\": \"contour\"}], \"contourcarpet\": [{\"colorbar\": {\"outlinewidth\": 0, \"ticks\": \"\"}, \"type\": \"contourcarpet\"}], \"heatmap\": [{\"colorbar\": {\"outlinewidth\": 0, \"ticks\": \"\"}, \"colorscale\": [[0.0, \"#0d0887\"], [0.1111111111111111, \"#46039f\"], [0.2222222222222222, \"#7201a8\"], [0.3333333333333333, \"#9c179e\"], [0.4444444444444444, \"#bd3786\"], [0.5555555555555556, \"#d8576b\"], [0.6666666666666666, \"#ed7953\"], [0.7777777777777778, \"#fb9f3a\"], [0.8888888888888888, \"#fdca26\"], [1.0, \"#f0f921\"]], \"type\": \"heatmap\"}], \"heatmapgl\": [{\"colorbar\": {\"outlinewidth\": 0, \"ticks\": \"\"}, \"colorscale\": [[0.0, \"#0d0887\"], [0.1111111111111111, \"#46039f\"], [0.2222222222222222, \"#7201a8\"], [0.3333333333333333, \"#9c179e\"], [0.4444444444444444, \"#bd3786\"], [0.5555555555555556, \"#d8576b\"], [0.6666666666666666, \"#ed7953\"], [0.7777777777777778, \"#fb9f3a\"], [0.8888888888888888, \"#fdca26\"], [1.0, \"#f0f921\"]], \"type\": \"heatmapgl\"}], \"histogram\": [{\"marker\": {\"colorbar\": {\"outlinewidth\": 0, \"ticks\": \"\"}}, \"type\": \"histogram\"}], \"histogram2d\": [{\"colorbar\": {\"outlinewidth\": 0, \"ticks\": \"\"}, \"colorscale\": [[0.0, \"#0d0887\"], [0.1111111111111111, \"#46039f\"], [0.2222222222222222, \"#7201a8\"], [0.3333333333333333, \"#9c179e\"], [0.4444444444444444, \"#bd3786\"], [0.5555555555555556, \"#d8576b\"], [0.6666666666666666, \"#ed7953\"], [0.7777777777777778, \"#fb9f3a\"], [0.8888888888888888, \"#fdca26\"], [1.0, \"#f0f921\"]], \"type\": \"histogram2d\"}], \"histogram2dcontour\": [{\"colorbar\": {\"outlinewidth\": 0, \"ticks\": \"\"}, \"colorscale\": [[0.0, \"#0d0887\"], [0.1111111111111111, \"#46039f\"], [0.2222222222222222, \"#7201a8\"], [0.3333333333333333, \"#9c179e\"], [0.4444444444444444, \"#bd3786\"], [0.5555555555555556, \"#d8576b\"], [0.6666666666666666, \"#ed7953\"], [0.7777777777777778, \"#fb9f3a\"], [0.8888888888888888, \"#fdca26\"], [1.0, \"#f0f921\"]], \"type\": \"histogram2dcontour\"}], \"mesh3d\": [{\"colorbar\": {\"outlinewidth\": 0, \"ticks\": \"\"}, \"type\": \"mesh3d\"}], \"parcoords\": [{\"line\": {\"colorbar\": {\"outlinewidth\": 0, \"ticks\": \"\"}}, \"type\": \"parcoords\"}], \"pie\": [{\"automargin\": true, \"type\": \"pie\"}], \"scatter\": [{\"marker\": {\"colorbar\": {\"outlinewidth\": 0, \"ticks\": \"\"}}, \"type\": \"scatter\"}], \"scatter3d\": [{\"line\": {\"colorbar\": {\"outlinewidth\": 0, \"ticks\": \"\"}}, \"marker\": {\"colorbar\": {\"outlinewidth\": 0, \"ticks\": \"\"}}, \"type\": \"scatter3d\"}], \"scattercarpet\": [{\"marker\": {\"colorbar\": {\"outlinewidth\": 0, \"ticks\": \"\"}}, \"type\": \"scattercarpet\"}], \"scattergeo\": [{\"marker\": {\"colorbar\": {\"outlinewidth\": 0, \"ticks\": \"\"}}, \"type\": \"scattergeo\"}], \"scattergl\": [{\"marker\": {\"colorbar\": {\"outlinewidth\": 0, \"ticks\": \"\"}}, \"type\": \"scattergl\"}], \"scattermapbox\": [{\"marker\": {\"colorbar\": {\"outlinewidth\": 0, \"ticks\": \"\"}}, \"type\": \"scattermapbox\"}], \"scatterpolar\": [{\"marker\": {\"colorbar\": {\"outlinewidth\": 0, \"ticks\": \"\"}}, \"type\": \"scatterpolar\"}], \"scatterpolargl\": [{\"marker\": {\"colorbar\": {\"outlinewidth\": 0, \"ticks\": \"\"}}, \"type\": \"scatterpolargl\"}], \"scatterternary\": [{\"marker\": {\"colorbar\": {\"outlinewidth\": 0, \"ticks\": \"\"}}, \"type\": \"scatterternary\"}], \"surface\": [{\"colorbar\": {\"outlinewidth\": 0, \"ticks\": \"\"}, \"colorscale\": [[0.0, \"#0d0887\"], [0.1111111111111111, \"#46039f\"], [0.2222222222222222, \"#7201a8\"], [0.3333333333333333, \"#9c179e\"], [0.4444444444444444, \"#bd3786\"], [0.5555555555555556, \"#d8576b\"], [0.6666666666666666, \"#ed7953\"], [0.7777777777777778, \"#fb9f3a\"], [0.8888888888888888, \"#fdca26\"], [1.0, \"#f0f921\"]], \"type\": \"surface\"}], \"table\": [{\"cells\": {\"fill\": {\"color\": \"#EBF0F8\"}, \"line\": {\"color\": \"white\"}}, \"header\": {\"fill\": {\"color\": \"#C8D4E3\"}, \"line\": {\"color\": \"white\"}}, \"type\": \"table\"}]}, \"layout\": {\"annotationdefaults\": {\"arrowcolor\": \"#2a3f5f\", \"arrowhead\": 0, \"arrowwidth\": 1}, \"coloraxis\": {\"colorbar\": {\"outlinewidth\": 0, \"ticks\": \"\"}}, \"colorscale\": {\"diverging\": [[0, \"#8e0152\"], [0.1, \"#c51b7d\"], [0.2, \"#de77ae\"], [0.3, \"#f1b6da\"], [0.4, \"#fde0ef\"], [0.5, \"#f7f7f7\"], [0.6, \"#e6f5d0\"], [0.7, \"#b8e186\"], [0.8, \"#7fbc41\"], [0.9, \"#4d9221\"], [1, \"#276419\"]], \"sequential\": [[0.0, \"#0d0887\"], [0.1111111111111111, \"#46039f\"], [0.2222222222222222, \"#7201a8\"], [0.3333333333333333, \"#9c179e\"], [0.4444444444444444, \"#bd3786\"], [0.5555555555555556, \"#d8576b\"], [0.6666666666666666, \"#ed7953\"], [0.7777777777777778, \"#fb9f3a\"], [0.8888888888888888, \"#fdca26\"], [1.0, \"#f0f921\"]], \"sequentialminus\": [[0.0, \"#0d0887\"], [0.1111111111111111, \"#46039f\"], [0.2222222222222222, \"#7201a8\"], [0.3333333333333333, \"#9c179e\"], [0.4444444444444444, \"#bd3786\"], [0.5555555555555556, \"#d8576b\"], [0.6666666666666666, \"#ed7953\"], [0.7777777777777778, \"#fb9f3a\"], [0.8888888888888888, \"#fdca26\"], [1.0, \"#f0f921\"]]}, \"colorway\": [\"#636efa\", \"#EF553B\", \"#00cc96\", \"#ab63fa\", \"#FFA15A\", \"#19d3f3\", \"#FF6692\", \"#B6E880\", \"#FF97FF\", \"#FECB52\"], \"font\": {\"color\": \"#2a3f5f\"}, \"geo\": {\"bgcolor\": \"white\", \"lakecolor\": \"white\", \"landcolor\": \"#E5ECF6\", \"showlakes\": true, \"showland\": true, \"subunitcolor\": \"white\"}, \"hoverlabel\": {\"align\": \"left\"}, \"hovermode\": \"closest\", \"mapbox\": {\"style\": \"light\"}, \"paper_bgcolor\": \"white\", \"plot_bgcolor\": \"#E5ECF6\", \"polar\": {\"angularaxis\": {\"gridcolor\": \"white\", \"linecolor\": \"white\", \"ticks\": \"\"}, \"bgcolor\": \"#E5ECF6\", \"radialaxis\": {\"gridcolor\": \"white\", \"linecolor\": \"white\", \"ticks\": \"\"}}, \"scene\": {\"xaxis\": {\"backgroundcolor\": \"#E5ECF6\", \"gridcolor\": \"white\", \"gridwidth\": 2, \"linecolor\": \"white\", \"showbackground\": true, \"ticks\": \"\", \"zerolinecolor\": \"white\"}, \"yaxis\": {\"backgroundcolor\": \"#E5ECF6\", \"gridcolor\": \"white\", \"gridwidth\": 2, \"linecolor\": \"white\", \"showbackground\": true, \"ticks\": \"\", \"zerolinecolor\": \"white\"}, \"zaxis\": {\"backgroundcolor\": \"#E5ECF6\", \"gridcolor\": \"white\", \"gridwidth\": 2, \"linecolor\": \"white\", \"showbackground\": true, \"ticks\": \"\", \"zerolinecolor\": \"white\"}}, \"shapedefaults\": {\"line\": {\"color\": \"#2a3f5f\"}}, \"ternary\": {\"aaxis\": {\"gridcolor\": \"white\", \"linecolor\": \"white\", \"ticks\": \"\"}, \"baxis\": {\"gridcolor\": \"white\", \"linecolor\": \"white\", \"ticks\": \"\"}, \"bgcolor\": \"#E5ECF6\", \"caxis\": {\"gridcolor\": \"white\", \"linecolor\": \"white\", \"ticks\": \"\"}}, \"title\": {\"x\": 0.05}, \"xaxis\": {\"automargin\": true, \"gridcolor\": \"white\", \"linecolor\": \"white\", \"ticks\": \"\", \"title\": {\"standoff\": 15}, \"zerolinecolor\": \"white\", \"zerolinewidth\": 2}, \"yaxis\": {\"automargin\": true, \"gridcolor\": \"white\", \"linecolor\": \"white\", \"ticks\": \"\", \"title\": {\"standoff\": 15}, \"zerolinecolor\": \"white\", \"zerolinewidth\": 2}}}, \"title\": {\"text\": \"Median Price Grouped By Month<Br>Rolling Average: 2\"}, \"xaxis\": {\"anchor\": \"y\", \"domain\": [0.0, 0.45], \"matches\": \"x5\", \"nticks\": 1, \"showticklabels\": false}, \"xaxis2\": {\"anchor\": \"y2\", \"domain\": [0.55, 1.0], \"matches\": \"x5\", \"nticks\": 1, \"showticklabels\": false}, \"xaxis3\": {\"anchor\": \"y3\", \"domain\": [0.0, 0.45], \"matches\": \"x5\", \"nticks\": 1, \"showticklabels\": false}, \"xaxis4\": {\"anchor\": \"y4\", \"domain\": [0.55, 1.0], \"matches\": \"x5\", \"nticks\": 1, \"showticklabels\": false}, \"xaxis5\": {\"anchor\": \"y5\", \"domain\": [0.0, 0.45], \"nticks\": 1}, \"xaxis6\": {\"anchor\": \"y6\", \"domain\": [0.55, 1.0], \"matches\": \"x5\", \"nticks\": 1}, \"yaxis\": {\"anchor\": \"x\", \"domain\": [0.7777777777777778, 1.0]}, \"yaxis2\": {\"anchor\": \"x2\", \"domain\": [0.7777777777777778, 1.0]}, \"yaxis3\": {\"anchor\": \"x3\", \"domain\": [0.3888888888888889, 0.6111111111111112]}, \"yaxis4\": {\"anchor\": \"x4\", \"domain\": [0.3888888888888889, 0.6111111111111112]}, \"yaxis5\": {\"anchor\": \"x5\", \"domain\": [0.0, 0.22222222222222224]}, \"yaxis6\": {\"anchor\": \"x6\", \"domain\": [0.0, 0.22222222222222224]}},                        {\"responsive\": true}                    ).then(function(){\n",
       "                            \n",
       "var gd = document.getElementById('fddfa69e-a0ba-4d33-9e00-5e55214baa55');\n",
       "var x = new MutationObserver(function (mutations, observer) {{\n",
       "        var display = window.getComputedStyle(gd).display;\n",
       "        if (!display || display === 'none') {{\n",
       "            console.log([gd, 'removed!']);\n",
       "            Plotly.purge(gd);\n",
       "            observer.disconnect();\n",
       "        }}\n",
       "}});\n",
       "\n",
       "// Listen for the removal of the full notebook cells\n",
       "var notebookContainer = gd.closest('#notebook-container');\n",
       "if (notebookContainer) {{\n",
       "    x.observe(notebookContainer, {childList: true});\n",
       "}}\n",
       "\n",
       "// Listen for the clearing of the current output cell\n",
       "var outputEl = gd.closest('.output');\n",
       "if (outputEl) {{\n",
       "    x.observe(outputEl, {childList: true});\n",
       "}}\n",
       "\n",
       "                        })                };                });            </script>        </div>"
      ]
     },
     "metadata": {},
     "output_type": "display_data"
    }
   ],
   "source": [
    "regen_fig, n_table = rolling_avg_subplots_for_area(dataframe=df_regen_towns_from_2017, area='ward_name',\n",
    "                                    target='price',\n",
    "                                    rolling_val=2,\n",
    "                                    top_n=6,\n",
    "                                    line=True)\n",
    "\n",
    "n_table\n",
    "regen_fig"
   ]
  },
  {
   "cell_type": "code",
   "execution_count": 141,
   "metadata": {},
   "outputs": [
    {
     "name": "stdout",
     "output_type": "stream",
     "text": [
      "n1 is [1, 1, 2, 2, 3, 3]\n",
      "n2 is [1, 2, 1, 2, 1, 2, 1, 2, 1, 2, 1, 2]\n"
     ]
    },
    {
     "data": {
      "text/html": [
       "<div>\n",
       "<style scoped>\n",
       "    .dataframe tbody tr th:only-of-type {\n",
       "        vertical-align: middle;\n",
       "    }\n",
       "\n",
       "    .dataframe tbody tr th {\n",
       "        vertical-align: top;\n",
       "    }\n",
       "\n",
       "    .dataframe thead th {\n",
       "        text-align: right;\n",
       "    }\n",
       "</style>\n",
       "<table border=\"1\" class=\"dataframe\">\n",
       "  <thead>\n",
       "    <tr style=\"text-align: right;\">\n",
       "      <th></th>\n",
       "      <th>Plymouth</th>\n",
       "      <th>Barrow</th>\n",
       "      <th>Northumberland</th>\n",
       "      <th>North East</th>\n",
       "      <th>Warwick</th>\n",
       "      <th>Hambleton</th>\n",
       "    </tr>\n",
       "  </thead>\n",
       "  <tbody>\n",
       "    <tr>\n",
       "      <th>n</th>\n",
       "      <td>30</td>\n",
       "      <td>18</td>\n",
       "      <td>31</td>\n",
       "      <td>31</td>\n",
       "      <td>31</td>\n",
       "      <td>29</td>\n",
       "    </tr>\n",
       "  </tbody>\n",
       "</table>\n",
       "</div>"
      ],
      "text/plain": [
       "   Plymouth  Barrow  Northumberland  North East  Warwick  Hambleton\n",
       "n        30      18              31          31       31         29"
      ]
     },
     "execution_count": 141,
     "metadata": {},
     "output_type": "execute_result"
    },
    {
     "data": {
      "application/vnd.plotly.v1+json": {
       "config": {
        "plotlyServerURL": "https://plot.ly"
       },
       "data": [
        {
         "mode": "markers",
         "name": "Pct Change",
         "type": "scatter",
         "x": [
          "2018-01-01T00:00:00",
          "2018-02-01T00:00:00",
          "2018-03-01T00:00:00",
          "2018-04-01T00:00:00",
          "2018-05-01T00:00:00",
          "2018-06-01T00:00:00",
          "2018-07-01T00:00:00",
          "2018-08-01T00:00:00",
          "2018-09-01T00:00:00",
          "2018-10-01T00:00:00",
          "2018-11-01T00:00:00",
          "2018-12-01T00:00:00",
          "2019-01-01T00:00:00",
          "2019-02-01T00:00:00",
          "2019-03-01T00:00:00",
          "2019-04-01T00:00:00",
          "2019-05-01T00:00:00",
          "2019-06-01T00:00:00",
          "2019-07-01T00:00:00",
          "2019-08-01T00:00:00",
          "2019-09-01T00:00:00",
          "2019-10-01T00:00:00",
          "2019-11-01T00:00:00",
          "2019-12-01T00:00:00",
          "2020-01-01T00:00:00",
          "2020-02-01T00:00:00",
          "2020-04-01T00:00:00",
          "2020-05-01T00:00:00",
          "2020-06-01T00:00:00",
          "2020-07-01T00:00:00"
         ],
         "xaxis": "x",
         "y": [
          44.13814814814815,
          102.40090235256204,
          42.857142857142854,
          21.91309784307596,
          87.54837929366231,
          58.620689655172406,
          23.214285714285715,
          41.935483870967744,
          55.54573574900574,
          38.095238095238095,
          23.52941176470588,
          14.47591382231905,
          24.63768115942029,
          53.77937620140138,
          34.52044059384388,
          28.30985915492958,
          23.333333333333332,
          26.262626262626267,
          36.70168067226891,
          23.369565217391305,
          131.1688311688312,
          56.48425787106446,
          43.36917562724014,
          18.529264632316156,
          67.3076923076923,
          23.611111111111107,
          208.4218375740046,
          19.79556074766355,
          44.83258043380806,
          57.84615384615385
         ],
         "yaxis": "y"
        },
        {
         "mode": "lines",
         "name": "Rolling Average 2",
         "type": "scatter",
         "x": [
          "2018-01-01T00:00:00",
          "2018-02-01T00:00:00",
          "2018-03-01T00:00:00",
          "2018-04-01T00:00:00",
          "2018-05-01T00:00:00",
          "2018-06-01T00:00:00",
          "2018-07-01T00:00:00",
          "2018-08-01T00:00:00",
          "2018-09-01T00:00:00",
          "2018-10-01T00:00:00",
          "2018-11-01T00:00:00",
          "2018-12-01T00:00:00",
          "2019-01-01T00:00:00",
          "2019-02-01T00:00:00",
          "2019-03-01T00:00:00",
          "2019-04-01T00:00:00",
          "2019-05-01T00:00:00",
          "2019-06-01T00:00:00",
          "2019-07-01T00:00:00",
          "2019-08-01T00:00:00",
          "2019-09-01T00:00:00",
          "2019-10-01T00:00:00",
          "2019-11-01T00:00:00",
          "2019-12-01T00:00:00",
          "2020-01-01T00:00:00",
          "2020-02-01T00:00:00",
          "2020-04-01T00:00:00",
          "2020-05-01T00:00:00",
          "2020-06-01T00:00:00",
          "2020-07-01T00:00:00"
         ],
         "xaxis": "x",
         "y": [
          null,
          73.26952525035509,
          72.62902260485245,
          32.3851203501094,
          54.73073856836912,
          73.08453447441735,
          40.91748768472906,
          32.57488479262673,
          48.74060980998675,
          46.82048692212193,
          30.812324929972,
          19.002662793512474,
          19.556797490869677,
          39.208528680410836,
          44.14990839762264,
          31.415149874386742,
          25.821596244131467,
          24.797979797979806,
          31.482153467447596,
          30.03562294483011,
          77.26919819311125,
          93.82654451994782,
          49.92671674915229,
          30.94922012977814,
          42.91847847000422,
          45.459401709401696,
          116.01647434255784,
          114.10869916083406,
          32.31407059073581,
          51.33936713998095
         ],
         "yaxis": "y"
        },
        {
         "mode": "markers",
         "name": "Pct Change",
         "type": "scatter",
         "x": [
          "2018-02-01T00:00:00",
          "2018-03-01T00:00:00",
          "2018-04-01T00:00:00",
          "2018-05-01T00:00:00",
          "2018-07-01T00:00:00",
          "2018-08-01T00:00:00",
          "2018-11-01T00:00:00",
          "2018-12-01T00:00:00",
          "2019-01-01T00:00:00",
          "2019-02-01T00:00:00",
          "2019-03-01T00:00:00",
          "2019-05-01T00:00:00",
          "2019-07-01T00:00:00",
          "2019-08-01T00:00:00",
          "2019-09-01T00:00:00",
          "2019-11-01T00:00:00",
          "2020-04-01T00:00:00",
          "2020-07-01T00:00:00"
         ],
         "xaxis": "x2",
         "y": [
          7.588061863135572,
          43.47826086956522,
          47.69230769230769,
          18.64607874709741,
          20.163934426229506,
          47.55527210884354,
          12.79200920940941,
          35.78947368421053,
          11.113168762384488,
          23.303971918520112,
          84.61538461538461,
          23.52941176470588,
          17.741935483870968,
          32.484851448119215,
          22.61682242990654,
          22.501531269140866,
          12.700201590501436,
          15.001916698611645
         ],
         "yaxis": "y2"
        },
        {
         "mode": "lines",
         "name": "Rolling Average 2",
         "type": "scatter",
         "x": [
          "2018-02-01T00:00:00",
          "2018-03-01T00:00:00",
          "2018-04-01T00:00:00",
          "2018-05-01T00:00:00",
          "2018-07-01T00:00:00",
          "2018-08-01T00:00:00",
          "2018-11-01T00:00:00",
          "2018-12-01T00:00:00",
          "2019-01-01T00:00:00",
          "2019-02-01T00:00:00",
          "2019-03-01T00:00:00",
          "2019-05-01T00:00:00",
          "2019-07-01T00:00:00",
          "2019-08-01T00:00:00",
          "2019-09-01T00:00:00",
          "2019-11-01T00:00:00",
          "2020-04-01T00:00:00",
          "2020-07-01T00:00:00"
         ],
         "xaxis": "x2",
         "y": [
          null,
          25.533161366350395,
          45.58528428093645,
          33.16919321970254,
          19.405006586663447,
          33.859603267536514,
          30.17364065912647,
          24.290741446809967,
          23.451321223297505,
          17.208570340452294,
          53.95967826695236,
          54.072398190045234,
          20.635673624288415,
          25.11339346599508,
          27.55083693901287,
          22.559176849523695,
          17.600866429821142,
          13.851059144556531
         ],
         "yaxis": "y2"
        },
        {
         "mode": "markers",
         "name": "Pct Change",
         "type": "scatter",
         "x": [
          "2018-01-01T00:00:00",
          "2018-02-01T00:00:00",
          "2018-03-01T00:00:00",
          "2018-04-01T00:00:00",
          "2018-05-01T00:00:00",
          "2018-06-01T00:00:00",
          "2018-07-01T00:00:00",
          "2018-08-01T00:00:00",
          "2018-09-01T00:00:00",
          "2018-10-01T00:00:00",
          "2018-11-01T00:00:00",
          "2018-12-01T00:00:00",
          "2019-01-01T00:00:00",
          "2019-02-01T00:00:00",
          "2019-03-01T00:00:00",
          "2019-04-01T00:00:00",
          "2019-05-01T00:00:00",
          "2019-06-01T00:00:00",
          "2019-07-01T00:00:00",
          "2019-08-01T00:00:00",
          "2019-09-01T00:00:00",
          "2019-10-01T00:00:00",
          "2019-11-01T00:00:00",
          "2019-12-01T00:00:00",
          "2020-01-01T00:00:00",
          "2020-02-01T00:00:00",
          "2020-03-01T00:00:00",
          "2020-04-01T00:00:00",
          "2020-05-01T00:00:00",
          "2020-06-01T00:00:00",
          "2020-07-01T00:00:00"
         ],
         "xaxis": "x3",
         "y": [
          18.014705882352942,
          3.7581861382054154,
          0.7194244604316548,
          24.049619847939173,
          11.992753623188406,
          3.200501253132832,
          36.10328638497652,
          17.98142717497556,
          8.832565284178187,
          10.06423982869379,
          11.533538540464281,
          6.0606060606060606,
          3.9859862135551736,
          20.450379680544646,
          9.498575236694549,
          7.3966942148760335,
          11.986531986531986,
          1.7341040462427744,
          0.8771929824561403,
          7.710319831640209,
          8.833333333333334,
          17.02439024390244,
          5.346422697368421,
          10.869565217391305,
          6.800000000000001,
          14.347826086956523,
          27.311320754716984,
          11.152278621711744,
          4.790419161676647,
          4.903635032934862,
          0.019234468166955183
         ],
         "yaxis": "y3"
        },
        {
         "mode": "lines",
         "name": "Rolling Average 2",
         "type": "scatter",
         "x": [
          "2018-01-01T00:00:00",
          "2018-02-01T00:00:00",
          "2018-03-01T00:00:00",
          "2018-04-01T00:00:00",
          "2018-05-01T00:00:00",
          "2018-06-01T00:00:00",
          "2018-07-01T00:00:00",
          "2018-08-01T00:00:00",
          "2018-09-01T00:00:00",
          "2018-10-01T00:00:00",
          "2018-11-01T00:00:00",
          "2018-12-01T00:00:00",
          "2019-01-01T00:00:00",
          "2019-02-01T00:00:00",
          "2019-03-01T00:00:00",
          "2019-04-01T00:00:00",
          "2019-05-01T00:00:00",
          "2019-06-01T00:00:00",
          "2019-07-01T00:00:00",
          "2019-08-01T00:00:00",
          "2019-09-01T00:00:00",
          "2019-10-01T00:00:00",
          "2019-11-01T00:00:00",
          "2019-12-01T00:00:00",
          "2020-01-01T00:00:00",
          "2020-02-01T00:00:00",
          "2020-03-01T00:00:00",
          "2020-04-01T00:00:00",
          "2020-05-01T00:00:00",
          "2020-06-01T00:00:00",
          "2020-07-01T00:00:00"
         ],
         "xaxis": "x3",
         "y": [
          null,
          10.88644601027918,
          2.2388052993185354,
          12.384522154185415,
          18.02118673556379,
          7.596627438160622,
          19.651893819054678,
          27.042356779976043,
          13.406996229576876,
          9.448402556435989,
          10.798889184579036,
          8.797072300535172,
          5.023296137080617,
          12.218182947049911,
          14.9744774586196,
          8.447634725785294,
          9.691613100704012,
          6.8603180163873825,
          1.3056485143494596,
          4.293756407048177,
          8.271826582486772,
          12.928861788617889,
          11.185406470635431,
          8.107993957379863,
          8.834782608695653,
          10.57391304347826,
          20.829573420836752,
          19.231799688214362,
          7.971348891694193,
          4.847027097305752,
          2.4614347505509055
         ],
         "yaxis": "y3"
        },
        {
         "mode": "markers",
         "name": "Pct Change",
         "type": "scatter",
         "x": [
          "2018-01-01T00:00:00",
          "2018-02-01T00:00:00",
          "2018-03-01T00:00:00",
          "2018-04-01T00:00:00",
          "2018-05-01T00:00:00",
          "2018-06-01T00:00:00",
          "2018-07-01T00:00:00",
          "2018-08-01T00:00:00",
          "2018-09-01T00:00:00",
          "2018-10-01T00:00:00",
          "2018-11-01T00:00:00",
          "2018-12-01T00:00:00",
          "2019-01-01T00:00:00",
          "2019-02-01T00:00:00",
          "2019-03-01T00:00:00",
          "2019-04-01T00:00:00",
          "2019-05-01T00:00:00",
          "2019-06-01T00:00:00",
          "2019-07-01T00:00:00",
          "2019-08-01T00:00:00",
          "2019-09-01T00:00:00",
          "2019-10-01T00:00:00",
          "2019-11-01T00:00:00",
          "2019-12-01T00:00:00",
          "2020-01-01T00:00:00",
          "2020-02-01T00:00:00",
          "2020-03-01T00:00:00",
          "2020-04-01T00:00:00",
          "2020-05-01T00:00:00",
          "2020-06-01T00:00:00",
          "2020-07-01T00:00:00"
         ],
         "xaxis": "x4",
         "y": [
          27.015306122448983,
          -3.374604088684135,
          3.2295081967213113,
          4.811815150071463,
          77.82739373121511,
          1.9297775395336374,
          25.432858791843017,
          4.141041410414104,
          10,
          11.622439242501077,
          3.2335907335907335,
          16.85064935064935,
          19.35483870967742,
          8.629441624365482,
          9.273182957393484,
          6.896551724137931,
          5.052526263131566,
          9.693877551020408,
          17.59023742541311,
          4.393214441061331,
          19.565217391304348,
          20,
          10.704915101655555,
          19.148936170212767,
          23.24891936542422,
          9.808605820227829,
          6.468531468531469,
          5.087719298245615,
          16.91756272401434,
          8.98876404494382,
          8.588957055214724
         ],
         "yaxis": "y4"
        },
        {
         "mode": "lines",
         "name": "Rolling Average 2",
         "type": "scatter",
         "x": [
          "2018-01-01T00:00:00",
          "2018-02-01T00:00:00",
          "2018-03-01T00:00:00",
          "2018-04-01T00:00:00",
          "2018-05-01T00:00:00",
          "2018-06-01T00:00:00",
          "2018-07-01T00:00:00",
          "2018-08-01T00:00:00",
          "2018-09-01T00:00:00",
          "2018-10-01T00:00:00",
          "2018-11-01T00:00:00",
          "2018-12-01T00:00:00",
          "2019-01-01T00:00:00",
          "2019-02-01T00:00:00",
          "2019-03-01T00:00:00",
          "2019-04-01T00:00:00",
          "2019-05-01T00:00:00",
          "2019-06-01T00:00:00",
          "2019-07-01T00:00:00",
          "2019-08-01T00:00:00",
          "2019-09-01T00:00:00",
          "2019-10-01T00:00:00",
          "2019-11-01T00:00:00",
          "2019-12-01T00:00:00",
          "2020-01-01T00:00:00",
          "2020-02-01T00:00:00",
          "2020-03-01T00:00:00",
          "2020-04-01T00:00:00",
          "2020-05-01T00:00:00",
          "2020-06-01T00:00:00",
          "2020-07-01T00:00:00"
         ],
         "xaxis": "x4",
         "y": [
          null,
          11.820351016882425,
          -0.07254794598141068,
          4.020661673396388,
          41.31960444064329,
          39.87858563537437,
          13.681318165688324,
          14.786950101128557,
          7.0705207052070485,
          10.811219621250535,
          7.428014988045902,
          10.042120042120038,
          18.102744030163382,
          13.99214016702145,
          8.95131229087948,
          8.084867340765705,
          5.974538993634745,
          7.373201907075983,
          13.642057488216755,
          10.991725933237216,
          11.979215916182836,
          19.782608695652172,
          15.352457550827777,
          14.926925635934161,
          21.198927767818496,
          16.528762592826027,
          8.13856864437965,
          5.778125383388543,
          11.002641011129977,
          12.95316338447908,
          8.788860550079274
         ],
         "yaxis": "y4"
        },
        {
         "mode": "markers",
         "name": "Pct Change",
         "type": "scatter",
         "x": [
          "2018-01-01T00:00:00",
          "2018-02-01T00:00:00",
          "2018-03-01T00:00:00",
          "2018-04-01T00:00:00",
          "2018-05-01T00:00:00",
          "2018-06-01T00:00:00",
          "2018-07-01T00:00:00",
          "2018-08-01T00:00:00",
          "2018-09-01T00:00:00",
          "2018-10-01T00:00:00",
          "2018-11-01T00:00:00",
          "2018-12-01T00:00:00",
          "2019-01-01T00:00:00",
          "2019-02-01T00:00:00",
          "2019-03-01T00:00:00",
          "2019-04-01T00:00:00",
          "2019-05-01T00:00:00",
          "2019-06-01T00:00:00",
          "2019-07-01T00:00:00",
          "2019-08-01T00:00:00",
          "2019-09-01T00:00:00",
          "2019-10-01T00:00:00",
          "2019-11-01T00:00:00",
          "2019-12-01T00:00:00",
          "2020-01-01T00:00:00",
          "2020-02-01T00:00:00",
          "2020-03-01T00:00:00",
          "2020-04-01T00:00:00",
          "2020-05-01T00:00:00",
          "2020-06-01T00:00:00",
          "2020-07-01T00:00:00"
         ],
         "xaxis": "x5",
         "y": [
          162.1661357510414,
          62.116040955631405,
          53.68883131836499,
          85.51724137931035,
          66.21700879765396,
          27.631578947368425,
          120.53571428571428,
          105.47945205479452,
          54.166666666666664,
          133.2089552238806,
          142.64092734574663,
          162.58366800535475,
          62.08407871198569,
          158.96982875781464,
          69.0909090909091,
          44.913752913752916,
          27.323420074349443,
          174.71445369652446,
          21.916629497472496,
          55.42168674698795,
          79.38274728054643,
          98.41786569911066,
          60.320641282565134,
          64.80515093537414,
          42.115384615384606,
          99.63819240927674,
          34.19117647058824,
          138.0947619047619,
          3.177570093457944,
          119.2139534883721,
          162.98558100084816
         ],
         "yaxis": "y5"
        },
        {
         "mode": "lines",
         "name": "Rolling Average 2",
         "type": "scatter",
         "x": [
          "2018-01-01T00:00:00",
          "2018-02-01T00:00:00",
          "2018-03-01T00:00:00",
          "2018-04-01T00:00:00",
          "2018-05-01T00:00:00",
          "2018-06-01T00:00:00",
          "2018-07-01T00:00:00",
          "2018-08-01T00:00:00",
          "2018-09-01T00:00:00",
          "2018-10-01T00:00:00",
          "2018-11-01T00:00:00",
          "2018-12-01T00:00:00",
          "2019-01-01T00:00:00",
          "2019-02-01T00:00:00",
          "2019-03-01T00:00:00",
          "2019-04-01T00:00:00",
          "2019-05-01T00:00:00",
          "2019-06-01T00:00:00",
          "2019-07-01T00:00:00",
          "2019-08-01T00:00:00",
          "2019-09-01T00:00:00",
          "2019-10-01T00:00:00",
          "2019-11-01T00:00:00",
          "2019-12-01T00:00:00",
          "2020-01-01T00:00:00",
          "2020-02-01T00:00:00",
          "2020-03-01T00:00:00",
          "2020-04-01T00:00:00",
          "2020-05-01T00:00:00",
          "2020-06-01T00:00:00",
          "2020-07-01T00:00:00"
         ],
         "xaxis": "x5",
         "y": [
          null,
          112.1410883533364,
          57.902436136998205,
          69.60303634883768,
          75.86712508848217,
          46.924293872511214,
          74.08364661654137,
          113.0075831702544,
          79.82305936073061,
          93.68781094527364,
          137.92494128481363,
          152.6122976755507,
          112.33387335867023,
          110.52695373490019,
          114.03036892436191,
          57.00233100233106,
          36.11858649405123,
          101.018936885437,
          98.31554159699851,
          38.66915812223026,
          67.40221701376723,
          88.9003064898286,
          79.36925349083795,
          62.56289610896969,
          53.46026777537942,
          70.87678851233072,
          66.91468443993253,
          86.14296918767512,
          70.63616599910998,
          61.195761790915085,
          141.0997672446102
         ],
         "yaxis": "y5"
        },
        {
         "mode": "markers",
         "name": "Pct Change",
         "type": "scatter",
         "x": [
          "2018-02-01T00:00:00",
          "2018-03-01T00:00:00",
          "2018-04-01T00:00:00",
          "2018-06-01T00:00:00",
          "2018-07-01T00:00:00",
          "2018-08-01T00:00:00",
          "2018-09-01T00:00:00",
          "2018-10-01T00:00:00",
          "2018-11-01T00:00:00",
          "2018-12-01T00:00:00",
          "2019-01-01T00:00:00",
          "2019-02-01T00:00:00",
          "2019-03-01T00:00:00",
          "2019-04-01T00:00:00",
          "2019-05-01T00:00:00",
          "2019-06-01T00:00:00",
          "2019-07-01T00:00:00",
          "2019-08-01T00:00:00",
          "2019-09-01T00:00:00",
          "2019-10-01T00:00:00",
          "2019-11-01T00:00:00",
          "2019-12-01T00:00:00",
          "2020-01-01T00:00:00",
          "2020-02-01T00:00:00",
          "2020-03-01T00:00:00",
          "2020-04-01T00:00:00",
          "2020-05-01T00:00:00",
          "2020-06-01T00:00:00",
          "2020-07-01T00:00:00"
         ],
         "xaxis": "x6",
         "y": [
          10.06695245893743,
          97.83121597096188,
          8.12837901184412,
          11.253476671145973,
          21.935483870967744,
          8.23529411764706,
          59.57446808510638,
          5.923913043478261,
          122.34466613236596,
          25.454545454545453,
          8.424242424242426,
          27.11864406779661,
          -2.5,
          27.027027027027028,
          5.719119739936576,
          16.44144144144144,
          142.67206477732793,
          25.119282880938886,
          7.467486615911979,
          27.450980392156865,
          21.349244016543494,
          5.242204688627501,
          21.142857142857142,
          3.728754164017064,
          118.97810218978103,
          14.194277108433734,
          23.728813559322035,
          16.39344262295082,
          34.29752066115703
         ],
         "yaxis": "y6"
        },
        {
         "mode": "lines",
         "name": "Rolling Average 2",
         "type": "scatter",
         "x": [
          "2018-02-01T00:00:00",
          "2018-03-01T00:00:00",
          "2018-04-01T00:00:00",
          "2018-06-01T00:00:00",
          "2018-07-01T00:00:00",
          "2018-08-01T00:00:00",
          "2018-09-01T00:00:00",
          "2018-10-01T00:00:00",
          "2018-11-01T00:00:00",
          "2018-12-01T00:00:00",
          "2019-01-01T00:00:00",
          "2019-02-01T00:00:00",
          "2019-03-01T00:00:00",
          "2019-04-01T00:00:00",
          "2019-05-01T00:00:00",
          "2019-06-01T00:00:00",
          "2019-07-01T00:00:00",
          "2019-08-01T00:00:00",
          "2019-09-01T00:00:00",
          "2019-10-01T00:00:00",
          "2019-11-01T00:00:00",
          "2019-12-01T00:00:00",
          "2020-01-01T00:00:00",
          "2020-02-01T00:00:00",
          "2020-03-01T00:00:00",
          "2020-04-01T00:00:00",
          "2020-05-01T00:00:00",
          "2020-06-01T00:00:00",
          "2020-07-01T00:00:00"
         ],
         "xaxis": "x6",
         "y": [
          null,
          53.94908421494966,
          52.979797491403,
          9.690927841495046,
          16.59448027105686,
          15.0853889943074,
          33.904881101376716,
          32.74919056429232,
          64.1342895879221,
          73.89960579345569,
          16.93939393939393,
          17.77144324601951,
          12.309322033898296,
          12.263513513513505,
          16.373073383481795,
          11.080280590689002,
          79.55675310938467,
          83.8956738291334,
          16.293384748425424,
          17.459233504034415,
          24.400112204350172,
          13.295724352585491,
          13.192530915742317,
          12.4358056534371,
          61.353428176899044,
          66.58618964910738,
          18.96154533387788,
          20.061128091136418,
          25.34548164205392
         ],
         "yaxis": "y6"
        }
       ],
       "layout": {
        "annotations": [
         {
          "font": {
           "size": 16
          },
          "showarrow": false,
          "text": "Plymouth",
          "x": 0.225,
          "xanchor": "center",
          "xref": "paper",
          "y": 1,
          "yanchor": "bottom",
          "yref": "paper"
         },
         {
          "font": {
           "size": 16
          },
          "showarrow": false,
          "text": "Barrow",
          "x": 0.775,
          "xanchor": "center",
          "xref": "paper",
          "y": 1,
          "yanchor": "bottom",
          "yref": "paper"
         },
         {
          "font": {
           "size": 16
          },
          "showarrow": false,
          "text": "Northumberland",
          "x": 0.225,
          "xanchor": "center",
          "xref": "paper",
          "y": 0.6111111111111112,
          "yanchor": "bottom",
          "yref": "paper"
         },
         {
          "font": {
           "size": 16
          },
          "showarrow": false,
          "text": "North East",
          "x": 0.775,
          "xanchor": "center",
          "xref": "paper",
          "y": 0.6111111111111112,
          "yanchor": "bottom",
          "yref": "paper"
         },
         {
          "font": {
           "size": 16
          },
          "showarrow": false,
          "text": "Warwick",
          "x": 0.225,
          "xanchor": "center",
          "xref": "paper",
          "y": 0.22222222222222224,
          "yanchor": "bottom",
          "yref": "paper"
         },
         {
          "font": {
           "size": 16
          },
          "showarrow": false,
          "text": "Hambleton",
          "x": 0.775,
          "xanchor": "center",
          "xref": "paper",
          "y": 0.22222222222222224,
          "yanchor": "bottom",
          "yref": "paper"
         }
        ],
        "shapes": [
         {
          "line": {
           "color": "Red",
           "dash": "dot",
           "width": 3
          },
          "type": "line",
          "x0": "2019-09-01",
          "x1": "2019-09-01",
          "xref": "x",
          "y0": 14.47591382231905,
          "y1": 208.4218375740046,
          "yref": "y"
         },
         {
          "line": {
           "color": "Red",
           "dash": "dot",
           "width": 3
          },
          "type": "line",
          "x0": "2019-09-01",
          "x1": "2019-09-01",
          "xref": "x2",
          "y0": 7.588061863135572,
          "y1": 84.61538461538461,
          "yref": "y2"
         },
         {
          "line": {
           "color": "Red",
           "dash": "dot",
           "width": 3
          },
          "type": "line",
          "x0": "2019-09-01",
          "x1": "2019-09-01",
          "xref": "x3",
          "y0": 0.019234468166955183,
          "y1": 36.10328638497652,
          "yref": "y3"
         },
         {
          "line": {
           "color": "Red",
           "dash": "dot",
           "width": 3
          },
          "type": "line",
          "x0": "2019-09-01",
          "x1": "2019-09-01",
          "xref": "x4",
          "y0": -3.374604088684135,
          "y1": 77.82739373121511,
          "yref": "y4"
         },
         {
          "line": {
           "color": "Red",
           "dash": "dot",
           "width": 3
          },
          "type": "line",
          "x0": "2019-09-01",
          "x1": "2019-09-01",
          "xref": "x5",
          "y0": 3.177570093457944,
          "y1": 174.71445369652446,
          "yref": "y5"
         },
         {
          "line": {
           "color": "Red",
           "dash": "dot",
           "width": 3
          },
          "type": "line",
          "x0": "2019-09-01",
          "x1": "2019-09-01",
          "xref": "x6",
          "y0": -2.5,
          "y1": 142.67206477732793,
          "yref": "y6"
         }
        ],
        "showlegend": true,
        "template": {
         "data": {
          "bar": [
           {
            "error_x": {
             "color": "#2a3f5f"
            },
            "error_y": {
             "color": "#2a3f5f"
            },
            "marker": {
             "line": {
              "color": "#E5ECF6",
              "width": 0.5
             }
            },
            "type": "bar"
           }
          ],
          "barpolar": [
           {
            "marker": {
             "line": {
              "color": "#E5ECF6",
              "width": 0.5
             }
            },
            "type": "barpolar"
           }
          ],
          "carpet": [
           {
            "aaxis": {
             "endlinecolor": "#2a3f5f",
             "gridcolor": "white",
             "linecolor": "white",
             "minorgridcolor": "white",
             "startlinecolor": "#2a3f5f"
            },
            "baxis": {
             "endlinecolor": "#2a3f5f",
             "gridcolor": "white",
             "linecolor": "white",
             "minorgridcolor": "white",
             "startlinecolor": "#2a3f5f"
            },
            "type": "carpet"
           }
          ],
          "choropleth": [
           {
            "colorbar": {
             "outlinewidth": 0,
             "ticks": ""
            },
            "type": "choropleth"
           }
          ],
          "contour": [
           {
            "colorbar": {
             "outlinewidth": 0,
             "ticks": ""
            },
            "colorscale": [
             [
              0,
              "#0d0887"
             ],
             [
              0.1111111111111111,
              "#46039f"
             ],
             [
              0.2222222222222222,
              "#7201a8"
             ],
             [
              0.3333333333333333,
              "#9c179e"
             ],
             [
              0.4444444444444444,
              "#bd3786"
             ],
             [
              0.5555555555555556,
              "#d8576b"
             ],
             [
              0.6666666666666666,
              "#ed7953"
             ],
             [
              0.7777777777777778,
              "#fb9f3a"
             ],
             [
              0.8888888888888888,
              "#fdca26"
             ],
             [
              1,
              "#f0f921"
             ]
            ],
            "type": "contour"
           }
          ],
          "contourcarpet": [
           {
            "colorbar": {
             "outlinewidth": 0,
             "ticks": ""
            },
            "type": "contourcarpet"
           }
          ],
          "heatmap": [
           {
            "colorbar": {
             "outlinewidth": 0,
             "ticks": ""
            },
            "colorscale": [
             [
              0,
              "#0d0887"
             ],
             [
              0.1111111111111111,
              "#46039f"
             ],
             [
              0.2222222222222222,
              "#7201a8"
             ],
             [
              0.3333333333333333,
              "#9c179e"
             ],
             [
              0.4444444444444444,
              "#bd3786"
             ],
             [
              0.5555555555555556,
              "#d8576b"
             ],
             [
              0.6666666666666666,
              "#ed7953"
             ],
             [
              0.7777777777777778,
              "#fb9f3a"
             ],
             [
              0.8888888888888888,
              "#fdca26"
             ],
             [
              1,
              "#f0f921"
             ]
            ],
            "type": "heatmap"
           }
          ],
          "heatmapgl": [
           {
            "colorbar": {
             "outlinewidth": 0,
             "ticks": ""
            },
            "colorscale": [
             [
              0,
              "#0d0887"
             ],
             [
              0.1111111111111111,
              "#46039f"
             ],
             [
              0.2222222222222222,
              "#7201a8"
             ],
             [
              0.3333333333333333,
              "#9c179e"
             ],
             [
              0.4444444444444444,
              "#bd3786"
             ],
             [
              0.5555555555555556,
              "#d8576b"
             ],
             [
              0.6666666666666666,
              "#ed7953"
             ],
             [
              0.7777777777777778,
              "#fb9f3a"
             ],
             [
              0.8888888888888888,
              "#fdca26"
             ],
             [
              1,
              "#f0f921"
             ]
            ],
            "type": "heatmapgl"
           }
          ],
          "histogram": [
           {
            "marker": {
             "colorbar": {
              "outlinewidth": 0,
              "ticks": ""
             }
            },
            "type": "histogram"
           }
          ],
          "histogram2d": [
           {
            "colorbar": {
             "outlinewidth": 0,
             "ticks": ""
            },
            "colorscale": [
             [
              0,
              "#0d0887"
             ],
             [
              0.1111111111111111,
              "#46039f"
             ],
             [
              0.2222222222222222,
              "#7201a8"
             ],
             [
              0.3333333333333333,
              "#9c179e"
             ],
             [
              0.4444444444444444,
              "#bd3786"
             ],
             [
              0.5555555555555556,
              "#d8576b"
             ],
             [
              0.6666666666666666,
              "#ed7953"
             ],
             [
              0.7777777777777778,
              "#fb9f3a"
             ],
             [
              0.8888888888888888,
              "#fdca26"
             ],
             [
              1,
              "#f0f921"
             ]
            ],
            "type": "histogram2d"
           }
          ],
          "histogram2dcontour": [
           {
            "colorbar": {
             "outlinewidth": 0,
             "ticks": ""
            },
            "colorscale": [
             [
              0,
              "#0d0887"
             ],
             [
              0.1111111111111111,
              "#46039f"
             ],
             [
              0.2222222222222222,
              "#7201a8"
             ],
             [
              0.3333333333333333,
              "#9c179e"
             ],
             [
              0.4444444444444444,
              "#bd3786"
             ],
             [
              0.5555555555555556,
              "#d8576b"
             ],
             [
              0.6666666666666666,
              "#ed7953"
             ],
             [
              0.7777777777777778,
              "#fb9f3a"
             ],
             [
              0.8888888888888888,
              "#fdca26"
             ],
             [
              1,
              "#f0f921"
             ]
            ],
            "type": "histogram2dcontour"
           }
          ],
          "mesh3d": [
           {
            "colorbar": {
             "outlinewidth": 0,
             "ticks": ""
            },
            "type": "mesh3d"
           }
          ],
          "parcoords": [
           {
            "line": {
             "colorbar": {
              "outlinewidth": 0,
              "ticks": ""
             }
            },
            "type": "parcoords"
           }
          ],
          "pie": [
           {
            "automargin": true,
            "type": "pie"
           }
          ],
          "scatter": [
           {
            "marker": {
             "colorbar": {
              "outlinewidth": 0,
              "ticks": ""
             }
            },
            "type": "scatter"
           }
          ],
          "scatter3d": [
           {
            "line": {
             "colorbar": {
              "outlinewidth": 0,
              "ticks": ""
             }
            },
            "marker": {
             "colorbar": {
              "outlinewidth": 0,
              "ticks": ""
             }
            },
            "type": "scatter3d"
           }
          ],
          "scattercarpet": [
           {
            "marker": {
             "colorbar": {
              "outlinewidth": 0,
              "ticks": ""
             }
            },
            "type": "scattercarpet"
           }
          ],
          "scattergeo": [
           {
            "marker": {
             "colorbar": {
              "outlinewidth": 0,
              "ticks": ""
             }
            },
            "type": "scattergeo"
           }
          ],
          "scattergl": [
           {
            "marker": {
             "colorbar": {
              "outlinewidth": 0,
              "ticks": ""
             }
            },
            "type": "scattergl"
           }
          ],
          "scattermapbox": [
           {
            "marker": {
             "colorbar": {
              "outlinewidth": 0,
              "ticks": ""
             }
            },
            "type": "scattermapbox"
           }
          ],
          "scatterpolar": [
           {
            "marker": {
             "colorbar": {
              "outlinewidth": 0,
              "ticks": ""
             }
            },
            "type": "scatterpolar"
           }
          ],
          "scatterpolargl": [
           {
            "marker": {
             "colorbar": {
              "outlinewidth": 0,
              "ticks": ""
             }
            },
            "type": "scatterpolargl"
           }
          ],
          "scatterternary": [
           {
            "marker": {
             "colorbar": {
              "outlinewidth": 0,
              "ticks": ""
             }
            },
            "type": "scatterternary"
           }
          ],
          "surface": [
           {
            "colorbar": {
             "outlinewidth": 0,
             "ticks": ""
            },
            "colorscale": [
             [
              0,
              "#0d0887"
             ],
             [
              0.1111111111111111,
              "#46039f"
             ],
             [
              0.2222222222222222,
              "#7201a8"
             ],
             [
              0.3333333333333333,
              "#9c179e"
             ],
             [
              0.4444444444444444,
              "#bd3786"
             ],
             [
              0.5555555555555556,
              "#d8576b"
             ],
             [
              0.6666666666666666,
              "#ed7953"
             ],
             [
              0.7777777777777778,
              "#fb9f3a"
             ],
             [
              0.8888888888888888,
              "#fdca26"
             ],
             [
              1,
              "#f0f921"
             ]
            ],
            "type": "surface"
           }
          ],
          "table": [
           {
            "cells": {
             "fill": {
              "color": "#EBF0F8"
             },
             "line": {
              "color": "white"
             }
            },
            "header": {
             "fill": {
              "color": "#C8D4E3"
             },
             "line": {
              "color": "white"
             }
            },
            "type": "table"
           }
          ]
         },
         "layout": {
          "annotationdefaults": {
           "arrowcolor": "#2a3f5f",
           "arrowhead": 0,
           "arrowwidth": 1
          },
          "coloraxis": {
           "colorbar": {
            "outlinewidth": 0,
            "ticks": ""
           }
          },
          "colorscale": {
           "diverging": [
            [
             0,
             "#8e0152"
            ],
            [
             0.1,
             "#c51b7d"
            ],
            [
             0.2,
             "#de77ae"
            ],
            [
             0.3,
             "#f1b6da"
            ],
            [
             0.4,
             "#fde0ef"
            ],
            [
             0.5,
             "#f7f7f7"
            ],
            [
             0.6,
             "#e6f5d0"
            ],
            [
             0.7,
             "#b8e186"
            ],
            [
             0.8,
             "#7fbc41"
            ],
            [
             0.9,
             "#4d9221"
            ],
            [
             1,
             "#276419"
            ]
           ],
           "sequential": [
            [
             0,
             "#0d0887"
            ],
            [
             0.1111111111111111,
             "#46039f"
            ],
            [
             0.2222222222222222,
             "#7201a8"
            ],
            [
             0.3333333333333333,
             "#9c179e"
            ],
            [
             0.4444444444444444,
             "#bd3786"
            ],
            [
             0.5555555555555556,
             "#d8576b"
            ],
            [
             0.6666666666666666,
             "#ed7953"
            ],
            [
             0.7777777777777778,
             "#fb9f3a"
            ],
            [
             0.8888888888888888,
             "#fdca26"
            ],
            [
             1,
             "#f0f921"
            ]
           ],
           "sequentialminus": [
            [
             0,
             "#0d0887"
            ],
            [
             0.1111111111111111,
             "#46039f"
            ],
            [
             0.2222222222222222,
             "#7201a8"
            ],
            [
             0.3333333333333333,
             "#9c179e"
            ],
            [
             0.4444444444444444,
             "#bd3786"
            ],
            [
             0.5555555555555556,
             "#d8576b"
            ],
            [
             0.6666666666666666,
             "#ed7953"
            ],
            [
             0.7777777777777778,
             "#fb9f3a"
            ],
            [
             0.8888888888888888,
             "#fdca26"
            ],
            [
             1,
             "#f0f921"
            ]
           ]
          },
          "colorway": [
           "#636efa",
           "#EF553B",
           "#00cc96",
           "#ab63fa",
           "#FFA15A",
           "#19d3f3",
           "#FF6692",
           "#B6E880",
           "#FF97FF",
           "#FECB52"
          ],
          "font": {
           "color": "#2a3f5f"
          },
          "geo": {
           "bgcolor": "white",
           "lakecolor": "white",
           "landcolor": "#E5ECF6",
           "showlakes": true,
           "showland": true,
           "subunitcolor": "white"
          },
          "hoverlabel": {
           "align": "left"
          },
          "hovermode": "closest",
          "mapbox": {
           "style": "light"
          },
          "paper_bgcolor": "white",
          "plot_bgcolor": "#E5ECF6",
          "polar": {
           "angularaxis": {
            "gridcolor": "white",
            "linecolor": "white",
            "ticks": ""
           },
           "bgcolor": "#E5ECF6",
           "radialaxis": {
            "gridcolor": "white",
            "linecolor": "white",
            "ticks": ""
           }
          },
          "scene": {
           "xaxis": {
            "backgroundcolor": "#E5ECF6",
            "gridcolor": "white",
            "gridwidth": 2,
            "linecolor": "white",
            "showbackground": true,
            "ticks": "",
            "zerolinecolor": "white"
           },
           "yaxis": {
            "backgroundcolor": "#E5ECF6",
            "gridcolor": "white",
            "gridwidth": 2,
            "linecolor": "white",
            "showbackground": true,
            "ticks": "",
            "zerolinecolor": "white"
           },
           "zaxis": {
            "backgroundcolor": "#E5ECF6",
            "gridcolor": "white",
            "gridwidth": 2,
            "linecolor": "white",
            "showbackground": true,
            "ticks": "",
            "zerolinecolor": "white"
           }
          },
          "shapedefaults": {
           "line": {
            "color": "#2a3f5f"
           }
          },
          "ternary": {
           "aaxis": {
            "gridcolor": "white",
            "linecolor": "white",
            "ticks": ""
           },
           "baxis": {
            "gridcolor": "white",
            "linecolor": "white",
            "ticks": ""
           },
           "bgcolor": "#E5ECF6",
           "caxis": {
            "gridcolor": "white",
            "linecolor": "white",
            "ticks": ""
           }
          },
          "title": {
           "x": 0.05
          },
          "xaxis": {
           "automargin": true,
           "gridcolor": "white",
           "linecolor": "white",
           "ticks": "",
           "title": {
            "standoff": 15
           },
           "zerolinecolor": "white",
           "zerolinewidth": 2
          },
          "yaxis": {
           "automargin": true,
           "gridcolor": "white",
           "linecolor": "white",
           "ticks": "",
           "title": {
            "standoff": 15
           },
           "zerolinecolor": "white",
           "zerolinewidth": 2
          }
         }
        },
        "title": {
         "text": "Median Pct Change Grouped By Month<Br>Rolling Average: 2"
        },
        "xaxis": {
         "anchor": "y",
         "domain": [
          0,
          0.45
         ],
         "matches": "x5",
         "nticks": 1,
         "showticklabels": false
        },
        "xaxis2": {
         "anchor": "y2",
         "domain": [
          0.55,
          1
         ],
         "matches": "x5",
         "nticks": 1,
         "showticklabels": false
        },
        "xaxis3": {
         "anchor": "y3",
         "domain": [
          0,
          0.45
         ],
         "matches": "x5",
         "nticks": 1,
         "showticklabels": false
        },
        "xaxis4": {
         "anchor": "y4",
         "domain": [
          0.55,
          1
         ],
         "matches": "x5",
         "nticks": 1,
         "showticklabels": false
        },
        "xaxis5": {
         "anchor": "y5",
         "domain": [
          0,
          0.45
         ],
         "nticks": 1
        },
        "xaxis6": {
         "anchor": "y6",
         "domain": [
          0.55,
          1
         ],
         "matches": "x5",
         "nticks": 1
        },
        "yaxis": {
         "anchor": "x",
         "domain": [
          0.7777777777777778,
          1
         ]
        },
        "yaxis2": {
         "anchor": "x2",
         "domain": [
          0.7777777777777778,
          1
         ]
        },
        "yaxis3": {
         "anchor": "x3",
         "domain": [
          0.3888888888888889,
          0.6111111111111112
         ]
        },
        "yaxis4": {
         "anchor": "x4",
         "domain": [
          0.3888888888888889,
          0.6111111111111112
         ]
        },
        "yaxis5": {
         "anchor": "x5",
         "domain": [
          0,
          0.22222222222222224
         ]
        },
        "yaxis6": {
         "anchor": "x6",
         "domain": [
          0,
          0.22222222222222224
         ]
        }
       }
      },
      "text/html": [
       "<div>                            <div id=\"e9afead1-4751-41a9-ad8c-196dce0c5ecc\" class=\"plotly-graph-div\" style=\"height:525px; width:100%;\"></div>            <script type=\"text/javascript\">                require([\"plotly\"], function(Plotly) {                    window.PLOTLYENV=window.PLOTLYENV || {};                                    if (document.getElementById(\"e9afead1-4751-41a9-ad8c-196dce0c5ecc\")) {                    Plotly.newPlot(                        \"e9afead1-4751-41a9-ad8c-196dce0c5ecc\",                        [{\"mode\": \"markers\", \"name\": \"Pct Change\", \"type\": \"scatter\", \"x\": [\"2018-01-01T00:00:00\", \"2018-02-01T00:00:00\", \"2018-03-01T00:00:00\", \"2018-04-01T00:00:00\", \"2018-05-01T00:00:00\", \"2018-06-01T00:00:00\", \"2018-07-01T00:00:00\", \"2018-08-01T00:00:00\", \"2018-09-01T00:00:00\", \"2018-10-01T00:00:00\", \"2018-11-01T00:00:00\", \"2018-12-01T00:00:00\", \"2019-01-01T00:00:00\", \"2019-02-01T00:00:00\", \"2019-03-01T00:00:00\", \"2019-04-01T00:00:00\", \"2019-05-01T00:00:00\", \"2019-06-01T00:00:00\", \"2019-07-01T00:00:00\", \"2019-08-01T00:00:00\", \"2019-09-01T00:00:00\", \"2019-10-01T00:00:00\", \"2019-11-01T00:00:00\", \"2019-12-01T00:00:00\", \"2020-01-01T00:00:00\", \"2020-02-01T00:00:00\", \"2020-04-01T00:00:00\", \"2020-05-01T00:00:00\", \"2020-06-01T00:00:00\", \"2020-07-01T00:00:00\"], \"xaxis\": \"x\", \"y\": [44.13814814814815, 102.40090235256204, 42.857142857142854, 21.91309784307596, 87.54837929366231, 58.620689655172406, 23.214285714285715, 41.935483870967744, 55.54573574900574, 38.095238095238095, 23.52941176470588, 14.47591382231905, 24.63768115942029, 53.77937620140138, 34.52044059384388, 28.30985915492958, 23.333333333333332, 26.262626262626267, 36.70168067226891, 23.369565217391305, 131.1688311688312, 56.48425787106446, 43.36917562724014, 18.529264632316156, 67.3076923076923, 23.611111111111107, 208.4218375740046, 19.79556074766355, 44.83258043380806, 57.84615384615385], \"yaxis\": \"y\"}, {\"mode\": \"lines\", \"name\": \"Rolling Average 2\", \"type\": \"scatter\", \"x\": [\"2018-01-01T00:00:00\", \"2018-02-01T00:00:00\", \"2018-03-01T00:00:00\", \"2018-04-01T00:00:00\", \"2018-05-01T00:00:00\", \"2018-06-01T00:00:00\", \"2018-07-01T00:00:00\", \"2018-08-01T00:00:00\", \"2018-09-01T00:00:00\", \"2018-10-01T00:00:00\", \"2018-11-01T00:00:00\", \"2018-12-01T00:00:00\", \"2019-01-01T00:00:00\", \"2019-02-01T00:00:00\", \"2019-03-01T00:00:00\", \"2019-04-01T00:00:00\", \"2019-05-01T00:00:00\", \"2019-06-01T00:00:00\", \"2019-07-01T00:00:00\", \"2019-08-01T00:00:00\", \"2019-09-01T00:00:00\", \"2019-10-01T00:00:00\", \"2019-11-01T00:00:00\", \"2019-12-01T00:00:00\", \"2020-01-01T00:00:00\", \"2020-02-01T00:00:00\", \"2020-04-01T00:00:00\", \"2020-05-01T00:00:00\", \"2020-06-01T00:00:00\", \"2020-07-01T00:00:00\"], \"xaxis\": \"x\", \"y\": [null, 73.26952525035509, 72.62902260485245, 32.3851203501094, 54.73073856836912, 73.08453447441735, 40.91748768472906, 32.57488479262673, 48.74060980998675, 46.82048692212193, 30.812324929972, 19.002662793512474, 19.556797490869677, 39.208528680410836, 44.14990839762264, 31.415149874386742, 25.821596244131467, 24.797979797979806, 31.482153467447596, 30.03562294483011, 77.26919819311125, 93.82654451994782, 49.92671674915229, 30.94922012977814, 42.91847847000422, 45.459401709401696, 116.01647434255784, 114.10869916083406, 32.31407059073581, 51.33936713998095], \"yaxis\": \"y\"}, {\"mode\": \"markers\", \"name\": \"Pct Change\", \"type\": \"scatter\", \"x\": [\"2018-02-01T00:00:00\", \"2018-03-01T00:00:00\", \"2018-04-01T00:00:00\", \"2018-05-01T00:00:00\", \"2018-07-01T00:00:00\", \"2018-08-01T00:00:00\", \"2018-11-01T00:00:00\", \"2018-12-01T00:00:00\", \"2019-01-01T00:00:00\", \"2019-02-01T00:00:00\", \"2019-03-01T00:00:00\", \"2019-05-01T00:00:00\", \"2019-07-01T00:00:00\", \"2019-08-01T00:00:00\", \"2019-09-01T00:00:00\", \"2019-11-01T00:00:00\", \"2020-04-01T00:00:00\", \"2020-07-01T00:00:00\"], \"xaxis\": \"x2\", \"y\": [7.588061863135572, 43.47826086956522, 47.69230769230769, 18.64607874709741, 20.163934426229506, 47.55527210884354, 12.79200920940941, 35.78947368421053, 11.113168762384488, 23.303971918520112, 84.61538461538461, 23.52941176470588, 17.741935483870968, 32.484851448119215, 22.61682242990654, 22.501531269140866, 12.700201590501436, 15.001916698611645], \"yaxis\": \"y2\"}, {\"mode\": \"lines\", \"name\": \"Rolling Average 2\", \"type\": \"scatter\", \"x\": [\"2018-02-01T00:00:00\", \"2018-03-01T00:00:00\", \"2018-04-01T00:00:00\", \"2018-05-01T00:00:00\", \"2018-07-01T00:00:00\", \"2018-08-01T00:00:00\", \"2018-11-01T00:00:00\", \"2018-12-01T00:00:00\", \"2019-01-01T00:00:00\", \"2019-02-01T00:00:00\", \"2019-03-01T00:00:00\", \"2019-05-01T00:00:00\", \"2019-07-01T00:00:00\", \"2019-08-01T00:00:00\", \"2019-09-01T00:00:00\", \"2019-11-01T00:00:00\", \"2020-04-01T00:00:00\", \"2020-07-01T00:00:00\"], \"xaxis\": \"x2\", \"y\": [null, 25.533161366350395, 45.58528428093645, 33.16919321970254, 19.405006586663447, 33.859603267536514, 30.17364065912647, 24.290741446809967, 23.451321223297505, 17.208570340452294, 53.95967826695236, 54.072398190045234, 20.635673624288415, 25.11339346599508, 27.55083693901287, 22.559176849523695, 17.600866429821142, 13.851059144556531], \"yaxis\": \"y2\"}, {\"mode\": \"markers\", \"name\": \"Pct Change\", \"type\": \"scatter\", \"x\": [\"2018-01-01T00:00:00\", \"2018-02-01T00:00:00\", \"2018-03-01T00:00:00\", \"2018-04-01T00:00:00\", \"2018-05-01T00:00:00\", \"2018-06-01T00:00:00\", \"2018-07-01T00:00:00\", \"2018-08-01T00:00:00\", \"2018-09-01T00:00:00\", \"2018-10-01T00:00:00\", \"2018-11-01T00:00:00\", \"2018-12-01T00:00:00\", \"2019-01-01T00:00:00\", \"2019-02-01T00:00:00\", \"2019-03-01T00:00:00\", \"2019-04-01T00:00:00\", \"2019-05-01T00:00:00\", \"2019-06-01T00:00:00\", \"2019-07-01T00:00:00\", \"2019-08-01T00:00:00\", \"2019-09-01T00:00:00\", \"2019-10-01T00:00:00\", \"2019-11-01T00:00:00\", \"2019-12-01T00:00:00\", \"2020-01-01T00:00:00\", \"2020-02-01T00:00:00\", \"2020-03-01T00:00:00\", \"2020-04-01T00:00:00\", \"2020-05-01T00:00:00\", \"2020-06-01T00:00:00\", \"2020-07-01T00:00:00\"], \"xaxis\": \"x3\", \"y\": [18.014705882352942, 3.7581861382054154, 0.7194244604316548, 24.049619847939173, 11.992753623188406, 3.200501253132832, 36.10328638497652, 17.98142717497556, 8.832565284178187, 10.06423982869379, 11.533538540464281, 6.0606060606060606, 3.9859862135551736, 20.450379680544646, 9.498575236694549, 7.3966942148760335, 11.986531986531986, 1.7341040462427744, 0.8771929824561403, 7.710319831640209, 8.833333333333334, 17.02439024390244, 5.346422697368421, 10.869565217391305, 6.800000000000001, 14.347826086956523, 27.311320754716984, 11.152278621711744, 4.790419161676647, 4.903635032934862, 0.019234468166955183], \"yaxis\": \"y3\"}, {\"mode\": \"lines\", \"name\": \"Rolling Average 2\", \"type\": \"scatter\", \"x\": [\"2018-01-01T00:00:00\", \"2018-02-01T00:00:00\", \"2018-03-01T00:00:00\", \"2018-04-01T00:00:00\", \"2018-05-01T00:00:00\", \"2018-06-01T00:00:00\", \"2018-07-01T00:00:00\", \"2018-08-01T00:00:00\", \"2018-09-01T00:00:00\", \"2018-10-01T00:00:00\", \"2018-11-01T00:00:00\", \"2018-12-01T00:00:00\", \"2019-01-01T00:00:00\", \"2019-02-01T00:00:00\", \"2019-03-01T00:00:00\", \"2019-04-01T00:00:00\", \"2019-05-01T00:00:00\", \"2019-06-01T00:00:00\", \"2019-07-01T00:00:00\", \"2019-08-01T00:00:00\", \"2019-09-01T00:00:00\", \"2019-10-01T00:00:00\", \"2019-11-01T00:00:00\", \"2019-12-01T00:00:00\", \"2020-01-01T00:00:00\", \"2020-02-01T00:00:00\", \"2020-03-01T00:00:00\", \"2020-04-01T00:00:00\", \"2020-05-01T00:00:00\", \"2020-06-01T00:00:00\", \"2020-07-01T00:00:00\"], \"xaxis\": \"x3\", \"y\": [null, 10.88644601027918, 2.2388052993185354, 12.384522154185415, 18.02118673556379, 7.596627438160622, 19.651893819054678, 27.042356779976043, 13.406996229576876, 9.448402556435989, 10.798889184579036, 8.797072300535172, 5.023296137080617, 12.218182947049911, 14.9744774586196, 8.447634725785294, 9.691613100704012, 6.8603180163873825, 1.3056485143494596, 4.293756407048177, 8.271826582486772, 12.928861788617889, 11.185406470635431, 8.107993957379863, 8.834782608695653, 10.57391304347826, 20.829573420836752, 19.231799688214362, 7.971348891694193, 4.847027097305752, 2.4614347505509055], \"yaxis\": \"y3\"}, {\"mode\": \"markers\", \"name\": \"Pct Change\", \"type\": \"scatter\", \"x\": [\"2018-01-01T00:00:00\", \"2018-02-01T00:00:00\", \"2018-03-01T00:00:00\", \"2018-04-01T00:00:00\", \"2018-05-01T00:00:00\", \"2018-06-01T00:00:00\", \"2018-07-01T00:00:00\", \"2018-08-01T00:00:00\", \"2018-09-01T00:00:00\", \"2018-10-01T00:00:00\", \"2018-11-01T00:00:00\", \"2018-12-01T00:00:00\", \"2019-01-01T00:00:00\", \"2019-02-01T00:00:00\", \"2019-03-01T00:00:00\", \"2019-04-01T00:00:00\", \"2019-05-01T00:00:00\", \"2019-06-01T00:00:00\", \"2019-07-01T00:00:00\", \"2019-08-01T00:00:00\", \"2019-09-01T00:00:00\", \"2019-10-01T00:00:00\", \"2019-11-01T00:00:00\", \"2019-12-01T00:00:00\", \"2020-01-01T00:00:00\", \"2020-02-01T00:00:00\", \"2020-03-01T00:00:00\", \"2020-04-01T00:00:00\", \"2020-05-01T00:00:00\", \"2020-06-01T00:00:00\", \"2020-07-01T00:00:00\"], \"xaxis\": \"x4\", \"y\": [27.015306122448983, -3.374604088684135, 3.2295081967213113, 4.811815150071463, 77.82739373121511, 1.9297775395336374, 25.432858791843017, 4.141041410414104, 10.0, 11.622439242501077, 3.2335907335907335, 16.85064935064935, 19.35483870967742, 8.629441624365482, 9.273182957393484, 6.896551724137931, 5.052526263131566, 9.693877551020408, 17.59023742541311, 4.393214441061331, 19.565217391304348, 20.0, 10.704915101655555, 19.148936170212767, 23.24891936542422, 9.808605820227829, 6.468531468531469, 5.087719298245615, 16.91756272401434, 8.98876404494382, 8.588957055214724], \"yaxis\": \"y4\"}, {\"mode\": \"lines\", \"name\": \"Rolling Average 2\", \"type\": \"scatter\", \"x\": [\"2018-01-01T00:00:00\", \"2018-02-01T00:00:00\", \"2018-03-01T00:00:00\", \"2018-04-01T00:00:00\", \"2018-05-01T00:00:00\", \"2018-06-01T00:00:00\", \"2018-07-01T00:00:00\", \"2018-08-01T00:00:00\", \"2018-09-01T00:00:00\", \"2018-10-01T00:00:00\", \"2018-11-01T00:00:00\", \"2018-12-01T00:00:00\", \"2019-01-01T00:00:00\", \"2019-02-01T00:00:00\", \"2019-03-01T00:00:00\", \"2019-04-01T00:00:00\", \"2019-05-01T00:00:00\", \"2019-06-01T00:00:00\", \"2019-07-01T00:00:00\", \"2019-08-01T00:00:00\", \"2019-09-01T00:00:00\", \"2019-10-01T00:00:00\", \"2019-11-01T00:00:00\", \"2019-12-01T00:00:00\", \"2020-01-01T00:00:00\", \"2020-02-01T00:00:00\", \"2020-03-01T00:00:00\", \"2020-04-01T00:00:00\", \"2020-05-01T00:00:00\", \"2020-06-01T00:00:00\", \"2020-07-01T00:00:00\"], \"xaxis\": \"x4\", \"y\": [null, 11.820351016882425, -0.07254794598141068, 4.020661673396388, 41.31960444064329, 39.87858563537437, 13.681318165688324, 14.786950101128557, 7.0705207052070485, 10.811219621250535, 7.428014988045902, 10.042120042120038, 18.102744030163382, 13.99214016702145, 8.95131229087948, 8.084867340765705, 5.974538993634745, 7.373201907075983, 13.642057488216755, 10.991725933237216, 11.979215916182836, 19.782608695652172, 15.352457550827777, 14.926925635934161, 21.198927767818496, 16.528762592826027, 8.13856864437965, 5.778125383388543, 11.002641011129977, 12.95316338447908, 8.788860550079274], \"yaxis\": \"y4\"}, {\"mode\": \"markers\", \"name\": \"Pct Change\", \"type\": \"scatter\", \"x\": [\"2018-01-01T00:00:00\", \"2018-02-01T00:00:00\", \"2018-03-01T00:00:00\", \"2018-04-01T00:00:00\", \"2018-05-01T00:00:00\", \"2018-06-01T00:00:00\", \"2018-07-01T00:00:00\", \"2018-08-01T00:00:00\", \"2018-09-01T00:00:00\", \"2018-10-01T00:00:00\", \"2018-11-01T00:00:00\", \"2018-12-01T00:00:00\", \"2019-01-01T00:00:00\", \"2019-02-01T00:00:00\", \"2019-03-01T00:00:00\", \"2019-04-01T00:00:00\", \"2019-05-01T00:00:00\", \"2019-06-01T00:00:00\", \"2019-07-01T00:00:00\", \"2019-08-01T00:00:00\", \"2019-09-01T00:00:00\", \"2019-10-01T00:00:00\", \"2019-11-01T00:00:00\", \"2019-12-01T00:00:00\", \"2020-01-01T00:00:00\", \"2020-02-01T00:00:00\", \"2020-03-01T00:00:00\", \"2020-04-01T00:00:00\", \"2020-05-01T00:00:00\", \"2020-06-01T00:00:00\", \"2020-07-01T00:00:00\"], \"xaxis\": \"x5\", \"y\": [162.1661357510414, 62.116040955631405, 53.68883131836499, 85.51724137931035, 66.21700879765396, 27.631578947368425, 120.53571428571428, 105.47945205479452, 54.166666666666664, 133.2089552238806, 142.64092734574663, 162.58366800535475, 62.08407871198569, 158.96982875781464, 69.0909090909091, 44.913752913752916, 27.323420074349443, 174.71445369652446, 21.916629497472496, 55.42168674698795, 79.38274728054643, 98.41786569911066, 60.320641282565134, 64.80515093537414, 42.115384615384606, 99.63819240927674, 34.19117647058824, 138.0947619047619, 3.177570093457944, 119.2139534883721, 162.98558100084816], \"yaxis\": \"y5\"}, {\"mode\": \"lines\", \"name\": \"Rolling Average 2\", \"type\": \"scatter\", \"x\": [\"2018-01-01T00:00:00\", \"2018-02-01T00:00:00\", \"2018-03-01T00:00:00\", \"2018-04-01T00:00:00\", \"2018-05-01T00:00:00\", \"2018-06-01T00:00:00\", \"2018-07-01T00:00:00\", \"2018-08-01T00:00:00\", \"2018-09-01T00:00:00\", \"2018-10-01T00:00:00\", \"2018-11-01T00:00:00\", \"2018-12-01T00:00:00\", \"2019-01-01T00:00:00\", \"2019-02-01T00:00:00\", \"2019-03-01T00:00:00\", \"2019-04-01T00:00:00\", \"2019-05-01T00:00:00\", \"2019-06-01T00:00:00\", \"2019-07-01T00:00:00\", \"2019-08-01T00:00:00\", \"2019-09-01T00:00:00\", \"2019-10-01T00:00:00\", \"2019-11-01T00:00:00\", \"2019-12-01T00:00:00\", \"2020-01-01T00:00:00\", \"2020-02-01T00:00:00\", \"2020-03-01T00:00:00\", \"2020-04-01T00:00:00\", \"2020-05-01T00:00:00\", \"2020-06-01T00:00:00\", \"2020-07-01T00:00:00\"], \"xaxis\": \"x5\", \"y\": [null, 112.1410883533364, 57.902436136998205, 69.60303634883768, 75.86712508848217, 46.924293872511214, 74.08364661654137, 113.0075831702544, 79.82305936073061, 93.68781094527364, 137.92494128481363, 152.6122976755507, 112.33387335867023, 110.52695373490019, 114.03036892436191, 57.00233100233106, 36.11858649405123, 101.018936885437, 98.31554159699851, 38.66915812223026, 67.40221701376723, 88.9003064898286, 79.36925349083795, 62.56289610896969, 53.46026777537942, 70.87678851233072, 66.91468443993253, 86.14296918767512, 70.63616599910998, 61.195761790915085, 141.0997672446102], \"yaxis\": \"y5\"}, {\"mode\": \"markers\", \"name\": \"Pct Change\", \"type\": \"scatter\", \"x\": [\"2018-02-01T00:00:00\", \"2018-03-01T00:00:00\", \"2018-04-01T00:00:00\", \"2018-06-01T00:00:00\", \"2018-07-01T00:00:00\", \"2018-08-01T00:00:00\", \"2018-09-01T00:00:00\", \"2018-10-01T00:00:00\", \"2018-11-01T00:00:00\", \"2018-12-01T00:00:00\", \"2019-01-01T00:00:00\", \"2019-02-01T00:00:00\", \"2019-03-01T00:00:00\", \"2019-04-01T00:00:00\", \"2019-05-01T00:00:00\", \"2019-06-01T00:00:00\", \"2019-07-01T00:00:00\", \"2019-08-01T00:00:00\", \"2019-09-01T00:00:00\", \"2019-10-01T00:00:00\", \"2019-11-01T00:00:00\", \"2019-12-01T00:00:00\", \"2020-01-01T00:00:00\", \"2020-02-01T00:00:00\", \"2020-03-01T00:00:00\", \"2020-04-01T00:00:00\", \"2020-05-01T00:00:00\", \"2020-06-01T00:00:00\", \"2020-07-01T00:00:00\"], \"xaxis\": \"x6\", \"y\": [10.06695245893743, 97.83121597096188, 8.12837901184412, 11.253476671145973, 21.935483870967744, 8.23529411764706, 59.57446808510638, 5.923913043478261, 122.34466613236596, 25.454545454545453, 8.424242424242426, 27.11864406779661, -2.5, 27.027027027027028, 5.719119739936576, 16.44144144144144, 142.67206477732793, 25.119282880938886, 7.467486615911979, 27.450980392156865, 21.349244016543494, 5.242204688627501, 21.142857142857142, 3.728754164017064, 118.97810218978103, 14.194277108433734, 23.728813559322035, 16.39344262295082, 34.29752066115703], \"yaxis\": \"y6\"}, {\"mode\": \"lines\", \"name\": \"Rolling Average 2\", \"type\": \"scatter\", \"x\": [\"2018-02-01T00:00:00\", \"2018-03-01T00:00:00\", \"2018-04-01T00:00:00\", \"2018-06-01T00:00:00\", \"2018-07-01T00:00:00\", \"2018-08-01T00:00:00\", \"2018-09-01T00:00:00\", \"2018-10-01T00:00:00\", \"2018-11-01T00:00:00\", \"2018-12-01T00:00:00\", \"2019-01-01T00:00:00\", \"2019-02-01T00:00:00\", \"2019-03-01T00:00:00\", \"2019-04-01T00:00:00\", \"2019-05-01T00:00:00\", \"2019-06-01T00:00:00\", \"2019-07-01T00:00:00\", \"2019-08-01T00:00:00\", \"2019-09-01T00:00:00\", \"2019-10-01T00:00:00\", \"2019-11-01T00:00:00\", \"2019-12-01T00:00:00\", \"2020-01-01T00:00:00\", \"2020-02-01T00:00:00\", \"2020-03-01T00:00:00\", \"2020-04-01T00:00:00\", \"2020-05-01T00:00:00\", \"2020-06-01T00:00:00\", \"2020-07-01T00:00:00\"], \"xaxis\": \"x6\", \"y\": [null, 53.94908421494966, 52.979797491403, 9.690927841495046, 16.59448027105686, 15.0853889943074, 33.904881101376716, 32.74919056429232, 64.1342895879221, 73.89960579345569, 16.93939393939393, 17.77144324601951, 12.309322033898296, 12.263513513513505, 16.373073383481795, 11.080280590689002, 79.55675310938467, 83.8956738291334, 16.293384748425424, 17.459233504034415, 24.400112204350172, 13.295724352585491, 13.192530915742317, 12.4358056534371, 61.353428176899044, 66.58618964910738, 18.96154533387788, 20.061128091136418, 25.34548164205392], \"yaxis\": \"y6\"}],                        {\"annotations\": [{\"font\": {\"size\": 16}, \"showarrow\": false, \"text\": \"Plymouth\", \"x\": 0.225, \"xanchor\": \"center\", \"xref\": \"paper\", \"y\": 1.0, \"yanchor\": \"bottom\", \"yref\": \"paper\"}, {\"font\": {\"size\": 16}, \"showarrow\": false, \"text\": \"Barrow\", \"x\": 0.775, \"xanchor\": \"center\", \"xref\": \"paper\", \"y\": 1.0, \"yanchor\": \"bottom\", \"yref\": \"paper\"}, {\"font\": {\"size\": 16}, \"showarrow\": false, \"text\": \"Northumberland\", \"x\": 0.225, \"xanchor\": \"center\", \"xref\": \"paper\", \"y\": 0.6111111111111112, \"yanchor\": \"bottom\", \"yref\": \"paper\"}, {\"font\": {\"size\": 16}, \"showarrow\": false, \"text\": \"North East\", \"x\": 0.775, \"xanchor\": \"center\", \"xref\": \"paper\", \"y\": 0.6111111111111112, \"yanchor\": \"bottom\", \"yref\": \"paper\"}, {\"font\": {\"size\": 16}, \"showarrow\": false, \"text\": \"Warwick\", \"x\": 0.225, \"xanchor\": \"center\", \"xref\": \"paper\", \"y\": 0.22222222222222224, \"yanchor\": \"bottom\", \"yref\": \"paper\"}, {\"font\": {\"size\": 16}, \"showarrow\": false, \"text\": \"Hambleton\", \"x\": 0.775, \"xanchor\": \"center\", \"xref\": \"paper\", \"y\": 0.22222222222222224, \"yanchor\": \"bottom\", \"yref\": \"paper\"}], \"shapes\": [{\"line\": {\"color\": \"Red\", \"dash\": \"dot\", \"width\": 3}, \"type\": \"line\", \"x0\": \"2019-09-01\", \"x1\": \"2019-09-01\", \"xref\": \"x\", \"y0\": 14.47591382231905, \"y1\": 208.4218375740046, \"yref\": \"y\"}, {\"line\": {\"color\": \"Red\", \"dash\": \"dot\", \"width\": 3}, \"type\": \"line\", \"x0\": \"2019-09-01\", \"x1\": \"2019-09-01\", \"xref\": \"x2\", \"y0\": 7.588061863135572, \"y1\": 84.61538461538461, \"yref\": \"y2\"}, {\"line\": {\"color\": \"Red\", \"dash\": \"dot\", \"width\": 3}, \"type\": \"line\", \"x0\": \"2019-09-01\", \"x1\": \"2019-09-01\", \"xref\": \"x3\", \"y0\": 0.019234468166955183, \"y1\": 36.10328638497652, \"yref\": \"y3\"}, {\"line\": {\"color\": \"Red\", \"dash\": \"dot\", \"width\": 3}, \"type\": \"line\", \"x0\": \"2019-09-01\", \"x1\": \"2019-09-01\", \"xref\": \"x4\", \"y0\": -3.374604088684135, \"y1\": 77.82739373121511, \"yref\": \"y4\"}, {\"line\": {\"color\": \"Red\", \"dash\": \"dot\", \"width\": 3}, \"type\": \"line\", \"x0\": \"2019-09-01\", \"x1\": \"2019-09-01\", \"xref\": \"x5\", \"y0\": 3.177570093457944, \"y1\": 174.71445369652446, \"yref\": \"y5\"}, {\"line\": {\"color\": \"Red\", \"dash\": \"dot\", \"width\": 3}, \"type\": \"line\", \"x0\": \"2019-09-01\", \"x1\": \"2019-09-01\", \"xref\": \"x6\", \"y0\": -2.5, \"y1\": 142.67206477732793, \"yref\": \"y6\"}], \"showlegend\": true, \"template\": {\"data\": {\"bar\": [{\"error_x\": {\"color\": \"#2a3f5f\"}, \"error_y\": {\"color\": \"#2a3f5f\"}, \"marker\": {\"line\": {\"color\": \"#E5ECF6\", \"width\": 0.5}}, \"type\": \"bar\"}], \"barpolar\": [{\"marker\": {\"line\": {\"color\": \"#E5ECF6\", \"width\": 0.5}}, \"type\": \"barpolar\"}], \"carpet\": [{\"aaxis\": {\"endlinecolor\": \"#2a3f5f\", \"gridcolor\": \"white\", \"linecolor\": \"white\", \"minorgridcolor\": \"white\", \"startlinecolor\": \"#2a3f5f\"}, \"baxis\": {\"endlinecolor\": \"#2a3f5f\", \"gridcolor\": \"white\", \"linecolor\": \"white\", \"minorgridcolor\": \"white\", \"startlinecolor\": \"#2a3f5f\"}, \"type\": \"carpet\"}], \"choropleth\": [{\"colorbar\": {\"outlinewidth\": 0, \"ticks\": \"\"}, \"type\": \"choropleth\"}], \"contour\": [{\"colorbar\": {\"outlinewidth\": 0, \"ticks\": \"\"}, \"colorscale\": [[0.0, \"#0d0887\"], [0.1111111111111111, \"#46039f\"], [0.2222222222222222, \"#7201a8\"], [0.3333333333333333, \"#9c179e\"], [0.4444444444444444, \"#bd3786\"], [0.5555555555555556, \"#d8576b\"], [0.6666666666666666, \"#ed7953\"], [0.7777777777777778, \"#fb9f3a\"], [0.8888888888888888, \"#fdca26\"], [1.0, \"#f0f921\"]], \"type\": \"contour\"}], \"contourcarpet\": [{\"colorbar\": {\"outlinewidth\": 0, \"ticks\": \"\"}, \"type\": \"contourcarpet\"}], \"heatmap\": [{\"colorbar\": {\"outlinewidth\": 0, \"ticks\": \"\"}, \"colorscale\": [[0.0, \"#0d0887\"], [0.1111111111111111, \"#46039f\"], [0.2222222222222222, \"#7201a8\"], [0.3333333333333333, \"#9c179e\"], [0.4444444444444444, \"#bd3786\"], [0.5555555555555556, \"#d8576b\"], [0.6666666666666666, \"#ed7953\"], [0.7777777777777778, \"#fb9f3a\"], [0.8888888888888888, \"#fdca26\"], [1.0, \"#f0f921\"]], \"type\": \"heatmap\"}], \"heatmapgl\": [{\"colorbar\": {\"outlinewidth\": 0, \"ticks\": \"\"}, \"colorscale\": [[0.0, \"#0d0887\"], [0.1111111111111111, \"#46039f\"], [0.2222222222222222, \"#7201a8\"], [0.3333333333333333, \"#9c179e\"], [0.4444444444444444, \"#bd3786\"], [0.5555555555555556, \"#d8576b\"], [0.6666666666666666, \"#ed7953\"], [0.7777777777777778, \"#fb9f3a\"], [0.8888888888888888, \"#fdca26\"], [1.0, \"#f0f921\"]], \"type\": \"heatmapgl\"}], \"histogram\": [{\"marker\": {\"colorbar\": {\"outlinewidth\": 0, \"ticks\": \"\"}}, \"type\": \"histogram\"}], \"histogram2d\": [{\"colorbar\": {\"outlinewidth\": 0, \"ticks\": \"\"}, \"colorscale\": [[0.0, \"#0d0887\"], [0.1111111111111111, \"#46039f\"], [0.2222222222222222, \"#7201a8\"], [0.3333333333333333, \"#9c179e\"], [0.4444444444444444, \"#bd3786\"], [0.5555555555555556, \"#d8576b\"], [0.6666666666666666, \"#ed7953\"], [0.7777777777777778, \"#fb9f3a\"], [0.8888888888888888, \"#fdca26\"], [1.0, \"#f0f921\"]], \"type\": \"histogram2d\"}], \"histogram2dcontour\": [{\"colorbar\": {\"outlinewidth\": 0, \"ticks\": \"\"}, \"colorscale\": [[0.0, \"#0d0887\"], [0.1111111111111111, \"#46039f\"], [0.2222222222222222, \"#7201a8\"], [0.3333333333333333, \"#9c179e\"], [0.4444444444444444, \"#bd3786\"], [0.5555555555555556, \"#d8576b\"], [0.6666666666666666, \"#ed7953\"], [0.7777777777777778, \"#fb9f3a\"], [0.8888888888888888, \"#fdca26\"], [1.0, \"#f0f921\"]], \"type\": \"histogram2dcontour\"}], \"mesh3d\": [{\"colorbar\": {\"outlinewidth\": 0, \"ticks\": \"\"}, \"type\": \"mesh3d\"}], \"parcoords\": [{\"line\": {\"colorbar\": {\"outlinewidth\": 0, \"ticks\": \"\"}}, \"type\": \"parcoords\"}], \"pie\": [{\"automargin\": true, \"type\": \"pie\"}], \"scatter\": [{\"marker\": {\"colorbar\": {\"outlinewidth\": 0, \"ticks\": \"\"}}, \"type\": \"scatter\"}], \"scatter3d\": [{\"line\": {\"colorbar\": {\"outlinewidth\": 0, \"ticks\": \"\"}}, \"marker\": {\"colorbar\": {\"outlinewidth\": 0, \"ticks\": \"\"}}, \"type\": \"scatter3d\"}], \"scattercarpet\": [{\"marker\": {\"colorbar\": {\"outlinewidth\": 0, \"ticks\": \"\"}}, \"type\": \"scattercarpet\"}], \"scattergeo\": [{\"marker\": {\"colorbar\": {\"outlinewidth\": 0, \"ticks\": \"\"}}, \"type\": \"scattergeo\"}], \"scattergl\": [{\"marker\": {\"colorbar\": {\"outlinewidth\": 0, \"ticks\": \"\"}}, \"type\": \"scattergl\"}], \"scattermapbox\": [{\"marker\": {\"colorbar\": {\"outlinewidth\": 0, \"ticks\": \"\"}}, \"type\": \"scattermapbox\"}], \"scatterpolar\": [{\"marker\": {\"colorbar\": {\"outlinewidth\": 0, \"ticks\": \"\"}}, \"type\": \"scatterpolar\"}], \"scatterpolargl\": [{\"marker\": {\"colorbar\": {\"outlinewidth\": 0, \"ticks\": \"\"}}, \"type\": \"scatterpolargl\"}], \"scatterternary\": [{\"marker\": {\"colorbar\": {\"outlinewidth\": 0, \"ticks\": \"\"}}, \"type\": \"scatterternary\"}], \"surface\": [{\"colorbar\": {\"outlinewidth\": 0, \"ticks\": \"\"}, \"colorscale\": [[0.0, \"#0d0887\"], [0.1111111111111111, \"#46039f\"], [0.2222222222222222, \"#7201a8\"], [0.3333333333333333, \"#9c179e\"], [0.4444444444444444, \"#bd3786\"], [0.5555555555555556, \"#d8576b\"], [0.6666666666666666, \"#ed7953\"], [0.7777777777777778, \"#fb9f3a\"], [0.8888888888888888, \"#fdca26\"], [1.0, \"#f0f921\"]], \"type\": \"surface\"}], \"table\": [{\"cells\": {\"fill\": {\"color\": \"#EBF0F8\"}, \"line\": {\"color\": \"white\"}}, \"header\": {\"fill\": {\"color\": \"#C8D4E3\"}, \"line\": {\"color\": \"white\"}}, \"type\": \"table\"}]}, \"layout\": {\"annotationdefaults\": {\"arrowcolor\": \"#2a3f5f\", \"arrowhead\": 0, \"arrowwidth\": 1}, \"coloraxis\": {\"colorbar\": {\"outlinewidth\": 0, \"ticks\": \"\"}}, \"colorscale\": {\"diverging\": [[0, \"#8e0152\"], [0.1, \"#c51b7d\"], [0.2, \"#de77ae\"], [0.3, \"#f1b6da\"], [0.4, \"#fde0ef\"], [0.5, \"#f7f7f7\"], [0.6, \"#e6f5d0\"], [0.7, \"#b8e186\"], [0.8, \"#7fbc41\"], [0.9, \"#4d9221\"], [1, \"#276419\"]], \"sequential\": [[0.0, \"#0d0887\"], [0.1111111111111111, \"#46039f\"], [0.2222222222222222, \"#7201a8\"], [0.3333333333333333, \"#9c179e\"], [0.4444444444444444, \"#bd3786\"], [0.5555555555555556, \"#d8576b\"], [0.6666666666666666, \"#ed7953\"], [0.7777777777777778, \"#fb9f3a\"], [0.8888888888888888, \"#fdca26\"], [1.0, \"#f0f921\"]], \"sequentialminus\": [[0.0, \"#0d0887\"], [0.1111111111111111, \"#46039f\"], [0.2222222222222222, \"#7201a8\"], [0.3333333333333333, \"#9c179e\"], [0.4444444444444444, \"#bd3786\"], [0.5555555555555556, \"#d8576b\"], [0.6666666666666666, \"#ed7953\"], [0.7777777777777778, \"#fb9f3a\"], [0.8888888888888888, \"#fdca26\"], [1.0, \"#f0f921\"]]}, \"colorway\": [\"#636efa\", \"#EF553B\", \"#00cc96\", \"#ab63fa\", \"#FFA15A\", \"#19d3f3\", \"#FF6692\", \"#B6E880\", \"#FF97FF\", \"#FECB52\"], \"font\": {\"color\": \"#2a3f5f\"}, \"geo\": {\"bgcolor\": \"white\", \"lakecolor\": \"white\", \"landcolor\": \"#E5ECF6\", \"showlakes\": true, \"showland\": true, \"subunitcolor\": \"white\"}, \"hoverlabel\": {\"align\": \"left\"}, \"hovermode\": \"closest\", \"mapbox\": {\"style\": \"light\"}, \"paper_bgcolor\": \"white\", \"plot_bgcolor\": \"#E5ECF6\", \"polar\": {\"angularaxis\": {\"gridcolor\": \"white\", \"linecolor\": \"white\", \"ticks\": \"\"}, \"bgcolor\": \"#E5ECF6\", \"radialaxis\": {\"gridcolor\": \"white\", \"linecolor\": \"white\", \"ticks\": \"\"}}, \"scene\": {\"xaxis\": {\"backgroundcolor\": \"#E5ECF6\", \"gridcolor\": \"white\", \"gridwidth\": 2, \"linecolor\": \"white\", \"showbackground\": true, \"ticks\": \"\", \"zerolinecolor\": \"white\"}, \"yaxis\": {\"backgroundcolor\": \"#E5ECF6\", \"gridcolor\": \"white\", \"gridwidth\": 2, \"linecolor\": \"white\", \"showbackground\": true, \"ticks\": \"\", \"zerolinecolor\": \"white\"}, \"zaxis\": {\"backgroundcolor\": \"#E5ECF6\", \"gridcolor\": \"white\", \"gridwidth\": 2, \"linecolor\": \"white\", \"showbackground\": true, \"ticks\": \"\", \"zerolinecolor\": \"white\"}}, \"shapedefaults\": {\"line\": {\"color\": \"#2a3f5f\"}}, \"ternary\": {\"aaxis\": {\"gridcolor\": \"white\", \"linecolor\": \"white\", \"ticks\": \"\"}, \"baxis\": {\"gridcolor\": \"white\", \"linecolor\": \"white\", \"ticks\": \"\"}, \"bgcolor\": \"#E5ECF6\", \"caxis\": {\"gridcolor\": \"white\", \"linecolor\": \"white\", \"ticks\": \"\"}}, \"title\": {\"x\": 0.05}, \"xaxis\": {\"automargin\": true, \"gridcolor\": \"white\", \"linecolor\": \"white\", \"ticks\": \"\", \"title\": {\"standoff\": 15}, \"zerolinecolor\": \"white\", \"zerolinewidth\": 2}, \"yaxis\": {\"automargin\": true, \"gridcolor\": \"white\", \"linecolor\": \"white\", \"ticks\": \"\", \"title\": {\"standoff\": 15}, \"zerolinecolor\": \"white\", \"zerolinewidth\": 2}}}, \"title\": {\"text\": \"Median Pct Change Grouped By Month<Br>Rolling Average: 2\"}, \"xaxis\": {\"anchor\": \"y\", \"domain\": [0.0, 0.45], \"matches\": \"x5\", \"nticks\": 1, \"showticklabels\": false}, \"xaxis2\": {\"anchor\": \"y2\", \"domain\": [0.55, 1.0], \"matches\": \"x5\", \"nticks\": 1, \"showticklabels\": false}, \"xaxis3\": {\"anchor\": \"y3\", \"domain\": [0.0, 0.45], \"matches\": \"x5\", \"nticks\": 1, \"showticklabels\": false}, \"xaxis4\": {\"anchor\": \"y4\", \"domain\": [0.55, 1.0], \"matches\": \"x5\", \"nticks\": 1, \"showticklabels\": false}, \"xaxis5\": {\"anchor\": \"y5\", \"domain\": [0.0, 0.45], \"nticks\": 1}, \"xaxis6\": {\"anchor\": \"y6\", \"domain\": [0.55, 1.0], \"matches\": \"x5\", \"nticks\": 1}, \"yaxis\": {\"anchor\": \"x\", \"domain\": [0.7777777777777778, 1.0]}, \"yaxis2\": {\"anchor\": \"x2\", \"domain\": [0.7777777777777778, 1.0]}, \"yaxis3\": {\"anchor\": \"x3\", \"domain\": [0.3888888888888889, 0.6111111111111112]}, \"yaxis4\": {\"anchor\": \"x4\", \"domain\": [0.3888888888888889, 0.6111111111111112]}, \"yaxis5\": {\"anchor\": \"x5\", \"domain\": [0.0, 0.22222222222222224]}, \"yaxis6\": {\"anchor\": \"x6\", \"domain\": [0.0, 0.22222222222222224]}},                        {\"responsive\": true}                    ).then(function(){\n",
       "                            \n",
       "var gd = document.getElementById('e9afead1-4751-41a9-ad8c-196dce0c5ecc');\n",
       "var x = new MutationObserver(function (mutations, observer) {{\n",
       "        var display = window.getComputedStyle(gd).display;\n",
       "        if (!display || display === 'none') {{\n",
       "            console.log([gd, 'removed!']);\n",
       "            Plotly.purge(gd);\n",
       "            observer.disconnect();\n",
       "        }}\n",
       "}});\n",
       "\n",
       "// Listen for the removal of the full notebook cells\n",
       "var notebookContainer = gd.closest('#notebook-container');\n",
       "if (notebookContainer) {{\n",
       "    x.observe(notebookContainer, {childList: true});\n",
       "}}\n",
       "\n",
       "// Listen for the clearing of the current output cell\n",
       "var outputEl = gd.closest('.output');\n",
       "if (outputEl) {{\n",
       "    x.observe(outputEl, {childList: true});\n",
       "}}\n",
       "\n",
       "                        })                };                });            </script>        </div>"
      ]
     },
     "metadata": {},
     "output_type": "display_data"
    }
   ],
   "source": [
    "regen_fig, n_table = rolling_avg_subplots_for_area(dataframe=df_regen_towns_from_2017,\n",
    "                                    area='ward_name',\n",
    "                                    target=target,\n",
    "                                    rolling_val=2,\n",
    "                                    top_n=6,\n",
    "                                    line=True)\n",
    "\n",
    "n_table\n",
    "regen_fig\n",
    "\n"
   ]
  },
  {
   "cell_type": "markdown",
   "metadata": {},
   "source": [
    "# all_regen_plot\n",
    "\n",
    "Similar function as area_sub_plot as above, but plots all lines on the same figure. "
   ]
  },
  {
   "cell_type": "code",
   "execution_count": null,
   "metadata": {},
   "outputs": [],
   "source": [
    "def all_regen_plot(dataframe=df_regen_towns_from_2017, target=target, area=area, ema_val=0.5, groupby_option='date_sold'):\n",
    "\n",
    "\n",
    "    year_min = dataframe['year_sold'].min()\n",
    "    year_max = dataframe['year_sold'].max()\n",
    "\n",
    "\n",
    "    n_table = pd.DataFrame(columns=[], index=['n'])\n",
    "\n",
    "    area_list = list(dataframe[area].unique())\n",
    "\n",
    "    #     Creates a figure and axes object.     \n",
    "    fig = make_subplots(rows=1, cols=1)\n",
    "\n",
    "\n",
    "    for location in area_list:\n",
    "        df = dataframe.loc[(dataframe[area] == location) \n",
    "                              & (dataframe['year_sold'] >= year_min) \n",
    "                              & (dataframe['year_sold'] <= year_max)].copy()\n",
    "\n",
    "        df = df.groupby(groupby_option)[target].median().reset_index()\n",
    "\n",
    "        fig.add_trace(go.Scatter(x=df[groupby_option], y=df[target], mode='markers', name='', opacity=0.05))\n",
    "\n",
    "        df['EMA_' + str(ema_val)] = df[target].ewm(alpha=ema_val, adjust=False).mean()\n",
    "\n",
    "        fig.add_trace(go.Scatter(x=df[groupby_option], y=df['EMA_' + str(ema_val)], mode='lines+markers', name=location))\n",
    "\n",
    "\n",
    "\n",
    "\n",
    "        n_table[location] = len(df)\n",
    "    \n",
    "    fig.update_layout(title_text=f\"Comparison of {target}<br>{area}<br>EMA - {ema_val}\".title().replace(\"_\", \" \"))\n",
    "    fig.update_layout(showlegend=True)\n",
    "    fig.update_xaxes(nticks=15)\n",
    "    fig.update_xaxes(matches='x')\n",
    "\n",
    "\n",
    "    return fig, n_table"
   ]
  },
  {
   "cell_type": "code",
   "execution_count": null,
   "metadata": {},
   "outputs": [],
   "source": [
    "regen_fig, n_table = all_regen_plot(dataframe=df_regen_towns_from_2017, area='ward_name', target='pct_change', ema_val=0.2)\n",
    "\n",
    "n_table\n",
    "regen_fig"
   ]
  },
  {
   "cell_type": "code",
   "execution_count": null,
   "metadata": {},
   "outputs": [],
   "source": [
    "regen_fig, n_table = all_regen_plot(dataframe=df_regen_towns_from_2017, area='ward_name',\n",
    "                                      target='price',\n",
    "                                      ema_val=0.2)\n",
    "\n",
    "n_table\n",
    "regen_fig"
   ]
  },
  {
   "cell_type": "code",
   "execution_count": null,
   "metadata": {},
   "outputs": [],
   "source": [
    "all_yearly_dataframe.head(5)"
   ]
  }
 ],
 "metadata": {
  "kernelspec": {
   "display_name": "Python 3",
   "language": "python",
   "name": "python3"
  },
  "language_info": {
   "codemirror_mode": {
    "name": "ipython",
    "version": 3
   },
   "file_extension": ".py",
   "mimetype": "text/x-python",
   "name": "python",
   "nbconvert_exporter": "python",
   "pygments_lexer": "ipython3",
   "version": "3.7.6"
  }
 },
 "nbformat": 4,
 "nbformat_minor": 4
}
